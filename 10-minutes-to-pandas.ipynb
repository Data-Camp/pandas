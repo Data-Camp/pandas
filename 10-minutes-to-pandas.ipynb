{
 "cells": [
  {
   "cell_type": "markdown",
   "metadata": {},
   "source": [
    "http://pandas.pydata.org/pandas-docs/stable/10min.html"
   ]
  },
  {
   "cell_type": "markdown",
   "metadata": {},
   "source": [
    "# 10 Minutes to pandas\n",
    "\n",
    "This is a short introduction to pandas, geared mainly for new users. You can see more complex recipes in the [Cookbook](http://pandas.pydata.org/pandas-docs/stable/cookbook.html#cookbook) "
   ]
  },
  {
   "cell_type": "markdown",
   "metadata": {},
   "source": [
    "Customarily, we import as follows:"
   ]
  },
  {
   "cell_type": "code",
   "execution_count": 1,
   "metadata": {
    "collapsed": true
   },
   "outputs": [],
   "source": [
    "import pandas as pd\n",
    "import numpy as np\n",
    "import matplotlib.pyplot as plt"
   ]
  },
  {
   "cell_type": "code",
   "execution_count": 2,
   "metadata": {
    "collapsed": true
   },
   "outputs": [],
   "source": [
    "%matplotlib inline"
   ]
  },
  {
   "cell_type": "markdown",
   "metadata": {},
   "source": [
    "## Object Creation\n",
    "\n",
    "See the [Data Structure Intro section](http://pandas.pydata.org/pandas-docs/stable/dsintro.html#dsintro) "
   ]
  },
  {
   "cell_type": "markdown",
   "metadata": {},
   "source": [
    "Creating a Series by passing a list of values, letting pandas create a default integer index:"
   ]
  },
  {
   "cell_type": "code",
   "execution_count": 3,
   "metadata": {
    "collapsed": false
   },
   "outputs": [],
   "source": [
    "s = pd.Series([1,3,5,np.nan,6,8])"
   ]
  },
  {
   "cell_type": "code",
   "execution_count": 4,
   "metadata": {
    "collapsed": false
   },
   "outputs": [
    {
     "data": {
      "text/plain": [
       "0    1.0\n",
       "1    3.0\n",
       "2    5.0\n",
       "3    NaN\n",
       "4    6.0\n",
       "5    8.0\n",
       "dtype: float64"
      ]
     },
     "execution_count": 4,
     "metadata": {},
     "output_type": "execute_result"
    }
   ],
   "source": [
    "s"
   ]
  },
  {
   "cell_type": "markdown",
   "metadata": {},
   "source": [
    "Creating a DataFrame by passing a numpy array, with a datetime index and labeled columns:"
   ]
  },
  {
   "cell_type": "code",
   "execution_count": 5,
   "metadata": {
    "collapsed": false
   },
   "outputs": [],
   "source": [
    "dates = pd.date_range('20130101', periods=6)"
   ]
  },
  {
   "cell_type": "code",
   "execution_count": 6,
   "metadata": {
    "collapsed": false
   },
   "outputs": [
    {
     "data": {
      "text/plain": [
       "DatetimeIndex(['2013-01-01', '2013-01-02', '2013-01-03', '2013-01-04',\n",
       "               '2013-01-05', '2013-01-06'],\n",
       "              dtype='datetime64[ns]', freq='D')"
      ]
     },
     "execution_count": 6,
     "metadata": {},
     "output_type": "execute_result"
    }
   ],
   "source": [
    "dates"
   ]
  },
  {
   "cell_type": "code",
   "execution_count": 7,
   "metadata": {
    "collapsed": false
   },
   "outputs": [],
   "source": [
    "df = pd.DataFrame(np.random.randn(6,4), index=dates, columns=list('ABCD'))"
   ]
  },
  {
   "cell_type": "code",
   "execution_count": 8,
   "metadata": {
    "collapsed": false
   },
   "outputs": [
    {
     "data": {
      "text/html": [
       "<div>\n",
       "<table border=\"1\" class=\"dataframe\">\n",
       "  <thead>\n",
       "    <tr style=\"text-align: right;\">\n",
       "      <th></th>\n",
       "      <th>A</th>\n",
       "      <th>B</th>\n",
       "      <th>C</th>\n",
       "      <th>D</th>\n",
       "    </tr>\n",
       "  </thead>\n",
       "  <tbody>\n",
       "    <tr>\n",
       "      <th>2013-01-01</th>\n",
       "      <td>1.571507</td>\n",
       "      <td>0.160021</td>\n",
       "      <td>-0.015071</td>\n",
       "      <td>-0.118588</td>\n",
       "    </tr>\n",
       "    <tr>\n",
       "      <th>2013-01-02</th>\n",
       "      <td>-1.037697</td>\n",
       "      <td>-0.891196</td>\n",
       "      <td>0.495447</td>\n",
       "      <td>0.453095</td>\n",
       "    </tr>\n",
       "    <tr>\n",
       "      <th>2013-01-03</th>\n",
       "      <td>-1.682384</td>\n",
       "      <td>-0.026006</td>\n",
       "      <td>-0.152957</td>\n",
       "      <td>-0.212614</td>\n",
       "    </tr>\n",
       "    <tr>\n",
       "      <th>2013-01-04</th>\n",
       "      <td>-0.108757</td>\n",
       "      <td>-0.958267</td>\n",
       "      <td>0.407331</td>\n",
       "      <td>0.187037</td>\n",
       "    </tr>\n",
       "    <tr>\n",
       "      <th>2013-01-05</th>\n",
       "      <td>1.092380</td>\n",
       "      <td>2.841777</td>\n",
       "      <td>-0.125714</td>\n",
       "      <td>-0.760722</td>\n",
       "    </tr>\n",
       "    <tr>\n",
       "      <th>2013-01-06</th>\n",
       "      <td>1.638509</td>\n",
       "      <td>-0.601126</td>\n",
       "      <td>-1.043931</td>\n",
       "      <td>-1.330950</td>\n",
       "    </tr>\n",
       "  </tbody>\n",
       "</table>\n",
       "</div>"
      ],
      "text/plain": [
       "                   A         B         C         D\n",
       "2013-01-01  1.571507  0.160021 -0.015071 -0.118588\n",
       "2013-01-02 -1.037697 -0.891196  0.495447  0.453095\n",
       "2013-01-03 -1.682384 -0.026006 -0.152957 -0.212614\n",
       "2013-01-04 -0.108757 -0.958267  0.407331  0.187037\n",
       "2013-01-05  1.092380  2.841777 -0.125714 -0.760722\n",
       "2013-01-06  1.638509 -0.601126 -1.043931 -1.330950"
      ]
     },
     "execution_count": 8,
     "metadata": {},
     "output_type": "execute_result"
    }
   ],
   "source": [
    "df"
   ]
  },
  {
   "cell_type": "markdown",
   "metadata": {},
   "source": [
    "Creating a DataFrame by passing a dict of objects that can be converted to series-like."
   ]
  },
  {
   "cell_type": "code",
   "execution_count": 9,
   "metadata": {
    "collapsed": false
   },
   "outputs": [],
   "source": [
    "df2 = pd.DataFrame({'A':1.,\n",
    "                   'B':pd.Timestamp('20130102'),\n",
    "                   'C':pd.Series(1,index=list(range(4)),dtype='float32'),\n",
    "                   'D':np.array([3]*4,dtype='int32'),\n",
    "                   'E':pd.Categorical([\"test\",\"train\",\"test\",\"train\"]),\n",
    "                   'F':'foo'})"
   ]
  },
  {
   "cell_type": "code",
   "execution_count": 10,
   "metadata": {
    "collapsed": false
   },
   "outputs": [
    {
     "data": {
      "text/html": [
       "<div>\n",
       "<table border=\"1\" class=\"dataframe\">\n",
       "  <thead>\n",
       "    <tr style=\"text-align: right;\">\n",
       "      <th></th>\n",
       "      <th>A</th>\n",
       "      <th>B</th>\n",
       "      <th>C</th>\n",
       "      <th>D</th>\n",
       "      <th>E</th>\n",
       "      <th>F</th>\n",
       "    </tr>\n",
       "  </thead>\n",
       "  <tbody>\n",
       "    <tr>\n",
       "      <th>0</th>\n",
       "      <td>1.0</td>\n",
       "      <td>2013-01-02</td>\n",
       "      <td>1.0</td>\n",
       "      <td>3</td>\n",
       "      <td>test</td>\n",
       "      <td>foo</td>\n",
       "    </tr>\n",
       "    <tr>\n",
       "      <th>1</th>\n",
       "      <td>1.0</td>\n",
       "      <td>2013-01-02</td>\n",
       "      <td>1.0</td>\n",
       "      <td>3</td>\n",
       "      <td>train</td>\n",
       "      <td>foo</td>\n",
       "    </tr>\n",
       "    <tr>\n",
       "      <th>2</th>\n",
       "      <td>1.0</td>\n",
       "      <td>2013-01-02</td>\n",
       "      <td>1.0</td>\n",
       "      <td>3</td>\n",
       "      <td>test</td>\n",
       "      <td>foo</td>\n",
       "    </tr>\n",
       "    <tr>\n",
       "      <th>3</th>\n",
       "      <td>1.0</td>\n",
       "      <td>2013-01-02</td>\n",
       "      <td>1.0</td>\n",
       "      <td>3</td>\n",
       "      <td>train</td>\n",
       "      <td>foo</td>\n",
       "    </tr>\n",
       "  </tbody>\n",
       "</table>\n",
       "</div>"
      ],
      "text/plain": [
       "     A          B    C  D      E    F\n",
       "0  1.0 2013-01-02  1.0  3   test  foo\n",
       "1  1.0 2013-01-02  1.0  3  train  foo\n",
       "2  1.0 2013-01-02  1.0  3   test  foo\n",
       "3  1.0 2013-01-02  1.0  3  train  foo"
      ]
     },
     "execution_count": 10,
     "metadata": {},
     "output_type": "execute_result"
    }
   ],
   "source": [
    "df2"
   ]
  },
  {
   "cell_type": "markdown",
   "metadata": {},
   "source": [
    "Having specific [dtypes](http://pandas.pydata.org/pandas-docs/stable/basics.html#basics-dtypes)"
   ]
  },
  {
   "cell_type": "code",
   "execution_count": 11,
   "metadata": {
    "collapsed": false
   },
   "outputs": [
    {
     "data": {
      "text/plain": [
       "A           float64\n",
       "B    datetime64[ns]\n",
       "C           float32\n",
       "D             int32\n",
       "E          category\n",
       "F            object\n",
       "dtype: object"
      ]
     },
     "execution_count": 11,
     "metadata": {},
     "output_type": "execute_result"
    }
   ],
   "source": [
    "df2.dtypes"
   ]
  },
  {
   "cell_type": "markdown",
   "metadata": {},
   "source": [
    "If you’re using IPython, tab completion for column names (as well as public attributes) is automatically enabled. Here’s a subset of the attributes that will be completed:"
   ]
  },
  {
   "cell_type": "code",
   "execution_count": 12,
   "metadata": {
    "collapsed": false
   },
   "outputs": [],
   "source": [
    "# df2.<TAB>"
   ]
  },
  {
   "cell_type": "markdown",
   "metadata": {},
   "source": [
    "As you can see, the columns A, B, C, and D are automatically tab completed. E is there as well; the rest of the attributes have been truncated for brevity."
   ]
  },
  {
   "cell_type": "markdown",
   "metadata": {},
   "source": [
    "## Viewing Data\n",
    "\n",
    "See the [Basics section](http://pandas.pydata.org/pandas-docs/stable/basics.html#basics) "
   ]
  },
  {
   "cell_type": "markdown",
   "metadata": {},
   "source": [
    "See the top & bottom rows of the frame"
   ]
  },
  {
   "cell_type": "code",
   "execution_count": 13,
   "metadata": {
    "collapsed": false
   },
   "outputs": [
    {
     "data": {
      "text/html": [
       "<div>\n",
       "<table border=\"1\" class=\"dataframe\">\n",
       "  <thead>\n",
       "    <tr style=\"text-align: right;\">\n",
       "      <th></th>\n",
       "      <th>A</th>\n",
       "      <th>B</th>\n",
       "      <th>C</th>\n",
       "      <th>D</th>\n",
       "    </tr>\n",
       "  </thead>\n",
       "  <tbody>\n",
       "    <tr>\n",
       "      <th>2013-01-01</th>\n",
       "      <td>1.571507</td>\n",
       "      <td>0.160021</td>\n",
       "      <td>-0.015071</td>\n",
       "      <td>-0.118588</td>\n",
       "    </tr>\n",
       "    <tr>\n",
       "      <th>2013-01-02</th>\n",
       "      <td>-1.037697</td>\n",
       "      <td>-0.891196</td>\n",
       "      <td>0.495447</td>\n",
       "      <td>0.453095</td>\n",
       "    </tr>\n",
       "    <tr>\n",
       "      <th>2013-01-03</th>\n",
       "      <td>-1.682384</td>\n",
       "      <td>-0.026006</td>\n",
       "      <td>-0.152957</td>\n",
       "      <td>-0.212614</td>\n",
       "    </tr>\n",
       "    <tr>\n",
       "      <th>2013-01-04</th>\n",
       "      <td>-0.108757</td>\n",
       "      <td>-0.958267</td>\n",
       "      <td>0.407331</td>\n",
       "      <td>0.187037</td>\n",
       "    </tr>\n",
       "    <tr>\n",
       "      <th>2013-01-05</th>\n",
       "      <td>1.092380</td>\n",
       "      <td>2.841777</td>\n",
       "      <td>-0.125714</td>\n",
       "      <td>-0.760722</td>\n",
       "    </tr>\n",
       "  </tbody>\n",
       "</table>\n",
       "</div>"
      ],
      "text/plain": [
       "                   A         B         C         D\n",
       "2013-01-01  1.571507  0.160021 -0.015071 -0.118588\n",
       "2013-01-02 -1.037697 -0.891196  0.495447  0.453095\n",
       "2013-01-03 -1.682384 -0.026006 -0.152957 -0.212614\n",
       "2013-01-04 -0.108757 -0.958267  0.407331  0.187037\n",
       "2013-01-05  1.092380  2.841777 -0.125714 -0.760722"
      ]
     },
     "execution_count": 13,
     "metadata": {},
     "output_type": "execute_result"
    }
   ],
   "source": [
    "df.head()"
   ]
  },
  {
   "cell_type": "code",
   "execution_count": 14,
   "metadata": {
    "collapsed": false
   },
   "outputs": [
    {
     "data": {
      "text/html": [
       "<div>\n",
       "<table border=\"1\" class=\"dataframe\">\n",
       "  <thead>\n",
       "    <tr style=\"text-align: right;\">\n",
       "      <th></th>\n",
       "      <th>A</th>\n",
       "      <th>B</th>\n",
       "      <th>C</th>\n",
       "      <th>D</th>\n",
       "    </tr>\n",
       "  </thead>\n",
       "  <tbody>\n",
       "    <tr>\n",
       "      <th>2013-01-04</th>\n",
       "      <td>-0.108757</td>\n",
       "      <td>-0.958267</td>\n",
       "      <td>0.407331</td>\n",
       "      <td>0.187037</td>\n",
       "    </tr>\n",
       "    <tr>\n",
       "      <th>2013-01-05</th>\n",
       "      <td>1.092380</td>\n",
       "      <td>2.841777</td>\n",
       "      <td>-0.125714</td>\n",
       "      <td>-0.760722</td>\n",
       "    </tr>\n",
       "    <tr>\n",
       "      <th>2013-01-06</th>\n",
       "      <td>1.638509</td>\n",
       "      <td>-0.601126</td>\n",
       "      <td>-1.043931</td>\n",
       "      <td>-1.330950</td>\n",
       "    </tr>\n",
       "  </tbody>\n",
       "</table>\n",
       "</div>"
      ],
      "text/plain": [
       "                   A         B         C         D\n",
       "2013-01-04 -0.108757 -0.958267  0.407331  0.187037\n",
       "2013-01-05  1.092380  2.841777 -0.125714 -0.760722\n",
       "2013-01-06  1.638509 -0.601126 -1.043931 -1.330950"
      ]
     },
     "execution_count": 14,
     "metadata": {},
     "output_type": "execute_result"
    }
   ],
   "source": [
    "df.tail(3)"
   ]
  },
  {
   "cell_type": "markdown",
   "metadata": {},
   "source": [
    "Display the index, columns, and the underlying numpy data"
   ]
  },
  {
   "cell_type": "code",
   "execution_count": 15,
   "metadata": {
    "collapsed": false
   },
   "outputs": [
    {
     "data": {
      "text/plain": [
       "DatetimeIndex(['2013-01-01', '2013-01-02', '2013-01-03', '2013-01-04',\n",
       "               '2013-01-05', '2013-01-06'],\n",
       "              dtype='datetime64[ns]', freq='D')"
      ]
     },
     "execution_count": 15,
     "metadata": {},
     "output_type": "execute_result"
    }
   ],
   "source": [
    "df.index"
   ]
  },
  {
   "cell_type": "code",
   "execution_count": 16,
   "metadata": {
    "collapsed": false
   },
   "outputs": [
    {
     "data": {
      "text/plain": [
       "Index([u'A', u'B', u'C', u'D'], dtype='object')"
      ]
     },
     "execution_count": 16,
     "metadata": {},
     "output_type": "execute_result"
    }
   ],
   "source": [
    "df.columns"
   ]
  },
  {
   "cell_type": "code",
   "execution_count": 17,
   "metadata": {
    "collapsed": false,
    "scrolled": true
   },
   "outputs": [
    {
     "data": {
      "text/plain": [
       "array([[ 1.57150668,  0.16002149, -0.01507058, -0.11858772],\n",
       "       [-1.03769719, -0.89119559,  0.49544709,  0.45309462],\n",
       "       [-1.68238391, -0.02600566, -0.15295699, -0.21261369],\n",
       "       [-0.10875693, -0.9582675 ,  0.40733062,  0.18703669],\n",
       "       [ 1.09238026,  2.84177746, -0.12571427, -0.76072186],\n",
       "       [ 1.63850927, -0.60112596, -1.04393119, -1.33095031]])"
      ]
     },
     "execution_count": 17,
     "metadata": {},
     "output_type": "execute_result"
    }
   ],
   "source": [
    "df.values"
   ]
  },
  {
   "cell_type": "markdown",
   "metadata": {},
   "source": [
    "Describe shows a quick statistic summary of your data"
   ]
  },
  {
   "cell_type": "code",
   "execution_count": 18,
   "metadata": {
    "collapsed": false
   },
   "outputs": [
    {
     "data": {
      "text/html": [
       "<div>\n",
       "<table border=\"1\" class=\"dataframe\">\n",
       "  <thead>\n",
       "    <tr style=\"text-align: right;\">\n",
       "      <th></th>\n",
       "      <th>A</th>\n",
       "      <th>B</th>\n",
       "      <th>C</th>\n",
       "      <th>D</th>\n",
       "    </tr>\n",
       "  </thead>\n",
       "  <tbody>\n",
       "    <tr>\n",
       "      <th>count</th>\n",
       "      <td>6.000000</td>\n",
       "      <td>6.000000</td>\n",
       "      <td>6.000000</td>\n",
       "      <td>6.000000</td>\n",
       "    </tr>\n",
       "    <tr>\n",
       "      <th>mean</th>\n",
       "      <td>0.245593</td>\n",
       "      <td>0.087534</td>\n",
       "      <td>-0.072483</td>\n",
       "      <td>-0.297124</td>\n",
       "    </tr>\n",
       "    <tr>\n",
       "      <th>std</th>\n",
       "      <td>1.407466</td>\n",
       "      <td>1.423367</td>\n",
       "      <td>0.549378</td>\n",
       "      <td>0.651149</td>\n",
       "    </tr>\n",
       "    <tr>\n",
       "      <th>min</th>\n",
       "      <td>-1.682384</td>\n",
       "      <td>-0.958267</td>\n",
       "      <td>-1.043931</td>\n",
       "      <td>-1.330950</td>\n",
       "    </tr>\n",
       "    <tr>\n",
       "      <th>25%</th>\n",
       "      <td>-0.805462</td>\n",
       "      <td>-0.818678</td>\n",
       "      <td>-0.146146</td>\n",
       "      <td>-0.623695</td>\n",
       "    </tr>\n",
       "    <tr>\n",
       "      <th>50%</th>\n",
       "      <td>0.491812</td>\n",
       "      <td>-0.313566</td>\n",
       "      <td>-0.070392</td>\n",
       "      <td>-0.165601</td>\n",
       "    </tr>\n",
       "    <tr>\n",
       "      <th>75%</th>\n",
       "      <td>1.451725</td>\n",
       "      <td>0.113515</td>\n",
       "      <td>0.301730</td>\n",
       "      <td>0.110631</td>\n",
       "    </tr>\n",
       "    <tr>\n",
       "      <th>max</th>\n",
       "      <td>1.638509</td>\n",
       "      <td>2.841777</td>\n",
       "      <td>0.495447</td>\n",
       "      <td>0.453095</td>\n",
       "    </tr>\n",
       "  </tbody>\n",
       "</table>\n",
       "</div>"
      ],
      "text/plain": [
       "              A         B         C         D\n",
       "count  6.000000  6.000000  6.000000  6.000000\n",
       "mean   0.245593  0.087534 -0.072483 -0.297124\n",
       "std    1.407466  1.423367  0.549378  0.651149\n",
       "min   -1.682384 -0.958267 -1.043931 -1.330950\n",
       "25%   -0.805462 -0.818678 -0.146146 -0.623695\n",
       "50%    0.491812 -0.313566 -0.070392 -0.165601\n",
       "75%    1.451725  0.113515  0.301730  0.110631\n",
       "max    1.638509  2.841777  0.495447  0.453095"
      ]
     },
     "execution_count": 18,
     "metadata": {},
     "output_type": "execute_result"
    }
   ],
   "source": [
    "df.describe()"
   ]
  },
  {
   "cell_type": "markdown",
   "metadata": {},
   "source": [
    "Transposing your data"
   ]
  },
  {
   "cell_type": "code",
   "execution_count": 19,
   "metadata": {
    "collapsed": false
   },
   "outputs": [
    {
     "data": {
      "text/html": [
       "<div>\n",
       "<table border=\"1\" class=\"dataframe\">\n",
       "  <thead>\n",
       "    <tr style=\"text-align: right;\">\n",
       "      <th></th>\n",
       "      <th>2013-01-01 00:00:00</th>\n",
       "      <th>2013-01-02 00:00:00</th>\n",
       "      <th>2013-01-03 00:00:00</th>\n",
       "      <th>2013-01-04 00:00:00</th>\n",
       "      <th>2013-01-05 00:00:00</th>\n",
       "      <th>2013-01-06 00:00:00</th>\n",
       "    </tr>\n",
       "  </thead>\n",
       "  <tbody>\n",
       "    <tr>\n",
       "      <th>A</th>\n",
       "      <td>1.571507</td>\n",
       "      <td>-1.037697</td>\n",
       "      <td>-1.682384</td>\n",
       "      <td>-0.108757</td>\n",
       "      <td>1.092380</td>\n",
       "      <td>1.638509</td>\n",
       "    </tr>\n",
       "    <tr>\n",
       "      <th>B</th>\n",
       "      <td>0.160021</td>\n",
       "      <td>-0.891196</td>\n",
       "      <td>-0.026006</td>\n",
       "      <td>-0.958267</td>\n",
       "      <td>2.841777</td>\n",
       "      <td>-0.601126</td>\n",
       "    </tr>\n",
       "    <tr>\n",
       "      <th>C</th>\n",
       "      <td>-0.015071</td>\n",
       "      <td>0.495447</td>\n",
       "      <td>-0.152957</td>\n",
       "      <td>0.407331</td>\n",
       "      <td>-0.125714</td>\n",
       "      <td>-1.043931</td>\n",
       "    </tr>\n",
       "    <tr>\n",
       "      <th>D</th>\n",
       "      <td>-0.118588</td>\n",
       "      <td>0.453095</td>\n",
       "      <td>-0.212614</td>\n",
       "      <td>0.187037</td>\n",
       "      <td>-0.760722</td>\n",
       "      <td>-1.330950</td>\n",
       "    </tr>\n",
       "  </tbody>\n",
       "</table>\n",
       "</div>"
      ],
      "text/plain": [
       "   2013-01-01  2013-01-02  2013-01-03  2013-01-04  2013-01-05  2013-01-06\n",
       "A    1.571507   -1.037697   -1.682384   -0.108757    1.092380    1.638509\n",
       "B    0.160021   -0.891196   -0.026006   -0.958267    2.841777   -0.601126\n",
       "C   -0.015071    0.495447   -0.152957    0.407331   -0.125714   -1.043931\n",
       "D   -0.118588    0.453095   -0.212614    0.187037   -0.760722   -1.330950"
      ]
     },
     "execution_count": 19,
     "metadata": {},
     "output_type": "execute_result"
    }
   ],
   "source": [
    "df.T"
   ]
  },
  {
   "cell_type": "markdown",
   "metadata": {},
   "source": [
    "Sorting by an axis"
   ]
  },
  {
   "cell_type": "code",
   "execution_count": 20,
   "metadata": {
    "collapsed": false
   },
   "outputs": [
    {
     "data": {
      "text/html": [
       "<div>\n",
       "<table border=\"1\" class=\"dataframe\">\n",
       "  <thead>\n",
       "    <tr style=\"text-align: right;\">\n",
       "      <th></th>\n",
       "      <th>D</th>\n",
       "      <th>C</th>\n",
       "      <th>B</th>\n",
       "      <th>A</th>\n",
       "    </tr>\n",
       "  </thead>\n",
       "  <tbody>\n",
       "    <tr>\n",
       "      <th>2013-01-01</th>\n",
       "      <td>-0.118588</td>\n",
       "      <td>-0.015071</td>\n",
       "      <td>0.160021</td>\n",
       "      <td>1.571507</td>\n",
       "    </tr>\n",
       "    <tr>\n",
       "      <th>2013-01-02</th>\n",
       "      <td>0.453095</td>\n",
       "      <td>0.495447</td>\n",
       "      <td>-0.891196</td>\n",
       "      <td>-1.037697</td>\n",
       "    </tr>\n",
       "    <tr>\n",
       "      <th>2013-01-03</th>\n",
       "      <td>-0.212614</td>\n",
       "      <td>-0.152957</td>\n",
       "      <td>-0.026006</td>\n",
       "      <td>-1.682384</td>\n",
       "    </tr>\n",
       "    <tr>\n",
       "      <th>2013-01-04</th>\n",
       "      <td>0.187037</td>\n",
       "      <td>0.407331</td>\n",
       "      <td>-0.958267</td>\n",
       "      <td>-0.108757</td>\n",
       "    </tr>\n",
       "    <tr>\n",
       "      <th>2013-01-05</th>\n",
       "      <td>-0.760722</td>\n",
       "      <td>-0.125714</td>\n",
       "      <td>2.841777</td>\n",
       "      <td>1.092380</td>\n",
       "    </tr>\n",
       "    <tr>\n",
       "      <th>2013-01-06</th>\n",
       "      <td>-1.330950</td>\n",
       "      <td>-1.043931</td>\n",
       "      <td>-0.601126</td>\n",
       "      <td>1.638509</td>\n",
       "    </tr>\n",
       "  </tbody>\n",
       "</table>\n",
       "</div>"
      ],
      "text/plain": [
       "                   D         C         B         A\n",
       "2013-01-01 -0.118588 -0.015071  0.160021  1.571507\n",
       "2013-01-02  0.453095  0.495447 -0.891196 -1.037697\n",
       "2013-01-03 -0.212614 -0.152957 -0.026006 -1.682384\n",
       "2013-01-04  0.187037  0.407331 -0.958267 -0.108757\n",
       "2013-01-05 -0.760722 -0.125714  2.841777  1.092380\n",
       "2013-01-06 -1.330950 -1.043931 -0.601126  1.638509"
      ]
     },
     "execution_count": 20,
     "metadata": {},
     "output_type": "execute_result"
    }
   ],
   "source": [
    "df.sort_index(axis=1, ascending=False)"
   ]
  },
  {
   "cell_type": "markdown",
   "metadata": {},
   "source": [
    "Sorting by value"
   ]
  },
  {
   "cell_type": "code",
   "execution_count": 21,
   "metadata": {
    "collapsed": false
   },
   "outputs": [
    {
     "data": {
      "text/html": [
       "<div>\n",
       "<table border=\"1\" class=\"dataframe\">\n",
       "  <thead>\n",
       "    <tr style=\"text-align: right;\">\n",
       "      <th></th>\n",
       "      <th>A</th>\n",
       "      <th>B</th>\n",
       "      <th>C</th>\n",
       "      <th>D</th>\n",
       "    </tr>\n",
       "  </thead>\n",
       "  <tbody>\n",
       "    <tr>\n",
       "      <th>2013-01-04</th>\n",
       "      <td>-0.108757</td>\n",
       "      <td>-0.958267</td>\n",
       "      <td>0.407331</td>\n",
       "      <td>0.187037</td>\n",
       "    </tr>\n",
       "    <tr>\n",
       "      <th>2013-01-02</th>\n",
       "      <td>-1.037697</td>\n",
       "      <td>-0.891196</td>\n",
       "      <td>0.495447</td>\n",
       "      <td>0.453095</td>\n",
       "    </tr>\n",
       "    <tr>\n",
       "      <th>2013-01-06</th>\n",
       "      <td>1.638509</td>\n",
       "      <td>-0.601126</td>\n",
       "      <td>-1.043931</td>\n",
       "      <td>-1.330950</td>\n",
       "    </tr>\n",
       "    <tr>\n",
       "      <th>2013-01-03</th>\n",
       "      <td>-1.682384</td>\n",
       "      <td>-0.026006</td>\n",
       "      <td>-0.152957</td>\n",
       "      <td>-0.212614</td>\n",
       "    </tr>\n",
       "    <tr>\n",
       "      <th>2013-01-01</th>\n",
       "      <td>1.571507</td>\n",
       "      <td>0.160021</td>\n",
       "      <td>-0.015071</td>\n",
       "      <td>-0.118588</td>\n",
       "    </tr>\n",
       "    <tr>\n",
       "      <th>2013-01-05</th>\n",
       "      <td>1.092380</td>\n",
       "      <td>2.841777</td>\n",
       "      <td>-0.125714</td>\n",
       "      <td>-0.760722</td>\n",
       "    </tr>\n",
       "  </tbody>\n",
       "</table>\n",
       "</div>"
      ],
      "text/plain": [
       "                   A         B         C         D\n",
       "2013-01-04 -0.108757 -0.958267  0.407331  0.187037\n",
       "2013-01-02 -1.037697 -0.891196  0.495447  0.453095\n",
       "2013-01-06  1.638509 -0.601126 -1.043931 -1.330950\n",
       "2013-01-03 -1.682384 -0.026006 -0.152957 -0.212614\n",
       "2013-01-01  1.571507  0.160021 -0.015071 -0.118588\n",
       "2013-01-05  1.092380  2.841777 -0.125714 -0.760722"
      ]
     },
     "execution_count": 21,
     "metadata": {},
     "output_type": "execute_result"
    }
   ],
   "source": [
    "df.sort_values(by='B')"
   ]
  },
  {
   "cell_type": "markdown",
   "metadata": {},
   "source": [
    "## Selection"
   ]
  },
  {
   "cell_type": "markdown",
   "metadata": {},
   "source": [
    "**Note:** While standard Python / Numpy expressions for selecting and setting are intuitive and come in handy for interactive work, for production code, we recommend the optimized pandas data access methods, .at, .iat, .loc, .iloc and .ix."
   ]
  },
  {
   "cell_type": "markdown",
   "metadata": {},
   "source": [
    "See the indexing documentation [Indexing and Selecting Data](http://pandas.pydata.org/pandas-docs/stable/indexing.html#indexing) and [MultiIndex / Advanced Indexing](http://pandas.pydata.org/pandas-docs/stable/advanced.html#advanced)"
   ]
  },
  {
   "cell_type": "markdown",
   "metadata": {},
   "source": [
    "### Getting"
   ]
  },
  {
   "cell_type": "markdown",
   "metadata": {},
   "source": [
    "Selecting a single column, which yields a Series, equivalent to df.A"
   ]
  },
  {
   "cell_type": "code",
   "execution_count": 22,
   "metadata": {
    "collapsed": false
   },
   "outputs": [
    {
     "data": {
      "text/plain": [
       "2013-01-01    1.571507\n",
       "2013-01-02   -1.037697\n",
       "2013-01-03   -1.682384\n",
       "2013-01-04   -0.108757\n",
       "2013-01-05    1.092380\n",
       "2013-01-06    1.638509\n",
       "Freq: D, Name: A, dtype: float64"
      ]
     },
     "execution_count": 22,
     "metadata": {},
     "output_type": "execute_result"
    }
   ],
   "source": [
    "df['A']"
   ]
  },
  {
   "cell_type": "markdown",
   "metadata": {},
   "source": [
    "Selecting via [], which slices the rows."
   ]
  },
  {
   "cell_type": "code",
   "execution_count": 23,
   "metadata": {
    "collapsed": false
   },
   "outputs": [
    {
     "data": {
      "text/html": [
       "<div>\n",
       "<table border=\"1\" class=\"dataframe\">\n",
       "  <thead>\n",
       "    <tr style=\"text-align: right;\">\n",
       "      <th></th>\n",
       "      <th>A</th>\n",
       "      <th>B</th>\n",
       "      <th>C</th>\n",
       "      <th>D</th>\n",
       "    </tr>\n",
       "  </thead>\n",
       "  <tbody>\n",
       "    <tr>\n",
       "      <th>2013-01-01</th>\n",
       "      <td>1.571507</td>\n",
       "      <td>0.160021</td>\n",
       "      <td>-0.015071</td>\n",
       "      <td>-0.118588</td>\n",
       "    </tr>\n",
       "    <tr>\n",
       "      <th>2013-01-02</th>\n",
       "      <td>-1.037697</td>\n",
       "      <td>-0.891196</td>\n",
       "      <td>0.495447</td>\n",
       "      <td>0.453095</td>\n",
       "    </tr>\n",
       "    <tr>\n",
       "      <th>2013-01-03</th>\n",
       "      <td>-1.682384</td>\n",
       "      <td>-0.026006</td>\n",
       "      <td>-0.152957</td>\n",
       "      <td>-0.212614</td>\n",
       "    </tr>\n",
       "  </tbody>\n",
       "</table>\n",
       "</div>"
      ],
      "text/plain": [
       "                   A         B         C         D\n",
       "2013-01-01  1.571507  0.160021 -0.015071 -0.118588\n",
       "2013-01-02 -1.037697 -0.891196  0.495447  0.453095\n",
       "2013-01-03 -1.682384 -0.026006 -0.152957 -0.212614"
      ]
     },
     "execution_count": 23,
     "metadata": {},
     "output_type": "execute_result"
    }
   ],
   "source": [
    "df[0:3]"
   ]
  },
  {
   "cell_type": "code",
   "execution_count": 24,
   "metadata": {
    "collapsed": false
   },
   "outputs": [
    {
     "data": {
      "text/html": [
       "<div>\n",
       "<table border=\"1\" class=\"dataframe\">\n",
       "  <thead>\n",
       "    <tr style=\"text-align: right;\">\n",
       "      <th></th>\n",
       "      <th>A</th>\n",
       "      <th>B</th>\n",
       "      <th>C</th>\n",
       "      <th>D</th>\n",
       "    </tr>\n",
       "  </thead>\n",
       "  <tbody>\n",
       "    <tr>\n",
       "      <th>2013-01-02</th>\n",
       "      <td>-1.037697</td>\n",
       "      <td>-0.891196</td>\n",
       "      <td>0.495447</td>\n",
       "      <td>0.453095</td>\n",
       "    </tr>\n",
       "    <tr>\n",
       "      <th>2013-01-03</th>\n",
       "      <td>-1.682384</td>\n",
       "      <td>-0.026006</td>\n",
       "      <td>-0.152957</td>\n",
       "      <td>-0.212614</td>\n",
       "    </tr>\n",
       "    <tr>\n",
       "      <th>2013-01-04</th>\n",
       "      <td>-0.108757</td>\n",
       "      <td>-0.958267</td>\n",
       "      <td>0.407331</td>\n",
       "      <td>0.187037</td>\n",
       "    </tr>\n",
       "  </tbody>\n",
       "</table>\n",
       "</div>"
      ],
      "text/plain": [
       "                   A         B         C         D\n",
       "2013-01-02 -1.037697 -0.891196  0.495447  0.453095\n",
       "2013-01-03 -1.682384 -0.026006 -0.152957 -0.212614\n",
       "2013-01-04 -0.108757 -0.958267  0.407331  0.187037"
      ]
     },
     "execution_count": 24,
     "metadata": {},
     "output_type": "execute_result"
    }
   ],
   "source": [
    "df['20130102':'20130104']"
   ]
  },
  {
   "cell_type": "markdown",
   "metadata": {},
   "source": [
    "### Selection by Label\n",
    "\n",
    "See more in [Selection by Label](Selection by Label)"
   ]
  },
  {
   "cell_type": "markdown",
   "metadata": {},
   "source": [
    "For getting a cross section using a label"
   ]
  },
  {
   "cell_type": "code",
   "execution_count": 25,
   "metadata": {
    "collapsed": false
   },
   "outputs": [
    {
     "data": {
      "text/plain": [
       "A    1.571507\n",
       "B    0.160021\n",
       "C   -0.015071\n",
       "D   -0.118588\n",
       "Name: 2013-01-01 00:00:00, dtype: float64"
      ]
     },
     "execution_count": 25,
     "metadata": {},
     "output_type": "execute_result"
    }
   ],
   "source": [
    "df.loc[dates[0]]"
   ]
  },
  {
   "cell_type": "markdown",
   "metadata": {},
   "source": [
    "Selection by Label"
   ]
  },
  {
   "cell_type": "code",
   "execution_count": 26,
   "metadata": {
    "collapsed": false
   },
   "outputs": [
    {
     "data": {
      "text/html": [
       "<div>\n",
       "<table border=\"1\" class=\"dataframe\">\n",
       "  <thead>\n",
       "    <tr style=\"text-align: right;\">\n",
       "      <th></th>\n",
       "      <th>A</th>\n",
       "      <th>B</th>\n",
       "    </tr>\n",
       "  </thead>\n",
       "  <tbody>\n",
       "    <tr>\n",
       "      <th>2013-01-01</th>\n",
       "      <td>1.571507</td>\n",
       "      <td>0.160021</td>\n",
       "    </tr>\n",
       "    <tr>\n",
       "      <th>2013-01-02</th>\n",
       "      <td>-1.037697</td>\n",
       "      <td>-0.891196</td>\n",
       "    </tr>\n",
       "    <tr>\n",
       "      <th>2013-01-03</th>\n",
       "      <td>-1.682384</td>\n",
       "      <td>-0.026006</td>\n",
       "    </tr>\n",
       "    <tr>\n",
       "      <th>2013-01-04</th>\n",
       "      <td>-0.108757</td>\n",
       "      <td>-0.958267</td>\n",
       "    </tr>\n",
       "    <tr>\n",
       "      <th>2013-01-05</th>\n",
       "      <td>1.092380</td>\n",
       "      <td>2.841777</td>\n",
       "    </tr>\n",
       "    <tr>\n",
       "      <th>2013-01-06</th>\n",
       "      <td>1.638509</td>\n",
       "      <td>-0.601126</td>\n",
       "    </tr>\n",
       "  </tbody>\n",
       "</table>\n",
       "</div>"
      ],
      "text/plain": [
       "                   A         B\n",
       "2013-01-01  1.571507  0.160021\n",
       "2013-01-02 -1.037697 -0.891196\n",
       "2013-01-03 -1.682384 -0.026006\n",
       "2013-01-04 -0.108757 -0.958267\n",
       "2013-01-05  1.092380  2.841777\n",
       "2013-01-06  1.638509 -0.601126"
      ]
     },
     "execution_count": 26,
     "metadata": {},
     "output_type": "execute_result"
    }
   ],
   "source": [
    "df.loc[:,['A','B']]"
   ]
  },
  {
   "cell_type": "markdown",
   "metadata": {},
   "source": [
    "Showing label slicing, both endpoints are included"
   ]
  },
  {
   "cell_type": "code",
   "execution_count": 27,
   "metadata": {
    "collapsed": false
   },
   "outputs": [
    {
     "data": {
      "text/html": [
       "<div>\n",
       "<table border=\"1\" class=\"dataframe\">\n",
       "  <thead>\n",
       "    <tr style=\"text-align: right;\">\n",
       "      <th></th>\n",
       "      <th>A</th>\n",
       "      <th>B</th>\n",
       "    </tr>\n",
       "  </thead>\n",
       "  <tbody>\n",
       "    <tr>\n",
       "      <th>2013-01-02</th>\n",
       "      <td>-1.037697</td>\n",
       "      <td>-0.891196</td>\n",
       "    </tr>\n",
       "    <tr>\n",
       "      <th>2013-01-03</th>\n",
       "      <td>-1.682384</td>\n",
       "      <td>-0.026006</td>\n",
       "    </tr>\n",
       "    <tr>\n",
       "      <th>2013-01-04</th>\n",
       "      <td>-0.108757</td>\n",
       "      <td>-0.958267</td>\n",
       "    </tr>\n",
       "  </tbody>\n",
       "</table>\n",
       "</div>"
      ],
      "text/plain": [
       "                   A         B\n",
       "2013-01-02 -1.037697 -0.891196\n",
       "2013-01-03 -1.682384 -0.026006\n",
       "2013-01-04 -0.108757 -0.958267"
      ]
     },
     "execution_count": 27,
     "metadata": {},
     "output_type": "execute_result"
    }
   ],
   "source": [
    "df.loc['20130102':'20130104',['A','B']]"
   ]
  },
  {
   "cell_type": "markdown",
   "metadata": {},
   "source": [
    "Reduction in the dimensions of the returned object"
   ]
  },
  {
   "cell_type": "code",
   "execution_count": 28,
   "metadata": {
    "collapsed": false
   },
   "outputs": [
    {
     "data": {
      "text/plain": [
       "A   -1.037697\n",
       "B   -0.891196\n",
       "Name: 2013-01-02 00:00:00, dtype: float64"
      ]
     },
     "execution_count": 28,
     "metadata": {},
     "output_type": "execute_result"
    }
   ],
   "source": [
    "df.loc['20130102',['A','B']]"
   ]
  },
  {
   "cell_type": "markdown",
   "metadata": {},
   "source": [
    "For getting a scalar value"
   ]
  },
  {
   "cell_type": "code",
   "execution_count": 29,
   "metadata": {
    "collapsed": false
   },
   "outputs": [
    {
     "data": {
      "text/plain": [
       "1.571506676720408"
      ]
     },
     "execution_count": 29,
     "metadata": {},
     "output_type": "execute_result"
    }
   ],
   "source": [
    "df.loc[dates[0],'A']"
   ]
  },
  {
   "cell_type": "markdown",
   "metadata": {},
   "source": [
    "### Selection by Position\n",
    "\n",
    "See more in [Selection by Position](http://pandas.pydata.org/pandas-docs/stable/indexing.html#indexing-integer)"
   ]
  },
  {
   "cell_type": "markdown",
   "metadata": {},
   "source": [
    "Select via the position of the passed integers"
   ]
  },
  {
   "cell_type": "code",
   "execution_count": 30,
   "metadata": {
    "collapsed": false
   },
   "outputs": [
    {
     "data": {
      "text/plain": [
       "A   -0.108757\n",
       "B   -0.958267\n",
       "C    0.407331\n",
       "D    0.187037\n",
       "Name: 2013-01-04 00:00:00, dtype: float64"
      ]
     },
     "execution_count": 30,
     "metadata": {},
     "output_type": "execute_result"
    }
   ],
   "source": [
    "df.iloc[3]"
   ]
  },
  {
   "cell_type": "markdown",
   "metadata": {},
   "source": [
    "By integer slices, acting similar to numpy/python"
   ]
  },
  {
   "cell_type": "code",
   "execution_count": 31,
   "metadata": {
    "collapsed": false
   },
   "outputs": [
    {
     "data": {
      "text/html": [
       "<div>\n",
       "<table border=\"1\" class=\"dataframe\">\n",
       "  <thead>\n",
       "    <tr style=\"text-align: right;\">\n",
       "      <th></th>\n",
       "      <th>A</th>\n",
       "      <th>B</th>\n",
       "    </tr>\n",
       "  </thead>\n",
       "  <tbody>\n",
       "    <tr>\n",
       "      <th>2013-01-04</th>\n",
       "      <td>-0.108757</td>\n",
       "      <td>-0.958267</td>\n",
       "    </tr>\n",
       "    <tr>\n",
       "      <th>2013-01-05</th>\n",
       "      <td>1.092380</td>\n",
       "      <td>2.841777</td>\n",
       "    </tr>\n",
       "  </tbody>\n",
       "</table>\n",
       "</div>"
      ],
      "text/plain": [
       "                   A         B\n",
       "2013-01-04 -0.108757 -0.958267\n",
       "2013-01-05  1.092380  2.841777"
      ]
     },
     "execution_count": 31,
     "metadata": {},
     "output_type": "execute_result"
    }
   ],
   "source": [
    "df.iloc[3:5,0:2]"
   ]
  },
  {
   "cell_type": "markdown",
   "metadata": {},
   "source": [
    "By lists of integer position locations, similar to the numpy/python style"
   ]
  },
  {
   "cell_type": "code",
   "execution_count": 32,
   "metadata": {
    "collapsed": false
   },
   "outputs": [
    {
     "data": {
      "text/html": [
       "<div>\n",
       "<table border=\"1\" class=\"dataframe\">\n",
       "  <thead>\n",
       "    <tr style=\"text-align: right;\">\n",
       "      <th></th>\n",
       "      <th>A</th>\n",
       "      <th>C</th>\n",
       "    </tr>\n",
       "  </thead>\n",
       "  <tbody>\n",
       "    <tr>\n",
       "      <th>2013-01-02</th>\n",
       "      <td>-1.037697</td>\n",
       "      <td>0.495447</td>\n",
       "    </tr>\n",
       "    <tr>\n",
       "      <th>2013-01-03</th>\n",
       "      <td>-1.682384</td>\n",
       "      <td>-0.152957</td>\n",
       "    </tr>\n",
       "    <tr>\n",
       "      <th>2013-01-05</th>\n",
       "      <td>1.092380</td>\n",
       "      <td>-0.125714</td>\n",
       "    </tr>\n",
       "  </tbody>\n",
       "</table>\n",
       "</div>"
      ],
      "text/plain": [
       "                   A         C\n",
       "2013-01-02 -1.037697  0.495447\n",
       "2013-01-03 -1.682384 -0.152957\n",
       "2013-01-05  1.092380 -0.125714"
      ]
     },
     "execution_count": 32,
     "metadata": {},
     "output_type": "execute_result"
    }
   ],
   "source": [
    "df.iloc[[1,2,4],[0,2]]"
   ]
  },
  {
   "cell_type": "markdown",
   "metadata": {},
   "source": [
    "For slicing rows explicitly"
   ]
  },
  {
   "cell_type": "code",
   "execution_count": 33,
   "metadata": {
    "collapsed": false
   },
   "outputs": [
    {
     "data": {
      "text/html": [
       "<div>\n",
       "<table border=\"1\" class=\"dataframe\">\n",
       "  <thead>\n",
       "    <tr style=\"text-align: right;\">\n",
       "      <th></th>\n",
       "      <th>A</th>\n",
       "      <th>B</th>\n",
       "      <th>C</th>\n",
       "      <th>D</th>\n",
       "    </tr>\n",
       "  </thead>\n",
       "  <tbody>\n",
       "    <tr>\n",
       "      <th>2013-01-02</th>\n",
       "      <td>-1.037697</td>\n",
       "      <td>-0.891196</td>\n",
       "      <td>0.495447</td>\n",
       "      <td>0.453095</td>\n",
       "    </tr>\n",
       "    <tr>\n",
       "      <th>2013-01-03</th>\n",
       "      <td>-1.682384</td>\n",
       "      <td>-0.026006</td>\n",
       "      <td>-0.152957</td>\n",
       "      <td>-0.212614</td>\n",
       "    </tr>\n",
       "  </tbody>\n",
       "</table>\n",
       "</div>"
      ],
      "text/plain": [
       "                   A         B         C         D\n",
       "2013-01-02 -1.037697 -0.891196  0.495447  0.453095\n",
       "2013-01-03 -1.682384 -0.026006 -0.152957 -0.212614"
      ]
     },
     "execution_count": 33,
     "metadata": {},
     "output_type": "execute_result"
    }
   ],
   "source": [
    "df.iloc[1:3,:]"
   ]
  },
  {
   "cell_type": "markdown",
   "metadata": {},
   "source": [
    "For slicing columns explicitly"
   ]
  },
  {
   "cell_type": "code",
   "execution_count": 34,
   "metadata": {
    "collapsed": false
   },
   "outputs": [
    {
     "data": {
      "text/html": [
       "<div>\n",
       "<table border=\"1\" class=\"dataframe\">\n",
       "  <thead>\n",
       "    <tr style=\"text-align: right;\">\n",
       "      <th></th>\n",
       "      <th>B</th>\n",
       "      <th>C</th>\n",
       "    </tr>\n",
       "  </thead>\n",
       "  <tbody>\n",
       "    <tr>\n",
       "      <th>2013-01-01</th>\n",
       "      <td>0.160021</td>\n",
       "      <td>-0.015071</td>\n",
       "    </tr>\n",
       "    <tr>\n",
       "      <th>2013-01-02</th>\n",
       "      <td>-0.891196</td>\n",
       "      <td>0.495447</td>\n",
       "    </tr>\n",
       "    <tr>\n",
       "      <th>2013-01-03</th>\n",
       "      <td>-0.026006</td>\n",
       "      <td>-0.152957</td>\n",
       "    </tr>\n",
       "    <tr>\n",
       "      <th>2013-01-04</th>\n",
       "      <td>-0.958267</td>\n",
       "      <td>0.407331</td>\n",
       "    </tr>\n",
       "    <tr>\n",
       "      <th>2013-01-05</th>\n",
       "      <td>2.841777</td>\n",
       "      <td>-0.125714</td>\n",
       "    </tr>\n",
       "    <tr>\n",
       "      <th>2013-01-06</th>\n",
       "      <td>-0.601126</td>\n",
       "      <td>-1.043931</td>\n",
       "    </tr>\n",
       "  </tbody>\n",
       "</table>\n",
       "</div>"
      ],
      "text/plain": [
       "                   B         C\n",
       "2013-01-01  0.160021 -0.015071\n",
       "2013-01-02 -0.891196  0.495447\n",
       "2013-01-03 -0.026006 -0.152957\n",
       "2013-01-04 -0.958267  0.407331\n",
       "2013-01-05  2.841777 -0.125714\n",
       "2013-01-06 -0.601126 -1.043931"
      ]
     },
     "execution_count": 34,
     "metadata": {},
     "output_type": "execute_result"
    }
   ],
   "source": [
    "df.iloc[:,1:3]"
   ]
  },
  {
   "cell_type": "markdown",
   "metadata": {},
   "source": [
    "For getting a value explicitly"
   ]
  },
  {
   "cell_type": "code",
   "execution_count": 35,
   "metadata": {
    "collapsed": false
   },
   "outputs": [
    {
     "data": {
      "text/plain": [
       "-0.89119558600132898"
      ]
     },
     "execution_count": 35,
     "metadata": {},
     "output_type": "execute_result"
    }
   ],
   "source": [
    "df.iloc[1,1]"
   ]
  },
  {
   "cell_type": "markdown",
   "metadata": {},
   "source": [
    "For getting fast access to a scalar (equiv to the prior method)"
   ]
  },
  {
   "cell_type": "code",
   "execution_count": 36,
   "metadata": {
    "collapsed": false
   },
   "outputs": [
    {
     "data": {
      "text/plain": [
       "-0.89119558600132898"
      ]
     },
     "execution_count": 36,
     "metadata": {},
     "output_type": "execute_result"
    }
   ],
   "source": [
    "df.iat[1,1]"
   ]
  },
  {
   "cell_type": "markdown",
   "metadata": {},
   "source": [
    "## Boolean Indexing"
   ]
  },
  {
   "cell_type": "markdown",
   "metadata": {},
   "source": [
    "Using a single column’s values to select data."
   ]
  },
  {
   "cell_type": "code",
   "execution_count": 37,
   "metadata": {
    "collapsed": false,
    "scrolled": true
   },
   "outputs": [
    {
     "data": {
      "text/html": [
       "<div>\n",
       "<table border=\"1\" class=\"dataframe\">\n",
       "  <thead>\n",
       "    <tr style=\"text-align: right;\">\n",
       "      <th></th>\n",
       "      <th>A</th>\n",
       "      <th>B</th>\n",
       "      <th>C</th>\n",
       "      <th>D</th>\n",
       "    </tr>\n",
       "  </thead>\n",
       "  <tbody>\n",
       "    <tr>\n",
       "      <th>2013-01-01</th>\n",
       "      <td>1.571507</td>\n",
       "      <td>0.160021</td>\n",
       "      <td>-0.015071</td>\n",
       "      <td>-0.118588</td>\n",
       "    </tr>\n",
       "    <tr>\n",
       "      <th>2013-01-05</th>\n",
       "      <td>1.092380</td>\n",
       "      <td>2.841777</td>\n",
       "      <td>-0.125714</td>\n",
       "      <td>-0.760722</td>\n",
       "    </tr>\n",
       "    <tr>\n",
       "      <th>2013-01-06</th>\n",
       "      <td>1.638509</td>\n",
       "      <td>-0.601126</td>\n",
       "      <td>-1.043931</td>\n",
       "      <td>-1.330950</td>\n",
       "    </tr>\n",
       "  </tbody>\n",
       "</table>\n",
       "</div>"
      ],
      "text/plain": [
       "                   A         B         C         D\n",
       "2013-01-01  1.571507  0.160021 -0.015071 -0.118588\n",
       "2013-01-05  1.092380  2.841777 -0.125714 -0.760722\n",
       "2013-01-06  1.638509 -0.601126 -1.043931 -1.330950"
      ]
     },
     "execution_count": 37,
     "metadata": {},
     "output_type": "execute_result"
    }
   ],
   "source": [
    "df[df.A > 0]"
   ]
  },
  {
   "cell_type": "markdown",
   "metadata": {},
   "source": [
    "A where operation for getting."
   ]
  },
  {
   "cell_type": "code",
   "execution_count": 38,
   "metadata": {
    "collapsed": false
   },
   "outputs": [
    {
     "data": {
      "text/html": [
       "<div>\n",
       "<table border=\"1\" class=\"dataframe\">\n",
       "  <thead>\n",
       "    <tr style=\"text-align: right;\">\n",
       "      <th></th>\n",
       "      <th>A</th>\n",
       "      <th>B</th>\n",
       "      <th>C</th>\n",
       "      <th>D</th>\n",
       "    </tr>\n",
       "  </thead>\n",
       "  <tbody>\n",
       "    <tr>\n",
       "      <th>2013-01-01</th>\n",
       "      <td>1.571507</td>\n",
       "      <td>0.160021</td>\n",
       "      <td>NaN</td>\n",
       "      <td>NaN</td>\n",
       "    </tr>\n",
       "    <tr>\n",
       "      <th>2013-01-02</th>\n",
       "      <td>NaN</td>\n",
       "      <td>NaN</td>\n",
       "      <td>0.495447</td>\n",
       "      <td>0.453095</td>\n",
       "    </tr>\n",
       "    <tr>\n",
       "      <th>2013-01-03</th>\n",
       "      <td>NaN</td>\n",
       "      <td>NaN</td>\n",
       "      <td>NaN</td>\n",
       "      <td>NaN</td>\n",
       "    </tr>\n",
       "    <tr>\n",
       "      <th>2013-01-04</th>\n",
       "      <td>NaN</td>\n",
       "      <td>NaN</td>\n",
       "      <td>0.407331</td>\n",
       "      <td>0.187037</td>\n",
       "    </tr>\n",
       "    <tr>\n",
       "      <th>2013-01-05</th>\n",
       "      <td>1.092380</td>\n",
       "      <td>2.841777</td>\n",
       "      <td>NaN</td>\n",
       "      <td>NaN</td>\n",
       "    </tr>\n",
       "    <tr>\n",
       "      <th>2013-01-06</th>\n",
       "      <td>1.638509</td>\n",
       "      <td>NaN</td>\n",
       "      <td>NaN</td>\n",
       "      <td>NaN</td>\n",
       "    </tr>\n",
       "  </tbody>\n",
       "</table>\n",
       "</div>"
      ],
      "text/plain": [
       "                   A         B         C         D\n",
       "2013-01-01  1.571507  0.160021       NaN       NaN\n",
       "2013-01-02       NaN       NaN  0.495447  0.453095\n",
       "2013-01-03       NaN       NaN       NaN       NaN\n",
       "2013-01-04       NaN       NaN  0.407331  0.187037\n",
       "2013-01-05  1.092380  2.841777       NaN       NaN\n",
       "2013-01-06  1.638509       NaN       NaN       NaN"
      ]
     },
     "execution_count": 38,
     "metadata": {},
     "output_type": "execute_result"
    }
   ],
   "source": [
    "df[df > 0]"
   ]
  },
  {
   "cell_type": "markdown",
   "metadata": {},
   "source": [
    "Using the isin() method for filtering:"
   ]
  },
  {
   "cell_type": "code",
   "execution_count": 39,
   "metadata": {
    "collapsed": false,
    "scrolled": true
   },
   "outputs": [],
   "source": [
    "df2 = df.copy()"
   ]
  },
  {
   "cell_type": "code",
   "execution_count": 40,
   "metadata": {
    "collapsed": true
   },
   "outputs": [],
   "source": [
    "df2['E'] = ['one','one', 'two','three','four','three']"
   ]
  },
  {
   "cell_type": "code",
   "execution_count": 41,
   "metadata": {
    "collapsed": false
   },
   "outputs": [
    {
     "data": {
      "text/html": [
       "<div>\n",
       "<table border=\"1\" class=\"dataframe\">\n",
       "  <thead>\n",
       "    <tr style=\"text-align: right;\">\n",
       "      <th></th>\n",
       "      <th>A</th>\n",
       "      <th>B</th>\n",
       "      <th>C</th>\n",
       "      <th>D</th>\n",
       "      <th>E</th>\n",
       "    </tr>\n",
       "  </thead>\n",
       "  <tbody>\n",
       "    <tr>\n",
       "      <th>2013-01-01</th>\n",
       "      <td>1.571507</td>\n",
       "      <td>0.160021</td>\n",
       "      <td>-0.015071</td>\n",
       "      <td>-0.118588</td>\n",
       "      <td>one</td>\n",
       "    </tr>\n",
       "    <tr>\n",
       "      <th>2013-01-02</th>\n",
       "      <td>-1.037697</td>\n",
       "      <td>-0.891196</td>\n",
       "      <td>0.495447</td>\n",
       "      <td>0.453095</td>\n",
       "      <td>one</td>\n",
       "    </tr>\n",
       "    <tr>\n",
       "      <th>2013-01-03</th>\n",
       "      <td>-1.682384</td>\n",
       "      <td>-0.026006</td>\n",
       "      <td>-0.152957</td>\n",
       "      <td>-0.212614</td>\n",
       "      <td>two</td>\n",
       "    </tr>\n",
       "    <tr>\n",
       "      <th>2013-01-04</th>\n",
       "      <td>-0.108757</td>\n",
       "      <td>-0.958267</td>\n",
       "      <td>0.407331</td>\n",
       "      <td>0.187037</td>\n",
       "      <td>three</td>\n",
       "    </tr>\n",
       "    <tr>\n",
       "      <th>2013-01-05</th>\n",
       "      <td>1.092380</td>\n",
       "      <td>2.841777</td>\n",
       "      <td>-0.125714</td>\n",
       "      <td>-0.760722</td>\n",
       "      <td>four</td>\n",
       "    </tr>\n",
       "    <tr>\n",
       "      <th>2013-01-06</th>\n",
       "      <td>1.638509</td>\n",
       "      <td>-0.601126</td>\n",
       "      <td>-1.043931</td>\n",
       "      <td>-1.330950</td>\n",
       "      <td>three</td>\n",
       "    </tr>\n",
       "  </tbody>\n",
       "</table>\n",
       "</div>"
      ],
      "text/plain": [
       "                   A         B         C         D      E\n",
       "2013-01-01  1.571507  0.160021 -0.015071 -0.118588    one\n",
       "2013-01-02 -1.037697 -0.891196  0.495447  0.453095    one\n",
       "2013-01-03 -1.682384 -0.026006 -0.152957 -0.212614    two\n",
       "2013-01-04 -0.108757 -0.958267  0.407331  0.187037  three\n",
       "2013-01-05  1.092380  2.841777 -0.125714 -0.760722   four\n",
       "2013-01-06  1.638509 -0.601126 -1.043931 -1.330950  three"
      ]
     },
     "execution_count": 41,
     "metadata": {},
     "output_type": "execute_result"
    }
   ],
   "source": [
    "df2"
   ]
  },
  {
   "cell_type": "code",
   "execution_count": 42,
   "metadata": {
    "collapsed": false
   },
   "outputs": [
    {
     "data": {
      "text/html": [
       "<div>\n",
       "<table border=\"1\" class=\"dataframe\">\n",
       "  <thead>\n",
       "    <tr style=\"text-align: right;\">\n",
       "      <th></th>\n",
       "      <th>A</th>\n",
       "      <th>B</th>\n",
       "      <th>C</th>\n",
       "      <th>D</th>\n",
       "      <th>E</th>\n",
       "    </tr>\n",
       "  </thead>\n",
       "  <tbody>\n",
       "    <tr>\n",
       "      <th>2013-01-03</th>\n",
       "      <td>-1.682384</td>\n",
       "      <td>-0.026006</td>\n",
       "      <td>-0.152957</td>\n",
       "      <td>-0.212614</td>\n",
       "      <td>two</td>\n",
       "    </tr>\n",
       "    <tr>\n",
       "      <th>2013-01-05</th>\n",
       "      <td>1.092380</td>\n",
       "      <td>2.841777</td>\n",
       "      <td>-0.125714</td>\n",
       "      <td>-0.760722</td>\n",
       "      <td>four</td>\n",
       "    </tr>\n",
       "  </tbody>\n",
       "</table>\n",
       "</div>"
      ],
      "text/plain": [
       "                   A         B         C         D     E\n",
       "2013-01-03 -1.682384 -0.026006 -0.152957 -0.212614   two\n",
       "2013-01-05  1.092380  2.841777 -0.125714 -0.760722  four"
      ]
     },
     "execution_count": 42,
     "metadata": {},
     "output_type": "execute_result"
    }
   ],
   "source": [
    "df2[df2['E'].isin(['two','four'])]"
   ]
  },
  {
   "cell_type": "markdown",
   "metadata": {},
   "source": [
    "## Setting"
   ]
  },
  {
   "cell_type": "markdown",
   "metadata": {},
   "source": [
    "Setting a new column automatically aligns the data by the indexes"
   ]
  },
  {
   "cell_type": "code",
   "execution_count": 43,
   "metadata": {
    "collapsed": false
   },
   "outputs": [],
   "source": [
    "s1 = pd.Series([1,2,3,4,5,6], index=pd.date_range('20130102',periods=6))"
   ]
  },
  {
   "cell_type": "code",
   "execution_count": 44,
   "metadata": {
    "collapsed": false
   },
   "outputs": [
    {
     "data": {
      "text/plain": [
       "2013-01-02    1\n",
       "2013-01-03    2\n",
       "2013-01-04    3\n",
       "2013-01-05    4\n",
       "2013-01-06    5\n",
       "2013-01-07    6\n",
       "Freq: D, dtype: int64"
      ]
     },
     "execution_count": 44,
     "metadata": {},
     "output_type": "execute_result"
    }
   ],
   "source": [
    "s1"
   ]
  },
  {
   "cell_type": "code",
   "execution_count": 45,
   "metadata": {
    "collapsed": true
   },
   "outputs": [],
   "source": [
    "df['F'] = s1"
   ]
  },
  {
   "cell_type": "markdown",
   "metadata": {},
   "source": [
    "Setting values by label"
   ]
  },
  {
   "cell_type": "code",
   "execution_count": 46,
   "metadata": {
    "collapsed": true
   },
   "outputs": [],
   "source": [
    "df.at[dates[0],'A'] = 0"
   ]
  },
  {
   "cell_type": "markdown",
   "metadata": {},
   "source": [
    "Settomg values by position"
   ]
  },
  {
   "cell_type": "code",
   "execution_count": 47,
   "metadata": {
    "collapsed": true
   },
   "outputs": [],
   "source": [
    "df.iat[0,1] = 0"
   ]
  },
  {
   "cell_type": "markdown",
   "metadata": {},
   "source": [
    "Setting by assigning with a numpy array"
   ]
  },
  {
   "cell_type": "code",
   "execution_count": 48,
   "metadata": {
    "collapsed": true
   },
   "outputs": [],
   "source": [
    "df.loc[:,'D'] = np.array([5] * len(df))"
   ]
  },
  {
   "cell_type": "markdown",
   "metadata": {},
   "source": [
    "The result of the prior setting operations"
   ]
  },
  {
   "cell_type": "code",
   "execution_count": 49,
   "metadata": {
    "collapsed": false
   },
   "outputs": [
    {
     "data": {
      "text/html": [
       "<div>\n",
       "<table border=\"1\" class=\"dataframe\">\n",
       "  <thead>\n",
       "    <tr style=\"text-align: right;\">\n",
       "      <th></th>\n",
       "      <th>A</th>\n",
       "      <th>B</th>\n",
       "      <th>C</th>\n",
       "      <th>D</th>\n",
       "      <th>F</th>\n",
       "    </tr>\n",
       "  </thead>\n",
       "  <tbody>\n",
       "    <tr>\n",
       "      <th>2013-01-01</th>\n",
       "      <td>0.000000</td>\n",
       "      <td>0.000000</td>\n",
       "      <td>-0.015071</td>\n",
       "      <td>5</td>\n",
       "      <td>NaN</td>\n",
       "    </tr>\n",
       "    <tr>\n",
       "      <th>2013-01-02</th>\n",
       "      <td>-1.037697</td>\n",
       "      <td>-0.891196</td>\n",
       "      <td>0.495447</td>\n",
       "      <td>5</td>\n",
       "      <td>1.0</td>\n",
       "    </tr>\n",
       "    <tr>\n",
       "      <th>2013-01-03</th>\n",
       "      <td>-1.682384</td>\n",
       "      <td>-0.026006</td>\n",
       "      <td>-0.152957</td>\n",
       "      <td>5</td>\n",
       "      <td>2.0</td>\n",
       "    </tr>\n",
       "    <tr>\n",
       "      <th>2013-01-04</th>\n",
       "      <td>-0.108757</td>\n",
       "      <td>-0.958267</td>\n",
       "      <td>0.407331</td>\n",
       "      <td>5</td>\n",
       "      <td>3.0</td>\n",
       "    </tr>\n",
       "    <tr>\n",
       "      <th>2013-01-05</th>\n",
       "      <td>1.092380</td>\n",
       "      <td>2.841777</td>\n",
       "      <td>-0.125714</td>\n",
       "      <td>5</td>\n",
       "      <td>4.0</td>\n",
       "    </tr>\n",
       "    <tr>\n",
       "      <th>2013-01-06</th>\n",
       "      <td>1.638509</td>\n",
       "      <td>-0.601126</td>\n",
       "      <td>-1.043931</td>\n",
       "      <td>5</td>\n",
       "      <td>5.0</td>\n",
       "    </tr>\n",
       "  </tbody>\n",
       "</table>\n",
       "</div>"
      ],
      "text/plain": [
       "                   A         B         C  D    F\n",
       "2013-01-01  0.000000  0.000000 -0.015071  5  NaN\n",
       "2013-01-02 -1.037697 -0.891196  0.495447  5  1.0\n",
       "2013-01-03 -1.682384 -0.026006 -0.152957  5  2.0\n",
       "2013-01-04 -0.108757 -0.958267  0.407331  5  3.0\n",
       "2013-01-05  1.092380  2.841777 -0.125714  5  4.0\n",
       "2013-01-06  1.638509 -0.601126 -1.043931  5  5.0"
      ]
     },
     "execution_count": 49,
     "metadata": {},
     "output_type": "execute_result"
    }
   ],
   "source": [
    "df"
   ]
  },
  {
   "cell_type": "markdown",
   "metadata": {},
   "source": [
    "A where operation with setting."
   ]
  },
  {
   "cell_type": "code",
   "execution_count": 50,
   "metadata": {
    "collapsed": false
   },
   "outputs": [],
   "source": [
    "df2 = df.copy()"
   ]
  },
  {
   "cell_type": "code",
   "execution_count": 51,
   "metadata": {
    "collapsed": true
   },
   "outputs": [],
   "source": [
    "df2[df2 > 0] = -df2"
   ]
  },
  {
   "cell_type": "code",
   "execution_count": 52,
   "metadata": {
    "collapsed": false
   },
   "outputs": [
    {
     "data": {
      "text/html": [
       "<div>\n",
       "<table border=\"1\" class=\"dataframe\">\n",
       "  <thead>\n",
       "    <tr style=\"text-align: right;\">\n",
       "      <th></th>\n",
       "      <th>A</th>\n",
       "      <th>B</th>\n",
       "      <th>C</th>\n",
       "      <th>D</th>\n",
       "      <th>F</th>\n",
       "    </tr>\n",
       "  </thead>\n",
       "  <tbody>\n",
       "    <tr>\n",
       "      <th>2013-01-01</th>\n",
       "      <td>0.000000</td>\n",
       "      <td>0.000000</td>\n",
       "      <td>-0.015071</td>\n",
       "      <td>-5</td>\n",
       "      <td>NaN</td>\n",
       "    </tr>\n",
       "    <tr>\n",
       "      <th>2013-01-02</th>\n",
       "      <td>-1.037697</td>\n",
       "      <td>-0.891196</td>\n",
       "      <td>-0.495447</td>\n",
       "      <td>-5</td>\n",
       "      <td>-1.0</td>\n",
       "    </tr>\n",
       "    <tr>\n",
       "      <th>2013-01-03</th>\n",
       "      <td>-1.682384</td>\n",
       "      <td>-0.026006</td>\n",
       "      <td>-0.152957</td>\n",
       "      <td>-5</td>\n",
       "      <td>-2.0</td>\n",
       "    </tr>\n",
       "    <tr>\n",
       "      <th>2013-01-04</th>\n",
       "      <td>-0.108757</td>\n",
       "      <td>-0.958267</td>\n",
       "      <td>-0.407331</td>\n",
       "      <td>-5</td>\n",
       "      <td>-3.0</td>\n",
       "    </tr>\n",
       "    <tr>\n",
       "      <th>2013-01-05</th>\n",
       "      <td>-1.092380</td>\n",
       "      <td>-2.841777</td>\n",
       "      <td>-0.125714</td>\n",
       "      <td>-5</td>\n",
       "      <td>-4.0</td>\n",
       "    </tr>\n",
       "    <tr>\n",
       "      <th>2013-01-06</th>\n",
       "      <td>-1.638509</td>\n",
       "      <td>-0.601126</td>\n",
       "      <td>-1.043931</td>\n",
       "      <td>-5</td>\n",
       "      <td>-5.0</td>\n",
       "    </tr>\n",
       "  </tbody>\n",
       "</table>\n",
       "</div>"
      ],
      "text/plain": [
       "                   A         B         C  D    F\n",
       "2013-01-01  0.000000  0.000000 -0.015071 -5  NaN\n",
       "2013-01-02 -1.037697 -0.891196 -0.495447 -5 -1.0\n",
       "2013-01-03 -1.682384 -0.026006 -0.152957 -5 -2.0\n",
       "2013-01-04 -0.108757 -0.958267 -0.407331 -5 -3.0\n",
       "2013-01-05 -1.092380 -2.841777 -0.125714 -5 -4.0\n",
       "2013-01-06 -1.638509 -0.601126 -1.043931 -5 -5.0"
      ]
     },
     "execution_count": 52,
     "metadata": {},
     "output_type": "execute_result"
    }
   ],
   "source": [
    "df2"
   ]
  },
  {
   "cell_type": "markdown",
   "metadata": {},
   "source": [
    "## Missing Data\n",
    "\n",
    "pandas primarily uses the value np.nan to represent missing data. It is by default not included in computations. See the Missing Data section"
   ]
  },
  {
   "cell_type": "markdown",
   "metadata": {
    "collapsed": true
   },
   "source": [
    "Reindexing allows you to change/add/delete the index on a specified axis. This returns a copy of the data."
   ]
  },
  {
   "cell_type": "code",
   "execution_count": 53,
   "metadata": {
    "collapsed": false
   },
   "outputs": [],
   "source": [
    "df1 = df.reindex(index=dates[0:4], columns=list(df.columns) + ['E'])"
   ]
  },
  {
   "cell_type": "code",
   "execution_count": 54,
   "metadata": {
    "collapsed": true
   },
   "outputs": [],
   "source": [
    "df1.loc[dates[0]:dates[1],'E'] = 1"
   ]
  },
  {
   "cell_type": "code",
   "execution_count": 55,
   "metadata": {
    "collapsed": false
   },
   "outputs": [
    {
     "data": {
      "text/html": [
       "<div>\n",
       "<table border=\"1\" class=\"dataframe\">\n",
       "  <thead>\n",
       "    <tr style=\"text-align: right;\">\n",
       "      <th></th>\n",
       "      <th>A</th>\n",
       "      <th>B</th>\n",
       "      <th>C</th>\n",
       "      <th>D</th>\n",
       "      <th>F</th>\n",
       "      <th>E</th>\n",
       "    </tr>\n",
       "  </thead>\n",
       "  <tbody>\n",
       "    <tr>\n",
       "      <th>2013-01-01</th>\n",
       "      <td>0.000000</td>\n",
       "      <td>0.000000</td>\n",
       "      <td>-0.015071</td>\n",
       "      <td>5</td>\n",
       "      <td>NaN</td>\n",
       "      <td>1.0</td>\n",
       "    </tr>\n",
       "    <tr>\n",
       "      <th>2013-01-02</th>\n",
       "      <td>-1.037697</td>\n",
       "      <td>-0.891196</td>\n",
       "      <td>0.495447</td>\n",
       "      <td>5</td>\n",
       "      <td>1.0</td>\n",
       "      <td>1.0</td>\n",
       "    </tr>\n",
       "    <tr>\n",
       "      <th>2013-01-03</th>\n",
       "      <td>-1.682384</td>\n",
       "      <td>-0.026006</td>\n",
       "      <td>-0.152957</td>\n",
       "      <td>5</td>\n",
       "      <td>2.0</td>\n",
       "      <td>NaN</td>\n",
       "    </tr>\n",
       "    <tr>\n",
       "      <th>2013-01-04</th>\n",
       "      <td>-0.108757</td>\n",
       "      <td>-0.958267</td>\n",
       "      <td>0.407331</td>\n",
       "      <td>5</td>\n",
       "      <td>3.0</td>\n",
       "      <td>NaN</td>\n",
       "    </tr>\n",
       "  </tbody>\n",
       "</table>\n",
       "</div>"
      ],
      "text/plain": [
       "                   A         B         C  D    F    E\n",
       "2013-01-01  0.000000  0.000000 -0.015071  5  NaN  1.0\n",
       "2013-01-02 -1.037697 -0.891196  0.495447  5  1.0  1.0\n",
       "2013-01-03 -1.682384 -0.026006 -0.152957  5  2.0  NaN\n",
       "2013-01-04 -0.108757 -0.958267  0.407331  5  3.0  NaN"
      ]
     },
     "execution_count": 55,
     "metadata": {},
     "output_type": "execute_result"
    }
   ],
   "source": [
    "df1"
   ]
  },
  {
   "cell_type": "markdown",
   "metadata": {},
   "source": [
    "To drop any rows that have missing data."
   ]
  },
  {
   "cell_type": "code",
   "execution_count": 56,
   "metadata": {
    "collapsed": false
   },
   "outputs": [
    {
     "data": {
      "text/html": [
       "<div>\n",
       "<table border=\"1\" class=\"dataframe\">\n",
       "  <thead>\n",
       "    <tr style=\"text-align: right;\">\n",
       "      <th></th>\n",
       "      <th>A</th>\n",
       "      <th>B</th>\n",
       "      <th>C</th>\n",
       "      <th>D</th>\n",
       "      <th>F</th>\n",
       "      <th>E</th>\n",
       "    </tr>\n",
       "  </thead>\n",
       "  <tbody>\n",
       "    <tr>\n",
       "      <th>2013-01-02</th>\n",
       "      <td>-1.037697</td>\n",
       "      <td>-0.891196</td>\n",
       "      <td>0.495447</td>\n",
       "      <td>5</td>\n",
       "      <td>1.0</td>\n",
       "      <td>1.0</td>\n",
       "    </tr>\n",
       "  </tbody>\n",
       "</table>\n",
       "</div>"
      ],
      "text/plain": [
       "                   A         B         C  D    F    E\n",
       "2013-01-02 -1.037697 -0.891196  0.495447  5  1.0  1.0"
      ]
     },
     "execution_count": 56,
     "metadata": {},
     "output_type": "execute_result"
    }
   ],
   "source": [
    "df1.dropna(how='any')"
   ]
  },
  {
   "cell_type": "markdown",
   "metadata": {},
   "source": [
    "Filling missing data"
   ]
  },
  {
   "cell_type": "code",
   "execution_count": 57,
   "metadata": {
    "collapsed": false
   },
   "outputs": [
    {
     "data": {
      "text/html": [
       "<div>\n",
       "<table border=\"1\" class=\"dataframe\">\n",
       "  <thead>\n",
       "    <tr style=\"text-align: right;\">\n",
       "      <th></th>\n",
       "      <th>A</th>\n",
       "      <th>B</th>\n",
       "      <th>C</th>\n",
       "      <th>D</th>\n",
       "      <th>F</th>\n",
       "      <th>E</th>\n",
       "    </tr>\n",
       "  </thead>\n",
       "  <tbody>\n",
       "    <tr>\n",
       "      <th>2013-01-01</th>\n",
       "      <td>0.000000</td>\n",
       "      <td>0.000000</td>\n",
       "      <td>-0.015071</td>\n",
       "      <td>5</td>\n",
       "      <td>5.0</td>\n",
       "      <td>1.0</td>\n",
       "    </tr>\n",
       "    <tr>\n",
       "      <th>2013-01-02</th>\n",
       "      <td>-1.037697</td>\n",
       "      <td>-0.891196</td>\n",
       "      <td>0.495447</td>\n",
       "      <td>5</td>\n",
       "      <td>1.0</td>\n",
       "      <td>1.0</td>\n",
       "    </tr>\n",
       "    <tr>\n",
       "      <th>2013-01-03</th>\n",
       "      <td>-1.682384</td>\n",
       "      <td>-0.026006</td>\n",
       "      <td>-0.152957</td>\n",
       "      <td>5</td>\n",
       "      <td>2.0</td>\n",
       "      <td>5.0</td>\n",
       "    </tr>\n",
       "    <tr>\n",
       "      <th>2013-01-04</th>\n",
       "      <td>-0.108757</td>\n",
       "      <td>-0.958267</td>\n",
       "      <td>0.407331</td>\n",
       "      <td>5</td>\n",
       "      <td>3.0</td>\n",
       "      <td>5.0</td>\n",
       "    </tr>\n",
       "  </tbody>\n",
       "</table>\n",
       "</div>"
      ],
      "text/plain": [
       "                   A         B         C  D    F    E\n",
       "2013-01-01  0.000000  0.000000 -0.015071  5  5.0  1.0\n",
       "2013-01-02 -1.037697 -0.891196  0.495447  5  1.0  1.0\n",
       "2013-01-03 -1.682384 -0.026006 -0.152957  5  2.0  5.0\n",
       "2013-01-04 -0.108757 -0.958267  0.407331  5  3.0  5.0"
      ]
     },
     "execution_count": 57,
     "metadata": {},
     "output_type": "execute_result"
    }
   ],
   "source": [
    "df1.fillna(value=5)"
   ]
  },
  {
   "cell_type": "markdown",
   "metadata": {},
   "source": [
    "To get the boolean mask where values are nan"
   ]
  },
  {
   "cell_type": "code",
   "execution_count": 58,
   "metadata": {
    "collapsed": false
   },
   "outputs": [
    {
     "data": {
      "text/html": [
       "<div>\n",
       "<table border=\"1\" class=\"dataframe\">\n",
       "  <thead>\n",
       "    <tr style=\"text-align: right;\">\n",
       "      <th></th>\n",
       "      <th>A</th>\n",
       "      <th>B</th>\n",
       "      <th>C</th>\n",
       "      <th>D</th>\n",
       "      <th>F</th>\n",
       "      <th>E</th>\n",
       "    </tr>\n",
       "  </thead>\n",
       "  <tbody>\n",
       "    <tr>\n",
       "      <th>2013-01-01</th>\n",
       "      <td>False</td>\n",
       "      <td>False</td>\n",
       "      <td>False</td>\n",
       "      <td>False</td>\n",
       "      <td>True</td>\n",
       "      <td>False</td>\n",
       "    </tr>\n",
       "    <tr>\n",
       "      <th>2013-01-02</th>\n",
       "      <td>False</td>\n",
       "      <td>False</td>\n",
       "      <td>False</td>\n",
       "      <td>False</td>\n",
       "      <td>False</td>\n",
       "      <td>False</td>\n",
       "    </tr>\n",
       "    <tr>\n",
       "      <th>2013-01-03</th>\n",
       "      <td>False</td>\n",
       "      <td>False</td>\n",
       "      <td>False</td>\n",
       "      <td>False</td>\n",
       "      <td>False</td>\n",
       "      <td>True</td>\n",
       "    </tr>\n",
       "    <tr>\n",
       "      <th>2013-01-04</th>\n",
       "      <td>False</td>\n",
       "      <td>False</td>\n",
       "      <td>False</td>\n",
       "      <td>False</td>\n",
       "      <td>False</td>\n",
       "      <td>True</td>\n",
       "    </tr>\n",
       "  </tbody>\n",
       "</table>\n",
       "</div>"
      ],
      "text/plain": [
       "                A      B      C      D      F      E\n",
       "2013-01-01  False  False  False  False   True  False\n",
       "2013-01-02  False  False  False  False  False  False\n",
       "2013-01-03  False  False  False  False  False   True\n",
       "2013-01-04  False  False  False  False  False   True"
      ]
     },
     "execution_count": 58,
     "metadata": {},
     "output_type": "execute_result"
    }
   ],
   "source": [
    "pd.isnull(df1)"
   ]
  },
  {
   "cell_type": "markdown",
   "metadata": {},
   "source": [
    "## Operations\n",
    "\n",
    "See the [Basic section on Binary Ops](http://pandas.pydata.org/pandas-docs/stable/basics.html#basics-binop)"
   ]
  },
  {
   "cell_type": "markdown",
   "metadata": {},
   "source": [
    "### Stats\n",
    "\n",
    "Operations in general exclude missing data."
   ]
  },
  {
   "cell_type": "markdown",
   "metadata": {},
   "source": [
    "Performing a descriptive statistic"
   ]
  },
  {
   "cell_type": "code",
   "execution_count": 59,
   "metadata": {
    "collapsed": false
   },
   "outputs": [
    {
     "data": {
      "text/plain": [
       "A   -0.016325\n",
       "B    0.060864\n",
       "C   -0.072483\n",
       "D    5.000000\n",
       "F    3.000000\n",
       "dtype: float64"
      ]
     },
     "execution_count": 59,
     "metadata": {},
     "output_type": "execute_result"
    }
   ],
   "source": [
    "df.mean()"
   ]
  },
  {
   "cell_type": "markdown",
   "metadata": {},
   "source": [
    "Same operation on the other axis"
   ]
  },
  {
   "cell_type": "code",
   "execution_count": 60,
   "metadata": {
    "collapsed": false
   },
   "outputs": [
    {
     "data": {
      "text/plain": [
       "2013-01-01    1.246232\n",
       "2013-01-02    0.913311\n",
       "2013-01-03    1.027731\n",
       "2013-01-04    1.468061\n",
       "2013-01-05    2.561689\n",
       "2013-01-06    1.998690\n",
       "Freq: D, dtype: float64"
      ]
     },
     "execution_count": 60,
     "metadata": {},
     "output_type": "execute_result"
    }
   ],
   "source": [
    "df.mean(1)"
   ]
  },
  {
   "cell_type": "markdown",
   "metadata": {},
   "source": [
    "Operating with objects that have different dimensionality and need alignment. In addition, pandas automatically broadcasts along the specified dimension."
   ]
  },
  {
   "cell_type": "code",
   "execution_count": 61,
   "metadata": {
    "collapsed": false
   },
   "outputs": [],
   "source": [
    "s = pd.Series([1,3,5,np.nan,6,8], index=dates).shift(2)"
   ]
  },
  {
   "cell_type": "code",
   "execution_count": 62,
   "metadata": {
    "collapsed": false
   },
   "outputs": [
    {
     "data": {
      "text/plain": [
       "2013-01-01    NaN\n",
       "2013-01-02    NaN\n",
       "2013-01-03    1.0\n",
       "2013-01-04    3.0\n",
       "2013-01-05    5.0\n",
       "2013-01-06    NaN\n",
       "Freq: D, dtype: float64"
      ]
     },
     "execution_count": 62,
     "metadata": {},
     "output_type": "execute_result"
    }
   ],
   "source": [
    "s"
   ]
  },
  {
   "cell_type": "code",
   "execution_count": 63,
   "metadata": {
    "collapsed": false
   },
   "outputs": [
    {
     "data": {
      "text/html": [
       "<div>\n",
       "<table border=\"1\" class=\"dataframe\">\n",
       "  <thead>\n",
       "    <tr style=\"text-align: right;\">\n",
       "      <th></th>\n",
       "      <th>A</th>\n",
       "      <th>B</th>\n",
       "      <th>C</th>\n",
       "      <th>D</th>\n",
       "      <th>F</th>\n",
       "    </tr>\n",
       "  </thead>\n",
       "  <tbody>\n",
       "    <tr>\n",
       "      <th>2013-01-01</th>\n",
       "      <td>NaN</td>\n",
       "      <td>NaN</td>\n",
       "      <td>NaN</td>\n",
       "      <td>NaN</td>\n",
       "      <td>NaN</td>\n",
       "    </tr>\n",
       "    <tr>\n",
       "      <th>2013-01-02</th>\n",
       "      <td>NaN</td>\n",
       "      <td>NaN</td>\n",
       "      <td>NaN</td>\n",
       "      <td>NaN</td>\n",
       "      <td>NaN</td>\n",
       "    </tr>\n",
       "    <tr>\n",
       "      <th>2013-01-03</th>\n",
       "      <td>-2.682384</td>\n",
       "      <td>-1.026006</td>\n",
       "      <td>-1.152957</td>\n",
       "      <td>4.0</td>\n",
       "      <td>1.0</td>\n",
       "    </tr>\n",
       "    <tr>\n",
       "      <th>2013-01-04</th>\n",
       "      <td>-3.108757</td>\n",
       "      <td>-3.958267</td>\n",
       "      <td>-2.592669</td>\n",
       "      <td>2.0</td>\n",
       "      <td>0.0</td>\n",
       "    </tr>\n",
       "    <tr>\n",
       "      <th>2013-01-05</th>\n",
       "      <td>-3.907620</td>\n",
       "      <td>-2.158223</td>\n",
       "      <td>-5.125714</td>\n",
       "      <td>0.0</td>\n",
       "      <td>-1.0</td>\n",
       "    </tr>\n",
       "    <tr>\n",
       "      <th>2013-01-06</th>\n",
       "      <td>NaN</td>\n",
       "      <td>NaN</td>\n",
       "      <td>NaN</td>\n",
       "      <td>NaN</td>\n",
       "      <td>NaN</td>\n",
       "    </tr>\n",
       "  </tbody>\n",
       "</table>\n",
       "</div>"
      ],
      "text/plain": [
       "                   A         B         C    D    F\n",
       "2013-01-01       NaN       NaN       NaN  NaN  NaN\n",
       "2013-01-02       NaN       NaN       NaN  NaN  NaN\n",
       "2013-01-03 -2.682384 -1.026006 -1.152957  4.0  1.0\n",
       "2013-01-04 -3.108757 -3.958267 -2.592669  2.0  0.0\n",
       "2013-01-05 -3.907620 -2.158223 -5.125714  0.0 -1.0\n",
       "2013-01-06       NaN       NaN       NaN  NaN  NaN"
      ]
     },
     "execution_count": 63,
     "metadata": {},
     "output_type": "execute_result"
    }
   ],
   "source": [
    "df.sub(s, axis='index')"
   ]
  },
  {
   "cell_type": "markdown",
   "metadata": {},
   "source": [
    "### Apply"
   ]
  },
  {
   "cell_type": "markdown",
   "metadata": {},
   "source": [
    "Applying functions to the data"
   ]
  },
  {
   "cell_type": "code",
   "execution_count": 64,
   "metadata": {
    "collapsed": false
   },
   "outputs": [
    {
     "data": {
      "text/html": [
       "<div>\n",
       "<table border=\"1\" class=\"dataframe\">\n",
       "  <thead>\n",
       "    <tr style=\"text-align: right;\">\n",
       "      <th></th>\n",
       "      <th>A</th>\n",
       "      <th>B</th>\n",
       "      <th>C</th>\n",
       "      <th>D</th>\n",
       "      <th>F</th>\n",
       "    </tr>\n",
       "  </thead>\n",
       "  <tbody>\n",
       "    <tr>\n",
       "      <th>2013-01-01</th>\n",
       "      <td>0.000000</td>\n",
       "      <td>0.000000</td>\n",
       "      <td>-0.015071</td>\n",
       "      <td>5</td>\n",
       "      <td>NaN</td>\n",
       "    </tr>\n",
       "    <tr>\n",
       "      <th>2013-01-02</th>\n",
       "      <td>-1.037697</td>\n",
       "      <td>-0.891196</td>\n",
       "      <td>0.480377</td>\n",
       "      <td>10</td>\n",
       "      <td>1.0</td>\n",
       "    </tr>\n",
       "    <tr>\n",
       "      <th>2013-01-03</th>\n",
       "      <td>-2.720081</td>\n",
       "      <td>-0.917201</td>\n",
       "      <td>0.327420</td>\n",
       "      <td>15</td>\n",
       "      <td>3.0</td>\n",
       "    </tr>\n",
       "    <tr>\n",
       "      <th>2013-01-04</th>\n",
       "      <td>-2.828838</td>\n",
       "      <td>-1.875469</td>\n",
       "      <td>0.734750</td>\n",
       "      <td>20</td>\n",
       "      <td>6.0</td>\n",
       "    </tr>\n",
       "    <tr>\n",
       "      <th>2013-01-05</th>\n",
       "      <td>-1.736458</td>\n",
       "      <td>0.966309</td>\n",
       "      <td>0.609036</td>\n",
       "      <td>25</td>\n",
       "      <td>10.0</td>\n",
       "    </tr>\n",
       "    <tr>\n",
       "      <th>2013-01-06</th>\n",
       "      <td>-0.097949</td>\n",
       "      <td>0.365183</td>\n",
       "      <td>-0.434895</td>\n",
       "      <td>30</td>\n",
       "      <td>15.0</td>\n",
       "    </tr>\n",
       "  </tbody>\n",
       "</table>\n",
       "</div>"
      ],
      "text/plain": [
       "                   A         B         C   D     F\n",
       "2013-01-01  0.000000  0.000000 -0.015071   5   NaN\n",
       "2013-01-02 -1.037697 -0.891196  0.480377  10   1.0\n",
       "2013-01-03 -2.720081 -0.917201  0.327420  15   3.0\n",
       "2013-01-04 -2.828838 -1.875469  0.734750  20   6.0\n",
       "2013-01-05 -1.736458  0.966309  0.609036  25  10.0\n",
       "2013-01-06 -0.097949  0.365183 -0.434895  30  15.0"
      ]
     },
     "execution_count": 64,
     "metadata": {},
     "output_type": "execute_result"
    }
   ],
   "source": [
    "df.apply(np.cumsum)"
   ]
  },
  {
   "cell_type": "code",
   "execution_count": 65,
   "metadata": {
    "collapsed": false
   },
   "outputs": [
    {
     "data": {
      "text/plain": [
       "A    3.320893\n",
       "B    3.800045\n",
       "C    1.539378\n",
       "D    0.000000\n",
       "F    4.000000\n",
       "dtype: float64"
      ]
     },
     "execution_count": 65,
     "metadata": {},
     "output_type": "execute_result"
    }
   ],
   "source": [
    "df.apply(lambda x: x.max() - x.min())"
   ]
  },
  {
   "cell_type": "markdown",
   "metadata": {},
   "source": [
    "### Histogramming\n",
    "\n",
    "See more at [Histogramming and Discretization](http://pandas.pydata.org/pandas-docs/stable/basics.html#basics-discretization)"
   ]
  },
  {
   "cell_type": "code",
   "execution_count": 66,
   "metadata": {
    "collapsed": false
   },
   "outputs": [],
   "source": [
    "s = pd.Series(np.random.randint(0, 7, size=10))"
   ]
  },
  {
   "cell_type": "code",
   "execution_count": 67,
   "metadata": {
    "collapsed": false
   },
   "outputs": [
    {
     "data": {
      "text/plain": [
       "0    0\n",
       "1    4\n",
       "2    1\n",
       "3    5\n",
       "4    1\n",
       "5    2\n",
       "6    1\n",
       "7    6\n",
       "8    2\n",
       "9    4\n",
       "dtype: int64"
      ]
     },
     "execution_count": 67,
     "metadata": {},
     "output_type": "execute_result"
    }
   ],
   "source": [
    "s"
   ]
  },
  {
   "cell_type": "code",
   "execution_count": 68,
   "metadata": {
    "collapsed": false
   },
   "outputs": [
    {
     "data": {
      "text/plain": [
       "1    3\n",
       "4    2\n",
       "2    2\n",
       "6    1\n",
       "5    1\n",
       "0    1\n",
       "dtype: int64"
      ]
     },
     "execution_count": 68,
     "metadata": {},
     "output_type": "execute_result"
    }
   ],
   "source": [
    "s.value_counts()"
   ]
  },
  {
   "cell_type": "markdown",
   "metadata": {},
   "source": [
    "### String Methods\n",
    "\n",
    "Series is equipped with a set of string processing methods in the str attribute that make it easy to operate on each element of the array, as in the code snippet below. Note that pattern-matching in str generally uses [regular expressions](https://docs.python.org/2/library/re.html) by default (and in some cases always uses them). See more at [Vectorized String Methods](http://pandas.pydata.org/pandas-docs/stable/text.html#text-string-methods)."
   ]
  },
  {
   "cell_type": "code",
   "execution_count": 69,
   "metadata": {
    "collapsed": false
   },
   "outputs": [],
   "source": [
    "s = pd.Series(['A', 'B', 'C', 'Aaba', 'Baca', np.nan, 'CABA', 'dog', 'cat'])"
   ]
  },
  {
   "cell_type": "code",
   "execution_count": 70,
   "metadata": {
    "collapsed": false
   },
   "outputs": [
    {
     "data": {
      "text/plain": [
       "0       a\n",
       "1       b\n",
       "2       c\n",
       "3    aaba\n",
       "4    baca\n",
       "5     NaN\n",
       "6    caba\n",
       "7     dog\n",
       "8     cat\n",
       "dtype: object"
      ]
     },
     "execution_count": 70,
     "metadata": {},
     "output_type": "execute_result"
    }
   ],
   "source": [
    "s.str.lower()"
   ]
  },
  {
   "cell_type": "markdown",
   "metadata": {},
   "source": [
    "## Merge"
   ]
  },
  {
   "cell_type": "markdown",
   "metadata": {},
   "source": [
    "### Concat\n",
    "\n",
    "pandas provides various facilities for easily combining together Series, DataFrame, and Panel objects with various kinds of set logic for the indexes and relational algebra functionality in the case of join / merge-type operations.\n",
    "\n",
    "See the [Merging section](http://pandas.pydata.org/pandas-docs/stable/merging.html#merging)"
   ]
  },
  {
   "cell_type": "markdown",
   "metadata": {},
   "source": [
    "Concatenating pandas objects together with concat():"
   ]
  },
  {
   "cell_type": "code",
   "execution_count": 71,
   "metadata": {
    "collapsed": false
   },
   "outputs": [],
   "source": [
    "df = pd.DataFrame(np.random.randn(10, 4))"
   ]
  },
  {
   "cell_type": "code",
   "execution_count": 72,
   "metadata": {
    "collapsed": false
   },
   "outputs": [
    {
     "data": {
      "text/html": [
       "<div>\n",
       "<table border=\"1\" class=\"dataframe\">\n",
       "  <thead>\n",
       "    <tr style=\"text-align: right;\">\n",
       "      <th></th>\n",
       "      <th>0</th>\n",
       "      <th>1</th>\n",
       "      <th>2</th>\n",
       "      <th>3</th>\n",
       "    </tr>\n",
       "  </thead>\n",
       "  <tbody>\n",
       "    <tr>\n",
       "      <th>0</th>\n",
       "      <td>-0.478688</td>\n",
       "      <td>-1.065907</td>\n",
       "      <td>-0.813218</td>\n",
       "      <td>0.096970</td>\n",
       "    </tr>\n",
       "    <tr>\n",
       "      <th>1</th>\n",
       "      <td>0.414418</td>\n",
       "      <td>-0.364717</td>\n",
       "      <td>-0.515997</td>\n",
       "      <td>1.658804</td>\n",
       "    </tr>\n",
       "    <tr>\n",
       "      <th>2</th>\n",
       "      <td>0.596550</td>\n",
       "      <td>-0.336011</td>\n",
       "      <td>0.080922</td>\n",
       "      <td>0.524613</td>\n",
       "    </tr>\n",
       "    <tr>\n",
       "      <th>3</th>\n",
       "      <td>0.896945</td>\n",
       "      <td>0.584915</td>\n",
       "      <td>2.178190</td>\n",
       "      <td>-0.102500</td>\n",
       "    </tr>\n",
       "    <tr>\n",
       "      <th>4</th>\n",
       "      <td>-1.310291</td>\n",
       "      <td>0.680342</td>\n",
       "      <td>0.322909</td>\n",
       "      <td>0.319864</td>\n",
       "    </tr>\n",
       "    <tr>\n",
       "      <th>5</th>\n",
       "      <td>0.924658</td>\n",
       "      <td>0.485691</td>\n",
       "      <td>-0.105201</td>\n",
       "      <td>-0.438313</td>\n",
       "    </tr>\n",
       "    <tr>\n",
       "      <th>6</th>\n",
       "      <td>-1.515372</td>\n",
       "      <td>-0.275894</td>\n",
       "      <td>0.200431</td>\n",
       "      <td>-0.342667</td>\n",
       "    </tr>\n",
       "    <tr>\n",
       "      <th>7</th>\n",
       "      <td>1.259821</td>\n",
       "      <td>1.387931</td>\n",
       "      <td>-1.520080</td>\n",
       "      <td>0.236932</td>\n",
       "    </tr>\n",
       "    <tr>\n",
       "      <th>8</th>\n",
       "      <td>0.625367</td>\n",
       "      <td>1.485963</td>\n",
       "      <td>-0.075421</td>\n",
       "      <td>-1.865674</td>\n",
       "    </tr>\n",
       "    <tr>\n",
       "      <th>9</th>\n",
       "      <td>-1.015742</td>\n",
       "      <td>-0.935150</td>\n",
       "      <td>-1.148272</td>\n",
       "      <td>-1.007878</td>\n",
       "    </tr>\n",
       "  </tbody>\n",
       "</table>\n",
       "</div>"
      ],
      "text/plain": [
       "          0         1         2         3\n",
       "0 -0.478688 -1.065907 -0.813218  0.096970\n",
       "1  0.414418 -0.364717 -0.515997  1.658804\n",
       "2  0.596550 -0.336011  0.080922  0.524613\n",
       "3  0.896945  0.584915  2.178190 -0.102500\n",
       "4 -1.310291  0.680342  0.322909  0.319864\n",
       "5  0.924658  0.485691 -0.105201 -0.438313\n",
       "6 -1.515372 -0.275894  0.200431 -0.342667\n",
       "7  1.259821  1.387931 -1.520080  0.236932\n",
       "8  0.625367  1.485963 -0.075421 -1.865674\n",
       "9 -1.015742 -0.935150 -1.148272 -1.007878"
      ]
     },
     "execution_count": 72,
     "metadata": {},
     "output_type": "execute_result"
    }
   ],
   "source": [
    "df"
   ]
  },
  {
   "cell_type": "code",
   "execution_count": 73,
   "metadata": {
    "collapsed": false
   },
   "outputs": [],
   "source": [
    "# break it into pieces\n",
    "pieces = [df[:3], df[3:7], df[7:]]"
   ]
  },
  {
   "cell_type": "code",
   "execution_count": 74,
   "metadata": {
    "collapsed": false
   },
   "outputs": [
    {
     "data": {
      "text/html": [
       "<div>\n",
       "<table border=\"1\" class=\"dataframe\">\n",
       "  <thead>\n",
       "    <tr style=\"text-align: right;\">\n",
       "      <th></th>\n",
       "      <th>0</th>\n",
       "      <th>1</th>\n",
       "      <th>2</th>\n",
       "      <th>3</th>\n",
       "    </tr>\n",
       "  </thead>\n",
       "  <tbody>\n",
       "    <tr>\n",
       "      <th>0</th>\n",
       "      <td>-0.478688</td>\n",
       "      <td>-1.065907</td>\n",
       "      <td>-0.813218</td>\n",
       "      <td>0.096970</td>\n",
       "    </tr>\n",
       "    <tr>\n",
       "      <th>1</th>\n",
       "      <td>0.414418</td>\n",
       "      <td>-0.364717</td>\n",
       "      <td>-0.515997</td>\n",
       "      <td>1.658804</td>\n",
       "    </tr>\n",
       "    <tr>\n",
       "      <th>2</th>\n",
       "      <td>0.596550</td>\n",
       "      <td>-0.336011</td>\n",
       "      <td>0.080922</td>\n",
       "      <td>0.524613</td>\n",
       "    </tr>\n",
       "    <tr>\n",
       "      <th>3</th>\n",
       "      <td>0.896945</td>\n",
       "      <td>0.584915</td>\n",
       "      <td>2.178190</td>\n",
       "      <td>-0.102500</td>\n",
       "    </tr>\n",
       "    <tr>\n",
       "      <th>4</th>\n",
       "      <td>-1.310291</td>\n",
       "      <td>0.680342</td>\n",
       "      <td>0.322909</td>\n",
       "      <td>0.319864</td>\n",
       "    </tr>\n",
       "    <tr>\n",
       "      <th>5</th>\n",
       "      <td>0.924658</td>\n",
       "      <td>0.485691</td>\n",
       "      <td>-0.105201</td>\n",
       "      <td>-0.438313</td>\n",
       "    </tr>\n",
       "    <tr>\n",
       "      <th>6</th>\n",
       "      <td>-1.515372</td>\n",
       "      <td>-0.275894</td>\n",
       "      <td>0.200431</td>\n",
       "      <td>-0.342667</td>\n",
       "    </tr>\n",
       "    <tr>\n",
       "      <th>7</th>\n",
       "      <td>1.259821</td>\n",
       "      <td>1.387931</td>\n",
       "      <td>-1.520080</td>\n",
       "      <td>0.236932</td>\n",
       "    </tr>\n",
       "    <tr>\n",
       "      <th>8</th>\n",
       "      <td>0.625367</td>\n",
       "      <td>1.485963</td>\n",
       "      <td>-0.075421</td>\n",
       "      <td>-1.865674</td>\n",
       "    </tr>\n",
       "    <tr>\n",
       "      <th>9</th>\n",
       "      <td>-1.015742</td>\n",
       "      <td>-0.935150</td>\n",
       "      <td>-1.148272</td>\n",
       "      <td>-1.007878</td>\n",
       "    </tr>\n",
       "  </tbody>\n",
       "</table>\n",
       "</div>"
      ],
      "text/plain": [
       "          0         1         2         3\n",
       "0 -0.478688 -1.065907 -0.813218  0.096970\n",
       "1  0.414418 -0.364717 -0.515997  1.658804\n",
       "2  0.596550 -0.336011  0.080922  0.524613\n",
       "3  0.896945  0.584915  2.178190 -0.102500\n",
       "4 -1.310291  0.680342  0.322909  0.319864\n",
       "5  0.924658  0.485691 -0.105201 -0.438313\n",
       "6 -1.515372 -0.275894  0.200431 -0.342667\n",
       "7  1.259821  1.387931 -1.520080  0.236932\n",
       "8  0.625367  1.485963 -0.075421 -1.865674\n",
       "9 -1.015742 -0.935150 -1.148272 -1.007878"
      ]
     },
     "execution_count": 74,
     "metadata": {},
     "output_type": "execute_result"
    }
   ],
   "source": [
    "pd.concat(pieces)"
   ]
  },
  {
   "cell_type": "markdown",
   "metadata": {},
   "source": [
    "### Join\n",
    "\n",
    "SQL style merges. See the [Database style joining](http://pandas.pydata.org/pandas-docs/stable/merging.html#merging-join)"
   ]
  },
  {
   "cell_type": "code",
   "execution_count": 75,
   "metadata": {
    "collapsed": true
   },
   "outputs": [],
   "source": [
    "left = pd.DataFrame({'key': ['foo', 'foo'], 'lval': [1, 2]})"
   ]
  },
  {
   "cell_type": "code",
   "execution_count": 76,
   "metadata": {
    "collapsed": true
   },
   "outputs": [],
   "source": [
    "right = pd.DataFrame({'key': ['foo', 'foo'], 'rval': [4, 5]})"
   ]
  },
  {
   "cell_type": "code",
   "execution_count": 77,
   "metadata": {
    "collapsed": false
   },
   "outputs": [
    {
     "data": {
      "text/html": [
       "<div>\n",
       "<table border=\"1\" class=\"dataframe\">\n",
       "  <thead>\n",
       "    <tr style=\"text-align: right;\">\n",
       "      <th></th>\n",
       "      <th>key</th>\n",
       "      <th>lval</th>\n",
       "    </tr>\n",
       "  </thead>\n",
       "  <tbody>\n",
       "    <tr>\n",
       "      <th>0</th>\n",
       "      <td>foo</td>\n",
       "      <td>1</td>\n",
       "    </tr>\n",
       "    <tr>\n",
       "      <th>1</th>\n",
       "      <td>foo</td>\n",
       "      <td>2</td>\n",
       "    </tr>\n",
       "  </tbody>\n",
       "</table>\n",
       "</div>"
      ],
      "text/plain": [
       "   key  lval\n",
       "0  foo     1\n",
       "1  foo     2"
      ]
     },
     "execution_count": 77,
     "metadata": {},
     "output_type": "execute_result"
    }
   ],
   "source": [
    "left"
   ]
  },
  {
   "cell_type": "code",
   "execution_count": 78,
   "metadata": {
    "collapsed": false
   },
   "outputs": [
    {
     "data": {
      "text/html": [
       "<div>\n",
       "<table border=\"1\" class=\"dataframe\">\n",
       "  <thead>\n",
       "    <tr style=\"text-align: right;\">\n",
       "      <th></th>\n",
       "      <th>key</th>\n",
       "      <th>rval</th>\n",
       "    </tr>\n",
       "  </thead>\n",
       "  <tbody>\n",
       "    <tr>\n",
       "      <th>0</th>\n",
       "      <td>foo</td>\n",
       "      <td>4</td>\n",
       "    </tr>\n",
       "    <tr>\n",
       "      <th>1</th>\n",
       "      <td>foo</td>\n",
       "      <td>5</td>\n",
       "    </tr>\n",
       "  </tbody>\n",
       "</table>\n",
       "</div>"
      ],
      "text/plain": [
       "   key  rval\n",
       "0  foo     4\n",
       "1  foo     5"
      ]
     },
     "execution_count": 78,
     "metadata": {},
     "output_type": "execute_result"
    }
   ],
   "source": [
    "right"
   ]
  },
  {
   "cell_type": "code",
   "execution_count": 79,
   "metadata": {
    "collapsed": false
   },
   "outputs": [
    {
     "data": {
      "text/html": [
       "<div>\n",
       "<table border=\"1\" class=\"dataframe\">\n",
       "  <thead>\n",
       "    <tr style=\"text-align: right;\">\n",
       "      <th></th>\n",
       "      <th>key</th>\n",
       "      <th>lval</th>\n",
       "      <th>rval</th>\n",
       "    </tr>\n",
       "  </thead>\n",
       "  <tbody>\n",
       "    <tr>\n",
       "      <th>0</th>\n",
       "      <td>foo</td>\n",
       "      <td>1</td>\n",
       "      <td>4</td>\n",
       "    </tr>\n",
       "    <tr>\n",
       "      <th>1</th>\n",
       "      <td>foo</td>\n",
       "      <td>1</td>\n",
       "      <td>5</td>\n",
       "    </tr>\n",
       "    <tr>\n",
       "      <th>2</th>\n",
       "      <td>foo</td>\n",
       "      <td>2</td>\n",
       "      <td>4</td>\n",
       "    </tr>\n",
       "    <tr>\n",
       "      <th>3</th>\n",
       "      <td>foo</td>\n",
       "      <td>2</td>\n",
       "      <td>5</td>\n",
       "    </tr>\n",
       "  </tbody>\n",
       "</table>\n",
       "</div>"
      ],
      "text/plain": [
       "   key  lval  rval\n",
       "0  foo     1     4\n",
       "1  foo     1     5\n",
       "2  foo     2     4\n",
       "3  foo     2     5"
      ]
     },
     "execution_count": 79,
     "metadata": {},
     "output_type": "execute_result"
    }
   ],
   "source": [
    "pd.merge(left, right, on='key')"
   ]
  },
  {
   "cell_type": "markdown",
   "metadata": {},
   "source": [
    "### Append\n",
    "\n",
    "Append rows to a dataframe. See the [Appending](http://pandas.pydata.org/pandas-docs/stable/merging.html#merging-concatenation)"
   ]
  },
  {
   "cell_type": "code",
   "execution_count": 80,
   "metadata": {
    "collapsed": false
   },
   "outputs": [],
   "source": [
    "df = pd.DataFrame(np.random.randn(8, 4), columns=['A','B','C','D'])"
   ]
  },
  {
   "cell_type": "code",
   "execution_count": 81,
   "metadata": {
    "collapsed": false
   },
   "outputs": [
    {
     "data": {
      "text/html": [
       "<div>\n",
       "<table border=\"1\" class=\"dataframe\">\n",
       "  <thead>\n",
       "    <tr style=\"text-align: right;\">\n",
       "      <th></th>\n",
       "      <th>A</th>\n",
       "      <th>B</th>\n",
       "      <th>C</th>\n",
       "      <th>D</th>\n",
       "    </tr>\n",
       "  </thead>\n",
       "  <tbody>\n",
       "    <tr>\n",
       "      <th>0</th>\n",
       "      <td>-0.512297</td>\n",
       "      <td>0.206320</td>\n",
       "      <td>0.806578</td>\n",
       "      <td>-1.023023</td>\n",
       "    </tr>\n",
       "    <tr>\n",
       "      <th>1</th>\n",
       "      <td>0.667535</td>\n",
       "      <td>0.552143</td>\n",
       "      <td>-0.956896</td>\n",
       "      <td>-0.447428</td>\n",
       "    </tr>\n",
       "    <tr>\n",
       "      <th>2</th>\n",
       "      <td>1.365881</td>\n",
       "      <td>0.308602</td>\n",
       "      <td>0.710462</td>\n",
       "      <td>-0.475598</td>\n",
       "    </tr>\n",
       "    <tr>\n",
       "      <th>3</th>\n",
       "      <td>0.496544</td>\n",
       "      <td>-0.215146</td>\n",
       "      <td>0.678528</td>\n",
       "      <td>-0.222261</td>\n",
       "    </tr>\n",
       "    <tr>\n",
       "      <th>4</th>\n",
       "      <td>-0.646788</td>\n",
       "      <td>0.065329</td>\n",
       "      <td>-1.191621</td>\n",
       "      <td>-0.348686</td>\n",
       "    </tr>\n",
       "    <tr>\n",
       "      <th>5</th>\n",
       "      <td>-1.228013</td>\n",
       "      <td>0.866045</td>\n",
       "      <td>-0.555290</td>\n",
       "      <td>1.709495</td>\n",
       "    </tr>\n",
       "    <tr>\n",
       "      <th>6</th>\n",
       "      <td>-0.284006</td>\n",
       "      <td>-1.252317</td>\n",
       "      <td>0.994436</td>\n",
       "      <td>1.883158</td>\n",
       "    </tr>\n",
       "    <tr>\n",
       "      <th>7</th>\n",
       "      <td>-0.980527</td>\n",
       "      <td>1.249698</td>\n",
       "      <td>0.268433</td>\n",
       "      <td>-0.926866</td>\n",
       "    </tr>\n",
       "  </tbody>\n",
       "</table>\n",
       "</div>"
      ],
      "text/plain": [
       "          A         B         C         D\n",
       "0 -0.512297  0.206320  0.806578 -1.023023\n",
       "1  0.667535  0.552143 -0.956896 -0.447428\n",
       "2  1.365881  0.308602  0.710462 -0.475598\n",
       "3  0.496544 -0.215146  0.678528 -0.222261\n",
       "4 -0.646788  0.065329 -1.191621 -0.348686\n",
       "5 -1.228013  0.866045 -0.555290  1.709495\n",
       "6 -0.284006 -1.252317  0.994436  1.883158\n",
       "7 -0.980527  1.249698  0.268433 -0.926866"
      ]
     },
     "execution_count": 81,
     "metadata": {},
     "output_type": "execute_result"
    }
   ],
   "source": [
    "df"
   ]
  },
  {
   "cell_type": "code",
   "execution_count": 82,
   "metadata": {
    "collapsed": false
   },
   "outputs": [],
   "source": [
    "s = df.iloc[3]"
   ]
  },
  {
   "cell_type": "code",
   "execution_count": 83,
   "metadata": {
    "collapsed": false
   },
   "outputs": [
    {
     "data": {
      "text/html": [
       "<div>\n",
       "<table border=\"1\" class=\"dataframe\">\n",
       "  <thead>\n",
       "    <tr style=\"text-align: right;\">\n",
       "      <th></th>\n",
       "      <th>A</th>\n",
       "      <th>B</th>\n",
       "      <th>C</th>\n",
       "      <th>D</th>\n",
       "    </tr>\n",
       "  </thead>\n",
       "  <tbody>\n",
       "    <tr>\n",
       "      <th>0</th>\n",
       "      <td>-0.512297</td>\n",
       "      <td>0.206320</td>\n",
       "      <td>0.806578</td>\n",
       "      <td>-1.023023</td>\n",
       "    </tr>\n",
       "    <tr>\n",
       "      <th>1</th>\n",
       "      <td>0.667535</td>\n",
       "      <td>0.552143</td>\n",
       "      <td>-0.956896</td>\n",
       "      <td>-0.447428</td>\n",
       "    </tr>\n",
       "    <tr>\n",
       "      <th>2</th>\n",
       "      <td>1.365881</td>\n",
       "      <td>0.308602</td>\n",
       "      <td>0.710462</td>\n",
       "      <td>-0.475598</td>\n",
       "    </tr>\n",
       "    <tr>\n",
       "      <th>3</th>\n",
       "      <td>0.496544</td>\n",
       "      <td>-0.215146</td>\n",
       "      <td>0.678528</td>\n",
       "      <td>-0.222261</td>\n",
       "    </tr>\n",
       "    <tr>\n",
       "      <th>4</th>\n",
       "      <td>-0.646788</td>\n",
       "      <td>0.065329</td>\n",
       "      <td>-1.191621</td>\n",
       "      <td>-0.348686</td>\n",
       "    </tr>\n",
       "    <tr>\n",
       "      <th>5</th>\n",
       "      <td>-1.228013</td>\n",
       "      <td>0.866045</td>\n",
       "      <td>-0.555290</td>\n",
       "      <td>1.709495</td>\n",
       "    </tr>\n",
       "    <tr>\n",
       "      <th>6</th>\n",
       "      <td>-0.284006</td>\n",
       "      <td>-1.252317</td>\n",
       "      <td>0.994436</td>\n",
       "      <td>1.883158</td>\n",
       "    </tr>\n",
       "    <tr>\n",
       "      <th>7</th>\n",
       "      <td>-0.980527</td>\n",
       "      <td>1.249698</td>\n",
       "      <td>0.268433</td>\n",
       "      <td>-0.926866</td>\n",
       "    </tr>\n",
       "    <tr>\n",
       "      <th>8</th>\n",
       "      <td>0.496544</td>\n",
       "      <td>-0.215146</td>\n",
       "      <td>0.678528</td>\n",
       "      <td>-0.222261</td>\n",
       "    </tr>\n",
       "  </tbody>\n",
       "</table>\n",
       "</div>"
      ],
      "text/plain": [
       "          A         B         C         D\n",
       "0 -0.512297  0.206320  0.806578 -1.023023\n",
       "1  0.667535  0.552143 -0.956896 -0.447428\n",
       "2  1.365881  0.308602  0.710462 -0.475598\n",
       "3  0.496544 -0.215146  0.678528 -0.222261\n",
       "4 -0.646788  0.065329 -1.191621 -0.348686\n",
       "5 -1.228013  0.866045 -0.555290  1.709495\n",
       "6 -0.284006 -1.252317  0.994436  1.883158\n",
       "7 -0.980527  1.249698  0.268433 -0.926866\n",
       "8  0.496544 -0.215146  0.678528 -0.222261"
      ]
     },
     "execution_count": 83,
     "metadata": {},
     "output_type": "execute_result"
    }
   ],
   "source": [
    "df.append(s, ignore_index=True)"
   ]
  },
  {
   "cell_type": "markdown",
   "metadata": {},
   "source": [
    "## Grouping\n",
    "\n",
    "By “group by” we are referring to a process involving one or more of the following steps\n",
    "\n",
    "* **Splitting** the data into groups based on some criteria\n",
    "* **Applying** a function to each group independently\n",
    "* **Combining** the results into a data structure\n",
    "\n",
    "See the [Grouping section](http://pandas.pydata.org/pandas-docs/stable/groupby.html#groupby)"
   ]
  },
  {
   "cell_type": "code",
   "execution_count": 84,
   "metadata": {
    "collapsed": false
   },
   "outputs": [],
   "source": [
    "df = pd.DataFrame({'A' : ['foo', 'bar', 'foo', 'bar', 'foo', 'bar', 'foo', 'foo'],\n",
    "                                    'B' : ['one', 'one', 'two', 'three','two', 'two', 'one', 'three'],\n",
    "                                    'C' : np.random.randn(8),\n",
    "                                     'D' : np.random.randn(8)})"
   ]
  },
  {
   "cell_type": "code",
   "execution_count": 85,
   "metadata": {
    "collapsed": false
   },
   "outputs": [
    {
     "data": {
      "text/html": [
       "<div>\n",
       "<table border=\"1\" class=\"dataframe\">\n",
       "  <thead>\n",
       "    <tr style=\"text-align: right;\">\n",
       "      <th></th>\n",
       "      <th>A</th>\n",
       "      <th>B</th>\n",
       "      <th>C</th>\n",
       "      <th>D</th>\n",
       "    </tr>\n",
       "  </thead>\n",
       "  <tbody>\n",
       "    <tr>\n",
       "      <th>0</th>\n",
       "      <td>foo</td>\n",
       "      <td>one</td>\n",
       "      <td>-0.511975</td>\n",
       "      <td>0.127436</td>\n",
       "    </tr>\n",
       "    <tr>\n",
       "      <th>1</th>\n",
       "      <td>bar</td>\n",
       "      <td>one</td>\n",
       "      <td>1.065510</td>\n",
       "      <td>0.648988</td>\n",
       "    </tr>\n",
       "    <tr>\n",
       "      <th>2</th>\n",
       "      <td>foo</td>\n",
       "      <td>two</td>\n",
       "      <td>1.363103</td>\n",
       "      <td>0.565078</td>\n",
       "    </tr>\n",
       "    <tr>\n",
       "      <th>3</th>\n",
       "      <td>bar</td>\n",
       "      <td>three</td>\n",
       "      <td>1.663853</td>\n",
       "      <td>0.672468</td>\n",
       "    </tr>\n",
       "    <tr>\n",
       "      <th>4</th>\n",
       "      <td>foo</td>\n",
       "      <td>two</td>\n",
       "      <td>-1.500158</td>\n",
       "      <td>-1.056229</td>\n",
       "    </tr>\n",
       "    <tr>\n",
       "      <th>5</th>\n",
       "      <td>bar</td>\n",
       "      <td>two</td>\n",
       "      <td>0.289049</td>\n",
       "      <td>-0.736059</td>\n",
       "    </tr>\n",
       "    <tr>\n",
       "      <th>6</th>\n",
       "      <td>foo</td>\n",
       "      <td>one</td>\n",
       "      <td>0.738343</td>\n",
       "      <td>0.417824</td>\n",
       "    </tr>\n",
       "    <tr>\n",
       "      <th>7</th>\n",
       "      <td>foo</td>\n",
       "      <td>three</td>\n",
       "      <td>0.373007</td>\n",
       "      <td>-0.744985</td>\n",
       "    </tr>\n",
       "  </tbody>\n",
       "</table>\n",
       "</div>"
      ],
      "text/plain": [
       "     A      B         C         D\n",
       "0  foo    one -0.511975  0.127436\n",
       "1  bar    one  1.065510  0.648988\n",
       "2  foo    two  1.363103  0.565078\n",
       "3  bar  three  1.663853  0.672468\n",
       "4  foo    two -1.500158 -1.056229\n",
       "5  bar    two  0.289049 -0.736059\n",
       "6  foo    one  0.738343  0.417824\n",
       "7  foo  three  0.373007 -0.744985"
      ]
     },
     "execution_count": 85,
     "metadata": {},
     "output_type": "execute_result"
    }
   ],
   "source": [
    "df"
   ]
  },
  {
   "cell_type": "markdown",
   "metadata": {},
   "source": [
    "Grouping and then applying a function sum to the resulting groups."
   ]
  },
  {
   "cell_type": "code",
   "execution_count": 86,
   "metadata": {
    "collapsed": false
   },
   "outputs": [
    {
     "data": {
      "text/html": [
       "<div>\n",
       "<table border=\"1\" class=\"dataframe\">\n",
       "  <thead>\n",
       "    <tr style=\"text-align: right;\">\n",
       "      <th></th>\n",
       "      <th>C</th>\n",
       "      <th>D</th>\n",
       "    </tr>\n",
       "    <tr>\n",
       "      <th>A</th>\n",
       "      <th></th>\n",
       "      <th></th>\n",
       "    </tr>\n",
       "  </thead>\n",
       "  <tbody>\n",
       "    <tr>\n",
       "      <th>bar</th>\n",
       "      <td>3.018412</td>\n",
       "      <td>0.585397</td>\n",
       "    </tr>\n",
       "    <tr>\n",
       "      <th>foo</th>\n",
       "      <td>0.462319</td>\n",
       "      <td>-0.690875</td>\n",
       "    </tr>\n",
       "  </tbody>\n",
       "</table>\n",
       "</div>"
      ],
      "text/plain": [
       "            C         D\n",
       "A                      \n",
       "bar  3.018412  0.585397\n",
       "foo  0.462319 -0.690875"
      ]
     },
     "execution_count": 86,
     "metadata": {},
     "output_type": "execute_result"
    }
   ],
   "source": [
    "df.groupby('A').sum()"
   ]
  },
  {
   "cell_type": "code",
   "execution_count": 87,
   "metadata": {
    "collapsed": false
   },
   "outputs": [
    {
     "data": {
      "text/html": [
       "<div>\n",
       "<table border=\"1\" class=\"dataframe\">\n",
       "  <thead>\n",
       "    <tr style=\"text-align: right;\">\n",
       "      <th></th>\n",
       "      <th></th>\n",
       "      <th>C</th>\n",
       "      <th>D</th>\n",
       "    </tr>\n",
       "    <tr>\n",
       "      <th>A</th>\n",
       "      <th>B</th>\n",
       "      <th></th>\n",
       "      <th></th>\n",
       "    </tr>\n",
       "  </thead>\n",
       "  <tbody>\n",
       "    <tr>\n",
       "      <th rowspan=\"3\" valign=\"top\">bar</th>\n",
       "      <th>one</th>\n",
       "      <td>1.065510</td>\n",
       "      <td>0.648988</td>\n",
       "    </tr>\n",
       "    <tr>\n",
       "      <th>three</th>\n",
       "      <td>1.663853</td>\n",
       "      <td>0.672468</td>\n",
       "    </tr>\n",
       "    <tr>\n",
       "      <th>two</th>\n",
       "      <td>0.289049</td>\n",
       "      <td>-0.736059</td>\n",
       "    </tr>\n",
       "    <tr>\n",
       "      <th rowspan=\"3\" valign=\"top\">foo</th>\n",
       "      <th>one</th>\n",
       "      <td>0.226368</td>\n",
       "      <td>0.545260</td>\n",
       "    </tr>\n",
       "    <tr>\n",
       "      <th>three</th>\n",
       "      <td>0.373007</td>\n",
       "      <td>-0.744985</td>\n",
       "    </tr>\n",
       "    <tr>\n",
       "      <th>two</th>\n",
       "      <td>-0.137056</td>\n",
       "      <td>-0.491150</td>\n",
       "    </tr>\n",
       "  </tbody>\n",
       "</table>\n",
       "</div>"
      ],
      "text/plain": [
       "                  C         D\n",
       "A   B                        \n",
       "bar one    1.065510  0.648988\n",
       "    three  1.663853  0.672468\n",
       "    two    0.289049 -0.736059\n",
       "foo one    0.226368  0.545260\n",
       "    three  0.373007 -0.744985\n",
       "    two   -0.137056 -0.491150"
      ]
     },
     "execution_count": 87,
     "metadata": {},
     "output_type": "execute_result"
    }
   ],
   "source": [
    "df.groupby(['A','B']).sum()"
   ]
  },
  {
   "cell_type": "markdown",
   "metadata": {},
   "source": [
    "## Reshaping\n",
    "\n",
    "See the sections on [Hierarchical Indexing](http://pandas.pydata.org/pandas-docs/stable/advanced.html#advanced-hierarchical) and [Reshaping](http://pandas.pydata.org/pandas-docs/stable/reshaping.html#reshaping-stacking)."
   ]
  },
  {
   "cell_type": "markdown",
   "metadata": {},
   "source": [
    "### Stack"
   ]
  },
  {
   "cell_type": "code",
   "execution_count": 88,
   "metadata": {
    "collapsed": false
   },
   "outputs": [],
   "source": [
    "tuples = list(zip(*[['bar', 'bar', 'baz', 'baz', 'foo', 'foo', 'qux', 'qux'],\n",
    "                                ['one', 'two', 'one', 'two', 'one', 'two', 'one', 'two']]))"
   ]
  },
  {
   "cell_type": "code",
   "execution_count": 89,
   "metadata": {
    "collapsed": true
   },
   "outputs": [],
   "source": [
    "index = pd.MultiIndex.from_tuples(tuples, names=['first', 'second'])"
   ]
  },
  {
   "cell_type": "code",
   "execution_count": 90,
   "metadata": {
    "collapsed": true
   },
   "outputs": [],
   "source": [
    "df = pd.DataFrame(np.random.randn(8, 2), index=index, columns=['A', 'B'])"
   ]
  },
  {
   "cell_type": "code",
   "execution_count": 91,
   "metadata": {
    "collapsed": true
   },
   "outputs": [],
   "source": [
    "df2 = df[:4]"
   ]
  },
  {
   "cell_type": "code",
   "execution_count": 92,
   "metadata": {
    "collapsed": false
   },
   "outputs": [
    {
     "data": {
      "text/html": [
       "<div>\n",
       "<table border=\"1\" class=\"dataframe\">\n",
       "  <thead>\n",
       "    <tr style=\"text-align: right;\">\n",
       "      <th></th>\n",
       "      <th></th>\n",
       "      <th>A</th>\n",
       "      <th>B</th>\n",
       "    </tr>\n",
       "    <tr>\n",
       "      <th>first</th>\n",
       "      <th>second</th>\n",
       "      <th></th>\n",
       "      <th></th>\n",
       "    </tr>\n",
       "  </thead>\n",
       "  <tbody>\n",
       "    <tr>\n",
       "      <th rowspan=\"2\" valign=\"top\">bar</th>\n",
       "      <th>one</th>\n",
       "      <td>-0.509132</td>\n",
       "      <td>-1.047747</td>\n",
       "    </tr>\n",
       "    <tr>\n",
       "      <th>two</th>\n",
       "      <td>-0.738164</td>\n",
       "      <td>-0.161886</td>\n",
       "    </tr>\n",
       "    <tr>\n",
       "      <th rowspan=\"2\" valign=\"top\">baz</th>\n",
       "      <th>one</th>\n",
       "      <td>-1.522663</td>\n",
       "      <td>-0.572879</td>\n",
       "    </tr>\n",
       "    <tr>\n",
       "      <th>two</th>\n",
       "      <td>2.650861</td>\n",
       "      <td>-0.248318</td>\n",
       "    </tr>\n",
       "  </tbody>\n",
       "</table>\n",
       "</div>"
      ],
      "text/plain": [
       "                     A         B\n",
       "first second                    \n",
       "bar   one    -0.509132 -1.047747\n",
       "      two    -0.738164 -0.161886\n",
       "baz   one    -1.522663 -0.572879\n",
       "      two     2.650861 -0.248318"
      ]
     },
     "execution_count": 92,
     "metadata": {},
     "output_type": "execute_result"
    }
   ],
   "source": [
    "df2"
   ]
  },
  {
   "cell_type": "markdown",
   "metadata": {},
   "source": [
    "The stack() method “compresses” a level in the DataFrame’s columns."
   ]
  },
  {
   "cell_type": "code",
   "execution_count": 93,
   "metadata": {
    "collapsed": true
   },
   "outputs": [],
   "source": [
    "stacked = df2.stack()"
   ]
  },
  {
   "cell_type": "code",
   "execution_count": 94,
   "metadata": {
    "collapsed": false
   },
   "outputs": [
    {
     "data": {
      "text/plain": [
       "first  second   \n",
       "bar    one     A   -0.509132\n",
       "               B   -1.047747\n",
       "       two     A   -0.738164\n",
       "               B   -0.161886\n",
       "baz    one     A   -1.522663\n",
       "               B   -0.572879\n",
       "       two     A    2.650861\n",
       "               B   -0.248318\n",
       "dtype: float64"
      ]
     },
     "execution_count": 94,
     "metadata": {},
     "output_type": "execute_result"
    }
   ],
   "source": [
    "stacked"
   ]
  },
  {
   "cell_type": "markdown",
   "metadata": {},
   "source": [
    "With a “stacked” DataFrame or Series (having a MultiIndex as the index), the inverse operation of stack() is unstack(), which by default unstacks the **last level**:"
   ]
  },
  {
   "cell_type": "code",
   "execution_count": 95,
   "metadata": {
    "collapsed": false
   },
   "outputs": [
    {
     "data": {
      "text/html": [
       "<div>\n",
       "<table border=\"1\" class=\"dataframe\">\n",
       "  <thead>\n",
       "    <tr style=\"text-align: right;\">\n",
       "      <th></th>\n",
       "      <th></th>\n",
       "      <th>A</th>\n",
       "      <th>B</th>\n",
       "    </tr>\n",
       "    <tr>\n",
       "      <th>first</th>\n",
       "      <th>second</th>\n",
       "      <th></th>\n",
       "      <th></th>\n",
       "    </tr>\n",
       "  </thead>\n",
       "  <tbody>\n",
       "    <tr>\n",
       "      <th rowspan=\"2\" valign=\"top\">bar</th>\n",
       "      <th>one</th>\n",
       "      <td>-0.509132</td>\n",
       "      <td>-1.047747</td>\n",
       "    </tr>\n",
       "    <tr>\n",
       "      <th>two</th>\n",
       "      <td>-0.738164</td>\n",
       "      <td>-0.161886</td>\n",
       "    </tr>\n",
       "    <tr>\n",
       "      <th rowspan=\"2\" valign=\"top\">baz</th>\n",
       "      <th>one</th>\n",
       "      <td>-1.522663</td>\n",
       "      <td>-0.572879</td>\n",
       "    </tr>\n",
       "    <tr>\n",
       "      <th>two</th>\n",
       "      <td>2.650861</td>\n",
       "      <td>-0.248318</td>\n",
       "    </tr>\n",
       "  </tbody>\n",
       "</table>\n",
       "</div>"
      ],
      "text/plain": [
       "                     A         B\n",
       "first second                    \n",
       "bar   one    -0.509132 -1.047747\n",
       "      two    -0.738164 -0.161886\n",
       "baz   one    -1.522663 -0.572879\n",
       "      two     2.650861 -0.248318"
      ]
     },
     "execution_count": 95,
     "metadata": {},
     "output_type": "execute_result"
    }
   ],
   "source": [
    "stacked.unstack()"
   ]
  },
  {
   "cell_type": "code",
   "execution_count": 96,
   "metadata": {
    "collapsed": false
   },
   "outputs": [
    {
     "data": {
      "text/html": [
       "<div>\n",
       "<table border=\"1\" class=\"dataframe\">\n",
       "  <thead>\n",
       "    <tr style=\"text-align: right;\">\n",
       "      <th></th>\n",
       "      <th>second</th>\n",
       "      <th>one</th>\n",
       "      <th>two</th>\n",
       "    </tr>\n",
       "    <tr>\n",
       "      <th>first</th>\n",
       "      <th></th>\n",
       "      <th></th>\n",
       "      <th></th>\n",
       "    </tr>\n",
       "  </thead>\n",
       "  <tbody>\n",
       "    <tr>\n",
       "      <th rowspan=\"2\" valign=\"top\">bar</th>\n",
       "      <th>A</th>\n",
       "      <td>-0.509132</td>\n",
       "      <td>-0.738164</td>\n",
       "    </tr>\n",
       "    <tr>\n",
       "      <th>B</th>\n",
       "      <td>-1.047747</td>\n",
       "      <td>-0.161886</td>\n",
       "    </tr>\n",
       "    <tr>\n",
       "      <th rowspan=\"2\" valign=\"top\">baz</th>\n",
       "      <th>A</th>\n",
       "      <td>-1.522663</td>\n",
       "      <td>2.650861</td>\n",
       "    </tr>\n",
       "    <tr>\n",
       "      <th>B</th>\n",
       "      <td>-0.572879</td>\n",
       "      <td>-0.248318</td>\n",
       "    </tr>\n",
       "  </tbody>\n",
       "</table>\n",
       "</div>"
      ],
      "text/plain": [
       "second        one       two\n",
       "first                      \n",
       "bar   A -0.509132 -0.738164\n",
       "      B -1.047747 -0.161886\n",
       "baz   A -1.522663  2.650861\n",
       "      B -0.572879 -0.248318"
      ]
     },
     "execution_count": 96,
     "metadata": {},
     "output_type": "execute_result"
    }
   ],
   "source": [
    "stacked.unstack(1)"
   ]
  },
  {
   "cell_type": "code",
   "execution_count": 97,
   "metadata": {
    "collapsed": false
   },
   "outputs": [
    {
     "data": {
      "text/html": [
       "<div>\n",
       "<table border=\"1\" class=\"dataframe\">\n",
       "  <thead>\n",
       "    <tr style=\"text-align: right;\">\n",
       "      <th></th>\n",
       "      <th>first</th>\n",
       "      <th>bar</th>\n",
       "      <th>baz</th>\n",
       "    </tr>\n",
       "    <tr>\n",
       "      <th>second</th>\n",
       "      <th></th>\n",
       "      <th></th>\n",
       "      <th></th>\n",
       "    </tr>\n",
       "  </thead>\n",
       "  <tbody>\n",
       "    <tr>\n",
       "      <th rowspan=\"2\" valign=\"top\">one</th>\n",
       "      <th>A</th>\n",
       "      <td>-0.509132</td>\n",
       "      <td>-1.522663</td>\n",
       "    </tr>\n",
       "    <tr>\n",
       "      <th>B</th>\n",
       "      <td>-1.047747</td>\n",
       "      <td>-0.572879</td>\n",
       "    </tr>\n",
       "    <tr>\n",
       "      <th rowspan=\"2\" valign=\"top\">two</th>\n",
       "      <th>A</th>\n",
       "      <td>-0.738164</td>\n",
       "      <td>2.650861</td>\n",
       "    </tr>\n",
       "    <tr>\n",
       "      <th>B</th>\n",
       "      <td>-0.161886</td>\n",
       "      <td>-0.248318</td>\n",
       "    </tr>\n",
       "  </tbody>\n",
       "</table>\n",
       "</div>"
      ],
      "text/plain": [
       "first          bar       baz\n",
       "second                      \n",
       "one    A -0.509132 -1.522663\n",
       "       B -1.047747 -0.572879\n",
       "two    A -0.738164  2.650861\n",
       "       B -0.161886 -0.248318"
      ]
     },
     "execution_count": 97,
     "metadata": {},
     "output_type": "execute_result"
    }
   ],
   "source": [
    "stacked.unstack(0)"
   ]
  },
  {
   "cell_type": "markdown",
   "metadata": {},
   "source": [
    "### Pivot Tables\n",
    "\n",
    "See the section on [Pivot Tables](http://pandas.pydata.org/pandas-docs/stable/reshaping.html#reshaping-pivot)."
   ]
  },
  {
   "cell_type": "code",
   "execution_count": 98,
   "metadata": {
    "collapsed": true
   },
   "outputs": [],
   "source": [
    "df = pd.DataFrame({'A' : ['one', 'one', 'two', 'three'] * 3,\n",
    "                                    'B' : ['A', 'B', 'C'] * 4,\n",
    "                                    'C' : ['foo', 'foo', 'foo', 'bar', 'bar', 'bar'] * 2,\n",
    "                                    'D' : np.random.randn(12),\n",
    "                                    'E' : np.random.randn(12)})"
   ]
  },
  {
   "cell_type": "code",
   "execution_count": 99,
   "metadata": {
    "collapsed": false
   },
   "outputs": [
    {
     "data": {
      "text/html": [
       "<div>\n",
       "<table border=\"1\" class=\"dataframe\">\n",
       "  <thead>\n",
       "    <tr style=\"text-align: right;\">\n",
       "      <th></th>\n",
       "      <th>A</th>\n",
       "      <th>B</th>\n",
       "      <th>C</th>\n",
       "      <th>D</th>\n",
       "      <th>E</th>\n",
       "    </tr>\n",
       "  </thead>\n",
       "  <tbody>\n",
       "    <tr>\n",
       "      <th>0</th>\n",
       "      <td>one</td>\n",
       "      <td>A</td>\n",
       "      <td>foo</td>\n",
       "      <td>0.609099</td>\n",
       "      <td>0.860723</td>\n",
       "    </tr>\n",
       "    <tr>\n",
       "      <th>1</th>\n",
       "      <td>one</td>\n",
       "      <td>B</td>\n",
       "      <td>foo</td>\n",
       "      <td>-0.565647</td>\n",
       "      <td>-0.529125</td>\n",
       "    </tr>\n",
       "    <tr>\n",
       "      <th>2</th>\n",
       "      <td>two</td>\n",
       "      <td>C</td>\n",
       "      <td>foo</td>\n",
       "      <td>0.405552</td>\n",
       "      <td>-0.469248</td>\n",
       "    </tr>\n",
       "    <tr>\n",
       "      <th>3</th>\n",
       "      <td>three</td>\n",
       "      <td>A</td>\n",
       "      <td>bar</td>\n",
       "      <td>0.486600</td>\n",
       "      <td>-0.434941</td>\n",
       "    </tr>\n",
       "    <tr>\n",
       "      <th>4</th>\n",
       "      <td>one</td>\n",
       "      <td>B</td>\n",
       "      <td>bar</td>\n",
       "      <td>0.357269</td>\n",
       "      <td>1.063793</td>\n",
       "    </tr>\n",
       "    <tr>\n",
       "      <th>5</th>\n",
       "      <td>one</td>\n",
       "      <td>C</td>\n",
       "      <td>bar</td>\n",
       "      <td>0.015696</td>\n",
       "      <td>2.033839</td>\n",
       "    </tr>\n",
       "    <tr>\n",
       "      <th>6</th>\n",
       "      <td>two</td>\n",
       "      <td>A</td>\n",
       "      <td>foo</td>\n",
       "      <td>0.143828</td>\n",
       "      <td>0.250495</td>\n",
       "    </tr>\n",
       "    <tr>\n",
       "      <th>7</th>\n",
       "      <td>three</td>\n",
       "      <td>B</td>\n",
       "      <td>foo</td>\n",
       "      <td>-0.290815</td>\n",
       "      <td>1.228481</td>\n",
       "    </tr>\n",
       "    <tr>\n",
       "      <th>8</th>\n",
       "      <td>one</td>\n",
       "      <td>C</td>\n",
       "      <td>foo</td>\n",
       "      <td>2.717677</td>\n",
       "      <td>0.147774</td>\n",
       "    </tr>\n",
       "    <tr>\n",
       "      <th>9</th>\n",
       "      <td>one</td>\n",
       "      <td>A</td>\n",
       "      <td>bar</td>\n",
       "      <td>-0.894453</td>\n",
       "      <td>0.370378</td>\n",
       "    </tr>\n",
       "    <tr>\n",
       "      <th>10</th>\n",
       "      <td>two</td>\n",
       "      <td>B</td>\n",
       "      <td>bar</td>\n",
       "      <td>-0.891609</td>\n",
       "      <td>2.113584</td>\n",
       "    </tr>\n",
       "    <tr>\n",
       "      <th>11</th>\n",
       "      <td>three</td>\n",
       "      <td>C</td>\n",
       "      <td>bar</td>\n",
       "      <td>0.212073</td>\n",
       "      <td>-0.598682</td>\n",
       "    </tr>\n",
       "  </tbody>\n",
       "</table>\n",
       "</div>"
      ],
      "text/plain": [
       "        A  B    C         D         E\n",
       "0     one  A  foo  0.609099  0.860723\n",
       "1     one  B  foo -0.565647 -0.529125\n",
       "2     two  C  foo  0.405552 -0.469248\n",
       "3   three  A  bar  0.486600 -0.434941\n",
       "4     one  B  bar  0.357269  1.063793\n",
       "5     one  C  bar  0.015696  2.033839\n",
       "6     two  A  foo  0.143828  0.250495\n",
       "7   three  B  foo -0.290815  1.228481\n",
       "8     one  C  foo  2.717677  0.147774\n",
       "9     one  A  bar -0.894453  0.370378\n",
       "10    two  B  bar -0.891609  2.113584\n",
       "11  three  C  bar  0.212073 -0.598682"
      ]
     },
     "execution_count": 99,
     "metadata": {},
     "output_type": "execute_result"
    }
   ],
   "source": [
    "df"
   ]
  },
  {
   "cell_type": "markdown",
   "metadata": {},
   "source": [
    "We can produce pivot tables from this data very easily:"
   ]
  },
  {
   "cell_type": "code",
   "execution_count": 100,
   "metadata": {
    "collapsed": false
   },
   "outputs": [
    {
     "data": {
      "text/html": [
       "<div>\n",
       "<table border=\"1\" class=\"dataframe\">\n",
       "  <thead>\n",
       "    <tr style=\"text-align: right;\">\n",
       "      <th></th>\n",
       "      <th>C</th>\n",
       "      <th>bar</th>\n",
       "      <th>foo</th>\n",
       "    </tr>\n",
       "    <tr>\n",
       "      <th>A</th>\n",
       "      <th>B</th>\n",
       "      <th></th>\n",
       "      <th></th>\n",
       "    </tr>\n",
       "  </thead>\n",
       "  <tbody>\n",
       "    <tr>\n",
       "      <th rowspan=\"3\" valign=\"top\">one</th>\n",
       "      <th>A</th>\n",
       "      <td>-0.894453</td>\n",
       "      <td>0.609099</td>\n",
       "    </tr>\n",
       "    <tr>\n",
       "      <th>B</th>\n",
       "      <td>0.357269</td>\n",
       "      <td>-0.565647</td>\n",
       "    </tr>\n",
       "    <tr>\n",
       "      <th>C</th>\n",
       "      <td>0.015696</td>\n",
       "      <td>2.717677</td>\n",
       "    </tr>\n",
       "    <tr>\n",
       "      <th rowspan=\"3\" valign=\"top\">three</th>\n",
       "      <th>A</th>\n",
       "      <td>0.486600</td>\n",
       "      <td>NaN</td>\n",
       "    </tr>\n",
       "    <tr>\n",
       "      <th>B</th>\n",
       "      <td>NaN</td>\n",
       "      <td>-0.290815</td>\n",
       "    </tr>\n",
       "    <tr>\n",
       "      <th>C</th>\n",
       "      <td>0.212073</td>\n",
       "      <td>NaN</td>\n",
       "    </tr>\n",
       "    <tr>\n",
       "      <th rowspan=\"3\" valign=\"top\">two</th>\n",
       "      <th>A</th>\n",
       "      <td>NaN</td>\n",
       "      <td>0.143828</td>\n",
       "    </tr>\n",
       "    <tr>\n",
       "      <th>B</th>\n",
       "      <td>-0.891609</td>\n",
       "      <td>NaN</td>\n",
       "    </tr>\n",
       "    <tr>\n",
       "      <th>C</th>\n",
       "      <td>NaN</td>\n",
       "      <td>0.405552</td>\n",
       "    </tr>\n",
       "  </tbody>\n",
       "</table>\n",
       "</div>"
      ],
      "text/plain": [
       "C             bar       foo\n",
       "A     B                    \n",
       "one   A -0.894453  0.609099\n",
       "      B  0.357269 -0.565647\n",
       "      C  0.015696  2.717677\n",
       "three A  0.486600       NaN\n",
       "      B       NaN -0.290815\n",
       "      C  0.212073       NaN\n",
       "two   A       NaN  0.143828\n",
       "      B -0.891609       NaN\n",
       "      C       NaN  0.405552"
      ]
     },
     "execution_count": 100,
     "metadata": {},
     "output_type": "execute_result"
    }
   ],
   "source": [
    "pd.pivot_table(df, values='D', index=['A', 'B'], columns=['C'])"
   ]
  },
  {
   "cell_type": "markdown",
   "metadata": {},
   "source": [
    "## Time Series\n",
    "\n",
    "pandas has simple, powerful, and efficient functionality for performing resampling operations during frequency conversion (e.g., converting secondly data into 5-minutely data). This is extremely common in, but not limited to, financial applications. See the [Time Series section](http://pandas.pydata.org/pandas-docs/stable/timeseries.html#timeseries)"
   ]
  },
  {
   "cell_type": "code",
   "execution_count": 101,
   "metadata": {
    "collapsed": true
   },
   "outputs": [],
   "source": [
    "rng = pd.date_range('1/1/2012', periods=100, freq='S')"
   ]
  },
  {
   "cell_type": "code",
   "execution_count": 102,
   "metadata": {
    "collapsed": true
   },
   "outputs": [],
   "source": [
    "ts = pd.Series(np.random.randint(0, 500, len(rng)), index=rng)"
   ]
  },
  {
   "cell_type": "code",
   "execution_count": 103,
   "metadata": {
    "collapsed": false
   },
   "outputs": [
    {
     "data": {
      "text/plain": [
       "2012-01-01    25031\n",
       "Freq: 5T, dtype: int64"
      ]
     },
     "execution_count": 103,
     "metadata": {},
     "output_type": "execute_result"
    }
   ],
   "source": [
    "ts.resample('5Min').sum()"
   ]
  },
  {
   "cell_type": "markdown",
   "metadata": {},
   "source": [
    "Time zone representation"
   ]
  },
  {
   "cell_type": "code",
   "execution_count": 104,
   "metadata": {
    "collapsed": true
   },
   "outputs": [],
   "source": [
    "rng = pd.date_range('3/6/2012 00:00', periods=5, freq='D')"
   ]
  },
  {
   "cell_type": "code",
   "execution_count": 105,
   "metadata": {
    "collapsed": true
   },
   "outputs": [],
   "source": [
    "ts = pd.Series(np.random.randn(len(rng)), rng)"
   ]
  },
  {
   "cell_type": "code",
   "execution_count": 106,
   "metadata": {
    "collapsed": false
   },
   "outputs": [
    {
     "data": {
      "text/plain": [
       "2012-03-06    1.306330\n",
       "2012-03-07    0.217167\n",
       "2012-03-08   -0.781594\n",
       "2012-03-09   -1.642100\n",
       "2012-03-10    0.332460\n",
       "Freq: D, dtype: float64"
      ]
     },
     "execution_count": 106,
     "metadata": {},
     "output_type": "execute_result"
    }
   ],
   "source": [
    "ts"
   ]
  },
  {
   "cell_type": "code",
   "execution_count": 107,
   "metadata": {
    "collapsed": true
   },
   "outputs": [],
   "source": [
    "ts_utc = ts.tz_localize('UTC')"
   ]
  },
  {
   "cell_type": "code",
   "execution_count": 108,
   "metadata": {
    "collapsed": false
   },
   "outputs": [
    {
     "data": {
      "text/plain": [
       "2012-03-06 00:00:00+00:00    1.306330\n",
       "2012-03-07 00:00:00+00:00    0.217167\n",
       "2012-03-08 00:00:00+00:00   -0.781594\n",
       "2012-03-09 00:00:00+00:00   -1.642100\n",
       "2012-03-10 00:00:00+00:00    0.332460\n",
       "Freq: D, dtype: float64"
      ]
     },
     "execution_count": 108,
     "metadata": {},
     "output_type": "execute_result"
    }
   ],
   "source": [
    "ts_utc"
   ]
  },
  {
   "cell_type": "markdown",
   "metadata": {},
   "source": [
    "\n",
    "Convert to another time zone"
   ]
  },
  {
   "cell_type": "code",
   "execution_count": 109,
   "metadata": {
    "collapsed": false
   },
   "outputs": [
    {
     "data": {
      "text/plain": [
       "2012-03-05 19:00:00-05:00    1.306330\n",
       "2012-03-06 19:00:00-05:00    0.217167\n",
       "2012-03-07 19:00:00-05:00   -0.781594\n",
       "2012-03-08 19:00:00-05:00   -1.642100\n",
       "2012-03-09 19:00:00-05:00    0.332460\n",
       "Freq: D, dtype: float64"
      ]
     },
     "execution_count": 109,
     "metadata": {},
     "output_type": "execute_result"
    }
   ],
   "source": [
    "ts_utc.tz_convert('US/Eastern')"
   ]
  },
  {
   "cell_type": "markdown",
   "metadata": {},
   "source": [
    "\n",
    "Converting between time span representations"
   ]
  },
  {
   "cell_type": "code",
   "execution_count": 110,
   "metadata": {
    "collapsed": true
   },
   "outputs": [],
   "source": [
    "rng = pd.date_range('1/1/2012', periods=5, freq='M')"
   ]
  },
  {
   "cell_type": "code",
   "execution_count": 111,
   "metadata": {
    "collapsed": true
   },
   "outputs": [],
   "source": [
    "ts = pd.Series(np.random.randn(len(rng)), index=rng)"
   ]
  },
  {
   "cell_type": "code",
   "execution_count": 112,
   "metadata": {
    "collapsed": false
   },
   "outputs": [
    {
     "data": {
      "text/plain": [
       "2012-01-31   -0.096878\n",
       "2012-02-29   -1.470980\n",
       "2012-03-31   -0.199913\n",
       "2012-04-30   -0.145233\n",
       "2012-05-31    1.051845\n",
       "Freq: M, dtype: float64"
      ]
     },
     "execution_count": 112,
     "metadata": {},
     "output_type": "execute_result"
    }
   ],
   "source": [
    "ts"
   ]
  },
  {
   "cell_type": "code",
   "execution_count": 113,
   "metadata": {
    "collapsed": true
   },
   "outputs": [],
   "source": [
    "ps = ts.to_period()"
   ]
  },
  {
   "cell_type": "code",
   "execution_count": 114,
   "metadata": {
    "collapsed": false
   },
   "outputs": [
    {
     "data": {
      "text/plain": [
       "2012-01   -0.096878\n",
       "2012-02   -1.470980\n",
       "2012-03   -0.199913\n",
       "2012-04   -0.145233\n",
       "2012-05    1.051845\n",
       "Freq: M, dtype: float64"
      ]
     },
     "execution_count": 114,
     "metadata": {},
     "output_type": "execute_result"
    }
   ],
   "source": [
    "ps"
   ]
  },
  {
   "cell_type": "code",
   "execution_count": 115,
   "metadata": {
    "collapsed": false
   },
   "outputs": [
    {
     "data": {
      "text/plain": [
       "2012-01-01   -0.096878\n",
       "2012-02-01   -1.470980\n",
       "2012-03-01   -0.199913\n",
       "2012-04-01   -0.145233\n",
       "2012-05-01    1.051845\n",
       "Freq: MS, dtype: float64"
      ]
     },
     "execution_count": 115,
     "metadata": {},
     "output_type": "execute_result"
    }
   ],
   "source": [
    "ps.to_timestamp()"
   ]
  },
  {
   "cell_type": "markdown",
   "metadata": {},
   "source": [
    "Converting between period and timestamp enables some convenient arithmetic functions to be used. In the following example, we convert a quarterly frequency with year ending in November to 9am of the end of the month following the quarter end:"
   ]
  },
  {
   "cell_type": "code",
   "execution_count": 116,
   "metadata": {
    "collapsed": true
   },
   "outputs": [],
   "source": [
    "prng = pd.period_range('1990Q1', '2000Q4', freq='Q-NOV')"
   ]
  },
  {
   "cell_type": "code",
   "execution_count": 117,
   "metadata": {
    "collapsed": true
   },
   "outputs": [],
   "source": [
    "ts = pd.Series(np.random.randn(len(prng)), prng)"
   ]
  },
  {
   "cell_type": "code",
   "execution_count": 118,
   "metadata": {
    "collapsed": true
   },
   "outputs": [],
   "source": [
    "ts.index = (prng.asfreq('M', 'e') + 1).asfreq('H', 's') + 9"
   ]
  },
  {
   "cell_type": "code",
   "execution_count": 119,
   "metadata": {
    "collapsed": false
   },
   "outputs": [
    {
     "data": {
      "text/plain": [
       "1990-03-01 09:00   -0.290171\n",
       "1990-06-01 09:00    0.445195\n",
       "1990-09-01 09:00    1.493887\n",
       "1990-12-01 09:00    0.804911\n",
       "1991-03-01 09:00   -0.101456\n",
       "Freq: H, dtype: float64"
      ]
     },
     "execution_count": 119,
     "metadata": {},
     "output_type": "execute_result"
    }
   ],
   "source": [
    "ts.head()"
   ]
  },
  {
   "cell_type": "markdown",
   "metadata": {},
   "source": [
    "## Categoricals"
   ]
  },
  {
   "cell_type": "markdown",
   "metadata": {},
   "source": [
    "Since version 0.15, pandas can include categorical data in a DataFrame. For full docs, see the [categorical introduction](http://pandas.pydata.org/pandas-docs/stable/categorical.html#categorical) and the [API documentation](http://pandas.pydata.org/pandas-docs/stable/api.html#api-categorical)."
   ]
  },
  {
   "cell_type": "code",
   "execution_count": 120,
   "metadata": {
    "collapsed": true
   },
   "outputs": [],
   "source": [
    "df = pd.DataFrame({\"id\":[1,2,3,4,5,6], \"raw_grade\":['a', 'b', 'b', 'a', 'a', 'e']})"
   ]
  },
  {
   "cell_type": "markdown",
   "metadata": {},
   "source": [
    "Convert the raw grades to a categorical data type."
   ]
  },
  {
   "cell_type": "code",
   "execution_count": 121,
   "metadata": {
    "collapsed": true
   },
   "outputs": [],
   "source": [
    "df[\"grade\"] = df[\"raw_grade\"].astype(\"category\")"
   ]
  },
  {
   "cell_type": "code",
   "execution_count": 122,
   "metadata": {
    "collapsed": false
   },
   "outputs": [
    {
     "data": {
      "text/plain": [
       "0    a\n",
       "1    b\n",
       "2    b\n",
       "3    a\n",
       "4    a\n",
       "5    e\n",
       "Name: grade, dtype: category\n",
       "Categories (3, object): [a, b, e]"
      ]
     },
     "execution_count": 122,
     "metadata": {},
     "output_type": "execute_result"
    }
   ],
   "source": [
    "df[\"grade\"]"
   ]
  },
  {
   "cell_type": "markdown",
   "metadata": {},
   "source": [
    "Rename the categories to more meaningful names (assigning to Series.cat.categories is inplace!)"
   ]
  },
  {
   "cell_type": "code",
   "execution_count": 123,
   "metadata": {
    "collapsed": true
   },
   "outputs": [],
   "source": [
    "df[\"grade\"].cat.categories = [\"very good\", \"good\", \"very bad\"]"
   ]
  },
  {
   "cell_type": "markdown",
   "metadata": {},
   "source": [
    "Reorder the categories and simultaneously add the missing categories (methods under Series .cat return a new Series per default)."
   ]
  },
  {
   "cell_type": "code",
   "execution_count": 124,
   "metadata": {
    "collapsed": true
   },
   "outputs": [],
   "source": [
    "df[\"grade\"] = df[\"grade\"].cat.set_categories([\"very bad\", \"bad\", \"medium\", \"good\", \"very good\"])"
   ]
  },
  {
   "cell_type": "code",
   "execution_count": 125,
   "metadata": {
    "collapsed": false
   },
   "outputs": [
    {
     "data": {
      "text/plain": [
       "0    very good\n",
       "1         good\n",
       "2         good\n",
       "3    very good\n",
       "4    very good\n",
       "5     very bad\n",
       "Name: grade, dtype: category\n",
       "Categories (5, object): [very bad, bad, medium, good, very good]"
      ]
     },
     "execution_count": 125,
     "metadata": {},
     "output_type": "execute_result"
    }
   ],
   "source": [
    "df[\"grade\"]"
   ]
  },
  {
   "cell_type": "markdown",
   "metadata": {},
   "source": [
    "Sorting is per order in the categories, not lexical order."
   ]
  },
  {
   "cell_type": "code",
   "execution_count": 126,
   "metadata": {
    "collapsed": false
   },
   "outputs": [
    {
     "data": {
      "text/html": [
       "<div>\n",
       "<table border=\"1\" class=\"dataframe\">\n",
       "  <thead>\n",
       "    <tr style=\"text-align: right;\">\n",
       "      <th></th>\n",
       "      <th>id</th>\n",
       "      <th>raw_grade</th>\n",
       "      <th>grade</th>\n",
       "    </tr>\n",
       "  </thead>\n",
       "  <tbody>\n",
       "    <tr>\n",
       "      <th>5</th>\n",
       "      <td>6</td>\n",
       "      <td>e</td>\n",
       "      <td>very bad</td>\n",
       "    </tr>\n",
       "    <tr>\n",
       "      <th>1</th>\n",
       "      <td>2</td>\n",
       "      <td>b</td>\n",
       "      <td>good</td>\n",
       "    </tr>\n",
       "    <tr>\n",
       "      <th>2</th>\n",
       "      <td>3</td>\n",
       "      <td>b</td>\n",
       "      <td>good</td>\n",
       "    </tr>\n",
       "    <tr>\n",
       "      <th>0</th>\n",
       "      <td>1</td>\n",
       "      <td>a</td>\n",
       "      <td>very good</td>\n",
       "    </tr>\n",
       "    <tr>\n",
       "      <th>3</th>\n",
       "      <td>4</td>\n",
       "      <td>a</td>\n",
       "      <td>very good</td>\n",
       "    </tr>\n",
       "    <tr>\n",
       "      <th>4</th>\n",
       "      <td>5</td>\n",
       "      <td>a</td>\n",
       "      <td>very good</td>\n",
       "    </tr>\n",
       "  </tbody>\n",
       "</table>\n",
       "</div>"
      ],
      "text/plain": [
       "   id raw_grade      grade\n",
       "5   6         e   very bad\n",
       "1   2         b       good\n",
       "2   3         b       good\n",
       "0   1         a  very good\n",
       "3   4         a  very good\n",
       "4   5         a  very good"
      ]
     },
     "execution_count": 126,
     "metadata": {},
     "output_type": "execute_result"
    }
   ],
   "source": [
    "df.sort_values(by=\"grade\")"
   ]
  },
  {
   "cell_type": "markdown",
   "metadata": {},
   "source": [
    "Grouping by a categorical column shows also empty categories."
   ]
  },
  {
   "cell_type": "code",
   "execution_count": 127,
   "metadata": {
    "collapsed": false
   },
   "outputs": [
    {
     "data": {
      "text/plain": [
       "grade\n",
       "very bad     1\n",
       "bad          0\n",
       "medium       0\n",
       "good         2\n",
       "very good    3\n",
       "dtype: int64"
      ]
     },
     "execution_count": 127,
     "metadata": {},
     "output_type": "execute_result"
    }
   ],
   "source": [
    "df.groupby(\"grade\").size()"
   ]
  },
  {
   "cell_type": "markdown",
   "metadata": {},
   "source": [
    "## Plotting\n",
    "[Plotting](http://pandas.pydata.org/pandas-docs/stable/visualization.html#visualization) docs."
   ]
  },
  {
   "cell_type": "code",
   "execution_count": 128,
   "metadata": {
    "collapsed": true
   },
   "outputs": [],
   "source": [
    "ts = pd.Series(np.random.randn(1000), index=pd.date_range('1/1/2000', periods=1000))"
   ]
  },
  {
   "cell_type": "code",
   "execution_count": 129,
   "metadata": {
    "collapsed": true
   },
   "outputs": [],
   "source": [
    "ts = ts.cumsum()"
   ]
  },
  {
   "cell_type": "code",
   "execution_count": 130,
   "metadata": {
    "collapsed": false
   },
   "outputs": [
    {
     "data": {
      "text/plain": [
       "<matplotlib.axes._subplots.AxesSubplot at 0x114a60ed0>"
      ]
     },
     "execution_count": 130,
     "metadata": {},
     "output_type": "execute_result"
    },
    {
     "data": {
      "image/png": "[encoded data removed]",
      "text/plain": [
       "<matplotlib.figure.Figure at 0x114a457d0>"
      ]
     },
     "metadata": {},
     "output_type": "display_data"
    }
   ],
   "source": [
    "ts.plot()"
   ]
  },
  {
   "cell_type": "markdown",
   "metadata": {},
   "source": [
    "On DataFrame, plot() is a convenience to plot all of the columns with labels:"
   ]
  },
  {
   "cell_type": "code",
   "execution_count": 131,
   "metadata": {
    "collapsed": true
   },
   "outputs": [],
   "source": [
    "df = pd.DataFrame(np.random.randn(1000, 4), index=ts.index,\n",
    "                  columns=['A', 'B', 'C', 'D'])"
   ]
  },
  {
   "cell_type": "code",
   "execution_count": 132,
   "metadata": {
    "collapsed": true
   },
   "outputs": [],
   "source": [
    "df = df.cumsum()"
   ]
  },
  {
   "cell_type": "code",
   "execution_count": 133,
   "metadata": {
    "collapsed": false
   },
   "outputs": [
    {
     "data": {
      "text/plain": [
       "<matplotlib.legend.Legend at 0x116ecc890>"
      ]
     },
     "execution_count": 133,
     "metadata": {},
     "output_type": "execute_result"
    },
    {
     "data": {
      "text/plain": [
       "<matplotlib.figure.Figure at 0x1149fbc50>"
      ]
     },
     "metadata": {},
     "output_type": "display_data"
    },
    {
     "data": {
      "image/png": "[encoded data removed]",
      "text/plain": [
       "<matplotlib.figure.Figure at 0x116ecc6d0>"
      ]
     },
     "metadata": {},
     "output_type": "display_data"
    }
   ],
   "source": [
    "plt.figure(); df.plot(); plt.legend(loc='best')"
   ]
  },
  {
   "cell_type": "markdown",
   "metadata": {},
   "source": [
    "## Getting Data In/Out"
   ]
  },
  {
   "cell_type": "markdown",
   "metadata": {},
   "source": [
    "### CSV\n",
    "[Writing to a csv file](http://pandas.pydata.org/pandas-docs/stable/io.html#io-store-in-csv)"
   ]
  },
  {
   "cell_type": "code",
   "execution_count": 134,
   "metadata": {
    "collapsed": true
   },
   "outputs": [],
   "source": [
    "df.to_csv('foo.csv')"
   ]
  },
  {
   "cell_type": "markdown",
   "metadata": {},
   "source": [
    "[Reading from a csv file](http://pandas.pydata.org/pandas-docs/stable/io.html#io-read-csv-table)"
   ]
  },
  {
   "cell_type": "code",
   "execution_count": 135,
   "metadata": {
    "collapsed": false
   },
   "outputs": [
    {
     "data": {
      "text/html": [
       "<div>\n",
       "<table border=\"1\" class=\"dataframe\">\n",
       "  <thead>\n",
       "    <tr style=\"text-align: right;\">\n",
       "      <th></th>\n",
       "      <th>Unnamed: 0</th>\n",
       "      <th>A</th>\n",
       "      <th>B</th>\n",
       "      <th>C</th>\n",
       "      <th>D</th>\n",
       "    </tr>\n",
       "  </thead>\n",
       "  <tbody>\n",
       "    <tr>\n",
       "      <th>0</th>\n",
       "      <td>2000-01-01</td>\n",
       "      <td>-0.067377</td>\n",
       "      <td>-0.035638</td>\n",
       "      <td>-0.021100</td>\n",
       "      <td>-0.752226</td>\n",
       "    </tr>\n",
       "    <tr>\n",
       "      <th>1</th>\n",
       "      <td>2000-01-02</td>\n",
       "      <td>-0.341526</td>\n",
       "      <td>0.867899</td>\n",
       "      <td>0.147792</td>\n",
       "      <td>-2.190171</td>\n",
       "    </tr>\n",
       "    <tr>\n",
       "      <th>2</th>\n",
       "      <td>2000-01-03</td>\n",
       "      <td>-0.118822</td>\n",
       "      <td>1.501776</td>\n",
       "      <td>-0.472641</td>\n",
       "      <td>-1.448117</td>\n",
       "    </tr>\n",
       "    <tr>\n",
       "      <th>3</th>\n",
       "      <td>2000-01-04</td>\n",
       "      <td>-0.727838</td>\n",
       "      <td>0.889072</td>\n",
       "      <td>-2.704155</td>\n",
       "      <td>-2.934499</td>\n",
       "    </tr>\n",
       "    <tr>\n",
       "      <th>4</th>\n",
       "      <td>2000-01-05</td>\n",
       "      <td>0.531075</td>\n",
       "      <td>1.073829</td>\n",
       "      <td>-2.847804</td>\n",
       "      <td>-2.517378</td>\n",
       "    </tr>\n",
       "    <tr>\n",
       "      <th>5</th>\n",
       "      <td>2000-01-06</td>\n",
       "      <td>0.091479</td>\n",
       "      <td>1.478376</td>\n",
       "      <td>-3.029743</td>\n",
       "      <td>-0.906359</td>\n",
       "    </tr>\n",
       "    <tr>\n",
       "      <th>6</th>\n",
       "      <td>2000-01-07</td>\n",
       "      <td>1.492265</td>\n",
       "      <td>2.113159</td>\n",
       "      <td>-3.549888</td>\n",
       "      <td>-2.117010</td>\n",
       "    </tr>\n",
       "    <tr>\n",
       "      <th>7</th>\n",
       "      <td>2000-01-08</td>\n",
       "      <td>1.851265</td>\n",
       "      <td>2.703705</td>\n",
       "      <td>-3.141079</td>\n",
       "      <td>0.079449</td>\n",
       "    </tr>\n",
       "    <tr>\n",
       "      <th>8</th>\n",
       "      <td>2000-01-09</td>\n",
       "      <td>2.213547</td>\n",
       "      <td>3.685811</td>\n",
       "      <td>-3.029953</td>\n",
       "      <td>1.620792</td>\n",
       "    </tr>\n",
       "    <tr>\n",
       "      <th>9</th>\n",
       "      <td>2000-01-10</td>\n",
       "      <td>2.028055</td>\n",
       "      <td>2.034899</td>\n",
       "      <td>-2.115068</td>\n",
       "      <td>3.566303</td>\n",
       "    </tr>\n",
       "    <tr>\n",
       "      <th>10</th>\n",
       "      <td>2000-01-11</td>\n",
       "      <td>2.562459</td>\n",
       "      <td>1.562458</td>\n",
       "      <td>-1.266220</td>\n",
       "      <td>3.125902</td>\n",
       "    </tr>\n",
       "    <tr>\n",
       "      <th>11</th>\n",
       "      <td>2000-01-12</td>\n",
       "      <td>3.563649</td>\n",
       "      <td>2.535037</td>\n",
       "      <td>-1.609729</td>\n",
       "      <td>1.636481</td>\n",
       "    </tr>\n",
       "    <tr>\n",
       "      <th>12</th>\n",
       "      <td>2000-01-13</td>\n",
       "      <td>3.723012</td>\n",
       "      <td>3.932004</td>\n",
       "      <td>-1.801761</td>\n",
       "      <td>3.817881</td>\n",
       "    </tr>\n",
       "    <tr>\n",
       "      <th>13</th>\n",
       "      <td>2000-01-14</td>\n",
       "      <td>5.097816</td>\n",
       "      <td>4.143041</td>\n",
       "      <td>-2.183664</td>\n",
       "      <td>2.784085</td>\n",
       "    </tr>\n",
       "    <tr>\n",
       "      <th>14</th>\n",
       "      <td>2000-01-15</td>\n",
       "      <td>5.415682</td>\n",
       "      <td>2.042796</td>\n",
       "      <td>-1.186153</td>\n",
       "      <td>3.828601</td>\n",
       "    </tr>\n",
       "    <tr>\n",
       "      <th>15</th>\n",
       "      <td>2000-01-16</td>\n",
       "      <td>5.875182</td>\n",
       "      <td>0.968725</td>\n",
       "      <td>-1.122289</td>\n",
       "      <td>3.771920</td>\n",
       "    </tr>\n",
       "    <tr>\n",
       "      <th>16</th>\n",
       "      <td>2000-01-17</td>\n",
       "      <td>5.352968</td>\n",
       "      <td>-0.637527</td>\n",
       "      <td>-2.741543</td>\n",
       "      <td>2.230048</td>\n",
       "    </tr>\n",
       "    <tr>\n",
       "      <th>17</th>\n",
       "      <td>2000-01-18</td>\n",
       "      <td>5.403275</td>\n",
       "      <td>0.561341</td>\n",
       "      <td>-1.943048</td>\n",
       "      <td>1.291451</td>\n",
       "    </tr>\n",
       "    <tr>\n",
       "      <th>18</th>\n",
       "      <td>2000-01-19</td>\n",
       "      <td>5.898989</td>\n",
       "      <td>0.260370</td>\n",
       "      <td>0.010189</td>\n",
       "      <td>2.686019</td>\n",
       "    </tr>\n",
       "    <tr>\n",
       "      <th>19</th>\n",
       "      <td>2000-01-20</td>\n",
       "      <td>6.446354</td>\n",
       "      <td>0.214986</td>\n",
       "      <td>-0.621627</td>\n",
       "      <td>2.265080</td>\n",
       "    </tr>\n",
       "    <tr>\n",
       "      <th>20</th>\n",
       "      <td>2000-01-21</td>\n",
       "      <td>6.093474</td>\n",
       "      <td>0.696028</td>\n",
       "      <td>-0.604788</td>\n",
       "      <td>2.150748</td>\n",
       "    </tr>\n",
       "    <tr>\n",
       "      <th>21</th>\n",
       "      <td>2000-01-22</td>\n",
       "      <td>4.816564</td>\n",
       "      <td>2.795033</td>\n",
       "      <td>-1.992706</td>\n",
       "      <td>2.617393</td>\n",
       "    </tr>\n",
       "    <tr>\n",
       "      <th>22</th>\n",
       "      <td>2000-01-23</td>\n",
       "      <td>4.484142</td>\n",
       "      <td>2.215204</td>\n",
       "      <td>-2.216621</td>\n",
       "      <td>4.585891</td>\n",
       "    </tr>\n",
       "    <tr>\n",
       "      <th>23</th>\n",
       "      <td>2000-01-24</td>\n",
       "      <td>6.218927</td>\n",
       "      <td>2.262602</td>\n",
       "      <td>-2.310701</td>\n",
       "      <td>3.788079</td>\n",
       "    </tr>\n",
       "    <tr>\n",
       "      <th>24</th>\n",
       "      <td>2000-01-25</td>\n",
       "      <td>7.490060</td>\n",
       "      <td>1.679666</td>\n",
       "      <td>-2.538864</td>\n",
       "      <td>2.202103</td>\n",
       "    </tr>\n",
       "    <tr>\n",
       "      <th>25</th>\n",
       "      <td>2000-01-26</td>\n",
       "      <td>6.878468</td>\n",
       "      <td>0.292143</td>\n",
       "      <td>-2.203920</td>\n",
       "      <td>3.033513</td>\n",
       "    </tr>\n",
       "    <tr>\n",
       "      <th>26</th>\n",
       "      <td>2000-01-27</td>\n",
       "      <td>8.265415</td>\n",
       "      <td>-1.160655</td>\n",
       "      <td>-2.457205</td>\n",
       "      <td>1.806101</td>\n",
       "    </tr>\n",
       "    <tr>\n",
       "      <th>27</th>\n",
       "      <td>2000-01-28</td>\n",
       "      <td>8.800961</td>\n",
       "      <td>0.506590</td>\n",
       "      <td>-1.682888</td>\n",
       "      <td>2.444211</td>\n",
       "    </tr>\n",
       "    <tr>\n",
       "      <th>28</th>\n",
       "      <td>2000-01-29</td>\n",
       "      <td>9.069957</td>\n",
       "      <td>0.362689</td>\n",
       "      <td>-1.158481</td>\n",
       "      <td>5.313443</td>\n",
       "    </tr>\n",
       "    <tr>\n",
       "      <th>29</th>\n",
       "      <td>2000-01-30</td>\n",
       "      <td>9.342882</td>\n",
       "      <td>0.817050</td>\n",
       "      <td>-1.591316</td>\n",
       "      <td>3.924335</td>\n",
       "    </tr>\n",
       "    <tr>\n",
       "      <th>...</th>\n",
       "      <td>...</td>\n",
       "      <td>...</td>\n",
       "      <td>...</td>\n",
       "      <td>...</td>\n",
       "      <td>...</td>\n",
       "    </tr>\n",
       "    <tr>\n",
       "      <th>970</th>\n",
       "      <td>2002-08-28</td>\n",
       "      <td>28.436666</td>\n",
       "      <td>12.185562</td>\n",
       "      <td>0.713590</td>\n",
       "      <td>33.470501</td>\n",
       "    </tr>\n",
       "    <tr>\n",
       "      <th>971</th>\n",
       "      <td>2002-08-29</td>\n",
       "      <td>27.263426</td>\n",
       "      <td>12.515911</td>\n",
       "      <td>-0.883309</td>\n",
       "      <td>33.574743</td>\n",
       "    </tr>\n",
       "    <tr>\n",
       "      <th>972</th>\n",
       "      <td>2002-08-30</td>\n",
       "      <td>26.365767</td>\n",
       "      <td>12.070123</td>\n",
       "      <td>-1.070257</td>\n",
       "      <td>33.533270</td>\n",
       "    </tr>\n",
       "    <tr>\n",
       "      <th>973</th>\n",
       "      <td>2002-08-31</td>\n",
       "      <td>24.797556</td>\n",
       "      <td>12.432728</td>\n",
       "      <td>-2.800671</td>\n",
       "      <td>31.792798</td>\n",
       "    </tr>\n",
       "    <tr>\n",
       "      <th>974</th>\n",
       "      <td>2002-09-01</td>\n",
       "      <td>24.063454</td>\n",
       "      <td>12.938684</td>\n",
       "      <td>-2.392343</td>\n",
       "      <td>31.930125</td>\n",
       "    </tr>\n",
       "    <tr>\n",
       "      <th>975</th>\n",
       "      <td>2002-09-02</td>\n",
       "      <td>24.246746</td>\n",
       "      <td>13.716965</td>\n",
       "      <td>-1.796432</td>\n",
       "      <td>32.215315</td>\n",
       "    </tr>\n",
       "    <tr>\n",
       "      <th>976</th>\n",
       "      <td>2002-09-03</td>\n",
       "      <td>25.025802</td>\n",
       "      <td>15.046681</td>\n",
       "      <td>0.176345</td>\n",
       "      <td>31.351909</td>\n",
       "    </tr>\n",
       "    <tr>\n",
       "      <th>977</th>\n",
       "      <td>2002-09-04</td>\n",
       "      <td>25.722266</td>\n",
       "      <td>15.208363</td>\n",
       "      <td>-2.028918</td>\n",
       "      <td>30.888133</td>\n",
       "    </tr>\n",
       "    <tr>\n",
       "      <th>978</th>\n",
       "      <td>2002-09-05</td>\n",
       "      <td>27.017412</td>\n",
       "      <td>16.800099</td>\n",
       "      <td>-3.470389</td>\n",
       "      <td>30.260138</td>\n",
       "    </tr>\n",
       "    <tr>\n",
       "      <th>979</th>\n",
       "      <td>2002-09-06</td>\n",
       "      <td>28.739792</td>\n",
       "      <td>17.267548</td>\n",
       "      <td>-4.587964</td>\n",
       "      <td>30.492176</td>\n",
       "    </tr>\n",
       "    <tr>\n",
       "      <th>980</th>\n",
       "      <td>2002-09-07</td>\n",
       "      <td>28.691180</td>\n",
       "      <td>17.406774</td>\n",
       "      <td>-3.824464</td>\n",
       "      <td>30.611210</td>\n",
       "    </tr>\n",
       "    <tr>\n",
       "      <th>981</th>\n",
       "      <td>2002-09-08</td>\n",
       "      <td>28.051428</td>\n",
       "      <td>16.879897</td>\n",
       "      <td>-3.696306</td>\n",
       "      <td>30.545629</td>\n",
       "    </tr>\n",
       "    <tr>\n",
       "      <th>982</th>\n",
       "      <td>2002-09-09</td>\n",
       "      <td>26.684984</td>\n",
       "      <td>16.739758</td>\n",
       "      <td>-2.998523</td>\n",
       "      <td>31.096066</td>\n",
       "    </tr>\n",
       "    <tr>\n",
       "      <th>983</th>\n",
       "      <td>2002-09-10</td>\n",
       "      <td>26.921334</td>\n",
       "      <td>16.768293</td>\n",
       "      <td>-2.056697</td>\n",
       "      <td>30.499331</td>\n",
       "    </tr>\n",
       "    <tr>\n",
       "      <th>984</th>\n",
       "      <td>2002-09-11</td>\n",
       "      <td>27.003199</td>\n",
       "      <td>14.581637</td>\n",
       "      <td>-2.688241</td>\n",
       "      <td>30.131872</td>\n",
       "    </tr>\n",
       "    <tr>\n",
       "      <th>985</th>\n",
       "      <td>2002-09-12</td>\n",
       "      <td>25.007810</td>\n",
       "      <td>13.499850</td>\n",
       "      <td>-3.161634</td>\n",
       "      <td>32.054496</td>\n",
       "    </tr>\n",
       "    <tr>\n",
       "      <th>986</th>\n",
       "      <td>2002-09-13</td>\n",
       "      <td>24.787813</td>\n",
       "      <td>11.329320</td>\n",
       "      <td>-2.826720</td>\n",
       "      <td>33.077085</td>\n",
       "    </tr>\n",
       "    <tr>\n",
       "      <th>987</th>\n",
       "      <td>2002-09-14</td>\n",
       "      <td>26.903225</td>\n",
       "      <td>12.068355</td>\n",
       "      <td>-2.648789</td>\n",
       "      <td>34.210246</td>\n",
       "    </tr>\n",
       "    <tr>\n",
       "      <th>988</th>\n",
       "      <td>2002-09-15</td>\n",
       "      <td>25.777238</td>\n",
       "      <td>11.535393</td>\n",
       "      <td>-1.952559</td>\n",
       "      <td>35.667764</td>\n",
       "    </tr>\n",
       "    <tr>\n",
       "      <th>989</th>\n",
       "      <td>2002-09-16</td>\n",
       "      <td>24.381155</td>\n",
       "      <td>10.885129</td>\n",
       "      <td>-4.349392</td>\n",
       "      <td>33.810491</td>\n",
       "    </tr>\n",
       "    <tr>\n",
       "      <th>990</th>\n",
       "      <td>2002-09-17</td>\n",
       "      <td>24.914723</td>\n",
       "      <td>10.461896</td>\n",
       "      <td>-4.523927</td>\n",
       "      <td>33.943282</td>\n",
       "    </tr>\n",
       "    <tr>\n",
       "      <th>991</th>\n",
       "      <td>2002-09-18</td>\n",
       "      <td>25.144380</td>\n",
       "      <td>12.115287</td>\n",
       "      <td>-5.210419</td>\n",
       "      <td>34.402361</td>\n",
       "    </tr>\n",
       "    <tr>\n",
       "      <th>992</th>\n",
       "      <td>2002-09-19</td>\n",
       "      <td>26.253174</td>\n",
       "      <td>11.910041</td>\n",
       "      <td>-4.889495</td>\n",
       "      <td>36.015240</td>\n",
       "    </tr>\n",
       "    <tr>\n",
       "      <th>993</th>\n",
       "      <td>2002-09-20</td>\n",
       "      <td>25.736717</td>\n",
       "      <td>13.275022</td>\n",
       "      <td>-2.518543</td>\n",
       "      <td>35.721396</td>\n",
       "    </tr>\n",
       "    <tr>\n",
       "      <th>994</th>\n",
       "      <td>2002-09-21</td>\n",
       "      <td>24.350343</td>\n",
       "      <td>14.154565</td>\n",
       "      <td>-2.495837</td>\n",
       "      <td>36.593416</td>\n",
       "    </tr>\n",
       "    <tr>\n",
       "      <th>995</th>\n",
       "      <td>2002-09-22</td>\n",
       "      <td>25.003458</td>\n",
       "      <td>16.235255</td>\n",
       "      <td>-2.376958</td>\n",
       "      <td>34.964767</td>\n",
       "    </tr>\n",
       "    <tr>\n",
       "      <th>996</th>\n",
       "      <td>2002-09-23</td>\n",
       "      <td>23.977122</td>\n",
       "      <td>16.555848</td>\n",
       "      <td>-1.746319</td>\n",
       "      <td>35.222469</td>\n",
       "    </tr>\n",
       "    <tr>\n",
       "      <th>997</th>\n",
       "      <td>2002-09-24</td>\n",
       "      <td>24.738345</td>\n",
       "      <td>14.692118</td>\n",
       "      <td>-3.112445</td>\n",
       "      <td>36.535400</td>\n",
       "    </tr>\n",
       "    <tr>\n",
       "      <th>998</th>\n",
       "      <td>2002-09-25</td>\n",
       "      <td>23.977210</td>\n",
       "      <td>14.979042</td>\n",
       "      <td>-3.557790</td>\n",
       "      <td>36.189400</td>\n",
       "    </tr>\n",
       "    <tr>\n",
       "      <th>999</th>\n",
       "      <td>2002-09-26</td>\n",
       "      <td>23.442975</td>\n",
       "      <td>14.431692</td>\n",
       "      <td>-4.008666</td>\n",
       "      <td>35.876610</td>\n",
       "    </tr>\n",
       "  </tbody>\n",
       "</table>\n",
       "<p>1000 rows × 5 columns</p>\n",
       "</div>"
      ],
      "text/plain": [
       "     Unnamed: 0          A          B         C          D\n",
       "0    2000-01-01  -0.067377  -0.035638 -0.021100  -0.752226\n",
       "1    2000-01-02  -0.341526   0.867899  0.147792  -2.190171\n",
       "2    2000-01-03  -0.118822   1.501776 -0.472641  -1.448117\n",
       "3    2000-01-04  -0.727838   0.889072 -2.704155  -2.934499\n",
       "4    2000-01-05   0.531075   1.073829 -2.847804  -2.517378\n",
       "5    2000-01-06   0.091479   1.478376 -3.029743  -0.906359\n",
       "6    2000-01-07   1.492265   2.113159 -3.549888  -2.117010\n",
       "7    2000-01-08   1.851265   2.703705 -3.141079   0.079449\n",
       "8    2000-01-09   2.213547   3.685811 -3.029953   1.620792\n",
       "9    2000-01-10   2.028055   2.034899 -2.115068   3.566303\n",
       "10   2000-01-11   2.562459   1.562458 -1.266220   3.125902\n",
       "11   2000-01-12   3.563649   2.535037 -1.609729   1.636481\n",
       "12   2000-01-13   3.723012   3.932004 -1.801761   3.817881\n",
       "13   2000-01-14   5.097816   4.143041 -2.183664   2.784085\n",
       "14   2000-01-15   5.415682   2.042796 -1.186153   3.828601\n",
       "15   2000-01-16   5.875182   0.968725 -1.122289   3.771920\n",
       "16   2000-01-17   5.352968  -0.637527 -2.741543   2.230048\n",
       "17   2000-01-18   5.403275   0.561341 -1.943048   1.291451\n",
       "18   2000-01-19   5.898989   0.260370  0.010189   2.686019\n",
       "19   2000-01-20   6.446354   0.214986 -0.621627   2.265080\n",
       "20   2000-01-21   6.093474   0.696028 -0.604788   2.150748\n",
       "21   2000-01-22   4.816564   2.795033 -1.992706   2.617393\n",
       "22   2000-01-23   4.484142   2.215204 -2.216621   4.585891\n",
       "23   2000-01-24   6.218927   2.262602 -2.310701   3.788079\n",
       "24   2000-01-25   7.490060   1.679666 -2.538864   2.202103\n",
       "25   2000-01-26   6.878468   0.292143 -2.203920   3.033513\n",
       "26   2000-01-27   8.265415  -1.160655 -2.457205   1.806101\n",
       "27   2000-01-28   8.800961   0.506590 -1.682888   2.444211\n",
       "28   2000-01-29   9.069957   0.362689 -1.158481   5.313443\n",
       "29   2000-01-30   9.342882   0.817050 -1.591316   3.924335\n",
       "..          ...        ...        ...       ...        ...\n",
       "970  2002-08-28  28.436666  12.185562  0.713590  33.470501\n",
       "971  2002-08-29  27.263426  12.515911 -0.883309  33.574743\n",
       "972  2002-08-30  26.365767  12.070123 -1.070257  33.533270\n",
       "973  2002-08-31  24.797556  12.432728 -2.800671  31.792798\n",
       "974  2002-09-01  24.063454  12.938684 -2.392343  31.930125\n",
       "975  2002-09-02  24.246746  13.716965 -1.796432  32.215315\n",
       "976  2002-09-03  25.025802  15.046681  0.176345  31.351909\n",
       "977  2002-09-04  25.722266  15.208363 -2.028918  30.888133\n",
       "978  2002-09-05  27.017412  16.800099 -3.470389  30.260138\n",
       "979  2002-09-06  28.739792  17.267548 -4.587964  30.492176\n",
       "980  2002-09-07  28.691180  17.406774 -3.824464  30.611210\n",
       "981  2002-09-08  28.051428  16.879897 -3.696306  30.545629\n",
       "982  2002-09-09  26.684984  16.739758 -2.998523  31.096066\n",
       "983  2002-09-10  26.921334  16.768293 -2.056697  30.499331\n",
       "984  2002-09-11  27.003199  14.581637 -2.688241  30.131872\n",
       "985  2002-09-12  25.007810  13.499850 -3.161634  32.054496\n",
       "986  2002-09-13  24.787813  11.329320 -2.826720  33.077085\n",
       "987  2002-09-14  26.903225  12.068355 -2.648789  34.210246\n",
       "988  2002-09-15  25.777238  11.535393 -1.952559  35.667764\n",
       "989  2002-09-16  24.381155  10.885129 -4.349392  33.810491\n",
       "990  2002-09-17  24.914723  10.461896 -4.523927  33.943282\n",
       "991  2002-09-18  25.144380  12.115287 -5.210419  34.402361\n",
       "992  2002-09-19  26.253174  11.910041 -4.889495  36.015240\n",
       "993  2002-09-20  25.736717  13.275022 -2.518543  35.721396\n",
       "994  2002-09-21  24.350343  14.154565 -2.495837  36.593416\n",
       "995  2002-09-22  25.003458  16.235255 -2.376958  34.964767\n",
       "996  2002-09-23  23.977122  16.555848 -1.746319  35.222469\n",
       "997  2002-09-24  24.738345  14.692118 -3.112445  36.535400\n",
       "998  2002-09-25  23.977210  14.979042 -3.557790  36.189400\n",
       "999  2002-09-26  23.442975  14.431692 -4.008666  35.876610\n",
       "\n",
       "[1000 rows x 5 columns]"
      ]
     },
     "execution_count": 135,
     "metadata": {},
     "output_type": "execute_result"
    }
   ],
   "source": [
    "pd.read_csv('foo.csv')"
   ]
  },
  {
   "cell_type": "markdown",
   "metadata": {},
   "source": [
    "### HDF5\n",
    "Reading and writing to [HDFStores](http://pandas.pydata.org/pandas-docs/stable/io.html#io-hdf5)\n",
    "\n",
    "Writing to a HDF5 Store"
   ]
  },
  {
   "cell_type": "code",
   "execution_count": 136,
   "metadata": {
    "collapsed": true
   },
   "outputs": [],
   "source": [
    "df.to_hdf('foo.h5','df')"
   ]
  },
  {
   "cell_type": "markdown",
   "metadata": {},
   "source": [
    "Reading from a HDF5 Store"
   ]
  },
  {
   "cell_type": "code",
   "execution_count": 137,
   "metadata": {
    "collapsed": false
   },
   "outputs": [
    {
     "data": {
      "text/html": [
       "<div>\n",
       "<table border=\"1\" class=\"dataframe\">\n",
       "  <thead>\n",
       "    <tr style=\"text-align: right;\">\n",
       "      <th></th>\n",
       "      <th>A</th>\n",
       "      <th>B</th>\n",
       "      <th>C</th>\n",
       "      <th>D</th>\n",
       "    </tr>\n",
       "  </thead>\n",
       "  <tbody>\n",
       "    <tr>\n",
       "      <th>2000-01-01</th>\n",
       "      <td>-0.067377</td>\n",
       "      <td>-0.035638</td>\n",
       "      <td>-0.021100</td>\n",
       "      <td>-0.752226</td>\n",
       "    </tr>\n",
       "    <tr>\n",
       "      <th>2000-01-02</th>\n",
       "      <td>-0.341526</td>\n",
       "      <td>0.867899</td>\n",
       "      <td>0.147792</td>\n",
       "      <td>-2.190171</td>\n",
       "    </tr>\n",
       "    <tr>\n",
       "      <th>2000-01-03</th>\n",
       "      <td>-0.118822</td>\n",
       "      <td>1.501776</td>\n",
       "      <td>-0.472641</td>\n",
       "      <td>-1.448117</td>\n",
       "    </tr>\n",
       "    <tr>\n",
       "      <th>2000-01-04</th>\n",
       "      <td>-0.727838</td>\n",
       "      <td>0.889072</td>\n",
       "      <td>-2.704155</td>\n",
       "      <td>-2.934499</td>\n",
       "    </tr>\n",
       "    <tr>\n",
       "      <th>2000-01-05</th>\n",
       "      <td>0.531075</td>\n",
       "      <td>1.073829</td>\n",
       "      <td>-2.847804</td>\n",
       "      <td>-2.517378</td>\n",
       "    </tr>\n",
       "    <tr>\n",
       "      <th>2000-01-06</th>\n",
       "      <td>0.091479</td>\n",
       "      <td>1.478376</td>\n",
       "      <td>-3.029743</td>\n",
       "      <td>-0.906359</td>\n",
       "    </tr>\n",
       "    <tr>\n",
       "      <th>2000-01-07</th>\n",
       "      <td>1.492265</td>\n",
       "      <td>2.113159</td>\n",
       "      <td>-3.549888</td>\n",
       "      <td>-2.117010</td>\n",
       "    </tr>\n",
       "    <tr>\n",
       "      <th>2000-01-08</th>\n",
       "      <td>1.851265</td>\n",
       "      <td>2.703705</td>\n",
       "      <td>-3.141079</td>\n",
       "      <td>0.079449</td>\n",
       "    </tr>\n",
       "    <tr>\n",
       "      <th>2000-01-09</th>\n",
       "      <td>2.213547</td>\n",
       "      <td>3.685811</td>\n",
       "      <td>-3.029953</td>\n",
       "      <td>1.620792</td>\n",
       "    </tr>\n",
       "    <tr>\n",
       "      <th>2000-01-10</th>\n",
       "      <td>2.028055</td>\n",
       "      <td>2.034899</td>\n",
       "      <td>-2.115068</td>\n",
       "      <td>3.566303</td>\n",
       "    </tr>\n",
       "    <tr>\n",
       "      <th>2000-01-11</th>\n",
       "      <td>2.562459</td>\n",
       "      <td>1.562458</td>\n",
       "      <td>-1.266220</td>\n",
       "      <td>3.125902</td>\n",
       "    </tr>\n",
       "    <tr>\n",
       "      <th>2000-01-12</th>\n",
       "      <td>3.563649</td>\n",
       "      <td>2.535037</td>\n",
       "      <td>-1.609729</td>\n",
       "      <td>1.636481</td>\n",
       "    </tr>\n",
       "    <tr>\n",
       "      <th>2000-01-13</th>\n",
       "      <td>3.723012</td>\n",
       "      <td>3.932004</td>\n",
       "      <td>-1.801761</td>\n",
       "      <td>3.817881</td>\n",
       "    </tr>\n",
       "    <tr>\n",
       "      <th>2000-01-14</th>\n",
       "      <td>5.097816</td>\n",
       "      <td>4.143041</td>\n",
       "      <td>-2.183664</td>\n",
       "      <td>2.784085</td>\n",
       "    </tr>\n",
       "    <tr>\n",
       "      <th>2000-01-15</th>\n",
       "      <td>5.415682</td>\n",
       "      <td>2.042796</td>\n",
       "      <td>-1.186153</td>\n",
       "      <td>3.828601</td>\n",
       "    </tr>\n",
       "    <tr>\n",
       "      <th>2000-01-16</th>\n",
       "      <td>5.875182</td>\n",
       "      <td>0.968725</td>\n",
       "      <td>-1.122289</td>\n",
       "      <td>3.771920</td>\n",
       "    </tr>\n",
       "    <tr>\n",
       "      <th>2000-01-17</th>\n",
       "      <td>5.352968</td>\n",
       "      <td>-0.637527</td>\n",
       "      <td>-2.741543</td>\n",
       "      <td>2.230048</td>\n",
       "    </tr>\n",
       "    <tr>\n",
       "      <th>2000-01-18</th>\n",
       "      <td>5.403275</td>\n",
       "      <td>0.561341</td>\n",
       "      <td>-1.943048</td>\n",
       "      <td>1.291451</td>\n",
       "    </tr>\n",
       "    <tr>\n",
       "      <th>2000-01-19</th>\n",
       "      <td>5.898989</td>\n",
       "      <td>0.260370</td>\n",
       "      <td>0.010189</td>\n",
       "      <td>2.686019</td>\n",
       "    </tr>\n",
       "    <tr>\n",
       "      <th>2000-01-20</th>\n",
       "      <td>6.446354</td>\n",
       "      <td>0.214986</td>\n",
       "      <td>-0.621627</td>\n",
       "      <td>2.265080</td>\n",
       "    </tr>\n",
       "    <tr>\n",
       "      <th>2000-01-21</th>\n",
       "      <td>6.093474</td>\n",
       "      <td>0.696028</td>\n",
       "      <td>-0.604788</td>\n",
       "      <td>2.150748</td>\n",
       "    </tr>\n",
       "    <tr>\n",
       "      <th>2000-01-22</th>\n",
       "      <td>4.816564</td>\n",
       "      <td>2.795033</td>\n",
       "      <td>-1.992706</td>\n",
       "      <td>2.617393</td>\n",
       "    </tr>\n",
       "    <tr>\n",
       "      <th>2000-01-23</th>\n",
       "      <td>4.484142</td>\n",
       "      <td>2.215204</td>\n",
       "      <td>-2.216621</td>\n",
       "      <td>4.585891</td>\n",
       "    </tr>\n",
       "    <tr>\n",
       "      <th>2000-01-24</th>\n",
       "      <td>6.218927</td>\n",
       "      <td>2.262602</td>\n",
       "      <td>-2.310701</td>\n",
       "      <td>3.788079</td>\n",
       "    </tr>\n",
       "    <tr>\n",
       "      <th>2000-01-25</th>\n",
       "      <td>7.490060</td>\n",
       "      <td>1.679666</td>\n",
       "      <td>-2.538864</td>\n",
       "      <td>2.202103</td>\n",
       "    </tr>\n",
       "    <tr>\n",
       "      <th>2000-01-26</th>\n",
       "      <td>6.878468</td>\n",
       "      <td>0.292143</td>\n",
       "      <td>-2.203920</td>\n",
       "      <td>3.033513</td>\n",
       "    </tr>\n",
       "    <tr>\n",
       "      <th>2000-01-27</th>\n",
       "      <td>8.265415</td>\n",
       "      <td>-1.160655</td>\n",
       "      <td>-2.457205</td>\n",
       "      <td>1.806101</td>\n",
       "    </tr>\n",
       "    <tr>\n",
       "      <th>2000-01-28</th>\n",
       "      <td>8.800961</td>\n",
       "      <td>0.506590</td>\n",
       "      <td>-1.682888</td>\n",
       "      <td>2.444211</td>\n",
       "    </tr>\n",
       "    <tr>\n",
       "      <th>2000-01-29</th>\n",
       "      <td>9.069957</td>\n",
       "      <td>0.362689</td>\n",
       "      <td>-1.158481</td>\n",
       "      <td>5.313443</td>\n",
       "    </tr>\n",
       "    <tr>\n",
       "      <th>2000-01-30</th>\n",
       "      <td>9.342882</td>\n",
       "      <td>0.817050</td>\n",
       "      <td>-1.591316</td>\n",
       "      <td>3.924335</td>\n",
       "    </tr>\n",
       "    <tr>\n",
       "      <th>...</th>\n",
       "      <td>...</td>\n",
       "      <td>...</td>\n",
       "      <td>...</td>\n",
       "      <td>...</td>\n",
       "    </tr>\n",
       "    <tr>\n",
       "      <th>2002-08-28</th>\n",
       "      <td>28.436666</td>\n",
       "      <td>12.185562</td>\n",
       "      <td>0.713590</td>\n",
       "      <td>33.470501</td>\n",
       "    </tr>\n",
       "    <tr>\n",
       "      <th>2002-08-29</th>\n",
       "      <td>27.263426</td>\n",
       "      <td>12.515911</td>\n",
       "      <td>-0.883309</td>\n",
       "      <td>33.574743</td>\n",
       "    </tr>\n",
       "    <tr>\n",
       "      <th>2002-08-30</th>\n",
       "      <td>26.365767</td>\n",
       "      <td>12.070123</td>\n",
       "      <td>-1.070257</td>\n",
       "      <td>33.533270</td>\n",
       "    </tr>\n",
       "    <tr>\n",
       "      <th>2002-08-31</th>\n",
       "      <td>24.797556</td>\n",
       "      <td>12.432728</td>\n",
       "      <td>-2.800671</td>\n",
       "      <td>31.792798</td>\n",
       "    </tr>\n",
       "    <tr>\n",
       "      <th>2002-09-01</th>\n",
       "      <td>24.063454</td>\n",
       "      <td>12.938684</td>\n",
       "      <td>-2.392343</td>\n",
       "      <td>31.930125</td>\n",
       "    </tr>\n",
       "    <tr>\n",
       "      <th>2002-09-02</th>\n",
       "      <td>24.246746</td>\n",
       "      <td>13.716965</td>\n",
       "      <td>-1.796432</td>\n",
       "      <td>32.215315</td>\n",
       "    </tr>\n",
       "    <tr>\n",
       "      <th>2002-09-03</th>\n",
       "      <td>25.025802</td>\n",
       "      <td>15.046681</td>\n",
       "      <td>0.176345</td>\n",
       "      <td>31.351909</td>\n",
       "    </tr>\n",
       "    <tr>\n",
       "      <th>2002-09-04</th>\n",
       "      <td>25.722266</td>\n",
       "      <td>15.208363</td>\n",
       "      <td>-2.028918</td>\n",
       "      <td>30.888133</td>\n",
       "    </tr>\n",
       "    <tr>\n",
       "      <th>2002-09-05</th>\n",
       "      <td>27.017412</td>\n",
       "      <td>16.800099</td>\n",
       "      <td>-3.470389</td>\n",
       "      <td>30.260138</td>\n",
       "    </tr>\n",
       "    <tr>\n",
       "      <th>2002-09-06</th>\n",
       "      <td>28.739792</td>\n",
       "      <td>17.267548</td>\n",
       "      <td>-4.587964</td>\n",
       "      <td>30.492176</td>\n",
       "    </tr>\n",
       "    <tr>\n",
       "      <th>2002-09-07</th>\n",
       "      <td>28.691180</td>\n",
       "      <td>17.406774</td>\n",
       "      <td>-3.824464</td>\n",
       "      <td>30.611210</td>\n",
       "    </tr>\n",
       "    <tr>\n",
       "      <th>2002-09-08</th>\n",
       "      <td>28.051428</td>\n",
       "      <td>16.879897</td>\n",
       "      <td>-3.696306</td>\n",
       "      <td>30.545629</td>\n",
       "    </tr>\n",
       "    <tr>\n",
       "      <th>2002-09-09</th>\n",
       "      <td>26.684984</td>\n",
       "      <td>16.739758</td>\n",
       "      <td>-2.998523</td>\n",
       "      <td>31.096066</td>\n",
       "    </tr>\n",
       "    <tr>\n",
       "      <th>2002-09-10</th>\n",
       "      <td>26.921334</td>\n",
       "      <td>16.768293</td>\n",
       "      <td>-2.056697</td>\n",
       "      <td>30.499331</td>\n",
       "    </tr>\n",
       "    <tr>\n",
       "      <th>2002-09-11</th>\n",
       "      <td>27.003199</td>\n",
       "      <td>14.581637</td>\n",
       "      <td>-2.688241</td>\n",
       "      <td>30.131872</td>\n",
       "    </tr>\n",
       "    <tr>\n",
       "      <th>2002-09-12</th>\n",
       "      <td>25.007810</td>\n",
       "      <td>13.499850</td>\n",
       "      <td>-3.161634</td>\n",
       "      <td>32.054496</td>\n",
       "    </tr>\n",
       "    <tr>\n",
       "      <th>2002-09-13</th>\n",
       "      <td>24.787813</td>\n",
       "      <td>11.329320</td>\n",
       "      <td>-2.826720</td>\n",
       "      <td>33.077085</td>\n",
       "    </tr>\n",
       "    <tr>\n",
       "      <th>2002-09-14</th>\n",
       "      <td>26.903225</td>\n",
       "      <td>12.068355</td>\n",
       "      <td>-2.648789</td>\n",
       "      <td>34.210246</td>\n",
       "    </tr>\n",
       "    <tr>\n",
       "      <th>2002-09-15</th>\n",
       "      <td>25.777238</td>\n",
       "      <td>11.535393</td>\n",
       "      <td>-1.952559</td>\n",
       "      <td>35.667764</td>\n",
       "    </tr>\n",
       "    <tr>\n",
       "      <th>2002-09-16</th>\n",
       "      <td>24.381155</td>\n",
       "      <td>10.885129</td>\n",
       "      <td>-4.349392</td>\n",
       "      <td>33.810491</td>\n",
       "    </tr>\n",
       "    <tr>\n",
       "      <th>2002-09-17</th>\n",
       "      <td>24.914723</td>\n",
       "      <td>10.461896</td>\n",
       "      <td>-4.523927</td>\n",
       "      <td>33.943282</td>\n",
       "    </tr>\n",
       "    <tr>\n",
       "      <th>2002-09-18</th>\n",
       "      <td>25.144380</td>\n",
       "      <td>12.115287</td>\n",
       "      <td>-5.210419</td>\n",
       "      <td>34.402361</td>\n",
       "    </tr>\n",
       "    <tr>\n",
       "      <th>2002-09-19</th>\n",
       "      <td>26.253174</td>\n",
       "      <td>11.910041</td>\n",
       "      <td>-4.889495</td>\n",
       "      <td>36.015240</td>\n",
       "    </tr>\n",
       "    <tr>\n",
       "      <th>2002-09-20</th>\n",
       "      <td>25.736717</td>\n",
       "      <td>13.275022</td>\n",
       "      <td>-2.518543</td>\n",
       "      <td>35.721396</td>\n",
       "    </tr>\n",
       "    <tr>\n",
       "      <th>2002-09-21</th>\n",
       "      <td>24.350343</td>\n",
       "      <td>14.154565</td>\n",
       "      <td>-2.495837</td>\n",
       "      <td>36.593416</td>\n",
       "    </tr>\n",
       "    <tr>\n",
       "      <th>2002-09-22</th>\n",
       "      <td>25.003458</td>\n",
       "      <td>16.235255</td>\n",
       "      <td>-2.376958</td>\n",
       "      <td>34.964767</td>\n",
       "    </tr>\n",
       "    <tr>\n",
       "      <th>2002-09-23</th>\n",
       "      <td>23.977122</td>\n",
       "      <td>16.555848</td>\n",
       "      <td>-1.746319</td>\n",
       "      <td>35.222469</td>\n",
       "    </tr>\n",
       "    <tr>\n",
       "      <th>2002-09-24</th>\n",
       "      <td>24.738345</td>\n",
       "      <td>14.692118</td>\n",
       "      <td>-3.112445</td>\n",
       "      <td>36.535400</td>\n",
       "    </tr>\n",
       "    <tr>\n",
       "      <th>2002-09-25</th>\n",
       "      <td>23.977210</td>\n",
       "      <td>14.979042</td>\n",
       "      <td>-3.557790</td>\n",
       "      <td>36.189400</td>\n",
       "    </tr>\n",
       "    <tr>\n",
       "      <th>2002-09-26</th>\n",
       "      <td>23.442975</td>\n",
       "      <td>14.431692</td>\n",
       "      <td>-4.008666</td>\n",
       "      <td>35.876610</td>\n",
       "    </tr>\n",
       "  </tbody>\n",
       "</table>\n",
       "<p>1000 rows × 4 columns</p>\n",
       "</div>"
      ],
      "text/plain": [
       "                    A          B         C          D\n",
       "2000-01-01  -0.067377  -0.035638 -0.021100  -0.752226\n",
       "2000-01-02  -0.341526   0.867899  0.147792  -2.190171\n",
       "2000-01-03  -0.118822   1.501776 -0.472641  -1.448117\n",
       "2000-01-04  -0.727838   0.889072 -2.704155  -2.934499\n",
       "2000-01-05   0.531075   1.073829 -2.847804  -2.517378\n",
       "2000-01-06   0.091479   1.478376 -3.029743  -0.906359\n",
       "2000-01-07   1.492265   2.113159 -3.549888  -2.117010\n",
       "2000-01-08   1.851265   2.703705 -3.141079   0.079449\n",
       "2000-01-09   2.213547   3.685811 -3.029953   1.620792\n",
       "2000-01-10   2.028055   2.034899 -2.115068   3.566303\n",
       "2000-01-11   2.562459   1.562458 -1.266220   3.125902\n",
       "2000-01-12   3.563649   2.535037 -1.609729   1.636481\n",
       "2000-01-13   3.723012   3.932004 -1.801761   3.817881\n",
       "2000-01-14   5.097816   4.143041 -2.183664   2.784085\n",
       "2000-01-15   5.415682   2.042796 -1.186153   3.828601\n",
       "2000-01-16   5.875182   0.968725 -1.122289   3.771920\n",
       "2000-01-17   5.352968  -0.637527 -2.741543   2.230048\n",
       "2000-01-18   5.403275   0.561341 -1.943048   1.291451\n",
       "2000-01-19   5.898989   0.260370  0.010189   2.686019\n",
       "2000-01-20   6.446354   0.214986 -0.621627   2.265080\n",
       "2000-01-21   6.093474   0.696028 -0.604788   2.150748\n",
       "2000-01-22   4.816564   2.795033 -1.992706   2.617393\n",
       "2000-01-23   4.484142   2.215204 -2.216621   4.585891\n",
       "2000-01-24   6.218927   2.262602 -2.310701   3.788079\n",
       "2000-01-25   7.490060   1.679666 -2.538864   2.202103\n",
       "2000-01-26   6.878468   0.292143 -2.203920   3.033513\n",
       "2000-01-27   8.265415  -1.160655 -2.457205   1.806101\n",
       "2000-01-28   8.800961   0.506590 -1.682888   2.444211\n",
       "2000-01-29   9.069957   0.362689 -1.158481   5.313443\n",
       "2000-01-30   9.342882   0.817050 -1.591316   3.924335\n",
       "...               ...        ...       ...        ...\n",
       "2002-08-28  28.436666  12.185562  0.713590  33.470501\n",
       "2002-08-29  27.263426  12.515911 -0.883309  33.574743\n",
       "2002-08-30  26.365767  12.070123 -1.070257  33.533270\n",
       "2002-08-31  24.797556  12.432728 -2.800671  31.792798\n",
       "2002-09-01  24.063454  12.938684 -2.392343  31.930125\n",
       "2002-09-02  24.246746  13.716965 -1.796432  32.215315\n",
       "2002-09-03  25.025802  15.046681  0.176345  31.351909\n",
       "2002-09-04  25.722266  15.208363 -2.028918  30.888133\n",
       "2002-09-05  27.017412  16.800099 -3.470389  30.260138\n",
       "2002-09-06  28.739792  17.267548 -4.587964  30.492176\n",
       "2002-09-07  28.691180  17.406774 -3.824464  30.611210\n",
       "2002-09-08  28.051428  16.879897 -3.696306  30.545629\n",
       "2002-09-09  26.684984  16.739758 -2.998523  31.096066\n",
       "2002-09-10  26.921334  16.768293 -2.056697  30.499331\n",
       "2002-09-11  27.003199  14.581637 -2.688241  30.131872\n",
       "2002-09-12  25.007810  13.499850 -3.161634  32.054496\n",
       "2002-09-13  24.787813  11.329320 -2.826720  33.077085\n",
       "2002-09-14  26.903225  12.068355 -2.648789  34.210246\n",
       "2002-09-15  25.777238  11.535393 -1.952559  35.667764\n",
       "2002-09-16  24.381155  10.885129 -4.349392  33.810491\n",
       "2002-09-17  24.914723  10.461896 -4.523927  33.943282\n",
       "2002-09-18  25.144380  12.115287 -5.210419  34.402361\n",
       "2002-09-19  26.253174  11.910041 -4.889495  36.015240\n",
       "2002-09-20  25.736717  13.275022 -2.518543  35.721396\n",
       "2002-09-21  24.350343  14.154565 -2.495837  36.593416\n",
       "2002-09-22  25.003458  16.235255 -2.376958  34.964767\n",
       "2002-09-23  23.977122  16.555848 -1.746319  35.222469\n",
       "2002-09-24  24.738345  14.692118 -3.112445  36.535400\n",
       "2002-09-25  23.977210  14.979042 -3.557790  36.189400\n",
       "2002-09-26  23.442975  14.431692 -4.008666  35.876610\n",
       "\n",
       "[1000 rows x 4 columns]"
      ]
     },
     "execution_count": 137,
     "metadata": {},
     "output_type": "execute_result"
    }
   ],
   "source": [
    "pd.read_hdf('foo.h5','df')"
   ]
  },
  {
   "cell_type": "markdown",
   "metadata": {},
   "source": [
    "### Excel\n",
    "\n",
    "Reading and writing to [MS Excel](http://pandas.pydata.org/pandas-docs/stable/io.html#io-excel)\n",
    "\n",
    "Writing to an excel file"
   ]
  },
  {
   "cell_type": "code",
   "execution_count": 138,
   "metadata": {
    "collapsed": true
   },
   "outputs": [],
   "source": [
    "df.to_excel('foo.xlsx', sheet_name='Sheet1')"
   ]
  },
  {
   "cell_type": "markdown",
   "metadata": {},
   "source": [
    "Reading from an excel file"
   ]
  },
  {
   "cell_type": "code",
   "execution_count": 139,
   "metadata": {
    "collapsed": false
   },
   "outputs": [
    {
     "data": {
      "text/html": [
       "<div>\n",
       "<table border=\"1\" class=\"dataframe\">\n",
       "  <thead>\n",
       "    <tr style=\"text-align: right;\">\n",
       "      <th></th>\n",
       "      <th>A</th>\n",
       "      <th>B</th>\n",
       "      <th>C</th>\n",
       "      <th>D</th>\n",
       "    </tr>\n",
       "  </thead>\n",
       "  <tbody>\n",
       "    <tr>\n",
       "      <th>2000-01-01</th>\n",
       "      <td>-0.067377</td>\n",
       "      <td>-0.035638</td>\n",
       "      <td>-0.021100</td>\n",
       "      <td>-0.752226</td>\n",
       "    </tr>\n",
       "    <tr>\n",
       "      <th>2000-01-02</th>\n",
       "      <td>-0.341526</td>\n",
       "      <td>0.867899</td>\n",
       "      <td>0.147792</td>\n",
       "      <td>-2.190171</td>\n",
       "    </tr>\n",
       "    <tr>\n",
       "      <th>2000-01-03</th>\n",
       "      <td>-0.118822</td>\n",
       "      <td>1.501776</td>\n",
       "      <td>-0.472641</td>\n",
       "      <td>-1.448117</td>\n",
       "    </tr>\n",
       "    <tr>\n",
       "      <th>2000-01-04</th>\n",
       "      <td>-0.727838</td>\n",
       "      <td>0.889072</td>\n",
       "      <td>-2.704155</td>\n",
       "      <td>-2.934499</td>\n",
       "    </tr>\n",
       "    <tr>\n",
       "      <th>2000-01-05</th>\n",
       "      <td>0.531075</td>\n",
       "      <td>1.073829</td>\n",
       "      <td>-2.847804</td>\n",
       "      <td>-2.517378</td>\n",
       "    </tr>\n",
       "    <tr>\n",
       "      <th>2000-01-06</th>\n",
       "      <td>0.091479</td>\n",
       "      <td>1.478376</td>\n",
       "      <td>-3.029743</td>\n",
       "      <td>-0.906359</td>\n",
       "    </tr>\n",
       "    <tr>\n",
       "      <th>2000-01-07</th>\n",
       "      <td>1.492265</td>\n",
       "      <td>2.113159</td>\n",
       "      <td>-3.549888</td>\n",
       "      <td>-2.117010</td>\n",
       "    </tr>\n",
       "    <tr>\n",
       "      <th>2000-01-08</th>\n",
       "      <td>1.851265</td>\n",
       "      <td>2.703705</td>\n",
       "      <td>-3.141079</td>\n",
       "      <td>0.079449</td>\n",
       "    </tr>\n",
       "    <tr>\n",
       "      <th>2000-01-09</th>\n",
       "      <td>2.213547</td>\n",
       "      <td>3.685811</td>\n",
       "      <td>-3.029953</td>\n",
       "      <td>1.620792</td>\n",
       "    </tr>\n",
       "    <tr>\n",
       "      <th>2000-01-10</th>\n",
       "      <td>2.028055</td>\n",
       "      <td>2.034899</td>\n",
       "      <td>-2.115068</td>\n",
       "      <td>3.566303</td>\n",
       "    </tr>\n",
       "    <tr>\n",
       "      <th>2000-01-11</th>\n",
       "      <td>2.562459</td>\n",
       "      <td>1.562458</td>\n",
       "      <td>-1.266220</td>\n",
       "      <td>3.125902</td>\n",
       "    </tr>\n",
       "    <tr>\n",
       "      <th>2000-01-12</th>\n",
       "      <td>3.563649</td>\n",
       "      <td>2.535037</td>\n",
       "      <td>-1.609729</td>\n",
       "      <td>1.636481</td>\n",
       "    </tr>\n",
       "    <tr>\n",
       "      <th>2000-01-13</th>\n",
       "      <td>3.723012</td>\n",
       "      <td>3.932004</td>\n",
       "      <td>-1.801761</td>\n",
       "      <td>3.817881</td>\n",
       "    </tr>\n",
       "    <tr>\n",
       "      <th>2000-01-14</th>\n",
       "      <td>5.097816</td>\n",
       "      <td>4.143041</td>\n",
       "      <td>-2.183664</td>\n",
       "      <td>2.784085</td>\n",
       "    </tr>\n",
       "    <tr>\n",
       "      <th>2000-01-15</th>\n",
       "      <td>5.415682</td>\n",
       "      <td>2.042796</td>\n",
       "      <td>-1.186153</td>\n",
       "      <td>3.828601</td>\n",
       "    </tr>\n",
       "    <tr>\n",
       "      <th>2000-01-16</th>\n",
       "      <td>5.875182</td>\n",
       "      <td>0.968725</td>\n",
       "      <td>-1.122289</td>\n",
       "      <td>3.771920</td>\n",
       "    </tr>\n",
       "    <tr>\n",
       "      <th>2000-01-17</th>\n",
       "      <td>5.352968</td>\n",
       "      <td>-0.637527</td>\n",
       "      <td>-2.741543</td>\n",
       "      <td>2.230048</td>\n",
       "    </tr>\n",
       "    <tr>\n",
       "      <th>2000-01-18</th>\n",
       "      <td>5.403275</td>\n",
       "      <td>0.561341</td>\n",
       "      <td>-1.943048</td>\n",
       "      <td>1.291451</td>\n",
       "    </tr>\n",
       "    <tr>\n",
       "      <th>2000-01-19</th>\n",
       "      <td>5.898989</td>\n",
       "      <td>0.260370</td>\n",
       "      <td>0.010189</td>\n",
       "      <td>2.686019</td>\n",
       "    </tr>\n",
       "    <tr>\n",
       "      <th>2000-01-20</th>\n",
       "      <td>6.446354</td>\n",
       "      <td>0.214986</td>\n",
       "      <td>-0.621627</td>\n",
       "      <td>2.265080</td>\n",
       "    </tr>\n",
       "    <tr>\n",
       "      <th>2000-01-21</th>\n",
       "      <td>6.093474</td>\n",
       "      <td>0.696028</td>\n",
       "      <td>-0.604788</td>\n",
       "      <td>2.150748</td>\n",
       "    </tr>\n",
       "    <tr>\n",
       "      <th>2000-01-22</th>\n",
       "      <td>4.816564</td>\n",
       "      <td>2.795033</td>\n",
       "      <td>-1.992706</td>\n",
       "      <td>2.617393</td>\n",
       "    </tr>\n",
       "    <tr>\n",
       "      <th>2000-01-23</th>\n",
       "      <td>4.484142</td>\n",
       "      <td>2.215204</td>\n",
       "      <td>-2.216621</td>\n",
       "      <td>4.585891</td>\n",
       "    </tr>\n",
       "    <tr>\n",
       "      <th>2000-01-24</th>\n",
       "      <td>6.218927</td>\n",
       "      <td>2.262602</td>\n",
       "      <td>-2.310701</td>\n",
       "      <td>3.788079</td>\n",
       "    </tr>\n",
       "    <tr>\n",
       "      <th>2000-01-25</th>\n",
       "      <td>7.490060</td>\n",
       "      <td>1.679666</td>\n",
       "      <td>-2.538864</td>\n",
       "      <td>2.202103</td>\n",
       "    </tr>\n",
       "    <tr>\n",
       "      <th>2000-01-26</th>\n",
       "      <td>6.878468</td>\n",
       "      <td>0.292143</td>\n",
       "      <td>-2.203920</td>\n",
       "      <td>3.033513</td>\n",
       "    </tr>\n",
       "    <tr>\n",
       "      <th>2000-01-27</th>\n",
       "      <td>8.265415</td>\n",
       "      <td>-1.160655</td>\n",
       "      <td>-2.457205</td>\n",
       "      <td>1.806101</td>\n",
       "    </tr>\n",
       "    <tr>\n",
       "      <th>2000-01-28</th>\n",
       "      <td>8.800961</td>\n",
       "      <td>0.506590</td>\n",
       "      <td>-1.682888</td>\n",
       "      <td>2.444211</td>\n",
       "    </tr>\n",
       "    <tr>\n",
       "      <th>2000-01-29</th>\n",
       "      <td>9.069957</td>\n",
       "      <td>0.362689</td>\n",
       "      <td>-1.158481</td>\n",
       "      <td>5.313443</td>\n",
       "    </tr>\n",
       "    <tr>\n",
       "      <th>2000-01-30</th>\n",
       "      <td>9.342882</td>\n",
       "      <td>0.817050</td>\n",
       "      <td>-1.591316</td>\n",
       "      <td>3.924335</td>\n",
       "    </tr>\n",
       "    <tr>\n",
       "      <th>...</th>\n",
       "      <td>...</td>\n",
       "      <td>...</td>\n",
       "      <td>...</td>\n",
       "      <td>...</td>\n",
       "    </tr>\n",
       "    <tr>\n",
       "      <th>2002-08-28</th>\n",
       "      <td>28.436666</td>\n",
       "      <td>12.185562</td>\n",
       "      <td>0.713590</td>\n",
       "      <td>33.470501</td>\n",
       "    </tr>\n",
       "    <tr>\n",
       "      <th>2002-08-29</th>\n",
       "      <td>27.263426</td>\n",
       "      <td>12.515911</td>\n",
       "      <td>-0.883309</td>\n",
       "      <td>33.574743</td>\n",
       "    </tr>\n",
       "    <tr>\n",
       "      <th>2002-08-30</th>\n",
       "      <td>26.365767</td>\n",
       "      <td>12.070123</td>\n",
       "      <td>-1.070257</td>\n",
       "      <td>33.533270</td>\n",
       "    </tr>\n",
       "    <tr>\n",
       "      <th>2002-08-31</th>\n",
       "      <td>24.797556</td>\n",
       "      <td>12.432728</td>\n",
       "      <td>-2.800671</td>\n",
       "      <td>31.792798</td>\n",
       "    </tr>\n",
       "    <tr>\n",
       "      <th>2002-09-01</th>\n",
       "      <td>24.063454</td>\n",
       "      <td>12.938684</td>\n",
       "      <td>-2.392343</td>\n",
       "      <td>31.930125</td>\n",
       "    </tr>\n",
       "    <tr>\n",
       "      <th>2002-09-02</th>\n",
       "      <td>24.246746</td>\n",
       "      <td>13.716965</td>\n",
       "      <td>-1.796432</td>\n",
       "      <td>32.215315</td>\n",
       "    </tr>\n",
       "    <tr>\n",
       "      <th>2002-09-03</th>\n",
       "      <td>25.025802</td>\n",
       "      <td>15.046681</td>\n",
       "      <td>0.176345</td>\n",
       "      <td>31.351909</td>\n",
       "    </tr>\n",
       "    <tr>\n",
       "      <th>2002-09-04</th>\n",
       "      <td>25.722266</td>\n",
       "      <td>15.208363</td>\n",
       "      <td>-2.028918</td>\n",
       "      <td>30.888133</td>\n",
       "    </tr>\n",
       "    <tr>\n",
       "      <th>2002-09-05</th>\n",
       "      <td>27.017412</td>\n",
       "      <td>16.800099</td>\n",
       "      <td>-3.470389</td>\n",
       "      <td>30.260138</td>\n",
       "    </tr>\n",
       "    <tr>\n",
       "      <th>2002-09-06</th>\n",
       "      <td>28.739792</td>\n",
       "      <td>17.267548</td>\n",
       "      <td>-4.587964</td>\n",
       "      <td>30.492176</td>\n",
       "    </tr>\n",
       "    <tr>\n",
       "      <th>2002-09-07</th>\n",
       "      <td>28.691180</td>\n",
       "      <td>17.406774</td>\n",
       "      <td>-3.824464</td>\n",
       "      <td>30.611210</td>\n",
       "    </tr>\n",
       "    <tr>\n",
       "      <th>2002-09-08</th>\n",
       "      <td>28.051428</td>\n",
       "      <td>16.879897</td>\n",
       "      <td>-3.696306</td>\n",
       "      <td>30.545629</td>\n",
       "    </tr>\n",
       "    <tr>\n",
       "      <th>2002-09-09</th>\n",
       "      <td>26.684984</td>\n",
       "      <td>16.739758</td>\n",
       "      <td>-2.998523</td>\n",
       "      <td>31.096066</td>\n",
       "    </tr>\n",
       "    <tr>\n",
       "      <th>2002-09-10</th>\n",
       "      <td>26.921334</td>\n",
       "      <td>16.768293</td>\n",
       "      <td>-2.056697</td>\n",
       "      <td>30.499331</td>\n",
       "    </tr>\n",
       "    <tr>\n",
       "      <th>2002-09-11</th>\n",
       "      <td>27.003199</td>\n",
       "      <td>14.581637</td>\n",
       "      <td>-2.688241</td>\n",
       "      <td>30.131872</td>\n",
       "    </tr>\n",
       "    <tr>\n",
       "      <th>2002-09-12</th>\n",
       "      <td>25.007810</td>\n",
       "      <td>13.499850</td>\n",
       "      <td>-3.161634</td>\n",
       "      <td>32.054496</td>\n",
       "    </tr>\n",
       "    <tr>\n",
       "      <th>2002-09-13</th>\n",
       "      <td>24.787813</td>\n",
       "      <td>11.329320</td>\n",
       "      <td>-2.826720</td>\n",
       "      <td>33.077085</td>\n",
       "    </tr>\n",
       "    <tr>\n",
       "      <th>2002-09-14</th>\n",
       "      <td>26.903225</td>\n",
       "      <td>12.068355</td>\n",
       "      <td>-2.648789</td>\n",
       "      <td>34.210246</td>\n",
       "    </tr>\n",
       "    <tr>\n",
       "      <th>2002-09-15</th>\n",
       "      <td>25.777238</td>\n",
       "      <td>11.535393</td>\n",
       "      <td>-1.952559</td>\n",
       "      <td>35.667764</td>\n",
       "    </tr>\n",
       "    <tr>\n",
       "      <th>2002-09-16</th>\n",
       "      <td>24.381155</td>\n",
       "      <td>10.885129</td>\n",
       "      <td>-4.349392</td>\n",
       "      <td>33.810491</td>\n",
       "    </tr>\n",
       "    <tr>\n",
       "      <th>2002-09-17</th>\n",
       "      <td>24.914723</td>\n",
       "      <td>10.461896</td>\n",
       "      <td>-4.523927</td>\n",
       "      <td>33.943282</td>\n",
       "    </tr>\n",
       "    <tr>\n",
       "      <th>2002-09-18</th>\n",
       "      <td>25.144380</td>\n",
       "      <td>12.115287</td>\n",
       "      <td>-5.210419</td>\n",
       "      <td>34.402361</td>\n",
       "    </tr>\n",
       "    <tr>\n",
       "      <th>2002-09-19</th>\n",
       "      <td>26.253174</td>\n",
       "      <td>11.910041</td>\n",
       "      <td>-4.889495</td>\n",
       "      <td>36.015240</td>\n",
       "    </tr>\n",
       "    <tr>\n",
       "      <th>2002-09-20</th>\n",
       "      <td>25.736717</td>\n",
       "      <td>13.275022</td>\n",
       "      <td>-2.518543</td>\n",
       "      <td>35.721396</td>\n",
       "    </tr>\n",
       "    <tr>\n",
       "      <th>2002-09-21</th>\n",
       "      <td>24.350343</td>\n",
       "      <td>14.154565</td>\n",
       "      <td>-2.495837</td>\n",
       "      <td>36.593416</td>\n",
       "    </tr>\n",
       "    <tr>\n",
       "      <th>2002-09-22</th>\n",
       "      <td>25.003458</td>\n",
       "      <td>16.235255</td>\n",
       "      <td>-2.376958</td>\n",
       "      <td>34.964767</td>\n",
       "    </tr>\n",
       "    <tr>\n",
       "      <th>2002-09-23</th>\n",
       "      <td>23.977122</td>\n",
       "      <td>16.555848</td>\n",
       "      <td>-1.746319</td>\n",
       "      <td>35.222469</td>\n",
       "    </tr>\n",
       "    <tr>\n",
       "      <th>2002-09-24</th>\n",
       "      <td>24.738345</td>\n",
       "      <td>14.692118</td>\n",
       "      <td>-3.112445</td>\n",
       "      <td>36.535400</td>\n",
       "    </tr>\n",
       "    <tr>\n",
       "      <th>2002-09-25</th>\n",
       "      <td>23.977210</td>\n",
       "      <td>14.979042</td>\n",
       "      <td>-3.557790</td>\n",
       "      <td>36.189400</td>\n",
       "    </tr>\n",
       "    <tr>\n",
       "      <th>2002-09-26</th>\n",
       "      <td>23.442975</td>\n",
       "      <td>14.431692</td>\n",
       "      <td>-4.008666</td>\n",
       "      <td>35.876610</td>\n",
       "    </tr>\n",
       "  </tbody>\n",
       "</table>\n",
       "<p>1000 rows × 4 columns</p>\n",
       "</div>"
      ],
      "text/plain": [
       "                    A          B         C          D\n",
       "2000-01-01  -0.067377  -0.035638 -0.021100  -0.752226\n",
       "2000-01-02  -0.341526   0.867899  0.147792  -2.190171\n",
       "2000-01-03  -0.118822   1.501776 -0.472641  -1.448117\n",
       "2000-01-04  -0.727838   0.889072 -2.704155  -2.934499\n",
       "2000-01-05   0.531075   1.073829 -2.847804  -2.517378\n",
       "2000-01-06   0.091479   1.478376 -3.029743  -0.906359\n",
       "2000-01-07   1.492265   2.113159 -3.549888  -2.117010\n",
       "2000-01-08   1.851265   2.703705 -3.141079   0.079449\n",
       "2000-01-09   2.213547   3.685811 -3.029953   1.620792\n",
       "2000-01-10   2.028055   2.034899 -2.115068   3.566303\n",
       "2000-01-11   2.562459   1.562458 -1.266220   3.125902\n",
       "2000-01-12   3.563649   2.535037 -1.609729   1.636481\n",
       "2000-01-13   3.723012   3.932004 -1.801761   3.817881\n",
       "2000-01-14   5.097816   4.143041 -2.183664   2.784085\n",
       "2000-01-15   5.415682   2.042796 -1.186153   3.828601\n",
       "2000-01-16   5.875182   0.968725 -1.122289   3.771920\n",
       "2000-01-17   5.352968  -0.637527 -2.741543   2.230048\n",
       "2000-01-18   5.403275   0.561341 -1.943048   1.291451\n",
       "2000-01-19   5.898989   0.260370  0.010189   2.686019\n",
       "2000-01-20   6.446354   0.214986 -0.621627   2.265080\n",
       "2000-01-21   6.093474   0.696028 -0.604788   2.150748\n",
       "2000-01-22   4.816564   2.795033 -1.992706   2.617393\n",
       "2000-01-23   4.484142   2.215204 -2.216621   4.585891\n",
       "2000-01-24   6.218927   2.262602 -2.310701   3.788079\n",
       "2000-01-25   7.490060   1.679666 -2.538864   2.202103\n",
       "2000-01-26   6.878468   0.292143 -2.203920   3.033513\n",
       "2000-01-27   8.265415  -1.160655 -2.457205   1.806101\n",
       "2000-01-28   8.800961   0.506590 -1.682888   2.444211\n",
       "2000-01-29   9.069957   0.362689 -1.158481   5.313443\n",
       "2000-01-30   9.342882   0.817050 -1.591316   3.924335\n",
       "...               ...        ...       ...        ...\n",
       "2002-08-28  28.436666  12.185562  0.713590  33.470501\n",
       "2002-08-29  27.263426  12.515911 -0.883309  33.574743\n",
       "2002-08-30  26.365767  12.070123 -1.070257  33.533270\n",
       "2002-08-31  24.797556  12.432728 -2.800671  31.792798\n",
       "2002-09-01  24.063454  12.938684 -2.392343  31.930125\n",
       "2002-09-02  24.246746  13.716965 -1.796432  32.215315\n",
       "2002-09-03  25.025802  15.046681  0.176345  31.351909\n",
       "2002-09-04  25.722266  15.208363 -2.028918  30.888133\n",
       "2002-09-05  27.017412  16.800099 -3.470389  30.260138\n",
       "2002-09-06  28.739792  17.267548 -4.587964  30.492176\n",
       "2002-09-07  28.691180  17.406774 -3.824464  30.611210\n",
       "2002-09-08  28.051428  16.879897 -3.696306  30.545629\n",
       "2002-09-09  26.684984  16.739758 -2.998523  31.096066\n",
       "2002-09-10  26.921334  16.768293 -2.056697  30.499331\n",
       "2002-09-11  27.003199  14.581637 -2.688241  30.131872\n",
       "2002-09-12  25.007810  13.499850 -3.161634  32.054496\n",
       "2002-09-13  24.787813  11.329320 -2.826720  33.077085\n",
       "2002-09-14  26.903225  12.068355 -2.648789  34.210246\n",
       "2002-09-15  25.777238  11.535393 -1.952559  35.667764\n",
       "2002-09-16  24.381155  10.885129 -4.349392  33.810491\n",
       "2002-09-17  24.914723  10.461896 -4.523927  33.943282\n",
       "2002-09-18  25.144380  12.115287 -5.210419  34.402361\n",
       "2002-09-19  26.253174  11.910041 -4.889495  36.015240\n",
       "2002-09-20  25.736717  13.275022 -2.518543  35.721396\n",
       "2002-09-21  24.350343  14.154565 -2.495837  36.593416\n",
       "2002-09-22  25.003458  16.235255 -2.376958  34.964767\n",
       "2002-09-23  23.977122  16.555848 -1.746319  35.222469\n",
       "2002-09-24  24.738345  14.692118 -3.112445  36.535400\n",
       "2002-09-25  23.977210  14.979042 -3.557790  36.189400\n",
       "2002-09-26  23.442975  14.431692 -4.008666  35.876610\n",
       "\n",
       "[1000 rows x 4 columns]"
      ]
     },
     "execution_count": 139,
     "metadata": {},
     "output_type": "execute_result"
    }
   ],
   "source": [
    "pd.read_excel('foo.xlsx', 'Sheet1', index_col=None, na_values=['NA'])"
   ]
  },
  {
   "cell_type": "markdown",
   "metadata": {},
   "source": [
    "### Gotchas\n",
    "If you are trying an operation and you see an exception like:"
   ]
  },
  {
   "cell_type": "code",
   "execution_count": 140,
   "metadata": {
    "collapsed": false
   },
   "outputs": [
    {
     "ename": "ValueError",
     "evalue": "The truth value of a Series is ambiguous. Use a.empty, a.bool(), a.item(), a.any() or a.all().",
     "output_type": "error",
     "traceback": [
      "\u001b[0;31m---------------------------------------------------------------------------\u001b[0m",
      "\u001b[0;31mValueError\u001b[0m                                Traceback (most recent call last)",
      "\u001b[0;32m<ipython-input-140-9cae3ab0f79f>\u001b[0m in \u001b[0;36m<module>\u001b[0;34m()\u001b[0m\n\u001b[0;32m----> 1\u001b[0;31m \u001b[0;32mif\u001b[0m \u001b[0mpd\u001b[0m\u001b[0;34m.\u001b[0m\u001b[0mSeries\u001b[0m\u001b[0;34m(\u001b[0m\u001b[0;34m[\u001b[0m\u001b[0mFalse\u001b[0m\u001b[0;34m,\u001b[0m \u001b[0mTrue\u001b[0m\u001b[0;34m,\u001b[0m \u001b[0mFalse\u001b[0m\u001b[0;34m]\u001b[0m\u001b[0;34m)\u001b[0m\u001b[0;34m:\u001b[0m\u001b[0;34m\u001b[0m\u001b[0m\n\u001b[0m\u001b[1;32m      2\u001b[0m     \u001b[0;32mprint\u001b[0m\u001b[0;34m(\u001b[0m\u001b[0;34m\"I was true\"\u001b[0m\u001b[0;34m)\u001b[0m\u001b[0;34m\u001b[0m\u001b[0m\n",
      "\u001b[0;32m/Users/takenory/.pyenv/versions/anaconda2-4.0.0/lib/python2.7/site-packages/pandas/core/generic.pyc\u001b[0m in \u001b[0;36m__nonzero__\u001b[0;34m(self)\u001b[0m\n\u001b[1;32m    885\u001b[0m         raise ValueError(\"The truth value of a {0} is ambiguous. \"\n\u001b[1;32m    886\u001b[0m                          \u001b[0;34m\"Use a.empty, a.bool(), a.item(), a.any() or a.all().\"\u001b[0m\u001b[0;34m\u001b[0m\u001b[0m\n\u001b[0;32m--> 887\u001b[0;31m                          .format(self.__class__.__name__))\n\u001b[0m\u001b[1;32m    888\u001b[0m \u001b[0;34m\u001b[0m\u001b[0m\n\u001b[1;32m    889\u001b[0m     \u001b[0m__bool__\u001b[0m \u001b[0;34m=\u001b[0m \u001b[0m__nonzero__\u001b[0m\u001b[0;34m\u001b[0m\u001b[0m\n",
      "\u001b[0;31mValueError\u001b[0m: The truth value of a Series is ambiguous. Use a.empty, a.bool(), a.item(), a.any() or a.all()."
     ]
    }
   ],
   "source": [
    "if pd.Series([False, True, False]):\n",
    "    print(\"I was true\")"
   ]
  },
  {
   "cell_type": "markdown",
   "metadata": {},
   "source": [
    "See [Comparisons](http://pandas.pydata.org/pandas-docs/stable/basics.html#basics-compare) for an explanation and what to do.\n",
    "\n",
    "See [Gotchas](http://pandas.pydata.org/pandas-docs/stable/gotchas.html#gotchas) as well."
   ]
  }
 ],
 "metadata": {
  "kernelspec": {
   "display_name": "Python 2",
   "language": "python",
   "name": "python2"
  },
  "language_info": {
   "codemirror_mode": {
    "name": "ipython",
    "version": 2
   },
   "file_extension": ".py",
   "mimetype": "text/x-python",
   "name": "python",
   "nbconvert_exporter": "python",
   "pygments_lexer": "ipython2",
   "version": "2.7.12"
  }
 },
 "nbformat": 4,
 "nbformat_minor": 0
}
