{
  "cells": [
    {
      "cell_type": "code",
      "source": [
        "# The usual preamble\n",
        "%matplotlib inline\n",
        "import pandas as pd\n",
        "import matplotlib.pyplot as plt\n",
        "import numpy as np\n",
        "\n",
        "# Make the graphs a bit prettier, and bigger\n",
        "pd.set_option('display.mpl_style', 'default')\n",
        "plt.rcParams['figure.figsize'] = (15, 5)\n",
        "\n\n",
        "# This is necessary to show lots of columns in pandas 0.12. \n",
        "# Not necessary in pandas 0.13.\n",
        "pd.set_option('display.width', 5000) \n",
        "pd.set_option('display.max_columns', 60)"
      ],
      "outputs": [],
      "execution_count": null,
      "metadata": {
        "collapsed": false
      }
    },
    {
      "cell_type": "markdown",
      "source": [
        "接着用NYC的那311条数据"
      ],
      "metadata": {}
    },
    {
      "cell_type": "code",
      "source": [
        "complaints = pd.read_csv('../data/311-service-requests.csv')"
      ],
      "outputs": [],
      "execution_count": null,
      "metadata": {
        "collapsed": false
      }
    },
    {
      "cell_type": "markdown",
      "source": [
        "# 3.1 只选取噪声类的投诉"
      ],
      "metadata": {}
    },
    {
      "cell_type": "markdown",
      "source": [
        "现在我想知道哪个区的噪声投诉最多。首先来看下数据长什么样："
      ],
      "metadata": {}
    },
    {
      "cell_type": "code",
      "source": [
        "complaints[:5]"
      ],
      "outputs": [],
      "execution_count": null,
      "metadata": {
        "collapsed": false
      }
    },
    {
      "cell_type": "markdown",
      "source": [
        "为了得到噪声投诉的数据，首先可以看到”Complaint Type“列中关于噪声的第一行数据是”Noise - Street/Sidewalk“，接下来告诉你怎么获取这样的数据。"
      ],
      "metadata": {}
    },
    {
      "cell_type": "code",
      "source": [
        "noise_complaints = complaints[complaints['Complaint Type'] == \"Noise - Street/Sidewalk\"]\n",
        "noise_complaints[:3]"
      ],
      "outputs": [],
      "execution_count": null,
      "metadata": {
        "collapsed": false
      }
    },
    {
      "cell_type": "markdown",
      "source": [
        "如果你把`noise_complaints`列全部打印出来一一查看的话，就可以看到上面这个方法的结果没有问题。那么，pandas是怎么工作的呢？下面分两部来解释："
      ],
      "metadata": {}
    },
    {
      "cell_type": "code",
      "source": [
        "complaints['Complaint Type'] == \"Noise - Street/Sidewalk\""
      ],
      "outputs": [],
      "execution_count": null,
      "metadata": {
        "collapsed": false
      }
    },
    {
      "cell_type": "markdown",
      "source": [
        "首先，通过比较操作，得到了一列布尔值，其长度和整个数据集的行数是一样的。如果我们用这个布尔类型的值作为DataFrame的索引的话，得到的就是布尔值中为True的部分行数据。实际上就是做了一个Mask（掩码）操作。需要注意的是，保持布尔值的长度和DataFrame的行数一致。\n",
        "\n此外，还可以融合一系列的布尔操作（`&`）来得到更复杂的条件："
      ],
      "metadata": {}
    },
    {
      "cell_type": "code",
      "source": [
        "is_noise = complaints['Complaint Type'] == \"Noise - Street/Sidewalk\"\n",
        "in_brooklyn = complaints['Borough'] == \"BROOKLYN\"\n",
        "complaints[is_noise & in_brooklyn][:5]"
      ],
      "outputs": [],
      "execution_count": null,
      "metadata": {
        "collapsed": false
      }
    },
    {
      "cell_type": "markdown",
      "source": [
        "简洁点，只显示感兴趣的几列数据："
      ],
      "metadata": {}
    },
    {
      "cell_type": "code",
      "source": [
        "complaints[is_noise & in_brooklyn][['Complaint Type', 'Borough', 'Created Date', 'Descriptor']][:10]"
      ],
      "outputs": [],
      "execution_count": null,
      "metadata": {
        "collapsed": false
      }
    },
    {
      "cell_type": "markdown",
      "source": [
        "# 3.2 插点关于numpy的题外话"
      ],
      "metadata": {}
    },
    {
      "cell_type": "markdown",
      "source": [
        "DataFrame中的每一列实际上是`pd.Series`类型的数据。"
      ],
      "metadata": {}
    },
    {
      "cell_type": "code",
      "source": [
        "pd.Series([1,2,3])"
      ],
      "outputs": [],
      "execution_count": null,
      "metadata": {
        "collapsed": false
      }
    },
    {
      "cell_type": "markdown",
      "source": [
        "pandas中Series类型的数据实际上是numpy arrays类型的数据，如果你对任何`Series`类型的数据使用`.values`方法的话可以得到内部的numpy array"
      ],
      "metadata": {}
    },
    {
      "cell_type": "code",
      "source": [
        "np.array([1,2,3])"
      ],
      "outputs": [],
      "execution_count": null,
      "metadata": {
        "collapsed": false
      }
    },
    {
      "cell_type": "code",
      "source": [
        "pd.Series([1,2,3]).values"
      ],
      "outputs": [],
      "execution_count": null,
      "metadata": {
        "collapsed": false
      }
    },
    {
      "cell_type": "markdown",
      "source": [
        "因此，一些二值化的操作对numpy 的array来说都是没问题的："
      ],
      "metadata": {}
    },
    {
      "cell_type": "code",
      "source": [
        "arr = np.array([1,2,3])"
      ],
      "outputs": [],
      "execution_count": null,
      "metadata": {
        "collapsed": false
      }
    },
    {
      "cell_type": "code",
      "source": [
        "arr != 2"
      ],
      "outputs": [],
      "execution_count": null,
      "metadata": {
        "collapsed": false
      }
    },
    {
      "cell_type": "code",
      "source": [
        "arr[arr != 2]"
      ],
      "outputs": [],
      "execution_count": null,
      "metadata": {
        "collapsed": false
      }
    },
    {
      "cell_type": "markdown",
      "source": [
        "# 3.3 那么，哪个区的噪声投诉最多呢？"
      ],
      "metadata": {}
    },
    {
      "cell_type": "code",
      "source": [
        "is_noise = complaints['Complaint Type'] == \"Noise - Street/Sidewalk\"\n",
        "noise_complaints = complaints[is_noise]\n",
        "noise_complaints['Borough'].value_counts()"
      ],
      "outputs": [],
      "execution_count": null,
      "metadata": {
        "collapsed": false
      }
    },
    {
      "cell_type": "markdown",
      "source": [
        "是曼哈顿！等等，如果我们要按照每个区噪声投诉所占的比例来比较呢？这个相当简单，我们可以使用numpy提供的向量化运算来代替循环。\n",
        "\n注：Python2版本中，除法可能会直接整除，得到全0的结果，需要将转成float类型。"
      ],
      "metadata": {}
    },
    {
      "cell_type": "code",
      "source": [
        "noise_complaint_counts = noise_complaints['Borough'].value_counts()\n",
        "complaint_counts = complaints['Borough'].value_counts()"
      ],
      "outputs": [],
      "execution_count": null,
      "metadata": {
        "collapsed": false
      }
    },
    {
      "cell_type": "code",
      "source": [
        "noise_complaint_counts / complaint_counts\n",
        "\n# 思考：如何转化为百分数显示？请练习使用搜索引擎独立解决该问题。"
      ],
      "outputs": [],
      "execution_count": null,
      "metadata": {
        "collapsed": false,
        "scrolled": true
      }
    },
    {
      "cell_type": "code",
      "source": [
        "_ = (noise_complaint_counts / complaint_counts.astype(float)).plot(kind='bar')"
      ],
      "outputs": [],
      "execution_count": null,
      "metadata": {
        "collapsed": false
      }
    },
    {
      "cell_type": "markdown",
      "source": [
        "看来，曼哈顿确实比其他区的噪声投诉更多，多直观！"
      ],
      "metadata": {}
    },
    {
      "cell_type": "markdown",
      "source": [
        "<style>\n",
        "    @font-face {\n",
        "        font-family: \"Computer Modern\";\n",
        "        src: url('http://mirrors.ctan.org/fonts/cm-unicode/fonts/otf/cmunss.otf');\n",
        "    }\n",
        "    div.cell{\n",
        "        width:800px;\n",
        "        margin-left:16% !important;\n",
        "        margin-right:auto;\n",
        "    }\n",
        "    h1 {\n",
        "        font-family: Helvetica, serif;\n",
        "    }\n",
        "    h4{\n",
        "        margin-top:12px;\n",
        "        margin-bottom: 3px;\n",
        "       }\n",
        "    div.text_cell_render{\n",
        "        font-family: Computer Modern, \"Helvetica Neue\", Arial, Helvetica, Geneva, sans-serif;\n",
        "        line-height: 145%;\n",
        "        font-size: 130%;\n",
        "        width:800px;\n",
        "        margin-left:auto;\n",
        "        margin-right:auto;\n",
        "    }\n",
        "    .CodeMirror{\n",
        "            font-family: \"Source Code Pro\", source-code-pro,Consolas, monospace;\n",
        "    }\n",
        "    .text_cell_render h5 {\n",
        "        font-weight: 300;\n",
        "        font-size: 22pt;\n",
        "        color: #4057A1;\n",
        "        font-style: italic;\n",
        "        margin-bottom: .5em;\n",
        "        margin-top: 0.5em;\n",
        "        display: block;\n",
        "    }\n",
        "    \n",
        "    .warning{\n",
        "        color: rgb( 240, 20, 20 )\n",
        "        }  "
      ],
      "metadata": {}
    }
  ],
  "metadata": {
    "kernelspec": {
      "name": "python3",
      "language": "python",
      "display_name": "Python 3"
    },
    "language_info": {
      "name": "python",
      "version": "3.6.4",
      "mimetype": "text/x-python",
      "codemirror_mode": {
        "name": "ipython",
        "version": 3
      },
      "pygments_lexer": "ipython3",
      "nbconvert_exporter": "python",
      "file_extension": ".py"
    },
    "kernel_info": {
      "name": "python3"
    },
    "nteract": {
      "version": "0.7.1"
    }
  },
  "nbformat": 4,
  "nbformat_minor": 0
}