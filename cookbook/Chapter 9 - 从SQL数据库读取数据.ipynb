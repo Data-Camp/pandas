{
  "cells": [
    {
      "cell_type": "code",
      "source": [
        "import pandas as pd\n",
        "import sqlite3"
      ],
      "outputs": [],
      "execution_count": 2,
      "metadata": {
        "collapsed": false
      }
    },
    {
      "cell_type": "markdown",
      "source": [
        "# 9.1 从SQL数据库中读数据"
      ],
      "metadata": {}
    },
    {
      "cell_type": "markdown",
      "source": [
        "目前为止，我们所说的都是从CSV文件中读取数据，这是最常用的方式，不过除此之外，还有其他方式。Pandas能够从 HTML, JSON, SQL, Excel (!!!), HDF5, Stata等等中读取数据。本部分讲的是如何从数据库中读取数据。\n",
        "\n",
        "你可以用`pd.read_sql`函数来从SQL数据库中读数据，这个函数会自动将表的列名转换成DataFrame的列名。\n",
        "\n",
        "`read_sql`有两个参数，一个是SQL语句，另一个是数据库的连接对象。这样子分离开来意味着你可以从任何数据中读取数据，而并不在乎到底是MySQL，SQLite，PostgreSQL还是其他什么。\n",
        "\n本例将解释如何从sqlite中读数据，其他数据库也差不多的。"
      ],
      "metadata": {}
    },
    {
      "cell_type": "code",
      "source": [
        "con = sqlite3.connect(\"../data/weather_2012.sqlite\")\n",
        "df = pd.read_sql(\"SELECT * from weather_2012 LIMIT 3\", con)\n",
        "df"
      ],
      "outputs": [
        {
          "output_type": "execute_result",
          "execution_count": 3,
          "data": {
            "text/html": [
              "<div style=\"max-height:1000px;max-width:1500px;overflow:auto;\">\n",
              "<table border=\"1\" class=\"dataframe\">\n",
              "  <thead>\n",
              "    <tr style=\"text-align: right;\">\n",
              "      <th></th>\n",
              "      <th>id</th>\n",
              "      <th>date_time</th>\n",
              "      <th>temp</th>\n",
              "    </tr>\n",
              "  </thead>\n",
              "  <tbody>\n",
              "    <tr>\n",
              "      <th>0</th>\n",
              "      <td> 1</td>\n",
              "      <td> 2012-01-01 00:00:00</td>\n",
              "      <td>-1.8</td>\n",
              "    </tr>\n",
              "    <tr>\n",
              "      <th>1</th>\n",
              "      <td> 2</td>\n",
              "      <td> 2012-01-01 01:00:00</td>\n",
              "      <td>-1.8</td>\n",
              "    </tr>\n",
              "    <tr>\n",
              "      <th>2</th>\n",
              "      <td> 3</td>\n",
              "      <td> 2012-01-01 02:00:00</td>\n",
              "      <td>-1.8</td>\n",
              "    </tr>\n",
              "  </tbody>\n",
              "</table>\n",
              "</div>"
            ],
            "text/plain": [
              "   id            date_time  temp\n",
              "0   1  2012-01-01 00:00:00  -1.8\n",
              "1   2  2012-01-01 01:00:00  -1.8\n",
              "2   3  2012-01-01 02:00:00  -1.8"
            ]
          },
          "metadata": {}
        }
      ],
      "execution_count": 3,
      "metadata": {
        "collapsed": false
      }
    },
    {
      "cell_type": "markdown",
      "source": [
        "`read_sql`并不会自动将id列设为索引，你可以传递参数 `index_col`给 `read_sql`来指定索引列。\n",
        "\n如果你熟悉`read_csv`的话，你会发现它也有个 `index_col` 参数，是一个意思。"
      ],
      "metadata": {}
    },
    {
      "cell_type": "code",
      "source": [
        "df = pd.read_sql(\"SELECT * from weather_2012 LIMIT 3\", con, index_col='id')\n",
        "df"
      ],
      "outputs": [
        {
          "output_type": "execute_result",
          "execution_count": 4,
          "data": {
            "text/html": [
              "<div style=\"max-height:1000px;max-width:1500px;overflow:auto;\">\n",
              "<table border=\"1\" class=\"dataframe\">\n",
              "  <thead>\n",
              "    <tr style=\"text-align: right;\">\n",
              "      <th></th>\n",
              "      <th>date_time</th>\n",
              "      <th>temp</th>\n",
              "    </tr>\n",
              "    <tr>\n",
              "      <th>id</th>\n",
              "      <th></th>\n",
              "      <th></th>\n",
              "    </tr>\n",
              "  </thead>\n",
              "  <tbody>\n",
              "    <tr>\n",
              "      <th>1</th>\n",
              "      <td> 2012-01-01 00:00:00</td>\n",
              "      <td>-1.8</td>\n",
              "    </tr>\n",
              "    <tr>\n",
              "      <th>2</th>\n",
              "      <td> 2012-01-01 01:00:00</td>\n",
              "      <td>-1.8</td>\n",
              "    </tr>\n",
              "    <tr>\n",
              "      <th>3</th>\n",
              "      <td> 2012-01-01 02:00:00</td>\n",
              "      <td>-1.8</td>\n",
              "    </tr>\n",
              "  </tbody>\n",
              "</table>\n",
              "</div>"
            ],
            "text/plain": [
              "              date_time  temp\n",
              "id                           \n",
              "1   2012-01-01 00:00:00  -1.8\n",
              "2   2012-01-01 01:00:00  -1.8\n",
              "3   2012-01-01 02:00:00  -1.8"
            ]
          },
          "metadata": {}
        }
      ],
      "execution_count": 4,
      "metadata": {
        "collapsed": false
      }
    },
    {
      "cell_type": "markdown",
      "source": [
        "如果你希望索引列包含多个字段的话，将其作为列表传递给`index_col`就行："
      ],
      "metadata": {}
    },
    {
      "cell_type": "code",
      "source": [
        "df = pd.read_sql(\"SELECT * from weather_2012 LIMIT 3\", con, \n",
        "                 index_col=['id', 'date_time'])\n",
        "df"
      ],
      "outputs": [
        {
          "output_type": "execute_result",
          "execution_count": 5,
          "data": {
            "text/html": [
              "<div style=\"max-height:1000px;max-width:1500px;overflow:auto;\">\n",
              "<table border=\"1\" class=\"dataframe\">\n",
              "  <thead>\n",
              "    <tr style=\"text-align: right;\">\n",
              "      <th></th>\n",
              "      <th></th>\n",
              "      <th>temp</th>\n",
              "    </tr>\n",
              "    <tr>\n",
              "      <th>id</th>\n",
              "      <th>date_time</th>\n",
              "      <th></th>\n",
              "    </tr>\n",
              "  </thead>\n",
              "  <tbody>\n",
              "    <tr>\n",
              "      <th>1</th>\n",
              "      <th>2012-01-01 00:00:00</th>\n",
              "      <td>-1.8</td>\n",
              "    </tr>\n",
              "    <tr>\n",
              "      <th>2</th>\n",
              "      <th>2012-01-01 01:00:00</th>\n",
              "      <td>-1.8</td>\n",
              "    </tr>\n",
              "    <tr>\n",
              "      <th>3</th>\n",
              "      <th>2012-01-01 02:00:00</th>\n",
              "      <td>-1.8</td>\n",
              "    </tr>\n",
              "  </tbody>\n",
              "</table>\n",
              "</div>"
            ],
            "text/plain": [
              "                        temp\n",
              "id date_time                \n",
              "1  2012-01-01 00:00:00  -1.8\n",
              "2  2012-01-01 01:00:00  -1.8\n",
              "3  2012-01-01 02:00:00  -1.8"
            ]
          },
          "metadata": {}
        }
      ],
      "execution_count": 5,
      "metadata": {
        "collapsed": false
      }
    },
    {
      "cell_type": "markdown",
      "source": [
        "# 9.2 向 SQLite 写数据"
      ],
      "metadata": {}
    },
    {
      "cell_type": "markdown",
      "source": [
        "Pandas 有一个`write_frame` 来写入数据到数据库中。目前还只支持SQLite数据库。 我们用它来将2012年的天气数据写入到数据库中去\n",
        "\n可以注意到还有个`pd.io.sql`。里面有一堆的函数用于读和写，值得你去好好花点时间[探索](http://pandas.pydata.org/pandas-docs/stable/io.html))"
      ],
      "metadata": {}
    },
    {
      "cell_type": "code",
      "source": [
        "weather_df = pd.read_csv('../data/weather_2012.csv')\n",
        "con = sqlite3.connect(\"../data/test_db.sqlite\")\n",
        "con.execute(\"DROP TABLE IF EXISTS weather_2012\")\n",
        "weather_df.to_sql(\"weather_2012\", con)"
      ],
      "outputs": [
        {
          "output_type": "stream",
          "name": "stderr",
          "text": [
            "/home/tianjun/anaconda/lib/python2.7/site-packages/pandas/io/sql.py:1309: UserWarning: The spaces in these column names will not be changed. In pandas versions < 0.14, spaces were converted to underscores.\n",
            "  warnings.warn(_SAFE_NAMES_WARNING)\n"
          ]
        }
      ],
      "execution_count": 6,
      "metadata": {
        "collapsed": false
      }
    },
    {
      "cell_type": "markdown",
      "source": [
        "接下来从  `test_db.sqlite`中的`weather_2012` 表读出数据："
      ],
      "metadata": {}
    },
    {
      "cell_type": "code",
      "source": [
        "con = sqlite3.connect(\"../data/test_db.sqlite\")\n",
        "df = pd.read_sql(\"SELECT * from weather_2012 LIMIT 3\", con)\n",
        "df"
      ],
      "outputs": [
        {
          "output_type": "execute_result",
          "execution_count": 7,
          "data": {
            "text/html": [
              "<div style=\"max-height:1000px;max-width:1500px;overflow:auto;\">\n",
              "<table border=\"1\" class=\"dataframe\">\n",
              "  <thead>\n",
              "    <tr style=\"text-align: right;\">\n",
              "      <th></th>\n",
              "      <th>index</th>\n",
              "      <th>Date/Time</th>\n",
              "      <th>Temp (C)</th>\n",
              "      <th>Dew Point Temp (C)</th>\n",
              "      <th>Rel Hum (%)</th>\n",
              "      <th>Wind Spd (km/h)</th>\n",
              "      <th>Visibility (km)</th>\n",
              "      <th>Stn Press (kPa)</th>\n",
              "      <th>Weather</th>\n",
              "    </tr>\n",
              "  </thead>\n",
              "  <tbody>\n",
              "    <tr>\n",
              "      <th>0</th>\n",
              "      <td> 0</td>\n",
              "      <td> 2013-01-01 00:00:00</td>\n",
              "      <td>-1.0</td>\n",
              "      <td>-1.7</td>\n",
              "      <td> 95</td>\n",
              "      <td> 35</td>\n",
              "      <td>  6.4</td>\n",
              "      <td>  99.89</td>\n",
              "      <td>         Snow</td>\n",
              "    </tr>\n",
              "    <tr>\n",
              "      <th>1</th>\n",
              "      <td> 1</td>\n",
              "      <td> 2013-01-01 01:00:00</td>\n",
              "      <td>-2.0</td>\n",
              "      <td>-5.1</td>\n",
              "      <td> 79</td>\n",
              "      <td> 35</td>\n",
              "      <td> 16.1</td>\n",
              "      <td>  99.93</td>\n",
              "      <td> Mainly Clear</td>\n",
              "    </tr>\n",
              "    <tr>\n",
              "      <th>2</th>\n",
              "      <td> 2</td>\n",
              "      <td> 2013-01-01 02:00:00</td>\n",
              "      <td>-2.7</td>\n",
              "      <td>-6.0</td>\n",
              "      <td> 78</td>\n",
              "      <td> 28</td>\n",
              "      <td> 19.3</td>\n",
              "      <td> 100.08</td>\n",
              "      <td>         Snow</td>\n",
              "    </tr>\n",
              "  </tbody>\n",
              "</table>\n",
              "</div>"
            ],
            "text/plain": [
              "   index            Date/Time  Temp (C)  Dew Point Temp (C)  Rel Hum (%)  \\\n",
              "0      0  2013-01-01 00:00:00      -1.0                -1.7           95   \n",
              "1      1  2013-01-01 01:00:00      -2.0                -5.1           79   \n",
              "2      2  2013-01-01 02:00:00      -2.7                -6.0           78   \n",
              "\n",
              "   Wind Spd (km/h)  Visibility (km)  Stn Press (kPa)       Weather  \n",
              "0               35              6.4            99.89          Snow  \n",
              "1               35             16.1            99.93  Mainly Clear  \n",
              "2               28             19.3           100.08          Snow  "
            ]
          },
          "metadata": {}
        }
      ],
      "execution_count": 7,
      "metadata": {
        "collapsed": false
      }
    },
    {
      "cell_type": "markdown",
      "source": [
        "最炫的地方在于，如果你对SQL更熟的话，你可以用各种各样的SQL语句来完成数据操作，比如下面这个例子直接用SQL语句排序好结果并取前三："
      ],
      "metadata": {}
    },
    {
      "cell_type": "code",
      "source": [
        "con = sqlite3.connect(\"../data/test_db.sqlite\")\n",
        "df = pd.read_sql(\"SELECT * from weather_2012 ORDER BY Weather LIMIT 3\", con)\n",
        "df"
      ],
      "outputs": [
        {
          "output_type": "execute_result",
          "execution_count": 8,
          "data": {
            "text/html": [
              "<div style=\"max-height:1000px;max-width:1500px;overflow:auto;\">\n",
              "<table border=\"1\" class=\"dataframe\">\n",
              "  <thead>\n",
              "    <tr style=\"text-align: right;\">\n",
              "      <th></th>\n",
              "      <th>index</th>\n",
              "      <th>Date/Time</th>\n",
              "      <th>Temp (C)</th>\n",
              "      <th>Dew Point Temp (C)</th>\n",
              "      <th>Rel Hum (%)</th>\n",
              "      <th>Wind Spd (km/h)</th>\n",
              "      <th>Visibility (km)</th>\n",
              "      <th>Stn Press (kPa)</th>\n",
              "      <th>Weather</th>\n",
              "    </tr>\n",
              "  </thead>\n",
              "  <tbody>\n",
              "    <tr>\n",
              "      <th>0</th>\n",
              "      <td> 3</td>\n",
              "      <td> 2013-01-01 03:00:00</td>\n",
              "      <td> -5.6</td>\n",
              "      <td>-11.7</td>\n",
              "      <td> 62</td>\n",
              "      <td> 30</td>\n",
              "      <td> 25</td>\n",
              "      <td> 100.21</td>\n",
              "      <td> Clear</td>\n",
              "    </tr>\n",
              "    <tr>\n",
              "      <th>1</th>\n",
              "      <td> 5</td>\n",
              "      <td> 2013-01-01 05:00:00</td>\n",
              "      <td> -9.7</td>\n",
              "      <td>-14.8</td>\n",
              "      <td> 66</td>\n",
              "      <td> 33</td>\n",
              "      <td> 25</td>\n",
              "      <td> 100.47</td>\n",
              "      <td> Clear</td>\n",
              "    </tr>\n",
              "    <tr>\n",
              "      <th>2</th>\n",
              "      <td> 6</td>\n",
              "      <td> 2013-01-01 06:00:00</td>\n",
              "      <td>-11.1</td>\n",
              "      <td>-17.0</td>\n",
              "      <td> 62</td>\n",
              "      <td> 30</td>\n",
              "      <td> 25</td>\n",
              "      <td> 100.65</td>\n",
              "      <td> Clear</td>\n",
              "    </tr>\n",
              "  </tbody>\n",
              "</table>\n",
              "</div>"
            ],
            "text/plain": [
              "   index            Date/Time  Temp (C)  Dew Point Temp (C)  Rel Hum (%)  \\\n",
              "0      3  2013-01-01 03:00:00      -5.6               -11.7           62   \n",
              "1      5  2013-01-01 05:00:00      -9.7               -14.8           66   \n",
              "2      6  2013-01-01 06:00:00     -11.1               -17.0           62   \n",
              "\n",
              "   Wind Spd (km/h)  Visibility (km)  Stn Press (kPa) Weather  \n",
              "0               30               25           100.21   Clear  \n",
              "1               33               25           100.47   Clear  \n",
              "2               30               25           100.65   Clear  "
            ]
          },
          "metadata": {}
        }
      ],
      "execution_count": 8,
      "metadata": {
        "collapsed": false
      }
    },
    {
      "cell_type": "markdown",
      "source": [
        "如果你使用的是PostgreSQL或者MySQL，读取数据的方式是几乎一样的。你可以通过`psycopg2.connect()` 或者 `MySQLdb.connect()`来创建一个连接，然后用\n",
        "\n`pd.read_sql(\"SELECT whatever from your_table\", con)`"
      ],
      "metadata": {}
    },
    {
      "cell_type": "markdown",
      "source": [
        "# 9.3 连接到其他数据库"
      ],
      "metadata": {}
    },
    {
      "cell_type": "markdown",
      "source": [
        "连接到MySQL数据库\n",
        "\n*注：你需要有一个可用的数据库，并填好正确的 host 和数据库名称以及其他相关信息*"
      ],
      "metadata": {}
    },
    {
      "cell_type": "raw",
      "source": [
        "import MySQLdb\n",
        "con = MySQLdb.connect(host=\"localhost\", db=\"test\")"
      ],
      "metadata": {
        "collapsed": false
      }
    },
    {
      "cell_type": "markdown",
      "source": [
        "连接到PostgreSQL 数据库:"
      ],
      "metadata": {}
    },
    {
      "cell_type": "raw",
      "source": [
        "import psycopg2\n",
        "con = psycopg2.connect(host=\"localhost\")"
      ],
      "metadata": {
        "collapsed": false
      }
    },
    {
      "cell_type": "markdown",
      "source": [
        "<style>\n",
        "    @font-face {\n",
        "        font-family: \"Computer Modern\";\n",
        "        src: url('http://mirrors.ctan.org/fonts/cm-unicode/fonts/otf/cmunss.otf');\n",
        "    }\n",
        "    div.cell{\n",
        "        width:800px;\n",
        "        margin-left:16% !important;\n",
        "        margin-right:auto;\n",
        "    }\n",
        "    h1 {\n",
        "        font-family: Helvetica, serif;\n",
        "    }\n",
        "    h4{\n",
        "        margin-top:12px;\n",
        "        margin-bottom: 3px;\n",
        "       }\n",
        "    div.text_cell_render{\n",
        "        font-family: Computer Modern, \"Helvetica Neue\", Arial, Helvetica, Geneva, sans-serif;\n",
        "        line-height: 145%;\n",
        "        font-size: 130%;\n",
        "        width:800px;\n",
        "        margin-left:auto;\n",
        "        margin-right:auto;\n",
        "    }\n",
        "    .CodeMirror{\n",
        "            font-family: \"Source Code Pro\", source-code-pro,Consolas, monospace;\n",
        "    }\n",
        "    .text_cell_render h5 {\n",
        "        font-weight: 300;\n",
        "        font-size: 22pt;\n",
        "        color: #4057A1;\n",
        "        font-style: italic;\n",
        "        margin-bottom: .5em;\n",
        "        margin-top: 0.5em;\n",
        "        display: block;\n",
        "    }\n",
        "    \n",
        "    .warning{\n",
        "        color: rgb( 240, 20, 20 )\n",
        "        }  "
      ],
      "metadata": {}
    }
  ],
  "metadata": {
    "kernelspec": {
      "name": "python3",
      "language": "python",
      "display_name": "Python 3"
    },
    "language_info": {
      "name": "python",
      "version": "3.6.4",
      "mimetype": "text/x-python",
      "codemirror_mode": {
        "name": "ipython",
        "version": 3
      },
      "pygments_lexer": "ipython3",
      "nbconvert_exporter": "python",
      "file_extension": ".py"
    },
    "kernel_info": {
      "name": "python3"
    },
    "nteract": {
      "version": "0.7.1"
    }
  },
  "nbformat": 4,
  "nbformat_minor": 0
}