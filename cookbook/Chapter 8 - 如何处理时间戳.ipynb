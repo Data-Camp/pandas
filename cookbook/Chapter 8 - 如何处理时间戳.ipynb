{
  "cells": [
    {
      "cell_type": "code",
      "source": [
        "import pandas as pd"
      ],
      "outputs": [],
      "execution_count": 2,
      "metadata": {
        "collapsed": false
      }
    },
    {
      "cell_type": "markdown",
      "source": [
        "# 8.1 解析Unix下的时间戳"
      ],
      "metadata": {}
    },
    {
      "cell_type": "markdown",
      "source": [
        "用pandas来处理Unix下的时间戳并不那么直观——搞清这部分花了我不少时间。接下来我们使用的是我系统中的一个popularity-contest文件。关于这个文件是怎么工作的，可以看[这里](http://popcon.ubuntu.com/README)\n",
        "\n但愿这个文件里没啥敏感信息；）"
      ],
      "metadata": {}
    },
    {
      "cell_type": "code",
      "source": [
        "# Read it, and remove the last row\n",
        "popcon = pd.read_csv('../data/popularity-contest', sep=' ', )[:-1]\n",
        "popcon.columns = ['atime', 'ctime', 'package-name', 'mru-program', 'tag']"
      ],
      "outputs": [],
      "execution_count": 3,
      "metadata": {
        "collapsed": false
      }
    },
    {
      "cell_type": "markdown",
      "source": [
        "列名包括 access time, created time, package name, mru-program以及一个 tag"
      ],
      "metadata": {}
    },
    {
      "cell_type": "code",
      "source": [
        "popcon[:5]"
      ],
      "outputs": [
        {
          "output_type": "execute_result",
          "execution_count": 4,
          "data": {
            "text/html": [
              "<div style=\"max-height:1000px;max-width:1500px;overflow:auto;\">\n",
              "<table border=\"1\" class=\"dataframe\">\n",
              "  <thead>\n",
              "    <tr style=\"text-align: right;\">\n",
              "      <th></th>\n",
              "      <th>atime</th>\n",
              "      <th>ctime</th>\n",
              "      <th>package-name</th>\n",
              "      <th>mru-program</th>\n",
              "      <th>tag</th>\n",
              "    </tr>\n",
              "  </thead>\n",
              "  <tbody>\n",
              "    <tr>\n",
              "      <th>0</th>\n",
              "      <td> 1387295797</td>\n",
              "      <td> 1367633260</td>\n",
              "      <td>    perl-base</td>\n",
              "      <td>                                /usr/bin/perl</td>\n",
              "      <td>            NaN</td>\n",
              "    </tr>\n",
              "    <tr>\n",
              "      <th>1</th>\n",
              "      <td> 1387295796</td>\n",
              "      <td> 1354370480</td>\n",
              "      <td>        login</td>\n",
              "      <td>                                      /bin/su</td>\n",
              "      <td>            NaN</td>\n",
              "    </tr>\n",
              "    <tr>\n",
              "      <th>2</th>\n",
              "      <td> 1387295743</td>\n",
              "      <td> 1354341275</td>\n",
              "      <td>   libtalloc2</td>\n",
              "      <td> /usr/lib/x86_64-linux-gnu/libtalloc.so.2.0.7</td>\n",
              "      <td>            NaN</td>\n",
              "    </tr>\n",
              "    <tr>\n",
              "      <th>3</th>\n",
              "      <td> 1387295743</td>\n",
              "      <td> 1387224204</td>\n",
              "      <td> libwbclient0</td>\n",
              "      <td>   /usr/lib/x86_64-linux-gnu/libwbclient.so.0</td>\n",
              "      <td> &lt;RECENT-CTIME&gt;</td>\n",
              "    </tr>\n",
              "    <tr>\n",
              "      <th>4</th>\n",
              "      <td> 1387295742</td>\n",
              "      <td> 1354341253</td>\n",
              "      <td>  libselinux1</td>\n",
              "      <td>        /lib/x86_64-linux-gnu/libselinux.so.1</td>\n",
              "      <td>            NaN</td>\n",
              "    </tr>\n",
              "  </tbody>\n",
              "</table>\n",
              "</div>"
            ],
            "text/plain": [
              "        atime       ctime  package-name  \\\n",
              "0  1387295797  1367633260     perl-base   \n",
              "1  1387295796  1354370480         login   \n",
              "2  1387295743  1354341275    libtalloc2   \n",
              "3  1387295743  1387224204  libwbclient0   \n",
              "4  1387295742  1354341253   libselinux1   \n",
              "\n",
              "                                    mru-program             tag  \n",
              "0                                 /usr/bin/perl             NaN  \n",
              "1                                       /bin/su             NaN  \n",
              "2  /usr/lib/x86_64-linux-gnu/libtalloc.so.2.0.7             NaN  \n",
              "3    /usr/lib/x86_64-linux-gnu/libwbclient.so.0  <RECENT-CTIME>  \n",
              "4         /lib/x86_64-linux-gnu/libselinux.so.1             NaN  "
            ]
          },
          "metadata": {}
        }
      ],
      "execution_count": 4,
      "metadata": {
        "collapsed": false
      }
    },
    {
      "cell_type": "markdown",
      "source": [
        "用pandas解析时间戳最神奇的地方在于，numpy的datetimes本身就是以unix的时间戳形式保存的，因此，我们要做的就是，告诉pandas这些int型数据就是时间戳。不需要做其他的改变\n",
        "\n首先将这些数据转成int:"
      ],
      "metadata": {}
    },
    {
      "cell_type": "code",
      "source": [
        "popcon['atime'] = popcon['atime'].astype(int)\n",
        "popcon['ctime'] = popcon['ctime'].astype(int)"
      ],
      "outputs": [],
      "execution_count": 5,
      "metadata": {
        "collapsed": false
      }
    },
    {
      "cell_type": "markdown",
      "source": [
        "所有的numpy数组和pandas的series都有一个数据类型dtype，通常是`int64`，`float64`或者`object`。有些时间类型的数据会是`datetime64[s]`或者`datetime64[us]`，此外还有`timedelta`类型。\n",
        "\n我们可以使用`pd.to_datetime`函数来完成int型时间戳到datetime的转换。我们并没有改变数据，只是告诉pandas如何去理解这些数据。"
      ],
      "metadata": {}
    },
    {
      "cell_type": "code",
      "source": [
        "popcon['atime'] = pd.to_datetime(popcon['atime'], unit='s')\n",
        "popcon['ctime'] = pd.to_datetime(popcon['ctime'], unit='s')"
      ],
      "outputs": [],
      "execution_count": 6,
      "metadata": {
        "collapsed": false
      }
    },
    {
      "cell_type": "markdown",
      "source": [
        "现在再看下数据类型，变成了 `<M8[ns]`据我所知，‘M8’是指 `datetime64`。"
      ],
      "metadata": {}
    },
    {
      "cell_type": "code",
      "source": [
        "popcon['atime'].dtype"
      ],
      "outputs": [
        {
          "output_type": "execute_result",
          "execution_count": 7,
          "data": {
            "text/plain": [
              "dtype('<M8[ns]')"
            ]
          },
          "metadata": {}
        }
      ],
      "execution_count": 7,
      "metadata": {
        "collapsed": false
      }
    },
    {
      "cell_type": "markdown",
      "source": [
        "可以看到现在两个实践字段显示成了日期格式"
      ],
      "metadata": {}
    },
    {
      "cell_type": "code",
      "source": [
        "popcon[:5]"
      ],
      "outputs": [
        {
          "output_type": "execute_result",
          "execution_count": 8,
          "data": {
            "text/html": [
              "<div style=\"max-height:1000px;max-width:1500px;overflow:auto;\">\n",
              "<table border=\"1\" class=\"dataframe\">\n",
              "  <thead>\n",
              "    <tr style=\"text-align: right;\">\n",
              "      <th></th>\n",
              "      <th>atime</th>\n",
              "      <th>ctime</th>\n",
              "      <th>package-name</th>\n",
              "      <th>mru-program</th>\n",
              "      <th>tag</th>\n",
              "    </tr>\n",
              "  </thead>\n",
              "  <tbody>\n",
              "    <tr>\n",
              "      <th>0</th>\n",
              "      <td>2013-12-17 15:56:37</td>\n",
              "      <td>2013-05-04 02:07:40</td>\n",
              "      <td>    perl-base</td>\n",
              "      <td>                                /usr/bin/perl</td>\n",
              "      <td>            NaN</td>\n",
              "    </tr>\n",
              "    <tr>\n",
              "      <th>1</th>\n",
              "      <td>2013-12-17 15:56:36</td>\n",
              "      <td>2012-12-01 14:01:20</td>\n",
              "      <td>        login</td>\n",
              "      <td>                                      /bin/su</td>\n",
              "      <td>            NaN</td>\n",
              "    </tr>\n",
              "    <tr>\n",
              "      <th>2</th>\n",
              "      <td>2013-12-17 15:55:43</td>\n",
              "      <td>2012-12-01 05:54:35</td>\n",
              "      <td>   libtalloc2</td>\n",
              "      <td> /usr/lib/x86_64-linux-gnu/libtalloc.so.2.0.7</td>\n",
              "      <td>            NaN</td>\n",
              "    </tr>\n",
              "    <tr>\n",
              "      <th>3</th>\n",
              "      <td>2013-12-17 15:55:43</td>\n",
              "      <td>2013-12-16 20:03:24</td>\n",
              "      <td> libwbclient0</td>\n",
              "      <td>   /usr/lib/x86_64-linux-gnu/libwbclient.so.0</td>\n",
              "      <td> &lt;RECENT-CTIME&gt;</td>\n",
              "    </tr>\n",
              "    <tr>\n",
              "      <th>4</th>\n",
              "      <td>2013-12-17 15:55:42</td>\n",
              "      <td>2012-12-01 05:54:13</td>\n",
              "      <td>  libselinux1</td>\n",
              "      <td>        /lib/x86_64-linux-gnu/libselinux.so.1</td>\n",
              "      <td>            NaN</td>\n",
              "    </tr>\n",
              "  </tbody>\n",
              "</table>\n",
              "</div>"
            ],
            "text/plain": [
              "                atime               ctime  package-name  \\\n",
              "0 2013-12-17 15:56:37 2013-05-04 02:07:40     perl-base   \n",
              "1 2013-12-17 15:56:36 2012-12-01 14:01:20         login   \n",
              "2 2013-12-17 15:55:43 2012-12-01 05:54:35    libtalloc2   \n",
              "3 2013-12-17 15:55:43 2013-12-16 20:03:24  libwbclient0   \n",
              "4 2013-12-17 15:55:42 2012-12-01 05:54:13   libselinux1   \n",
              "\n",
              "                                    mru-program             tag  \n",
              "0                                 /usr/bin/perl             NaN  \n",
              "1                                       /bin/su             NaN  \n",
              "2  /usr/lib/x86_64-linux-gnu/libtalloc.so.2.0.7             NaN  \n",
              "3    /usr/lib/x86_64-linux-gnu/libwbclient.so.0  <RECENT-CTIME>  \n",
              "4         /lib/x86_64-linux-gnu/libselinux.so.1             NaN  "
            ]
          },
          "metadata": {}
        }
      ],
      "execution_count": 8,
      "metadata": {
        "collapsed": false
      }
    },
    {
      "cell_type": "markdown",
      "source": [
        "现在假设我们想看看出了库文件以外的包。\n",
        "\n首先，我想把所有时间为0的记录都抛开，注意啦，这里只需要用一个比较符号就可以搞定了，并且！比较的对象就是str类型的！！！"
      ],
      "metadata": {}
    },
    {
      "cell_type": "code",
      "source": [
        "popcon = popcon[popcon['atime'] > '1970-01-01']"
      ],
      "outputs": [],
      "execution_count": 9,
      "metadata": {
        "collapsed": false
      }
    },
    {
      "cell_type": "markdown",
      "source": [
        "接下来使用前面用过的str的contains方法找到不包含lib的包的名字"
      ],
      "metadata": {}
    },
    {
      "cell_type": "code",
      "source": [
        "nonlibraries = popcon[~popcon['package-name'].str.contains('lib')]"
      ],
      "outputs": [],
      "execution_count": 10,
      "metadata": {
        "collapsed": false
      }
    },
    {
      "cell_type": "code",
      "source": [
        "nonlibraries.sort('ctime', ascending=False)[:10]"
      ],
      "outputs": [
        {
          "output_type": "execute_result",
          "execution_count": 11,
          "data": {
            "text/html": [
              "<div style=\"max-height:1000px;max-width:1500px;overflow:auto;\">\n",
              "<table border=\"1\" class=\"dataframe\">\n",
              "  <thead>\n",
              "    <tr style=\"text-align: right;\">\n",
              "      <th></th>\n",
              "      <th>atime</th>\n",
              "      <th>ctime</th>\n",
              "      <th>package-name</th>\n",
              "      <th>mru-program</th>\n",
              "      <th>tag</th>\n",
              "    </tr>\n",
              "  </thead>\n",
              "  <tbody>\n",
              "    <tr>\n",
              "      <th>57 </th>\n",
              "      <td>2013-12-17 04:55:39</td>\n",
              "      <td>2013-12-17 04:55:42</td>\n",
              "      <td>                       ddd</td>\n",
              "      <td>                                      /usr/bin/ddd</td>\n",
              "      <td> &lt;RECENT-CTIME&gt;</td>\n",
              "    </tr>\n",
              "    <tr>\n",
              "      <th>450</th>\n",
              "      <td>2013-12-16 20:03:20</td>\n",
              "      <td>2013-12-16 20:05:13</td>\n",
              "      <td>                    nodejs</td>\n",
              "      <td>                                      /usr/bin/npm</td>\n",
              "      <td> &lt;RECENT-CTIME&gt;</td>\n",
              "    </tr>\n",
              "    <tr>\n",
              "      <th>454</th>\n",
              "      <td>2013-12-16 20:03:20</td>\n",
              "      <td>2013-12-16 20:05:04</td>\n",
              "      <td> switchboard-plug-keyboard</td>\n",
              "      <td>      /usr/lib/plugs/pantheon/keyboard/options.txt</td>\n",
              "      <td> &lt;RECENT-CTIME&gt;</td>\n",
              "    </tr>\n",
              "    <tr>\n",
              "      <th>445</th>\n",
              "      <td>2013-12-16 20:03:20</td>\n",
              "      <td>2013-12-16 20:05:04</td>\n",
              "      <td>     thunderbird-locale-en</td>\n",
              "      <td> /usr/lib/thunderbird-addons/extensions/langpac...</td>\n",
              "      <td> &lt;RECENT-CTIME&gt;</td>\n",
              "    </tr>\n",
              "    <tr>\n",
              "      <th>396</th>\n",
              "      <td>2013-12-16 20:08:27</td>\n",
              "      <td>2013-12-16 20:05:03</td>\n",
              "      <td>           software-center</td>\n",
              "      <td>                  /usr/sbin/update-software-center</td>\n",
              "      <td> &lt;RECENT-CTIME&gt;</td>\n",
              "    </tr>\n",
              "    <tr>\n",
              "      <th>449</th>\n",
              "      <td>2013-12-16 20:03:20</td>\n",
              "      <td>2013-12-16 20:05:00</td>\n",
              "      <td>          samba-common-bin</td>\n",
              "      <td>                               /usr/bin/net.samba3</td>\n",
              "      <td> &lt;RECENT-CTIME&gt;</td>\n",
              "    </tr>\n",
              "    <tr>\n",
              "      <th>397</th>\n",
              "      <td>2013-12-16 20:08:25</td>\n",
              "      <td>2013-12-16 20:04:59</td>\n",
              "      <td>     postgresql-client-9.1</td>\n",
              "      <td>                  /usr/lib/postgresql/9.1/bin/psql</td>\n",
              "      <td> &lt;RECENT-CTIME&gt;</td>\n",
              "    </tr>\n",
              "    <tr>\n",
              "      <th>398</th>\n",
              "      <td>2013-12-16 20:08:23</td>\n",
              "      <td>2013-12-16 20:04:58</td>\n",
              "      <td>            postgresql-9.1</td>\n",
              "      <td>            /usr/lib/postgresql/9.1/bin/postmaster</td>\n",
              "      <td> &lt;RECENT-CTIME&gt;</td>\n",
              "    </tr>\n",
              "    <tr>\n",
              "      <th>452</th>\n",
              "      <td>2013-12-16 20:03:20</td>\n",
              "      <td>2013-12-16 20:04:55</td>\n",
              "      <td>                  php5-dev</td>\n",
              "      <td>                 /usr/include/php5/main/snprintf.h</td>\n",
              "      <td> &lt;RECENT-CTIME&gt;</td>\n",
              "    </tr>\n",
              "    <tr>\n",
              "      <th>440</th>\n",
              "      <td>2013-12-16 20:03:20</td>\n",
              "      <td>2013-12-16 20:04:54</td>\n",
              "      <td>                  php-pear</td>\n",
              "      <td>                       /usr/share/php/XML/Util.php</td>\n",
              "      <td> &lt;RECENT-CTIME&gt;</td>\n",
              "    </tr>\n",
              "  </tbody>\n",
              "</table>\n",
              "</div>"
            ],
            "text/plain": [
              "                  atime               ctime               package-name  \\\n",
              "57  2013-12-17 04:55:39 2013-12-17 04:55:42                        ddd   \n",
              "450 2013-12-16 20:03:20 2013-12-16 20:05:13                     nodejs   \n",
              "454 2013-12-16 20:03:20 2013-12-16 20:05:04  switchboard-plug-keyboard   \n",
              "445 2013-12-16 20:03:20 2013-12-16 20:05:04      thunderbird-locale-en   \n",
              "396 2013-12-16 20:08:27 2013-12-16 20:05:03            software-center   \n",
              "449 2013-12-16 20:03:20 2013-12-16 20:05:00           samba-common-bin   \n",
              "397 2013-12-16 20:08:25 2013-12-16 20:04:59      postgresql-client-9.1   \n",
              "398 2013-12-16 20:08:23 2013-12-16 20:04:58             postgresql-9.1   \n",
              "452 2013-12-16 20:03:20 2013-12-16 20:04:55                   php5-dev   \n",
              "440 2013-12-16 20:03:20 2013-12-16 20:04:54                   php-pear   \n",
              "\n",
              "                                           mru-program             tag  \n",
              "57                                        /usr/bin/ddd  <RECENT-CTIME>  \n",
              "450                                       /usr/bin/npm  <RECENT-CTIME>  \n",
              "454       /usr/lib/plugs/pantheon/keyboard/options.txt  <RECENT-CTIME>  \n",
              "445  /usr/lib/thunderbird-addons/extensions/langpac...  <RECENT-CTIME>  \n",
              "396                   /usr/sbin/update-software-center  <RECENT-CTIME>  \n",
              "449                                /usr/bin/net.samba3  <RECENT-CTIME>  \n",
              "397                   /usr/lib/postgresql/9.1/bin/psql  <RECENT-CTIME>  \n",
              "398             /usr/lib/postgresql/9.1/bin/postmaster  <RECENT-CTIME>  \n",
              "452                  /usr/include/php5/main/snprintf.h  <RECENT-CTIME>  \n",
              "440                        /usr/share/php/XML/Util.php  <RECENT-CTIME>  "
            ]
          },
          "metadata": {}
        }
      ],
      "execution_count": 11,
      "metadata": {
        "collapsed": false
      }
    },
    {
      "cell_type": "markdown",
      "source": [
        "它告诉我最近刚使用过ddd，嗯，我清楚滴记得最近确实用过！"
      ],
      "metadata": {}
    },
    {
      "cell_type": "markdown",
      "source": [
        "本部分想说的重点是，如果你有一个时间段用秒或者微秒来表示的，那么直接转换成`'datetime64[the-right-thing]'`就可以了，剩下的就都交给pandas 了。"
      ],
      "metadata": {}
    },
    {
      "cell_type": "markdown",
      "source": [
        "<style>\n",
        "    @font-face {\n",
        "        font-family: \"Computer Modern\";\n",
        "        src: url('http://mirrors.ctan.org/fonts/cm-unicode/fonts/otf/cmunss.otf');\n",
        "    }\n",
        "    div.cell{\n",
        "        width:800px;\n",
        "        margin-left:16% !important;\n",
        "        margin-right:auto;\n",
        "    }\n",
        "    h1 {\n",
        "        font-family: Helvetica, serif;\n",
        "    }\n",
        "    h4{\n",
        "        margin-top:12px;\n",
        "        margin-bottom: 3px;\n",
        "       }\n",
        "    div.text_cell_render{\n",
        "        font-family: Computer Modern, \"Helvetica Neue\", Arial, Helvetica, Geneva, sans-serif;\n",
        "        line-height: 145%;\n",
        "        font-size: 130%;\n",
        "        width:800px;\n",
        "        margin-left:auto;\n",
        "        margin-right:auto;\n",
        "    }\n",
        "    .CodeMirror{\n",
        "            font-family: \"Source Code Pro\", source-code-pro,Consolas, monospace;\n",
        "    }\n",
        "    .text_cell_render h5 {\n",
        "        font-weight: 300;\n",
        "        font-size: 22pt;\n",
        "        color: #4057A1;\n",
        "        font-style: italic;\n",
        "        margin-bottom: .5em;\n",
        "        margin-top: 0.5em;\n",
        "        display: block;\n",
        "    }\n",
        "    \n",
        "    .warning{\n",
        "        color: rgb( 240, 20, 20 )\n",
        "        }  "
      ],
      "metadata": {}
    }
  ],
  "metadata": {
    "kernelspec": {
      "name": "python3",
      "language": "python",
      "display_name": "Python 3"
    },
    "language_info": {
      "name": "python",
      "version": "3.6.4",
      "mimetype": "text/x-python",
      "codemirror_mode": {
        "name": "ipython",
        "version": 3
      },
      "pygments_lexer": "ipython3",
      "nbconvert_exporter": "python",
      "file_extension": ".py"
    },
    "kernel_info": {
      "name": "python3"
    },
    "nteract": {
      "version": "0.7.1"
    }
  },
  "nbformat": 4,
  "nbformat_minor": 0
}