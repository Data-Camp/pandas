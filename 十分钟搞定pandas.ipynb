{
 "cells": [
  {
   "cell_type": "markdown",
   "metadata": {},
   "source": [
    "本文是对pandas官网上《10 Minutes to pandas》的一个简单的翻译，原文在[这里](http://pandas.pydata.org/pandas-docs/stable/10min.html)。这篇文章是对pandas的一个简单的介绍，详细的介绍请参考：[Cookbook](http://pandas.pydata.org/pandas-docs/stable/cookbook.html#cookbook)。习惯上，我们会按下面格式引入所需要的包："
   ]
  },
  {
   "cell_type": "code",
   "execution_count": 2,
   "metadata": {
    "collapsed": true
   },
   "outputs": [],
   "source": [
    "import pandas as pd"
   ]
  },
  {
   "cell_type": "code",
   "execution_count": 3,
   "metadata": {
    "collapsed": true
   },
   "outputs": [],
   "source": [
    "import numpy as np"
   ]
  },
  {
   "cell_type": "code",
   "execution_count": 4,
   "metadata": {
    "collapsed": true
   },
   "outputs": [],
   "source": [
    "import matplotlib.pyplot as plt"
   ]
  },
  {
   "cell_type": "markdown",
   "metadata": {},
   "source": [
    "# 一、创建对象"
   ]
  },
  {
   "cell_type": "markdown",
   "metadata": {},
   "source": [
    "可以通过[Data Structure Intro Section](http://pandas.pydata.org/pandas-docs/stable/dsintro.html#dsintro)来查看有关该节内容的详细信息。"
   ]
  },
  {
   "cell_type": "markdown",
   "metadata": {},
   "source": [
    "1. 可以通过传递一个list对象来创建一个Series，pandas会默认创建整型索引："
   ]
  },
  {
   "cell_type": "code",
   "execution_count": 5,
   "metadata": {
    "collapsed": true
   },
   "outputs": [],
   "source": [
    "s = pd.Series([1,3,5,np.nan,6,8])"
   ]
  },
  {
   "cell_type": "code",
   "execution_count": 6,
   "metadata": {
    "collapsed": false
   },
   "outputs": [
    {
     "data": {
      "text/plain": [
       "0     1\n",
       "1     3\n",
       "2     5\n",
       "3   NaN\n",
       "4     6\n",
       "5     8\n",
       "dtype: float64"
      ]
     },
     "execution_count": 6,
     "metadata": {},
     "output_type": "execute_result"
    }
   ],
   "source": [
    "s"
   ]
  },
  {
   "cell_type": "markdown",
   "metadata": {},
   "source": [
    "2.通过传递一个numpy array，时间索引以及列标签来创建一个DataFrame："
   ]
  },
  {
   "cell_type": "code",
   "execution_count": 7,
   "metadata": {
    "collapsed": true
   },
   "outputs": [],
   "source": [
    "dates = pd.date_range('20130101', periods=6)"
   ]
  },
  {
   "cell_type": "code",
   "execution_count": 8,
   "metadata": {
    "collapsed": false
   },
   "outputs": [
    {
     "data": {
      "text/plain": [
       "DatetimeIndex(['2013-01-01', '2013-01-02', '2013-01-03', '2013-01-04',\n",
       "               '2013-01-05', '2013-01-06'],\n",
       "              dtype='datetime64[ns]', freq='D')"
      ]
     },
     "execution_count": 8,
     "metadata": {},
     "output_type": "execute_result"
    }
   ],
   "source": [
    "dates"
   ]
  },
  {
   "cell_type": "code",
   "execution_count": 9,
   "metadata": {
    "collapsed": true
   },
   "outputs": [],
   "source": [
    "df = pd.DataFrame(np.random.randn(6,4), index=dates, columns=list('ABCD'))"
   ]
  },
  {
   "cell_type": "code",
   "execution_count": 10,
   "metadata": {
    "collapsed": false
   },
   "outputs": [
    {
     "data": {
      "text/html": [
       "<div>\n",
       "<table border=\"1\" class=\"dataframe\">\n",
       "  <thead>\n",
       "    <tr style=\"text-align: right;\">\n",
       "      <th></th>\n",
       "      <th>A</th>\n",
       "      <th>B</th>\n",
       "      <th>C</th>\n",
       "      <th>D</th>\n",
       "    </tr>\n",
       "  </thead>\n",
       "  <tbody>\n",
       "    <tr>\n",
       "      <th>2013-01-01</th>\n",
       "      <td>-0.397636</td>\n",
       "      <td>1.091843</td>\n",
       "      <td>0.621826</td>\n",
       "      <td>0.643196</td>\n",
       "    </tr>\n",
       "    <tr>\n",
       "      <th>2013-01-02</th>\n",
       "      <td>0.047735</td>\n",
       "      <td>-0.693675</td>\n",
       "      <td>1.588932</td>\n",
       "      <td>-0.774878</td>\n",
       "    </tr>\n",
       "    <tr>\n",
       "      <th>2013-01-03</th>\n",
       "      <td>-0.309450</td>\n",
       "      <td>-0.951779</td>\n",
       "      <td>0.028030</td>\n",
       "      <td>-2.033464</td>\n",
       "    </tr>\n",
       "    <tr>\n",
       "      <th>2013-01-04</th>\n",
       "      <td>-0.905928</td>\n",
       "      <td>0.807286</td>\n",
       "      <td>1.032849</td>\n",
       "      <td>0.160724</td>\n",
       "    </tr>\n",
       "    <tr>\n",
       "      <th>2013-01-05</th>\n",
       "      <td>-0.195194</td>\n",
       "      <td>-0.221892</td>\n",
       "      <td>-1.843014</td>\n",
       "      <td>-1.704663</td>\n",
       "    </tr>\n",
       "    <tr>\n",
       "      <th>2013-01-06</th>\n",
       "      <td>0.773058</td>\n",
       "      <td>-1.486186</td>\n",
       "      <td>0.876408</td>\n",
       "      <td>2.159035</td>\n",
       "    </tr>\n",
       "  </tbody>\n",
       "</table>\n",
       "</div>"
      ],
      "text/plain": [
       "                   A         B         C         D\n",
       "2013-01-01 -0.397636  1.091843  0.621826  0.643196\n",
       "2013-01-02  0.047735 -0.693675  1.588932 -0.774878\n",
       "2013-01-03 -0.309450 -0.951779  0.028030 -2.033464\n",
       "2013-01-04 -0.905928  0.807286  1.032849  0.160724\n",
       "2013-01-05 -0.195194 -0.221892 -1.843014 -1.704663\n",
       "2013-01-06  0.773058 -1.486186  0.876408  2.159035"
      ]
     },
     "execution_count": 10,
     "metadata": {},
     "output_type": "execute_result"
    }
   ],
   "source": [
    "df"
   ]
  },
  {
   "cell_type": "markdown",
   "metadata": {},
   "source": [
    "3.通过传递一个能够被转换成类似序列结构的字典对象来创建一个DataFrame："
   ]
  },
  {
   "cell_type": "code",
   "execution_count": 11,
   "metadata": {
    "collapsed": true
   },
   "outputs": [],
   "source": [
    "df2 = pd.DataFrame({'A':1.,\n",
    "                    'B':pd.Timestamp('20130102'),\n",
    "                    'C':pd.Series(1, index=list(range(4)),dtype='float32'),\n",
    "                    'D':np.array([3] * 4, dtype='int32'),\n",
    "                    'E':pd.Categorical(['test','train', 'test','train']),\n",
    "                    'F':'foo'\n",
    "                   })"
   ]
  },
  {
   "cell_type": "code",
   "execution_count": 12,
   "metadata": {
    "collapsed": false
   },
   "outputs": [
    {
     "data": {
      "text/html": [
       "<div>\n",
       "<table border=\"1\" class=\"dataframe\">\n",
       "  <thead>\n",
       "    <tr style=\"text-align: right;\">\n",
       "      <th></th>\n",
       "      <th>A</th>\n",
       "      <th>B</th>\n",
       "      <th>C</th>\n",
       "      <th>D</th>\n",
       "      <th>E</th>\n",
       "      <th>F</th>\n",
       "    </tr>\n",
       "  </thead>\n",
       "  <tbody>\n",
       "    <tr>\n",
       "      <th>0</th>\n",
       "      <td>1</td>\n",
       "      <td>2013-01-02</td>\n",
       "      <td>1</td>\n",
       "      <td>3</td>\n",
       "      <td>test</td>\n",
       "      <td>foo</td>\n",
       "    </tr>\n",
       "    <tr>\n",
       "      <th>1</th>\n",
       "      <td>1</td>\n",
       "      <td>2013-01-02</td>\n",
       "      <td>1</td>\n",
       "      <td>3</td>\n",
       "      <td>train</td>\n",
       "      <td>foo</td>\n",
       "    </tr>\n",
       "    <tr>\n",
       "      <th>2</th>\n",
       "      <td>1</td>\n",
       "      <td>2013-01-02</td>\n",
       "      <td>1</td>\n",
       "      <td>3</td>\n",
       "      <td>test</td>\n",
       "      <td>foo</td>\n",
       "    </tr>\n",
       "    <tr>\n",
       "      <th>3</th>\n",
       "      <td>1</td>\n",
       "      <td>2013-01-02</td>\n",
       "      <td>1</td>\n",
       "      <td>3</td>\n",
       "      <td>train</td>\n",
       "      <td>foo</td>\n",
       "    </tr>\n",
       "  </tbody>\n",
       "</table>\n",
       "</div>"
      ],
      "text/plain": [
       "   A          B  C  D      E    F\n",
       "0  1 2013-01-02  1  3   test  foo\n",
       "1  1 2013-01-02  1  3  train  foo\n",
       "2  1 2013-01-02  1  3   test  foo\n",
       "3  1 2013-01-02  1  3  train  foo"
      ]
     },
     "execution_count": 12,
     "metadata": {},
     "output_type": "execute_result"
    }
   ],
   "source": [
    "df2"
   ]
  },
  {
   "cell_type": "markdown",
   "metadata": {},
   "source": [
    "4.查看不同列的数据类型："
   ]
  },
  {
   "cell_type": "code",
   "execution_count": 13,
   "metadata": {
    "collapsed": false
   },
   "outputs": [
    {
     "data": {
      "text/plain": [
       "A           float64\n",
       "B    datetime64[ns]\n",
       "C           float32\n",
       "D             int32\n",
       "E          category\n",
       "F            object\n",
       "dtype: object"
      ]
     },
     "execution_count": 13,
     "metadata": {},
     "output_type": "execute_result"
    }
   ],
   "source": [
    "df2.dtypes"
   ]
  },
  {
   "cell_type": "markdown",
   "metadata": {},
   "source": [
    "5.使用Tab自动补全功能会自动识别所有的属性以及自定义的列"
   ]
  },
  {
   "cell_type": "markdown",
   "metadata": {},
   "source": [
    "# 二、查看数据"
   ]
  },
  {
   "cell_type": "markdown",
   "metadata": {},
   "source": [
    "详情请参阅：[Basics Section](http://pandas.pydata.org/pandas-docs/stable/basics.html#basics)"
   ]
  },
  {
   "cell_type": "markdown",
   "metadata": {},
   "source": [
    "1.查看Frame中头部和尾部的行："
   ]
  },
  {
   "cell_type": "code",
   "execution_count": 14,
   "metadata": {
    "collapsed": false
   },
   "outputs": [
    {
     "data": {
      "text/html": [
       "<div>\n",
       "<table border=\"1\" class=\"dataframe\">\n",
       "  <thead>\n",
       "    <tr style=\"text-align: right;\">\n",
       "      <th></th>\n",
       "      <th>A</th>\n",
       "      <th>B</th>\n",
       "      <th>C</th>\n",
       "      <th>D</th>\n",
       "    </tr>\n",
       "  </thead>\n",
       "  <tbody>\n",
       "    <tr>\n",
       "      <th>2013-01-01</th>\n",
       "      <td>-0.397636</td>\n",
       "      <td>1.091843</td>\n",
       "      <td>0.621826</td>\n",
       "      <td>0.643196</td>\n",
       "    </tr>\n",
       "    <tr>\n",
       "      <th>2013-01-02</th>\n",
       "      <td>0.047735</td>\n",
       "      <td>-0.693675</td>\n",
       "      <td>1.588932</td>\n",
       "      <td>-0.774878</td>\n",
       "    </tr>\n",
       "    <tr>\n",
       "      <th>2013-01-03</th>\n",
       "      <td>-0.309450</td>\n",
       "      <td>-0.951779</td>\n",
       "      <td>0.028030</td>\n",
       "      <td>-2.033464</td>\n",
       "    </tr>\n",
       "    <tr>\n",
       "      <th>2013-01-04</th>\n",
       "      <td>-0.905928</td>\n",
       "      <td>0.807286</td>\n",
       "      <td>1.032849</td>\n",
       "      <td>0.160724</td>\n",
       "    </tr>\n",
       "    <tr>\n",
       "      <th>2013-01-05</th>\n",
       "      <td>-0.195194</td>\n",
       "      <td>-0.221892</td>\n",
       "      <td>-1.843014</td>\n",
       "      <td>-1.704663</td>\n",
       "    </tr>\n",
       "  </tbody>\n",
       "</table>\n",
       "</div>"
      ],
      "text/plain": [
       "                   A         B         C         D\n",
       "2013-01-01 -0.397636  1.091843  0.621826  0.643196\n",
       "2013-01-02  0.047735 -0.693675  1.588932 -0.774878\n",
       "2013-01-03 -0.309450 -0.951779  0.028030 -2.033464\n",
       "2013-01-04 -0.905928  0.807286  1.032849  0.160724\n",
       "2013-01-05 -0.195194 -0.221892 -1.843014 -1.704663"
      ]
     },
     "execution_count": 14,
     "metadata": {},
     "output_type": "execute_result"
    }
   ],
   "source": [
    "df.head()"
   ]
  },
  {
   "cell_type": "code",
   "execution_count": 15,
   "metadata": {
    "collapsed": false
   },
   "outputs": [
    {
     "data": {
      "text/html": [
       "<div>\n",
       "<table border=\"1\" class=\"dataframe\">\n",
       "  <thead>\n",
       "    <tr style=\"text-align: right;\">\n",
       "      <th></th>\n",
       "      <th>A</th>\n",
       "      <th>B</th>\n",
       "      <th>C</th>\n",
       "      <th>D</th>\n",
       "    </tr>\n",
       "  </thead>\n",
       "  <tbody>\n",
       "    <tr>\n",
       "      <th>2013-01-04</th>\n",
       "      <td>-0.905928</td>\n",
       "      <td>0.807286</td>\n",
       "      <td>1.032849</td>\n",
       "      <td>0.160724</td>\n",
       "    </tr>\n",
       "    <tr>\n",
       "      <th>2013-01-05</th>\n",
       "      <td>-0.195194</td>\n",
       "      <td>-0.221892</td>\n",
       "      <td>-1.843014</td>\n",
       "      <td>-1.704663</td>\n",
       "    </tr>\n",
       "    <tr>\n",
       "      <th>2013-01-06</th>\n",
       "      <td>0.773058</td>\n",
       "      <td>-1.486186</td>\n",
       "      <td>0.876408</td>\n",
       "      <td>2.159035</td>\n",
       "    </tr>\n",
       "  </tbody>\n",
       "</table>\n",
       "</div>"
      ],
      "text/plain": [
       "                   A         B         C         D\n",
       "2013-01-04 -0.905928  0.807286  1.032849  0.160724\n",
       "2013-01-05 -0.195194 -0.221892 -1.843014 -1.704663\n",
       "2013-01-06  0.773058 -1.486186  0.876408  2.159035"
      ]
     },
     "execution_count": 15,
     "metadata": {},
     "output_type": "execute_result"
    }
   ],
   "source": [
    "df.tail(3)"
   ]
  },
  {
   "cell_type": "markdown",
   "metadata": {},
   "source": [
    "2.显示索引、列和底层的numpy数据："
   ]
  },
  {
   "cell_type": "code",
   "execution_count": 16,
   "metadata": {
    "collapsed": false
   },
   "outputs": [
    {
     "data": {
      "text/plain": [
       "DatetimeIndex(['2013-01-01', '2013-01-02', '2013-01-03', '2013-01-04',\n",
       "               '2013-01-05', '2013-01-06'],\n",
       "              dtype='datetime64[ns]', freq='D')"
      ]
     },
     "execution_count": 16,
     "metadata": {},
     "output_type": "execute_result"
    }
   ],
   "source": [
    "df.index"
   ]
  },
  {
   "cell_type": "code",
   "execution_count": 17,
   "metadata": {
    "collapsed": false
   },
   "outputs": [
    {
     "data": {
      "text/plain": [
       "Index(['A', 'B', 'C', 'D'], dtype='object')"
      ]
     },
     "execution_count": 17,
     "metadata": {},
     "output_type": "execute_result"
    }
   ],
   "source": [
    "df.columns"
   ]
  },
  {
   "cell_type": "code",
   "execution_count": 18,
   "metadata": {
    "collapsed": false
   },
   "outputs": [
    {
     "data": {
      "text/plain": [
       "array([[-0.39763564,  1.09184269,  0.62182584,  0.64319558],\n",
       "       [ 0.0477345 , -0.69367452,  1.58893209, -0.77487822],\n",
       "       [-0.30944982, -0.95177856,  0.0280302 , -2.03346358],\n",
       "       [-0.9059281 ,  0.80728618,  1.03284944,  0.16072416],\n",
       "       [-0.19519391, -0.22189217, -1.84301383, -1.7046631 ],\n",
       "       [ 0.77305772, -1.48618624,  0.87640846,  2.15903469]])"
      ]
     },
     "execution_count": 18,
     "metadata": {},
     "output_type": "execute_result"
    }
   ],
   "source": [
    "df.values"
   ]
  },
  {
   "cell_type": "markdown",
   "metadata": {},
   "source": [
    "3.describe()函数对于数据的快速统计汇总："
   ]
  },
  {
   "cell_type": "code",
   "execution_count": 19,
   "metadata": {
    "collapsed": false
   },
   "outputs": [
    {
     "data": {
      "text/html": [
       "<div>\n",
       "<table border=\"1\" class=\"dataframe\">\n",
       "  <thead>\n",
       "    <tr style=\"text-align: right;\">\n",
       "      <th></th>\n",
       "      <th>A</th>\n",
       "      <th>B</th>\n",
       "      <th>C</th>\n",
       "      <th>D</th>\n",
       "    </tr>\n",
       "  </thead>\n",
       "  <tbody>\n",
       "    <tr>\n",
       "      <th>count</th>\n",
       "      <td>6.000000</td>\n",
       "      <td>6.000000</td>\n",
       "      <td>6.000000</td>\n",
       "      <td>6.000000</td>\n",
       "    </tr>\n",
       "    <tr>\n",
       "      <th>mean</th>\n",
       "      <td>-0.164569</td>\n",
       "      <td>-0.242400</td>\n",
       "      <td>0.384172</td>\n",
       "      <td>-0.258342</td>\n",
       "    </tr>\n",
       "    <tr>\n",
       "      <th>std</th>\n",
       "      <td>0.556791</td>\n",
       "      <td>1.013542</td>\n",
       "      <td>1.204840</td>\n",
       "      <td>1.571102</td>\n",
       "    </tr>\n",
       "    <tr>\n",
       "      <th>min</th>\n",
       "      <td>-0.905928</td>\n",
       "      <td>-1.486186</td>\n",
       "      <td>-1.843014</td>\n",
       "      <td>-2.033464</td>\n",
       "    </tr>\n",
       "    <tr>\n",
       "      <th>25%</th>\n",
       "      <td>-0.375589</td>\n",
       "      <td>-0.887253</td>\n",
       "      <td>0.176479</td>\n",
       "      <td>-1.472217</td>\n",
       "    </tr>\n",
       "    <tr>\n",
       "      <th>50%</th>\n",
       "      <td>-0.252322</td>\n",
       "      <td>-0.457783</td>\n",
       "      <td>0.749117</td>\n",
       "      <td>-0.307077</td>\n",
       "    </tr>\n",
       "    <tr>\n",
       "      <th>75%</th>\n",
       "      <td>-0.012998</td>\n",
       "      <td>0.549992</td>\n",
       "      <td>0.993739</td>\n",
       "      <td>0.522578</td>\n",
       "    </tr>\n",
       "    <tr>\n",
       "      <th>max</th>\n",
       "      <td>0.773058</td>\n",
       "      <td>1.091843</td>\n",
       "      <td>1.588932</td>\n",
       "      <td>2.159035</td>\n",
       "    </tr>\n",
       "  </tbody>\n",
       "</table>\n",
       "</div>"
      ],
      "text/plain": [
       "              A         B         C         D\n",
       "count  6.000000  6.000000  6.000000  6.000000\n",
       "mean  -0.164569 -0.242400  0.384172 -0.258342\n",
       "std    0.556791  1.013542  1.204840  1.571102\n",
       "min   -0.905928 -1.486186 -1.843014 -2.033464\n",
       "25%   -0.375589 -0.887253  0.176479 -1.472217\n",
       "50%   -0.252322 -0.457783  0.749117 -0.307077\n",
       "75%   -0.012998  0.549992  0.993739  0.522578\n",
       "max    0.773058  1.091843  1.588932  2.159035"
      ]
     },
     "execution_count": 19,
     "metadata": {},
     "output_type": "execute_result"
    }
   ],
   "source": [
    "df.describe()"
   ]
  },
  {
   "cell_type": "markdown",
   "metadata": {},
   "source": [
    "4.对数据的转置(tranverse):"
   ]
  },
  {
   "cell_type": "code",
   "execution_count": 20,
   "metadata": {
    "collapsed": false
   },
   "outputs": [
    {
     "data": {
      "text/html": [
       "<div>\n",
       "<table border=\"1\" class=\"dataframe\">\n",
       "  <thead>\n",
       "    <tr style=\"text-align: right;\">\n",
       "      <th></th>\n",
       "      <th>2013-01-01 00:00:00</th>\n",
       "      <th>2013-01-02 00:00:00</th>\n",
       "      <th>2013-01-03 00:00:00</th>\n",
       "      <th>2013-01-04 00:00:00</th>\n",
       "      <th>2013-01-05 00:00:00</th>\n",
       "      <th>2013-01-06 00:00:00</th>\n",
       "    </tr>\n",
       "  </thead>\n",
       "  <tbody>\n",
       "    <tr>\n",
       "      <th>A</th>\n",
       "      <td>-0.397636</td>\n",
       "      <td>0.047735</td>\n",
       "      <td>-0.309450</td>\n",
       "      <td>-0.905928</td>\n",
       "      <td>-0.195194</td>\n",
       "      <td>0.773058</td>\n",
       "    </tr>\n",
       "    <tr>\n",
       "      <th>B</th>\n",
       "      <td>1.091843</td>\n",
       "      <td>-0.693675</td>\n",
       "      <td>-0.951779</td>\n",
       "      <td>0.807286</td>\n",
       "      <td>-0.221892</td>\n",
       "      <td>-1.486186</td>\n",
       "    </tr>\n",
       "    <tr>\n",
       "      <th>C</th>\n",
       "      <td>0.621826</td>\n",
       "      <td>1.588932</td>\n",
       "      <td>0.028030</td>\n",
       "      <td>1.032849</td>\n",
       "      <td>-1.843014</td>\n",
       "      <td>0.876408</td>\n",
       "    </tr>\n",
       "    <tr>\n",
       "      <th>D</th>\n",
       "      <td>0.643196</td>\n",
       "      <td>-0.774878</td>\n",
       "      <td>-2.033464</td>\n",
       "      <td>0.160724</td>\n",
       "      <td>-1.704663</td>\n",
       "      <td>2.159035</td>\n",
       "    </tr>\n",
       "  </tbody>\n",
       "</table>\n",
       "</div>"
      ],
      "text/plain": [
       "   2013-01-01  2013-01-02  2013-01-03  2013-01-04  2013-01-05  2013-01-06\n",
       "A   -0.397636    0.047735   -0.309450   -0.905928   -0.195194    0.773058\n",
       "B    1.091843   -0.693675   -0.951779    0.807286   -0.221892   -1.486186\n",
       "C    0.621826    1.588932    0.028030    1.032849   -1.843014    0.876408\n",
       "D    0.643196   -0.774878   -2.033464    0.160724   -1.704663    2.159035"
      ]
     },
     "execution_count": 20,
     "metadata": {},
     "output_type": "execute_result"
    }
   ],
   "source": [
    "df.T"
   ]
  },
  {
   "cell_type": "markdown",
   "metadata": {},
   "source": [
    "5.按轴进行排序"
   ]
  },
  {
   "cell_type": "code",
   "execution_count": 21,
   "metadata": {
    "collapsed": false
   },
   "outputs": [
    {
     "data": {
      "text/html": [
       "<div>\n",
       "<table border=\"1\" class=\"dataframe\">\n",
       "  <thead>\n",
       "    <tr style=\"text-align: right;\">\n",
       "      <th></th>\n",
       "      <th>D</th>\n",
       "      <th>C</th>\n",
       "      <th>B</th>\n",
       "      <th>A</th>\n",
       "    </tr>\n",
       "  </thead>\n",
       "  <tbody>\n",
       "    <tr>\n",
       "      <th>2013-01-01</th>\n",
       "      <td>0.643196</td>\n",
       "      <td>0.621826</td>\n",
       "      <td>1.091843</td>\n",
       "      <td>-0.397636</td>\n",
       "    </tr>\n",
       "    <tr>\n",
       "      <th>2013-01-02</th>\n",
       "      <td>-0.774878</td>\n",
       "      <td>1.588932</td>\n",
       "      <td>-0.693675</td>\n",
       "      <td>0.047735</td>\n",
       "    </tr>\n",
       "    <tr>\n",
       "      <th>2013-01-03</th>\n",
       "      <td>-2.033464</td>\n",
       "      <td>0.028030</td>\n",
       "      <td>-0.951779</td>\n",
       "      <td>-0.309450</td>\n",
       "    </tr>\n",
       "    <tr>\n",
       "      <th>2013-01-04</th>\n",
       "      <td>0.160724</td>\n",
       "      <td>1.032849</td>\n",
       "      <td>0.807286</td>\n",
       "      <td>-0.905928</td>\n",
       "    </tr>\n",
       "    <tr>\n",
       "      <th>2013-01-05</th>\n",
       "      <td>-1.704663</td>\n",
       "      <td>-1.843014</td>\n",
       "      <td>-0.221892</td>\n",
       "      <td>-0.195194</td>\n",
       "    </tr>\n",
       "    <tr>\n",
       "      <th>2013-01-06</th>\n",
       "      <td>2.159035</td>\n",
       "      <td>0.876408</td>\n",
       "      <td>-1.486186</td>\n",
       "      <td>0.773058</td>\n",
       "    </tr>\n",
       "  </tbody>\n",
       "</table>\n",
       "</div>"
      ],
      "text/plain": [
       "                   D         C         B         A\n",
       "2013-01-01  0.643196  0.621826  1.091843 -0.397636\n",
       "2013-01-02 -0.774878  1.588932 -0.693675  0.047735\n",
       "2013-01-03 -2.033464  0.028030 -0.951779 -0.309450\n",
       "2013-01-04  0.160724  1.032849  0.807286 -0.905928\n",
       "2013-01-05 -1.704663 -1.843014 -0.221892 -0.195194\n",
       "2013-01-06  2.159035  0.876408 -1.486186  0.773058"
      ]
     },
     "execution_count": 21,
     "metadata": {},
     "output_type": "execute_result"
    }
   ],
   "source": [
    "df.sort_index(axis=1,ascending=False)"
   ]
  },
  {
   "cell_type": "markdown",
   "metadata": {},
   "source": [
    "6.按值进行排序"
   ]
  },
  {
   "cell_type": "code",
   "execution_count": 22,
   "metadata": {
    "collapsed": false
   },
   "outputs": [
    {
     "data": {
      "text/html": [
       "<div>\n",
       "<table border=\"1\" class=\"dataframe\">\n",
       "  <thead>\n",
       "    <tr style=\"text-align: right;\">\n",
       "      <th></th>\n",
       "      <th>A</th>\n",
       "      <th>B</th>\n",
       "      <th>C</th>\n",
       "      <th>D</th>\n",
       "    </tr>\n",
       "  </thead>\n",
       "  <tbody>\n",
       "    <tr>\n",
       "      <th>2013-01-06</th>\n",
       "      <td>0.773058</td>\n",
       "      <td>-1.486186</td>\n",
       "      <td>0.876408</td>\n",
       "      <td>2.159035</td>\n",
       "    </tr>\n",
       "    <tr>\n",
       "      <th>2013-01-03</th>\n",
       "      <td>-0.309450</td>\n",
       "      <td>-0.951779</td>\n",
       "      <td>0.028030</td>\n",
       "      <td>-2.033464</td>\n",
       "    </tr>\n",
       "    <tr>\n",
       "      <th>2013-01-02</th>\n",
       "      <td>0.047735</td>\n",
       "      <td>-0.693675</td>\n",
       "      <td>1.588932</td>\n",
       "      <td>-0.774878</td>\n",
       "    </tr>\n",
       "    <tr>\n",
       "      <th>2013-01-05</th>\n",
       "      <td>-0.195194</td>\n",
       "      <td>-0.221892</td>\n",
       "      <td>-1.843014</td>\n",
       "      <td>-1.704663</td>\n",
       "    </tr>\n",
       "    <tr>\n",
       "      <th>2013-01-04</th>\n",
       "      <td>-0.905928</td>\n",
       "      <td>0.807286</td>\n",
       "      <td>1.032849</td>\n",
       "      <td>0.160724</td>\n",
       "    </tr>\n",
       "    <tr>\n",
       "      <th>2013-01-01</th>\n",
       "      <td>-0.397636</td>\n",
       "      <td>1.091843</td>\n",
       "      <td>0.621826</td>\n",
       "      <td>0.643196</td>\n",
       "    </tr>\n",
       "  </tbody>\n",
       "</table>\n",
       "</div>"
      ],
      "text/plain": [
       "                   A         B         C         D\n",
       "2013-01-06  0.773058 -1.486186  0.876408  2.159035\n",
       "2013-01-03 -0.309450 -0.951779  0.028030 -2.033464\n",
       "2013-01-02  0.047735 -0.693675  1.588932 -0.774878\n",
       "2013-01-05 -0.195194 -0.221892 -1.843014 -1.704663\n",
       "2013-01-04 -0.905928  0.807286  1.032849  0.160724\n",
       "2013-01-01 -0.397636  1.091843  0.621826  0.643196"
      ]
     },
     "execution_count": 22,
     "metadata": {},
     "output_type": "execute_result"
    }
   ],
   "source": [
    "df.sort(columns='B')"
   ]
  },
  {
   "cell_type": "markdown",
   "metadata": {},
   "source": [
    "# 三、选择"
   ]
  },
  {
   "cell_type": "markdown",
   "metadata": {},
   "source": [
    "虽然标准的Python/Numpy的选择和设置表达式都能够直接派上用场，但是作为工程使用的代码，我们推荐使用经过优化的pandas数据访问方式：.at,.iat,\n",
    ".loc,.iloc和.ix详情请参阅[Indexing and Selecting Data](http://pandas.pydata.org/pandas-docs/stable/indexing.html#indexing)\n",
    "                                                 和[MultiIndex / Advanced Indexing](http://pandas.pydata.org/pandas-docs/stable/advanced.html#advanced)"
   ]
  },
  {
   "cell_type": "markdown",
   "metadata": {},
   "source": [
    "## 获取"
   ]
  },
  {
   "cell_type": "markdown",
   "metadata": {},
   "source": [
    "1.选择一个单独的列，这将会返回一个Series，等同于df.A:"
   ]
  },
  {
   "cell_type": "code",
   "execution_count": 23,
   "metadata": {
    "collapsed": false
   },
   "outputs": [
    {
     "data": {
      "text/html": [
       "<div>\n",
       "<table border=\"1\" class=\"dataframe\">\n",
       "  <thead>\n",
       "    <tr style=\"text-align: right;\">\n",
       "      <th></th>\n",
       "      <th>A</th>\n",
       "      <th>B</th>\n",
       "      <th>C</th>\n",
       "      <th>D</th>\n",
       "    </tr>\n",
       "  </thead>\n",
       "  <tbody>\n",
       "    <tr>\n",
       "      <th>2013-01-01</th>\n",
       "      <td>-0.397636</td>\n",
       "      <td>1.091843</td>\n",
       "      <td>0.621826</td>\n",
       "      <td>0.643196</td>\n",
       "    </tr>\n",
       "    <tr>\n",
       "      <th>2013-01-02</th>\n",
       "      <td>0.047735</td>\n",
       "      <td>-0.693675</td>\n",
       "      <td>1.588932</td>\n",
       "      <td>-0.774878</td>\n",
       "    </tr>\n",
       "    <tr>\n",
       "      <th>2013-01-03</th>\n",
       "      <td>-0.309450</td>\n",
       "      <td>-0.951779</td>\n",
       "      <td>0.028030</td>\n",
       "      <td>-2.033464</td>\n",
       "    </tr>\n",
       "    <tr>\n",
       "      <th>2013-01-04</th>\n",
       "      <td>-0.905928</td>\n",
       "      <td>0.807286</td>\n",
       "      <td>1.032849</td>\n",
       "      <td>0.160724</td>\n",
       "    </tr>\n",
       "    <tr>\n",
       "      <th>2013-01-05</th>\n",
       "      <td>-0.195194</td>\n",
       "      <td>-0.221892</td>\n",
       "      <td>-1.843014</td>\n",
       "      <td>-1.704663</td>\n",
       "    </tr>\n",
       "    <tr>\n",
       "      <th>2013-01-06</th>\n",
       "      <td>0.773058</td>\n",
       "      <td>-1.486186</td>\n",
       "      <td>0.876408</td>\n",
       "      <td>2.159035</td>\n",
       "    </tr>\n",
       "  </tbody>\n",
       "</table>\n",
       "</div>"
      ],
      "text/plain": [
       "                   A         B         C         D\n",
       "2013-01-01 -0.397636  1.091843  0.621826  0.643196\n",
       "2013-01-02  0.047735 -0.693675  1.588932 -0.774878\n",
       "2013-01-03 -0.309450 -0.951779  0.028030 -2.033464\n",
       "2013-01-04 -0.905928  0.807286  1.032849  0.160724\n",
       "2013-01-05 -0.195194 -0.221892 -1.843014 -1.704663\n",
       "2013-01-06  0.773058 -1.486186  0.876408  2.159035"
      ]
     },
     "execution_count": 23,
     "metadata": {},
     "output_type": "execute_result"
    }
   ],
   "source": [
    "df"
   ]
  },
  {
   "cell_type": "code",
   "execution_count": 24,
   "metadata": {
    "collapsed": false
   },
   "outputs": [
    {
     "data": {
      "text/plain": [
       "2013-01-01   -0.397636\n",
       "2013-01-02    0.047735\n",
       "2013-01-03   -0.309450\n",
       "2013-01-04   -0.905928\n",
       "2013-01-05   -0.195194\n",
       "2013-01-06    0.773058\n",
       "Freq: D, Name: A, dtype: float64"
      ]
     },
     "execution_count": 24,
     "metadata": {},
     "output_type": "execute_result"
    }
   ],
   "source": [
    "df['A']"
   ]
  },
  {
   "cell_type": "markdown",
   "metadata": {},
   "source": [
    "2.通过[]进行选择，这将会对行进行切片"
   ]
  },
  {
   "cell_type": "code",
   "execution_count": 25,
   "metadata": {
    "collapsed": false
   },
   "outputs": [
    {
     "data": {
      "text/html": [
       "<div>\n",
       "<table border=\"1\" class=\"dataframe\">\n",
       "  <thead>\n",
       "    <tr style=\"text-align: right;\">\n",
       "      <th></th>\n",
       "      <th>A</th>\n",
       "      <th>B</th>\n",
       "      <th>C</th>\n",
       "      <th>D</th>\n",
       "    </tr>\n",
       "  </thead>\n",
       "  <tbody>\n",
       "    <tr>\n",
       "      <th>2013-01-01</th>\n",
       "      <td>-0.397636</td>\n",
       "      <td>1.091843</td>\n",
       "      <td>0.621826</td>\n",
       "      <td>0.643196</td>\n",
       "    </tr>\n",
       "    <tr>\n",
       "      <th>2013-01-02</th>\n",
       "      <td>0.047735</td>\n",
       "      <td>-0.693675</td>\n",
       "      <td>1.588932</td>\n",
       "      <td>-0.774878</td>\n",
       "    </tr>\n",
       "    <tr>\n",
       "      <th>2013-01-03</th>\n",
       "      <td>-0.309450</td>\n",
       "      <td>-0.951779</td>\n",
       "      <td>0.028030</td>\n",
       "      <td>-2.033464</td>\n",
       "    </tr>\n",
       "  </tbody>\n",
       "</table>\n",
       "</div>"
      ],
      "text/plain": [
       "                   A         B         C         D\n",
       "2013-01-01 -0.397636  1.091843  0.621826  0.643196\n",
       "2013-01-02  0.047735 -0.693675  1.588932 -0.774878\n",
       "2013-01-03 -0.309450 -0.951779  0.028030 -2.033464"
      ]
     },
     "execution_count": 25,
     "metadata": {},
     "output_type": "execute_result"
    }
   ],
   "source": [
    "df[0:3]"
   ]
  },
  {
   "cell_type": "code",
   "execution_count": 26,
   "metadata": {
    "collapsed": false
   },
   "outputs": [
    {
     "data": {
      "text/html": [
       "<div>\n",
       "<table border=\"1\" class=\"dataframe\">\n",
       "  <thead>\n",
       "    <tr style=\"text-align: right;\">\n",
       "      <th></th>\n",
       "      <th>A</th>\n",
       "      <th>B</th>\n",
       "      <th>C</th>\n",
       "      <th>D</th>\n",
       "    </tr>\n",
       "  </thead>\n",
       "  <tbody>\n",
       "    <tr>\n",
       "      <th>2013-01-02</th>\n",
       "      <td>0.047735</td>\n",
       "      <td>-0.693675</td>\n",
       "      <td>1.588932</td>\n",
       "      <td>-0.774878</td>\n",
       "    </tr>\n",
       "    <tr>\n",
       "      <th>2013-01-03</th>\n",
       "      <td>-0.309450</td>\n",
       "      <td>-0.951779</td>\n",
       "      <td>0.028030</td>\n",
       "      <td>-2.033464</td>\n",
       "    </tr>\n",
       "    <tr>\n",
       "      <th>2013-01-04</th>\n",
       "      <td>-0.905928</td>\n",
       "      <td>0.807286</td>\n",
       "      <td>1.032849</td>\n",
       "      <td>0.160724</td>\n",
       "    </tr>\n",
       "  </tbody>\n",
       "</table>\n",
       "</div>"
      ],
      "text/plain": [
       "                   A         B         C         D\n",
       "2013-01-02  0.047735 -0.693675  1.588932 -0.774878\n",
       "2013-01-03 -0.309450 -0.951779  0.028030 -2.033464\n",
       "2013-01-04 -0.905928  0.807286  1.032849  0.160724"
      ]
     },
     "execution_count": 26,
     "metadata": {},
     "output_type": "execute_result"
    }
   ],
   "source": [
    "df['20130102':'20130104']"
   ]
  },
  {
   "cell_type": "markdown",
   "metadata": {},
   "source": [
    "## 通过标签选择"
   ]
  },
  {
   "cell_type": "markdown",
   "metadata": {},
   "source": [
    "1.使用标签来获取一个交叉的区域"
   ]
  },
  {
   "cell_type": "code",
   "execution_count": 27,
   "metadata": {
    "collapsed": false
   },
   "outputs": [
    {
     "data": {
      "text/html": [
       "<div>\n",
       "<table border=\"1\" class=\"dataframe\">\n",
       "  <thead>\n",
       "    <tr style=\"text-align: right;\">\n",
       "      <th></th>\n",
       "      <th>A</th>\n",
       "      <th>B</th>\n",
       "      <th>C</th>\n",
       "      <th>D</th>\n",
       "    </tr>\n",
       "  </thead>\n",
       "  <tbody>\n",
       "    <tr>\n",
       "      <th>2013-01-01</th>\n",
       "      <td>-0.397636</td>\n",
       "      <td>1.091843</td>\n",
       "      <td>0.621826</td>\n",
       "      <td>0.643196</td>\n",
       "    </tr>\n",
       "    <tr>\n",
       "      <th>2013-01-02</th>\n",
       "      <td>0.047735</td>\n",
       "      <td>-0.693675</td>\n",
       "      <td>1.588932</td>\n",
       "      <td>-0.774878</td>\n",
       "    </tr>\n",
       "    <tr>\n",
       "      <th>2013-01-03</th>\n",
       "      <td>-0.309450</td>\n",
       "      <td>-0.951779</td>\n",
       "      <td>0.028030</td>\n",
       "      <td>-2.033464</td>\n",
       "    </tr>\n",
       "    <tr>\n",
       "      <th>2013-01-04</th>\n",
       "      <td>-0.905928</td>\n",
       "      <td>0.807286</td>\n",
       "      <td>1.032849</td>\n",
       "      <td>0.160724</td>\n",
       "    </tr>\n",
       "    <tr>\n",
       "      <th>2013-01-05</th>\n",
       "      <td>-0.195194</td>\n",
       "      <td>-0.221892</td>\n",
       "      <td>-1.843014</td>\n",
       "      <td>-1.704663</td>\n",
       "    </tr>\n",
       "    <tr>\n",
       "      <th>2013-01-06</th>\n",
       "      <td>0.773058</td>\n",
       "      <td>-1.486186</td>\n",
       "      <td>0.876408</td>\n",
       "      <td>2.159035</td>\n",
       "    </tr>\n",
       "  </tbody>\n",
       "</table>\n",
       "</div>"
      ],
      "text/plain": [
       "                   A         B         C         D\n",
       "2013-01-01 -0.397636  1.091843  0.621826  0.643196\n",
       "2013-01-02  0.047735 -0.693675  1.588932 -0.774878\n",
       "2013-01-03 -0.309450 -0.951779  0.028030 -2.033464\n",
       "2013-01-04 -0.905928  0.807286  1.032849  0.160724\n",
       "2013-01-05 -0.195194 -0.221892 -1.843014 -1.704663\n",
       "2013-01-06  0.773058 -1.486186  0.876408  2.159035"
      ]
     },
     "execution_count": 27,
     "metadata": {},
     "output_type": "execute_result"
    }
   ],
   "source": [
    "df"
   ]
  },
  {
   "cell_type": "code",
   "execution_count": 28,
   "metadata": {
    "collapsed": false
   },
   "outputs": [
    {
     "data": {
      "text/plain": [
       "A   -0.397636\n",
       "B    1.091843\n",
       "C    0.621826\n",
       "D    0.643196\n",
       "Name: 2013-01-01 00:00:00, dtype: float64"
      ]
     },
     "execution_count": 28,
     "metadata": {},
     "output_type": "execute_result"
    }
   ],
   "source": [
    "df.loc[dates[0]]"
   ]
  },
  {
   "cell_type": "markdown",
   "metadata": {},
   "source": [
    "2.通过标签来在多个轴上进行选择"
   ]
  },
  {
   "cell_type": "code",
   "execution_count": 29,
   "metadata": {
    "collapsed": false
   },
   "outputs": [
    {
     "data": {
      "text/html": [
       "<div>\n",
       "<table border=\"1\" class=\"dataframe\">\n",
       "  <thead>\n",
       "    <tr style=\"text-align: right;\">\n",
       "      <th></th>\n",
       "      <th>A</th>\n",
       "      <th>B</th>\n",
       "    </tr>\n",
       "  </thead>\n",
       "  <tbody>\n",
       "    <tr>\n",
       "      <th>2013-01-01</th>\n",
       "      <td>-0.397636</td>\n",
       "      <td>1.091843</td>\n",
       "    </tr>\n",
       "    <tr>\n",
       "      <th>2013-01-02</th>\n",
       "      <td>0.047735</td>\n",
       "      <td>-0.693675</td>\n",
       "    </tr>\n",
       "    <tr>\n",
       "      <th>2013-01-03</th>\n",
       "      <td>-0.309450</td>\n",
       "      <td>-0.951779</td>\n",
       "    </tr>\n",
       "    <tr>\n",
       "      <th>2013-01-04</th>\n",
       "      <td>-0.905928</td>\n",
       "      <td>0.807286</td>\n",
       "    </tr>\n",
       "    <tr>\n",
       "      <th>2013-01-05</th>\n",
       "      <td>-0.195194</td>\n",
       "      <td>-0.221892</td>\n",
       "    </tr>\n",
       "    <tr>\n",
       "      <th>2013-01-06</th>\n",
       "      <td>0.773058</td>\n",
       "      <td>-1.486186</td>\n",
       "    </tr>\n",
       "  </tbody>\n",
       "</table>\n",
       "</div>"
      ],
      "text/plain": [
       "                   A         B\n",
       "2013-01-01 -0.397636  1.091843\n",
       "2013-01-02  0.047735 -0.693675\n",
       "2013-01-03 -0.309450 -0.951779\n",
       "2013-01-04 -0.905928  0.807286\n",
       "2013-01-05 -0.195194 -0.221892\n",
       "2013-01-06  0.773058 -1.486186"
      ]
     },
     "execution_count": 29,
     "metadata": {},
     "output_type": "execute_result"
    }
   ],
   "source": [
    "df.loc[:,['A', 'B']]"
   ]
  },
  {
   "cell_type": "markdown",
   "metadata": {},
   "source": [
    "3.标签切片"
   ]
  },
  {
   "cell_type": "code",
   "execution_count": 30,
   "metadata": {
    "collapsed": false
   },
   "outputs": [
    {
     "data": {
      "text/html": [
       "<div>\n",
       "<table border=\"1\" class=\"dataframe\">\n",
       "  <thead>\n",
       "    <tr style=\"text-align: right;\">\n",
       "      <th></th>\n",
       "      <th>A</th>\n",
       "      <th>B</th>\n",
       "    </tr>\n",
       "  </thead>\n",
       "  <tbody>\n",
       "    <tr>\n",
       "      <th>2013-01-02</th>\n",
       "      <td>0.047735</td>\n",
       "      <td>-0.693675</td>\n",
       "    </tr>\n",
       "    <tr>\n",
       "      <th>2013-01-03</th>\n",
       "      <td>-0.309450</td>\n",
       "      <td>-0.951779</td>\n",
       "    </tr>\n",
       "    <tr>\n",
       "      <th>2013-01-04</th>\n",
       "      <td>-0.905928</td>\n",
       "      <td>0.807286</td>\n",
       "    </tr>\n",
       "  </tbody>\n",
       "</table>\n",
       "</div>"
      ],
      "text/plain": [
       "                   A         B\n",
       "2013-01-02  0.047735 -0.693675\n",
       "2013-01-03 -0.309450 -0.951779\n",
       "2013-01-04 -0.905928  0.807286"
      ]
     },
     "execution_count": 30,
     "metadata": {},
     "output_type": "execute_result"
    }
   ],
   "source": [
    "df.loc['20130102':'20130104', ['A','B']]"
   ]
  },
  {
   "cell_type": "markdown",
   "metadata": {},
   "source": [
    "4.对于返回的对象进行维度缩减"
   ]
  },
  {
   "cell_type": "code",
   "execution_count": 31,
   "metadata": {
    "collapsed": false
   },
   "outputs": [
    {
     "data": {
      "text/plain": [
       "A    0.047735\n",
       "B   -0.693675\n",
       "Name: 2013-01-02 00:00:00, dtype: float64"
      ]
     },
     "execution_count": 31,
     "metadata": {},
     "output_type": "execute_result"
    }
   ],
   "source": [
    "df.loc['20130102', ['A','B']]"
   ]
  },
  {
   "cell_type": "markdown",
   "metadata": {},
   "source": [
    "5.获取一个标量"
   ]
  },
  {
   "cell_type": "code",
   "execution_count": 32,
   "metadata": {
    "collapsed": false
   },
   "outputs": [
    {
     "data": {
      "text/plain": [
       "-0.39763563616930675"
      ]
     },
     "execution_count": 32,
     "metadata": {},
     "output_type": "execute_result"
    }
   ],
   "source": [
    "df.loc[dates[0], 'A']"
   ]
  },
  {
   "cell_type": "markdown",
   "metadata": {},
   "source": [
    "6.快速访问一个标量（与上一个方法等价）"
   ]
  },
  {
   "cell_type": "code",
   "execution_count": 33,
   "metadata": {
    "collapsed": false
   },
   "outputs": [
    {
     "data": {
      "text/plain": [
       "-0.39763563616930675"
      ]
     },
     "execution_count": 33,
     "metadata": {},
     "output_type": "execute_result"
    }
   ],
   "source": [
    "df.at[dates[0], 'A']"
   ]
  },
  {
   "cell_type": "markdown",
   "metadata": {},
   "source": [
    "## 通过位置选择"
   ]
  },
  {
   "cell_type": "markdown",
   "metadata": {},
   "source": [
    "1.通过传递数值进行位置选择（选择的是行）"
   ]
  },
  {
   "cell_type": "code",
   "execution_count": 34,
   "metadata": {
    "collapsed": false
   },
   "outputs": [
    {
     "data": {
      "text/html": [
       "<div>\n",
       "<table border=\"1\" class=\"dataframe\">\n",
       "  <thead>\n",
       "    <tr style=\"text-align: right;\">\n",
       "      <th></th>\n",
       "      <th>A</th>\n",
       "      <th>B</th>\n",
       "      <th>C</th>\n",
       "      <th>D</th>\n",
       "    </tr>\n",
       "  </thead>\n",
       "  <tbody>\n",
       "    <tr>\n",
       "      <th>2013-01-01</th>\n",
       "      <td>-0.397636</td>\n",
       "      <td>1.091843</td>\n",
       "      <td>0.621826</td>\n",
       "      <td>0.643196</td>\n",
       "    </tr>\n",
       "    <tr>\n",
       "      <th>2013-01-02</th>\n",
       "      <td>0.047735</td>\n",
       "      <td>-0.693675</td>\n",
       "      <td>1.588932</td>\n",
       "      <td>-0.774878</td>\n",
       "    </tr>\n",
       "    <tr>\n",
       "      <th>2013-01-03</th>\n",
       "      <td>-0.309450</td>\n",
       "      <td>-0.951779</td>\n",
       "      <td>0.028030</td>\n",
       "      <td>-2.033464</td>\n",
       "    </tr>\n",
       "    <tr>\n",
       "      <th>2013-01-04</th>\n",
       "      <td>-0.905928</td>\n",
       "      <td>0.807286</td>\n",
       "      <td>1.032849</td>\n",
       "      <td>0.160724</td>\n",
       "    </tr>\n",
       "    <tr>\n",
       "      <th>2013-01-05</th>\n",
       "      <td>-0.195194</td>\n",
       "      <td>-0.221892</td>\n",
       "      <td>-1.843014</td>\n",
       "      <td>-1.704663</td>\n",
       "    </tr>\n",
       "    <tr>\n",
       "      <th>2013-01-06</th>\n",
       "      <td>0.773058</td>\n",
       "      <td>-1.486186</td>\n",
       "      <td>0.876408</td>\n",
       "      <td>2.159035</td>\n",
       "    </tr>\n",
       "  </tbody>\n",
       "</table>\n",
       "</div>"
      ],
      "text/plain": [
       "                   A         B         C         D\n",
       "2013-01-01 -0.397636  1.091843  0.621826  0.643196\n",
       "2013-01-02  0.047735 -0.693675  1.588932 -0.774878\n",
       "2013-01-03 -0.309450 -0.951779  0.028030 -2.033464\n",
       "2013-01-04 -0.905928  0.807286  1.032849  0.160724\n",
       "2013-01-05 -0.195194 -0.221892 -1.843014 -1.704663\n",
       "2013-01-06  0.773058 -1.486186  0.876408  2.159035"
      ]
     },
     "execution_count": 34,
     "metadata": {},
     "output_type": "execute_result"
    }
   ],
   "source": [
    "df"
   ]
  },
  {
   "cell_type": "code",
   "execution_count": 35,
   "metadata": {
    "collapsed": false
   },
   "outputs": [
    {
     "data": {
      "text/plain": [
       "A   -0.905928\n",
       "B    0.807286\n",
       "C    1.032849\n",
       "D    0.160724\n",
       "Name: 2013-01-04 00:00:00, dtype: float64"
      ]
     },
     "execution_count": 35,
     "metadata": {},
     "output_type": "execute_result"
    }
   ],
   "source": [
    "df.iloc[3]"
   ]
  },
  {
   "cell_type": "markdown",
   "metadata": {},
   "source": [
    "2.通过数值进行切片，与numpy/python中的情况类似"
   ]
  },
  {
   "cell_type": "code",
   "execution_count": 36,
   "metadata": {
    "collapsed": false
   },
   "outputs": [
    {
     "data": {
      "text/html": [
       "<div>\n",
       "<table border=\"1\" class=\"dataframe\">\n",
       "  <thead>\n",
       "    <tr style=\"text-align: right;\">\n",
       "      <th></th>\n",
       "      <th>A</th>\n",
       "      <th>B</th>\n",
       "    </tr>\n",
       "  </thead>\n",
       "  <tbody>\n",
       "    <tr>\n",
       "      <th>2013-01-04</th>\n",
       "      <td>-0.905928</td>\n",
       "      <td>0.807286</td>\n",
       "    </tr>\n",
       "    <tr>\n",
       "      <th>2013-01-05</th>\n",
       "      <td>-0.195194</td>\n",
       "      <td>-0.221892</td>\n",
       "    </tr>\n",
       "  </tbody>\n",
       "</table>\n",
       "</div>"
      ],
      "text/plain": [
       "                   A         B\n",
       "2013-01-04 -0.905928  0.807286\n",
       "2013-01-05 -0.195194 -0.221892"
      ]
     },
     "execution_count": 36,
     "metadata": {},
     "output_type": "execute_result"
    }
   ],
   "source": [
    "df.iloc[3:5,0:2]"
   ]
  },
  {
   "cell_type": "markdown",
   "metadata": {},
   "source": [
    "3.通过指定一个位置的列表，与numpy/python中的情况类似"
   ]
  },
  {
   "cell_type": "code",
   "execution_count": 37,
   "metadata": {
    "collapsed": false
   },
   "outputs": [
    {
     "data": {
      "text/html": [
       "<div>\n",
       "<table border=\"1\" class=\"dataframe\">\n",
       "  <thead>\n",
       "    <tr style=\"text-align: right;\">\n",
       "      <th></th>\n",
       "      <th>A</th>\n",
       "      <th>C</th>\n",
       "    </tr>\n",
       "  </thead>\n",
       "  <tbody>\n",
       "    <tr>\n",
       "      <th>2013-01-02</th>\n",
       "      <td>0.047735</td>\n",
       "      <td>1.588932</td>\n",
       "    </tr>\n",
       "    <tr>\n",
       "      <th>2013-01-03</th>\n",
       "      <td>-0.309450</td>\n",
       "      <td>0.028030</td>\n",
       "    </tr>\n",
       "    <tr>\n",
       "      <th>2013-01-05</th>\n",
       "      <td>-0.195194</td>\n",
       "      <td>-1.843014</td>\n",
       "    </tr>\n",
       "  </tbody>\n",
       "</table>\n",
       "</div>"
      ],
      "text/plain": [
       "                   A         C\n",
       "2013-01-02  0.047735  1.588932\n",
       "2013-01-03 -0.309450  0.028030\n",
       "2013-01-05 -0.195194 -1.843014"
      ]
     },
     "execution_count": 37,
     "metadata": {},
     "output_type": "execute_result"
    }
   ],
   "source": [
    "df.iloc[[1,2,4],[0,2]]"
   ]
  },
  {
   "cell_type": "markdown",
   "metadata": {},
   "source": [
    "4.对行进行切片"
   ]
  },
  {
   "cell_type": "code",
   "execution_count": 38,
   "metadata": {
    "collapsed": false
   },
   "outputs": [
    {
     "data": {
      "text/html": [
       "<div>\n",
       "<table border=\"1\" class=\"dataframe\">\n",
       "  <thead>\n",
       "    <tr style=\"text-align: right;\">\n",
       "      <th></th>\n",
       "      <th>A</th>\n",
       "      <th>B</th>\n",
       "      <th>C</th>\n",
       "      <th>D</th>\n",
       "    </tr>\n",
       "  </thead>\n",
       "  <tbody>\n",
       "    <tr>\n",
       "      <th>2013-01-02</th>\n",
       "      <td>0.047735</td>\n",
       "      <td>-0.693675</td>\n",
       "      <td>1.588932</td>\n",
       "      <td>-0.774878</td>\n",
       "    </tr>\n",
       "    <tr>\n",
       "      <th>2013-01-03</th>\n",
       "      <td>-0.309450</td>\n",
       "      <td>-0.951779</td>\n",
       "      <td>0.028030</td>\n",
       "      <td>-2.033464</td>\n",
       "    </tr>\n",
       "  </tbody>\n",
       "</table>\n",
       "</div>"
      ],
      "text/plain": [
       "                   A         B         C         D\n",
       "2013-01-02  0.047735 -0.693675  1.588932 -0.774878\n",
       "2013-01-03 -0.309450 -0.951779  0.028030 -2.033464"
      ]
     },
     "execution_count": 38,
     "metadata": {},
     "output_type": "execute_result"
    }
   ],
   "source": [
    "df.iloc[1:3,:]"
   ]
  },
  {
   "cell_type": "markdown",
   "metadata": {},
   "source": [
    "5.对列进行切片"
   ]
  },
  {
   "cell_type": "code",
   "execution_count": 39,
   "metadata": {
    "collapsed": false
   },
   "outputs": [
    {
     "data": {
      "text/html": [
       "<div>\n",
       "<table border=\"1\" class=\"dataframe\">\n",
       "  <thead>\n",
       "    <tr style=\"text-align: right;\">\n",
       "      <th></th>\n",
       "      <th>B</th>\n",
       "      <th>C</th>\n",
       "    </tr>\n",
       "  </thead>\n",
       "  <tbody>\n",
       "    <tr>\n",
       "      <th>2013-01-01</th>\n",
       "      <td>1.091843</td>\n",
       "      <td>0.621826</td>\n",
       "    </tr>\n",
       "    <tr>\n",
       "      <th>2013-01-02</th>\n",
       "      <td>-0.693675</td>\n",
       "      <td>1.588932</td>\n",
       "    </tr>\n",
       "    <tr>\n",
       "      <th>2013-01-03</th>\n",
       "      <td>-0.951779</td>\n",
       "      <td>0.028030</td>\n",
       "    </tr>\n",
       "    <tr>\n",
       "      <th>2013-01-04</th>\n",
       "      <td>0.807286</td>\n",
       "      <td>1.032849</td>\n",
       "    </tr>\n",
       "    <tr>\n",
       "      <th>2013-01-05</th>\n",
       "      <td>-0.221892</td>\n",
       "      <td>-1.843014</td>\n",
       "    </tr>\n",
       "    <tr>\n",
       "      <th>2013-01-06</th>\n",
       "      <td>-1.486186</td>\n",
       "      <td>0.876408</td>\n",
       "    </tr>\n",
       "  </tbody>\n",
       "</table>\n",
       "</div>"
      ],
      "text/plain": [
       "                   B         C\n",
       "2013-01-01  1.091843  0.621826\n",
       "2013-01-02 -0.693675  1.588932\n",
       "2013-01-03 -0.951779  0.028030\n",
       "2013-01-04  0.807286  1.032849\n",
       "2013-01-05 -0.221892 -1.843014\n",
       "2013-01-06 -1.486186  0.876408"
      ]
     },
     "execution_count": 39,
     "metadata": {},
     "output_type": "execute_result"
    }
   ],
   "source": [
    "df.iloc[:,1:3]"
   ]
  },
  {
   "cell_type": "markdown",
   "metadata": {},
   "source": [
    "6.获取特定的值"
   ]
  },
  {
   "cell_type": "code",
   "execution_count": 40,
   "metadata": {
    "collapsed": false
   },
   "outputs": [
    {
     "data": {
      "text/plain": [
       "-0.69367452164656151"
      ]
     },
     "execution_count": 40,
     "metadata": {},
     "output_type": "execute_result"
    }
   ],
   "source": [
    "df.iloc[1,1]"
   ]
  },
  {
   "cell_type": "code",
   "execution_count": 41,
   "metadata": {
    "collapsed": false
   },
   "outputs": [
    {
     "data": {
      "text/plain": [
       "-0.69367452164656151"
      ]
     },
     "execution_count": 41,
     "metadata": {},
     "output_type": "execute_result"
    }
   ],
   "source": [
    "df.iat[1,1]"
   ]
  },
  {
   "cell_type": "markdown",
   "metadata": {},
   "source": [
    "## 布尔索引"
   ]
  },
  {
   "cell_type": "code",
   "execution_count": 42,
   "metadata": {
    "collapsed": false
   },
   "outputs": [
    {
     "data": {
      "text/html": [
       "<div>\n",
       "<table border=\"1\" class=\"dataframe\">\n",
       "  <thead>\n",
       "    <tr style=\"text-align: right;\">\n",
       "      <th></th>\n",
       "      <th>A</th>\n",
       "      <th>B</th>\n",
       "      <th>C</th>\n",
       "      <th>D</th>\n",
       "    </tr>\n",
       "  </thead>\n",
       "  <tbody>\n",
       "    <tr>\n",
       "      <th>2013-01-01</th>\n",
       "      <td>-0.397636</td>\n",
       "      <td>1.091843</td>\n",
       "      <td>0.621826</td>\n",
       "      <td>0.643196</td>\n",
       "    </tr>\n",
       "    <tr>\n",
       "      <th>2013-01-02</th>\n",
       "      <td>0.047735</td>\n",
       "      <td>-0.693675</td>\n",
       "      <td>1.588932</td>\n",
       "      <td>-0.774878</td>\n",
       "    </tr>\n",
       "    <tr>\n",
       "      <th>2013-01-03</th>\n",
       "      <td>-0.309450</td>\n",
       "      <td>-0.951779</td>\n",
       "      <td>0.028030</td>\n",
       "      <td>-2.033464</td>\n",
       "    </tr>\n",
       "    <tr>\n",
       "      <th>2013-01-04</th>\n",
       "      <td>-0.905928</td>\n",
       "      <td>0.807286</td>\n",
       "      <td>1.032849</td>\n",
       "      <td>0.160724</td>\n",
       "    </tr>\n",
       "    <tr>\n",
       "      <th>2013-01-05</th>\n",
       "      <td>-0.195194</td>\n",
       "      <td>-0.221892</td>\n",
       "      <td>-1.843014</td>\n",
       "      <td>-1.704663</td>\n",
       "    </tr>\n",
       "    <tr>\n",
       "      <th>2013-01-06</th>\n",
       "      <td>0.773058</td>\n",
       "      <td>-1.486186</td>\n",
       "      <td>0.876408</td>\n",
       "      <td>2.159035</td>\n",
       "    </tr>\n",
       "  </tbody>\n",
       "</table>\n",
       "</div>"
      ],
      "text/plain": [
       "                   A         B         C         D\n",
       "2013-01-01 -0.397636  1.091843  0.621826  0.643196\n",
       "2013-01-02  0.047735 -0.693675  1.588932 -0.774878\n",
       "2013-01-03 -0.309450 -0.951779  0.028030 -2.033464\n",
       "2013-01-04 -0.905928  0.807286  1.032849  0.160724\n",
       "2013-01-05 -0.195194 -0.221892 -1.843014 -1.704663\n",
       "2013-01-06  0.773058 -1.486186  0.876408  2.159035"
      ]
     },
     "execution_count": 42,
     "metadata": {},
     "output_type": "execute_result"
    }
   ],
   "source": [
    "df"
   ]
  },
  {
   "cell_type": "markdown",
   "metadata": {},
   "source": [
    "1.使用一个单独列的值来选择数据："
   ]
  },
  {
   "cell_type": "code",
   "execution_count": 43,
   "metadata": {
    "collapsed": false
   },
   "outputs": [
    {
     "data": {
      "text/html": [
       "<div>\n",
       "<table border=\"1\" class=\"dataframe\">\n",
       "  <thead>\n",
       "    <tr style=\"text-align: right;\">\n",
       "      <th></th>\n",
       "      <th>A</th>\n",
       "      <th>B</th>\n",
       "      <th>C</th>\n",
       "      <th>D</th>\n",
       "    </tr>\n",
       "  </thead>\n",
       "  <tbody>\n",
       "    <tr>\n",
       "      <th>2013-01-02</th>\n",
       "      <td>0.047735</td>\n",
       "      <td>-0.693675</td>\n",
       "      <td>1.588932</td>\n",
       "      <td>-0.774878</td>\n",
       "    </tr>\n",
       "    <tr>\n",
       "      <th>2013-01-06</th>\n",
       "      <td>0.773058</td>\n",
       "      <td>-1.486186</td>\n",
       "      <td>0.876408</td>\n",
       "      <td>2.159035</td>\n",
       "    </tr>\n",
       "  </tbody>\n",
       "</table>\n",
       "</div>"
      ],
      "text/plain": [
       "                   A         B         C         D\n",
       "2013-01-02  0.047735 -0.693675  1.588932 -0.774878\n",
       "2013-01-06  0.773058 -1.486186  0.876408  2.159035"
      ]
     },
     "execution_count": 43,
     "metadata": {},
     "output_type": "execute_result"
    }
   ],
   "source": [
    "df[df.A > 0]"
   ]
  },
  {
   "cell_type": "markdown",
   "metadata": {},
   "source": [
    "2.使用where操作来选择数据："
   ]
  },
  {
   "cell_type": "code",
   "execution_count": 44,
   "metadata": {
    "collapsed": false
   },
   "outputs": [
    {
     "data": {
      "text/html": [
       "<div>\n",
       "<table border=\"1\" class=\"dataframe\">\n",
       "  <thead>\n",
       "    <tr style=\"text-align: right;\">\n",
       "      <th></th>\n",
       "      <th>A</th>\n",
       "      <th>B</th>\n",
       "      <th>C</th>\n",
       "      <th>D</th>\n",
       "    </tr>\n",
       "  </thead>\n",
       "  <tbody>\n",
       "    <tr>\n",
       "      <th>2013-01-01</th>\n",
       "      <td>NaN</td>\n",
       "      <td>1.091843</td>\n",
       "      <td>0.621826</td>\n",
       "      <td>0.643196</td>\n",
       "    </tr>\n",
       "    <tr>\n",
       "      <th>2013-01-02</th>\n",
       "      <td>0.047735</td>\n",
       "      <td>NaN</td>\n",
       "      <td>1.588932</td>\n",
       "      <td>NaN</td>\n",
       "    </tr>\n",
       "    <tr>\n",
       "      <th>2013-01-03</th>\n",
       "      <td>NaN</td>\n",
       "      <td>NaN</td>\n",
       "      <td>0.028030</td>\n",
       "      <td>NaN</td>\n",
       "    </tr>\n",
       "    <tr>\n",
       "      <th>2013-01-04</th>\n",
       "      <td>NaN</td>\n",
       "      <td>0.807286</td>\n",
       "      <td>1.032849</td>\n",
       "      <td>0.160724</td>\n",
       "    </tr>\n",
       "    <tr>\n",
       "      <th>2013-01-05</th>\n",
       "      <td>NaN</td>\n",
       "      <td>NaN</td>\n",
       "      <td>NaN</td>\n",
       "      <td>NaN</td>\n",
       "    </tr>\n",
       "    <tr>\n",
       "      <th>2013-01-06</th>\n",
       "      <td>0.773058</td>\n",
       "      <td>NaN</td>\n",
       "      <td>0.876408</td>\n",
       "      <td>2.159035</td>\n",
       "    </tr>\n",
       "  </tbody>\n",
       "</table>\n",
       "</div>"
      ],
      "text/plain": [
       "                   A         B         C         D\n",
       "2013-01-01       NaN  1.091843  0.621826  0.643196\n",
       "2013-01-02  0.047735       NaN  1.588932       NaN\n",
       "2013-01-03       NaN       NaN  0.028030       NaN\n",
       "2013-01-04       NaN  0.807286  1.032849  0.160724\n",
       "2013-01-05       NaN       NaN       NaN       NaN\n",
       "2013-01-06  0.773058       NaN  0.876408  2.159035"
      ]
     },
     "execution_count": 44,
     "metadata": {},
     "output_type": "execute_result"
    }
   ],
   "source": [
    "df[df > 0]"
   ]
  },
  {
   "cell_type": "markdown",
   "metadata": {},
   "source": [
    "3.使用isin()方法来过滤："
   ]
  },
  {
   "cell_type": "code",
   "execution_count": 45,
   "metadata": {
    "collapsed": true
   },
   "outputs": [],
   "source": [
    "df2 = df.copy()"
   ]
  },
  {
   "cell_type": "code",
   "execution_count": 46,
   "metadata": {
    "collapsed": true
   },
   "outputs": [],
   "source": [
    "df2['E'] = ['one', 'one', 'two', 'three', 'four', 'three']"
   ]
  },
  {
   "cell_type": "code",
   "execution_count": 47,
   "metadata": {
    "collapsed": false
   },
   "outputs": [
    {
     "data": {
      "text/html": [
       "<div>\n",
       "<table border=\"1\" class=\"dataframe\">\n",
       "  <thead>\n",
       "    <tr style=\"text-align: right;\">\n",
       "      <th></th>\n",
       "      <th>A</th>\n",
       "      <th>B</th>\n",
       "      <th>C</th>\n",
       "      <th>D</th>\n",
       "      <th>E</th>\n",
       "    </tr>\n",
       "  </thead>\n",
       "  <tbody>\n",
       "    <tr>\n",
       "      <th>2013-01-01</th>\n",
       "      <td>-0.397636</td>\n",
       "      <td>1.091843</td>\n",
       "      <td>0.621826</td>\n",
       "      <td>0.643196</td>\n",
       "      <td>one</td>\n",
       "    </tr>\n",
       "    <tr>\n",
       "      <th>2013-01-02</th>\n",
       "      <td>0.047735</td>\n",
       "      <td>-0.693675</td>\n",
       "      <td>1.588932</td>\n",
       "      <td>-0.774878</td>\n",
       "      <td>one</td>\n",
       "    </tr>\n",
       "    <tr>\n",
       "      <th>2013-01-03</th>\n",
       "      <td>-0.309450</td>\n",
       "      <td>-0.951779</td>\n",
       "      <td>0.028030</td>\n",
       "      <td>-2.033464</td>\n",
       "      <td>two</td>\n",
       "    </tr>\n",
       "    <tr>\n",
       "      <th>2013-01-04</th>\n",
       "      <td>-0.905928</td>\n",
       "      <td>0.807286</td>\n",
       "      <td>1.032849</td>\n",
       "      <td>0.160724</td>\n",
       "      <td>three</td>\n",
       "    </tr>\n",
       "    <tr>\n",
       "      <th>2013-01-05</th>\n",
       "      <td>-0.195194</td>\n",
       "      <td>-0.221892</td>\n",
       "      <td>-1.843014</td>\n",
       "      <td>-1.704663</td>\n",
       "      <td>four</td>\n",
       "    </tr>\n",
       "    <tr>\n",
       "      <th>2013-01-06</th>\n",
       "      <td>0.773058</td>\n",
       "      <td>-1.486186</td>\n",
       "      <td>0.876408</td>\n",
       "      <td>2.159035</td>\n",
       "      <td>three</td>\n",
       "    </tr>\n",
       "  </tbody>\n",
       "</table>\n",
       "</div>"
      ],
      "text/plain": [
       "                   A         B         C         D      E\n",
       "2013-01-01 -0.397636  1.091843  0.621826  0.643196    one\n",
       "2013-01-02  0.047735 -0.693675  1.588932 -0.774878    one\n",
       "2013-01-03 -0.309450 -0.951779  0.028030 -2.033464    two\n",
       "2013-01-04 -0.905928  0.807286  1.032849  0.160724  three\n",
       "2013-01-05 -0.195194 -0.221892 -1.843014 -1.704663   four\n",
       "2013-01-06  0.773058 -1.486186  0.876408  2.159035  three"
      ]
     },
     "execution_count": 47,
     "metadata": {},
     "output_type": "execute_result"
    }
   ],
   "source": [
    "df2"
   ]
  },
  {
   "cell_type": "code",
   "execution_count": 48,
   "metadata": {
    "collapsed": false
   },
   "outputs": [
    {
     "data": {
      "text/html": [
       "<div>\n",
       "<table border=\"1\" class=\"dataframe\">\n",
       "  <thead>\n",
       "    <tr style=\"text-align: right;\">\n",
       "      <th></th>\n",
       "      <th>A</th>\n",
       "      <th>B</th>\n",
       "      <th>C</th>\n",
       "      <th>D</th>\n",
       "      <th>E</th>\n",
       "    </tr>\n",
       "  </thead>\n",
       "  <tbody>\n",
       "    <tr>\n",
       "      <th>2013-01-03</th>\n",
       "      <td>-0.309450</td>\n",
       "      <td>-0.951779</td>\n",
       "      <td>0.028030</td>\n",
       "      <td>-2.033464</td>\n",
       "      <td>two</td>\n",
       "    </tr>\n",
       "    <tr>\n",
       "      <th>2013-01-05</th>\n",
       "      <td>-0.195194</td>\n",
       "      <td>-0.221892</td>\n",
       "      <td>-1.843014</td>\n",
       "      <td>-1.704663</td>\n",
       "      <td>four</td>\n",
       "    </tr>\n",
       "  </tbody>\n",
       "</table>\n",
       "</div>"
      ],
      "text/plain": [
       "                   A         B         C         D     E\n",
       "2013-01-03 -0.309450 -0.951779  0.028030 -2.033464   two\n",
       "2013-01-05 -0.195194 -0.221892 -1.843014 -1.704663  four"
      ]
     },
     "execution_count": 48,
     "metadata": {},
     "output_type": "execute_result"
    }
   ],
   "source": [
    "df2[df2['E'].isin(['two', 'four'])]"
   ]
  },
  {
   "cell_type": "markdown",
   "metadata": {},
   "source": [
    "## 设置"
   ]
  },
  {
   "cell_type": "markdown",
   "metadata": {},
   "source": [
    "1.设置一个新的列："
   ]
  },
  {
   "cell_type": "code",
   "execution_count": 49,
   "metadata": {
    "collapsed": true
   },
   "outputs": [],
   "source": [
    "s1 = pd.Series([1,2,3,4,5,6], index=pd.date_range('20130102', periods=6))"
   ]
  },
  {
   "cell_type": "code",
   "execution_count": 50,
   "metadata": {
    "collapsed": false
   },
   "outputs": [
    {
     "data": {
      "text/plain": [
       "2013-01-02    1\n",
       "2013-01-03    2\n",
       "2013-01-04    3\n",
       "2013-01-05    4\n",
       "2013-01-06    5\n",
       "2013-01-07    6\n",
       "Freq: D, dtype: int64"
      ]
     },
     "execution_count": 50,
     "metadata": {},
     "output_type": "execute_result"
    }
   ],
   "source": [
    "s1"
   ]
  },
  {
   "cell_type": "code",
   "execution_count": 51,
   "metadata": {
    "collapsed": true
   },
   "outputs": [],
   "source": [
    "df['F'] = s1"
   ]
  },
  {
   "cell_type": "code",
   "execution_count": 52,
   "metadata": {
    "collapsed": false
   },
   "outputs": [
    {
     "data": {
      "text/html": [
       "<div>\n",
       "<table border=\"1\" class=\"dataframe\">\n",
       "  <thead>\n",
       "    <tr style=\"text-align: right;\">\n",
       "      <th></th>\n",
       "      <th>A</th>\n",
       "      <th>B</th>\n",
       "      <th>C</th>\n",
       "      <th>D</th>\n",
       "      <th>F</th>\n",
       "    </tr>\n",
       "  </thead>\n",
       "  <tbody>\n",
       "    <tr>\n",
       "      <th>2013-01-01</th>\n",
       "      <td>-0.397636</td>\n",
       "      <td>1.091843</td>\n",
       "      <td>0.621826</td>\n",
       "      <td>0.643196</td>\n",
       "      <td>NaN</td>\n",
       "    </tr>\n",
       "    <tr>\n",
       "      <th>2013-01-02</th>\n",
       "      <td>0.047735</td>\n",
       "      <td>-0.693675</td>\n",
       "      <td>1.588932</td>\n",
       "      <td>-0.774878</td>\n",
       "      <td>1</td>\n",
       "    </tr>\n",
       "    <tr>\n",
       "      <th>2013-01-03</th>\n",
       "      <td>-0.309450</td>\n",
       "      <td>-0.951779</td>\n",
       "      <td>0.028030</td>\n",
       "      <td>-2.033464</td>\n",
       "      <td>2</td>\n",
       "    </tr>\n",
       "    <tr>\n",
       "      <th>2013-01-04</th>\n",
       "      <td>-0.905928</td>\n",
       "      <td>0.807286</td>\n",
       "      <td>1.032849</td>\n",
       "      <td>0.160724</td>\n",
       "      <td>3</td>\n",
       "    </tr>\n",
       "    <tr>\n",
       "      <th>2013-01-05</th>\n",
       "      <td>-0.195194</td>\n",
       "      <td>-0.221892</td>\n",
       "      <td>-1.843014</td>\n",
       "      <td>-1.704663</td>\n",
       "      <td>4</td>\n",
       "    </tr>\n",
       "    <tr>\n",
       "      <th>2013-01-06</th>\n",
       "      <td>0.773058</td>\n",
       "      <td>-1.486186</td>\n",
       "      <td>0.876408</td>\n",
       "      <td>2.159035</td>\n",
       "      <td>5</td>\n",
       "    </tr>\n",
       "  </tbody>\n",
       "</table>\n",
       "</div>"
      ],
      "text/plain": [
       "                   A         B         C         D   F\n",
       "2013-01-01 -0.397636  1.091843  0.621826  0.643196 NaN\n",
       "2013-01-02  0.047735 -0.693675  1.588932 -0.774878   1\n",
       "2013-01-03 -0.309450 -0.951779  0.028030 -2.033464   2\n",
       "2013-01-04 -0.905928  0.807286  1.032849  0.160724   3\n",
       "2013-01-05 -0.195194 -0.221892 -1.843014 -1.704663   4\n",
       "2013-01-06  0.773058 -1.486186  0.876408  2.159035   5"
      ]
     },
     "execution_count": 52,
     "metadata": {},
     "output_type": "execute_result"
    }
   ],
   "source": [
    "df"
   ]
  },
  {
   "cell_type": "markdown",
   "metadata": {},
   "source": [
    "2.通过标签设置新的值："
   ]
  },
  {
   "cell_type": "code",
   "execution_count": 53,
   "metadata": {
    "collapsed": true
   },
   "outputs": [],
   "source": [
    "df.at[dates[0],'A'] = 0"
   ]
  },
  {
   "cell_type": "markdown",
   "metadata": {},
   "source": [
    "3.通过位置设置新的值："
   ]
  },
  {
   "cell_type": "code",
   "execution_count": 54,
   "metadata": {
    "collapsed": true
   },
   "outputs": [],
   "source": [
    "df.iat[0,1] = 0"
   ]
  },
  {
   "cell_type": "markdown",
   "metadata": {},
   "source": [
    "4.通过一个numpy数值设置一组新值："
   ]
  },
  {
   "cell_type": "code",
   "execution_count": 55,
   "metadata": {
    "collapsed": true
   },
   "outputs": [],
   "source": [
    "df.loc[:, 'D'] = np.array([5] * len(df))"
   ]
  },
  {
   "cell_type": "markdown",
   "metadata": {},
   "source": [
    "上述操作结果如下："
   ]
  },
  {
   "cell_type": "code",
   "execution_count": 56,
   "metadata": {
    "collapsed": false
   },
   "outputs": [
    {
     "data": {
      "text/html": [
       "<div>\n",
       "<table border=\"1\" class=\"dataframe\">\n",
       "  <thead>\n",
       "    <tr style=\"text-align: right;\">\n",
       "      <th></th>\n",
       "      <th>A</th>\n",
       "      <th>B</th>\n",
       "      <th>C</th>\n",
       "      <th>D</th>\n",
       "      <th>F</th>\n",
       "    </tr>\n",
       "  </thead>\n",
       "  <tbody>\n",
       "    <tr>\n",
       "      <th>2013-01-01</th>\n",
       "      <td>0.000000</td>\n",
       "      <td>0.000000</td>\n",
       "      <td>0.621826</td>\n",
       "      <td>5</td>\n",
       "      <td>NaN</td>\n",
       "    </tr>\n",
       "    <tr>\n",
       "      <th>2013-01-02</th>\n",
       "      <td>0.047735</td>\n",
       "      <td>-0.693675</td>\n",
       "      <td>1.588932</td>\n",
       "      <td>5</td>\n",
       "      <td>1</td>\n",
       "    </tr>\n",
       "    <tr>\n",
       "      <th>2013-01-03</th>\n",
       "      <td>-0.309450</td>\n",
       "      <td>-0.951779</td>\n",
       "      <td>0.028030</td>\n",
       "      <td>5</td>\n",
       "      <td>2</td>\n",
       "    </tr>\n",
       "    <tr>\n",
       "      <th>2013-01-04</th>\n",
       "      <td>-0.905928</td>\n",
       "      <td>0.807286</td>\n",
       "      <td>1.032849</td>\n",
       "      <td>5</td>\n",
       "      <td>3</td>\n",
       "    </tr>\n",
       "    <tr>\n",
       "      <th>2013-01-05</th>\n",
       "      <td>-0.195194</td>\n",
       "      <td>-0.221892</td>\n",
       "      <td>-1.843014</td>\n",
       "      <td>5</td>\n",
       "      <td>4</td>\n",
       "    </tr>\n",
       "    <tr>\n",
       "      <th>2013-01-06</th>\n",
       "      <td>0.773058</td>\n",
       "      <td>-1.486186</td>\n",
       "      <td>0.876408</td>\n",
       "      <td>5</td>\n",
       "      <td>5</td>\n",
       "    </tr>\n",
       "  </tbody>\n",
       "</table>\n",
       "</div>"
      ],
      "text/plain": [
       "                   A         B         C  D   F\n",
       "2013-01-01  0.000000  0.000000  0.621826  5 NaN\n",
       "2013-01-02  0.047735 -0.693675  1.588932  5   1\n",
       "2013-01-03 -0.309450 -0.951779  0.028030  5   2\n",
       "2013-01-04 -0.905928  0.807286  1.032849  5   3\n",
       "2013-01-05 -0.195194 -0.221892 -1.843014  5   4\n",
       "2013-01-06  0.773058 -1.486186  0.876408  5   5"
      ]
     },
     "execution_count": 56,
     "metadata": {},
     "output_type": "execute_result"
    }
   ],
   "source": [
    "df"
   ]
  },
  {
   "cell_type": "markdown",
   "metadata": {},
   "source": [
    "5.通过where操作来设置新的值"
   ]
  },
  {
   "cell_type": "code",
   "execution_count": 57,
   "metadata": {
    "collapsed": true
   },
   "outputs": [],
   "source": [
    "df2 = df.copy()"
   ]
  },
  {
   "cell_type": "code",
   "execution_count": 58,
   "metadata": {
    "collapsed": true
   },
   "outputs": [],
   "source": [
    "df2[df2 > 0] = -df2"
   ]
  },
  {
   "cell_type": "code",
   "execution_count": 59,
   "metadata": {
    "collapsed": false
   },
   "outputs": [
    {
     "data": {
      "text/html": [
       "<div>\n",
       "<table border=\"1\" class=\"dataframe\">\n",
       "  <thead>\n",
       "    <tr style=\"text-align: right;\">\n",
       "      <th></th>\n",
       "      <th>A</th>\n",
       "      <th>B</th>\n",
       "      <th>C</th>\n",
       "      <th>D</th>\n",
       "      <th>F</th>\n",
       "    </tr>\n",
       "  </thead>\n",
       "  <tbody>\n",
       "    <tr>\n",
       "      <th>2013-01-01</th>\n",
       "      <td>0.000000</td>\n",
       "      <td>0.000000</td>\n",
       "      <td>-0.621826</td>\n",
       "      <td>-5</td>\n",
       "      <td>NaN</td>\n",
       "    </tr>\n",
       "    <tr>\n",
       "      <th>2013-01-02</th>\n",
       "      <td>-0.047735</td>\n",
       "      <td>-0.693675</td>\n",
       "      <td>-1.588932</td>\n",
       "      <td>-5</td>\n",
       "      <td>-1</td>\n",
       "    </tr>\n",
       "    <tr>\n",
       "      <th>2013-01-03</th>\n",
       "      <td>-0.309450</td>\n",
       "      <td>-0.951779</td>\n",
       "      <td>-0.028030</td>\n",
       "      <td>-5</td>\n",
       "      <td>-2</td>\n",
       "    </tr>\n",
       "    <tr>\n",
       "      <th>2013-01-04</th>\n",
       "      <td>-0.905928</td>\n",
       "      <td>-0.807286</td>\n",
       "      <td>-1.032849</td>\n",
       "      <td>-5</td>\n",
       "      <td>-3</td>\n",
       "    </tr>\n",
       "    <tr>\n",
       "      <th>2013-01-05</th>\n",
       "      <td>-0.195194</td>\n",
       "      <td>-0.221892</td>\n",
       "      <td>-1.843014</td>\n",
       "      <td>-5</td>\n",
       "      <td>-4</td>\n",
       "    </tr>\n",
       "    <tr>\n",
       "      <th>2013-01-06</th>\n",
       "      <td>-0.773058</td>\n",
       "      <td>-1.486186</td>\n",
       "      <td>-0.876408</td>\n",
       "      <td>-5</td>\n",
       "      <td>-5</td>\n",
       "    </tr>\n",
       "  </tbody>\n",
       "</table>\n",
       "</div>"
      ],
      "text/plain": [
       "                   A         B         C  D   F\n",
       "2013-01-01  0.000000  0.000000 -0.621826 -5 NaN\n",
       "2013-01-02 -0.047735 -0.693675 -1.588932 -5  -1\n",
       "2013-01-03 -0.309450 -0.951779 -0.028030 -5  -2\n",
       "2013-01-04 -0.905928 -0.807286 -1.032849 -5  -3\n",
       "2013-01-05 -0.195194 -0.221892 -1.843014 -5  -4\n",
       "2013-01-06 -0.773058 -1.486186 -0.876408 -5  -5"
      ]
     },
     "execution_count": 59,
     "metadata": {},
     "output_type": "execute_result"
    }
   ],
   "source": [
    "df2"
   ]
  },
  {
   "cell_type": "markdown",
   "metadata": {},
   "source": [
    "# 四、缺失值处理"
   ]
  },
  {
   "cell_type": "markdown",
   "metadata": {},
   "source": [
    "在pandas中，使用np.nan来代替缺失值，这些值将默认不会包含在计算中，详情请参阅：[Missing Data Section](http://pandas.pydata.org/pandas-docs/stable/missing_data.html#missing-data)"
   ]
  },
  {
   "cell_type": "code",
   "execution_count": 60,
   "metadata": {
    "collapsed": false
   },
   "outputs": [
    {
     "data": {
      "text/html": [
       "<div>\n",
       "<table border=\"1\" class=\"dataframe\">\n",
       "  <thead>\n",
       "    <tr style=\"text-align: right;\">\n",
       "      <th></th>\n",
       "      <th>A</th>\n",
       "      <th>B</th>\n",
       "      <th>C</th>\n",
       "      <th>D</th>\n",
       "      <th>F</th>\n",
       "    </tr>\n",
       "  </thead>\n",
       "  <tbody>\n",
       "    <tr>\n",
       "      <th>2013-01-01</th>\n",
       "      <td>0.000000</td>\n",
       "      <td>0.000000</td>\n",
       "      <td>0.621826</td>\n",
       "      <td>5</td>\n",
       "      <td>NaN</td>\n",
       "    </tr>\n",
       "    <tr>\n",
       "      <th>2013-01-02</th>\n",
       "      <td>0.047735</td>\n",
       "      <td>-0.693675</td>\n",
       "      <td>1.588932</td>\n",
       "      <td>5</td>\n",
       "      <td>1</td>\n",
       "    </tr>\n",
       "    <tr>\n",
       "      <th>2013-01-03</th>\n",
       "      <td>-0.309450</td>\n",
       "      <td>-0.951779</td>\n",
       "      <td>0.028030</td>\n",
       "      <td>5</td>\n",
       "      <td>2</td>\n",
       "    </tr>\n",
       "    <tr>\n",
       "      <th>2013-01-04</th>\n",
       "      <td>-0.905928</td>\n",
       "      <td>0.807286</td>\n",
       "      <td>1.032849</td>\n",
       "      <td>5</td>\n",
       "      <td>3</td>\n",
       "    </tr>\n",
       "    <tr>\n",
       "      <th>2013-01-05</th>\n",
       "      <td>-0.195194</td>\n",
       "      <td>-0.221892</td>\n",
       "      <td>-1.843014</td>\n",
       "      <td>5</td>\n",
       "      <td>4</td>\n",
       "    </tr>\n",
       "    <tr>\n",
       "      <th>2013-01-06</th>\n",
       "      <td>0.773058</td>\n",
       "      <td>-1.486186</td>\n",
       "      <td>0.876408</td>\n",
       "      <td>5</td>\n",
       "      <td>5</td>\n",
       "    </tr>\n",
       "  </tbody>\n",
       "</table>\n",
       "</div>"
      ],
      "text/plain": [
       "                   A         B         C  D   F\n",
       "2013-01-01  0.000000  0.000000  0.621826  5 NaN\n",
       "2013-01-02  0.047735 -0.693675  1.588932  5   1\n",
       "2013-01-03 -0.309450 -0.951779  0.028030  5   2\n",
       "2013-01-04 -0.905928  0.807286  1.032849  5   3\n",
       "2013-01-05 -0.195194 -0.221892 -1.843014  5   4\n",
       "2013-01-06  0.773058 -1.486186  0.876408  5   5"
      ]
     },
     "execution_count": 60,
     "metadata": {},
     "output_type": "execute_result"
    }
   ],
   "source": [
    "df"
   ]
  },
  {
   "cell_type": "markdown",
   "metadata": {},
   "source": [
    "1.reindex()方法可以对指定轴上的索引进行改变/增加/删除操作，这将返回原始数据的一个拷贝："
   ]
  },
  {
   "cell_type": "code",
   "execution_count": 61,
   "metadata": {
    "collapsed": false
   },
   "outputs": [],
   "source": [
    "df1 = df.reindex(index=dates[0:4],columns=list(df.columns) + ['E'])"
   ]
  },
  {
   "cell_type": "code",
   "execution_count": 62,
   "metadata": {
    "collapsed": true
   },
   "outputs": [],
   "source": [
    "df1.loc[dates[0]:dates[1], 'E'] = 1"
   ]
  },
  {
   "cell_type": "code",
   "execution_count": 63,
   "metadata": {
    "collapsed": false
   },
   "outputs": [
    {
     "data": {
      "text/html": [
       "<div>\n",
       "<table border=\"1\" class=\"dataframe\">\n",
       "  <thead>\n",
       "    <tr style=\"text-align: right;\">\n",
       "      <th></th>\n",
       "      <th>A</th>\n",
       "      <th>B</th>\n",
       "      <th>C</th>\n",
       "      <th>D</th>\n",
       "      <th>F</th>\n",
       "      <th>E</th>\n",
       "    </tr>\n",
       "  </thead>\n",
       "  <tbody>\n",
       "    <tr>\n",
       "      <th>2013-01-01</th>\n",
       "      <td>0.000000</td>\n",
       "      <td>0.000000</td>\n",
       "      <td>0.621826</td>\n",
       "      <td>5</td>\n",
       "      <td>NaN</td>\n",
       "      <td>1</td>\n",
       "    </tr>\n",
       "    <tr>\n",
       "      <th>2013-01-02</th>\n",
       "      <td>0.047735</td>\n",
       "      <td>-0.693675</td>\n",
       "      <td>1.588932</td>\n",
       "      <td>5</td>\n",
       "      <td>1</td>\n",
       "      <td>1</td>\n",
       "    </tr>\n",
       "    <tr>\n",
       "      <th>2013-01-03</th>\n",
       "      <td>-0.309450</td>\n",
       "      <td>-0.951779</td>\n",
       "      <td>0.028030</td>\n",
       "      <td>5</td>\n",
       "      <td>2</td>\n",
       "      <td>NaN</td>\n",
       "    </tr>\n",
       "    <tr>\n",
       "      <th>2013-01-04</th>\n",
       "      <td>-0.905928</td>\n",
       "      <td>0.807286</td>\n",
       "      <td>1.032849</td>\n",
       "      <td>5</td>\n",
       "      <td>3</td>\n",
       "      <td>NaN</td>\n",
       "    </tr>\n",
       "  </tbody>\n",
       "</table>\n",
       "</div>"
      ],
      "text/plain": [
       "                   A         B         C  D   F   E\n",
       "2013-01-01  0.000000  0.000000  0.621826  5 NaN   1\n",
       "2013-01-02  0.047735 -0.693675  1.588932  5   1   1\n",
       "2013-01-03 -0.309450 -0.951779  0.028030  5   2 NaN\n",
       "2013-01-04 -0.905928  0.807286  1.032849  5   3 NaN"
      ]
     },
     "execution_count": 63,
     "metadata": {},
     "output_type": "execute_result"
    }
   ],
   "source": [
    "df1"
   ]
  },
  {
   "cell_type": "markdown",
   "metadata": {},
   "source": [
    "2.去掉包含缺失值的行："
   ]
  },
  {
   "cell_type": "code",
   "execution_count": 64,
   "metadata": {
    "collapsed": false
   },
   "outputs": [
    {
     "data": {
      "text/html": [
       "<div>\n",
       "<table border=\"1\" class=\"dataframe\">\n",
       "  <thead>\n",
       "    <tr style=\"text-align: right;\">\n",
       "      <th></th>\n",
       "      <th>A</th>\n",
       "      <th>B</th>\n",
       "      <th>C</th>\n",
       "      <th>D</th>\n",
       "      <th>F</th>\n",
       "      <th>E</th>\n",
       "    </tr>\n",
       "  </thead>\n",
       "  <tbody>\n",
       "    <tr>\n",
       "      <th>2013-01-02</th>\n",
       "      <td>0.047735</td>\n",
       "      <td>-0.693675</td>\n",
       "      <td>1.588932</td>\n",
       "      <td>5</td>\n",
       "      <td>1</td>\n",
       "      <td>1</td>\n",
       "    </tr>\n",
       "  </tbody>\n",
       "</table>\n",
       "</div>"
      ],
      "text/plain": [
       "                   A         B         C  D  F  E\n",
       "2013-01-02  0.047735 -0.693675  1.588932  5  1  1"
      ]
     },
     "execution_count": 64,
     "metadata": {},
     "output_type": "execute_result"
    }
   ],
   "source": [
    "df1.dropna(how='any')"
   ]
  },
  {
   "cell_type": "markdown",
   "metadata": {},
   "source": [
    "3.对缺失值进行填充："
   ]
  },
  {
   "cell_type": "code",
   "execution_count": 65,
   "metadata": {
    "collapsed": false
   },
   "outputs": [
    {
     "data": {
      "text/html": [
       "<div>\n",
       "<table border=\"1\" class=\"dataframe\">\n",
       "  <thead>\n",
       "    <tr style=\"text-align: right;\">\n",
       "      <th></th>\n",
       "      <th>A</th>\n",
       "      <th>B</th>\n",
       "      <th>C</th>\n",
       "      <th>D</th>\n",
       "      <th>F</th>\n",
       "      <th>E</th>\n",
       "    </tr>\n",
       "  </thead>\n",
       "  <tbody>\n",
       "    <tr>\n",
       "      <th>2013-01-01</th>\n",
       "      <td>0.000000</td>\n",
       "      <td>0.000000</td>\n",
       "      <td>0.621826</td>\n",
       "      <td>5</td>\n",
       "      <td>5</td>\n",
       "      <td>1</td>\n",
       "    </tr>\n",
       "    <tr>\n",
       "      <th>2013-01-02</th>\n",
       "      <td>0.047735</td>\n",
       "      <td>-0.693675</td>\n",
       "      <td>1.588932</td>\n",
       "      <td>5</td>\n",
       "      <td>1</td>\n",
       "      <td>1</td>\n",
       "    </tr>\n",
       "    <tr>\n",
       "      <th>2013-01-03</th>\n",
       "      <td>-0.309450</td>\n",
       "      <td>-0.951779</td>\n",
       "      <td>0.028030</td>\n",
       "      <td>5</td>\n",
       "      <td>2</td>\n",
       "      <td>5</td>\n",
       "    </tr>\n",
       "    <tr>\n",
       "      <th>2013-01-04</th>\n",
       "      <td>-0.905928</td>\n",
       "      <td>0.807286</td>\n",
       "      <td>1.032849</td>\n",
       "      <td>5</td>\n",
       "      <td>3</td>\n",
       "      <td>5</td>\n",
       "    </tr>\n",
       "  </tbody>\n",
       "</table>\n",
       "</div>"
      ],
      "text/plain": [
       "                   A         B         C  D  F  E\n",
       "2013-01-01  0.000000  0.000000  0.621826  5  5  1\n",
       "2013-01-02  0.047735 -0.693675  1.588932  5  1  1\n",
       "2013-01-03 -0.309450 -0.951779  0.028030  5  2  5\n",
       "2013-01-04 -0.905928  0.807286  1.032849  5  3  5"
      ]
     },
     "execution_count": 65,
     "metadata": {},
     "output_type": "execute_result"
    }
   ],
   "source": [
    "df1.fillna(value=5)"
   ]
  },
  {
   "cell_type": "markdown",
   "metadata": {},
   "source": [
    "4.对数据进行布尔填充："
   ]
  },
  {
   "cell_type": "code",
   "execution_count": 66,
   "metadata": {
    "collapsed": false
   },
   "outputs": [
    {
     "data": {
      "text/html": [
       "<div>\n",
       "<table border=\"1\" class=\"dataframe\">\n",
       "  <thead>\n",
       "    <tr style=\"text-align: right;\">\n",
       "      <th></th>\n",
       "      <th>A</th>\n",
       "      <th>B</th>\n",
       "      <th>C</th>\n",
       "      <th>D</th>\n",
       "      <th>F</th>\n",
       "      <th>E</th>\n",
       "    </tr>\n",
       "  </thead>\n",
       "  <tbody>\n",
       "    <tr>\n",
       "      <th>2013-01-01</th>\n",
       "      <td>False</td>\n",
       "      <td>False</td>\n",
       "      <td>False</td>\n",
       "      <td>False</td>\n",
       "      <td>True</td>\n",
       "      <td>False</td>\n",
       "    </tr>\n",
       "    <tr>\n",
       "      <th>2013-01-02</th>\n",
       "      <td>False</td>\n",
       "      <td>False</td>\n",
       "      <td>False</td>\n",
       "      <td>False</td>\n",
       "      <td>False</td>\n",
       "      <td>False</td>\n",
       "    </tr>\n",
       "    <tr>\n",
       "      <th>2013-01-03</th>\n",
       "      <td>False</td>\n",
       "      <td>False</td>\n",
       "      <td>False</td>\n",
       "      <td>False</td>\n",
       "      <td>False</td>\n",
       "      <td>True</td>\n",
       "    </tr>\n",
       "    <tr>\n",
       "      <th>2013-01-04</th>\n",
       "      <td>False</td>\n",
       "      <td>False</td>\n",
       "      <td>False</td>\n",
       "      <td>False</td>\n",
       "      <td>False</td>\n",
       "      <td>True</td>\n",
       "    </tr>\n",
       "  </tbody>\n",
       "</table>\n",
       "</div>"
      ],
      "text/plain": [
       "                A      B      C      D      F      E\n",
       "2013-01-01  False  False  False  False   True  False\n",
       "2013-01-02  False  False  False  False  False  False\n",
       "2013-01-03  False  False  False  False  False   True\n",
       "2013-01-04  False  False  False  False  False   True"
      ]
     },
     "execution_count": 66,
     "metadata": {},
     "output_type": "execute_result"
    }
   ],
   "source": [
    "pd.isnull(df1)"
   ]
  },
  {
   "cell_type": "markdown",
   "metadata": {},
   "source": [
    "# 五、相关操作"
   ]
  },
  {
   "cell_type": "markdown",
   "metadata": {},
   "source": [
    "详情请参与[Basic Section On Binary Ops](http://pandas.pydata.org/pandas-docs/stable/basics.html#basics-binop)"
   ]
  },
  {
   "cell_type": "markdown",
   "metadata": {},
   "source": [
    "### 统计（相关操作通常情况下不包括缺失值）"
   ]
  },
  {
   "cell_type": "code",
   "execution_count": 67,
   "metadata": {
    "collapsed": false
   },
   "outputs": [
    {
     "data": {
      "text/html": [
       "<div>\n",
       "<table border=\"1\" class=\"dataframe\">\n",
       "  <thead>\n",
       "    <tr style=\"text-align: right;\">\n",
       "      <th></th>\n",
       "      <th>A</th>\n",
       "      <th>B</th>\n",
       "      <th>C</th>\n",
       "      <th>D</th>\n",
       "      <th>F</th>\n",
       "    </tr>\n",
       "  </thead>\n",
       "  <tbody>\n",
       "    <tr>\n",
       "      <th>2013-01-01</th>\n",
       "      <td>0.000000</td>\n",
       "      <td>0.000000</td>\n",
       "      <td>0.621826</td>\n",
       "      <td>5</td>\n",
       "      <td>NaN</td>\n",
       "    </tr>\n",
       "    <tr>\n",
       "      <th>2013-01-02</th>\n",
       "      <td>0.047735</td>\n",
       "      <td>-0.693675</td>\n",
       "      <td>1.588932</td>\n",
       "      <td>5</td>\n",
       "      <td>1</td>\n",
       "    </tr>\n",
       "    <tr>\n",
       "      <th>2013-01-03</th>\n",
       "      <td>-0.309450</td>\n",
       "      <td>-0.951779</td>\n",
       "      <td>0.028030</td>\n",
       "      <td>5</td>\n",
       "      <td>2</td>\n",
       "    </tr>\n",
       "    <tr>\n",
       "      <th>2013-01-04</th>\n",
       "      <td>-0.905928</td>\n",
       "      <td>0.807286</td>\n",
       "      <td>1.032849</td>\n",
       "      <td>5</td>\n",
       "      <td>3</td>\n",
       "    </tr>\n",
       "    <tr>\n",
       "      <th>2013-01-05</th>\n",
       "      <td>-0.195194</td>\n",
       "      <td>-0.221892</td>\n",
       "      <td>-1.843014</td>\n",
       "      <td>5</td>\n",
       "      <td>4</td>\n",
       "    </tr>\n",
       "    <tr>\n",
       "      <th>2013-01-06</th>\n",
       "      <td>0.773058</td>\n",
       "      <td>-1.486186</td>\n",
       "      <td>0.876408</td>\n",
       "      <td>5</td>\n",
       "      <td>5</td>\n",
       "    </tr>\n",
       "  </tbody>\n",
       "</table>\n",
       "</div>"
      ],
      "text/plain": [
       "                   A         B         C  D   F\n",
       "2013-01-01  0.000000  0.000000  0.621826  5 NaN\n",
       "2013-01-02  0.047735 -0.693675  1.588932  5   1\n",
       "2013-01-03 -0.309450 -0.951779  0.028030  5   2\n",
       "2013-01-04 -0.905928  0.807286  1.032849  5   3\n",
       "2013-01-05 -0.195194 -0.221892 -1.843014  5   4\n",
       "2013-01-06  0.773058 -1.486186  0.876408  5   5"
      ]
     },
     "execution_count": 67,
     "metadata": {},
     "output_type": "execute_result"
    }
   ],
   "source": [
    "df"
   ]
  },
  {
   "cell_type": "markdown",
   "metadata": {},
   "source": [
    "1.执行描述性统计："
   ]
  },
  {
   "cell_type": "code",
   "execution_count": 68,
   "metadata": {
    "collapsed": false
   },
   "outputs": [
    {
     "data": {
      "text/plain": [
       "A   -0.098297\n",
       "B   -0.424374\n",
       "C    0.384172\n",
       "D    5.000000\n",
       "F    3.000000\n",
       "dtype: float64"
      ]
     },
     "execution_count": 68,
     "metadata": {},
     "output_type": "execute_result"
    }
   ],
   "source": [
    "df.mean()"
   ]
  },
  {
   "cell_type": "markdown",
   "metadata": {},
   "source": [
    "2.在其他轴上进行相同的操作："
   ]
  },
  {
   "cell_type": "code",
   "execution_count": 69,
   "metadata": {
    "collapsed": false
   },
   "outputs": [
    {
     "data": {
      "text/plain": [
       "2013-01-01    1.405456\n",
       "2013-01-02    1.388598\n",
       "2013-01-03    1.153360\n",
       "2013-01-04    1.786842\n",
       "2013-01-05    1.347980\n",
       "2013-01-06    2.032656\n",
       "Freq: D, dtype: float64"
      ]
     },
     "execution_count": 69,
     "metadata": {},
     "output_type": "execute_result"
    }
   ],
   "source": [
    "df.mean(1)"
   ]
  },
  {
   "cell_type": "markdown",
   "metadata": {},
   "source": [
    "3.对于拥有不同维度，需要对齐的对象进行操作，pandas会自动的沿着指定的维度进行广播"
   ]
  },
  {
   "cell_type": "code",
   "execution_count": 70,
   "metadata": {
    "collapsed": false
   },
   "outputs": [
    {
     "data": {
      "text/plain": [
       "DatetimeIndex(['2013-01-01', '2013-01-02', '2013-01-03', '2013-01-04',\n",
       "               '2013-01-05', '2013-01-06'],\n",
       "              dtype='datetime64[ns]', freq='D')"
      ]
     },
     "execution_count": 70,
     "metadata": {},
     "output_type": "execute_result"
    }
   ],
   "source": [
    "dates"
   ]
  },
  {
   "cell_type": "code",
   "execution_count": 71,
   "metadata": {
    "collapsed": true
   },
   "outputs": [],
   "source": [
    "s = pd.Series([1,3,4,np.nan,6,8], index=dates).shift(2)"
   ]
  },
  {
   "cell_type": "code",
   "execution_count": 72,
   "metadata": {
    "collapsed": false
   },
   "outputs": [
    {
     "data": {
      "text/plain": [
       "2013-01-01   NaN\n",
       "2013-01-02   NaN\n",
       "2013-01-03     1\n",
       "2013-01-04     3\n",
       "2013-01-05     4\n",
       "2013-01-06   NaN\n",
       "Freq: D, dtype: float64"
      ]
     },
     "execution_count": 72,
     "metadata": {},
     "output_type": "execute_result"
    }
   ],
   "source": [
    "s"
   ]
  },
  {
   "cell_type": "markdown",
   "metadata": {},
   "source": [
    "### Apply"
   ]
  },
  {
   "cell_type": "markdown",
   "metadata": {},
   "source": [
    "1.对数据应用函数："
   ]
  },
  {
   "cell_type": "code",
   "execution_count": 73,
   "metadata": {
    "collapsed": false
   },
   "outputs": [
    {
     "data": {
      "text/html": [
       "<div>\n",
       "<table border=\"1\" class=\"dataframe\">\n",
       "  <thead>\n",
       "    <tr style=\"text-align: right;\">\n",
       "      <th></th>\n",
       "      <th>A</th>\n",
       "      <th>B</th>\n",
       "      <th>C</th>\n",
       "      <th>D</th>\n",
       "      <th>F</th>\n",
       "    </tr>\n",
       "  </thead>\n",
       "  <tbody>\n",
       "    <tr>\n",
       "      <th>2013-01-01</th>\n",
       "      <td>0.000000</td>\n",
       "      <td>0.000000</td>\n",
       "      <td>0.621826</td>\n",
       "      <td>5</td>\n",
       "      <td>NaN</td>\n",
       "    </tr>\n",
       "    <tr>\n",
       "      <th>2013-01-02</th>\n",
       "      <td>0.047735</td>\n",
       "      <td>-0.693675</td>\n",
       "      <td>1.588932</td>\n",
       "      <td>5</td>\n",
       "      <td>1</td>\n",
       "    </tr>\n",
       "    <tr>\n",
       "      <th>2013-01-03</th>\n",
       "      <td>-0.309450</td>\n",
       "      <td>-0.951779</td>\n",
       "      <td>0.028030</td>\n",
       "      <td>5</td>\n",
       "      <td>2</td>\n",
       "    </tr>\n",
       "    <tr>\n",
       "      <th>2013-01-04</th>\n",
       "      <td>-0.905928</td>\n",
       "      <td>0.807286</td>\n",
       "      <td>1.032849</td>\n",
       "      <td>5</td>\n",
       "      <td>3</td>\n",
       "    </tr>\n",
       "    <tr>\n",
       "      <th>2013-01-05</th>\n",
       "      <td>-0.195194</td>\n",
       "      <td>-0.221892</td>\n",
       "      <td>-1.843014</td>\n",
       "      <td>5</td>\n",
       "      <td>4</td>\n",
       "    </tr>\n",
       "    <tr>\n",
       "      <th>2013-01-06</th>\n",
       "      <td>0.773058</td>\n",
       "      <td>-1.486186</td>\n",
       "      <td>0.876408</td>\n",
       "      <td>5</td>\n",
       "      <td>5</td>\n",
       "    </tr>\n",
       "  </tbody>\n",
       "</table>\n",
       "</div>"
      ],
      "text/plain": [
       "                   A         B         C  D   F\n",
       "2013-01-01  0.000000  0.000000  0.621826  5 NaN\n",
       "2013-01-02  0.047735 -0.693675  1.588932  5   1\n",
       "2013-01-03 -0.309450 -0.951779  0.028030  5   2\n",
       "2013-01-04 -0.905928  0.807286  1.032849  5   3\n",
       "2013-01-05 -0.195194 -0.221892 -1.843014  5   4\n",
       "2013-01-06  0.773058 -1.486186  0.876408  5   5"
      ]
     },
     "execution_count": 73,
     "metadata": {},
     "output_type": "execute_result"
    }
   ],
   "source": [
    "df"
   ]
  },
  {
   "cell_type": "code",
   "execution_count": 74,
   "metadata": {
    "collapsed": false
   },
   "outputs": [
    {
     "data": {
      "text/html": [
       "<div>\n",
       "<table border=\"1\" class=\"dataframe\">\n",
       "  <thead>\n",
       "    <tr style=\"text-align: right;\">\n",
       "      <th></th>\n",
       "      <th>A</th>\n",
       "      <th>B</th>\n",
       "      <th>C</th>\n",
       "      <th>D</th>\n",
       "      <th>F</th>\n",
       "    </tr>\n",
       "  </thead>\n",
       "  <tbody>\n",
       "    <tr>\n",
       "      <th>2013-01-01</th>\n",
       "      <td>0.000000</td>\n",
       "      <td>0.000000</td>\n",
       "      <td>0.621826</td>\n",
       "      <td>5</td>\n",
       "      <td>NaN</td>\n",
       "    </tr>\n",
       "    <tr>\n",
       "      <th>2013-01-02</th>\n",
       "      <td>0.047735</td>\n",
       "      <td>-0.693675</td>\n",
       "      <td>2.210758</td>\n",
       "      <td>10</td>\n",
       "      <td>1</td>\n",
       "    </tr>\n",
       "    <tr>\n",
       "      <th>2013-01-03</th>\n",
       "      <td>-0.261715</td>\n",
       "      <td>-1.645453</td>\n",
       "      <td>2.238788</td>\n",
       "      <td>15</td>\n",
       "      <td>3</td>\n",
       "    </tr>\n",
       "    <tr>\n",
       "      <th>2013-01-04</th>\n",
       "      <td>-1.167643</td>\n",
       "      <td>-0.838167</td>\n",
       "      <td>3.271638</td>\n",
       "      <td>20</td>\n",
       "      <td>6</td>\n",
       "    </tr>\n",
       "    <tr>\n",
       "      <th>2013-01-05</th>\n",
       "      <td>-1.362837</td>\n",
       "      <td>-1.060059</td>\n",
       "      <td>1.428624</td>\n",
       "      <td>25</td>\n",
       "      <td>10</td>\n",
       "    </tr>\n",
       "    <tr>\n",
       "      <th>2013-01-06</th>\n",
       "      <td>-0.589780</td>\n",
       "      <td>-2.546245</td>\n",
       "      <td>2.305032</td>\n",
       "      <td>30</td>\n",
       "      <td>15</td>\n",
       "    </tr>\n",
       "  </tbody>\n",
       "</table>\n",
       "</div>"
      ],
      "text/plain": [
       "                   A         B         C   D   F\n",
       "2013-01-01  0.000000  0.000000  0.621826   5 NaN\n",
       "2013-01-02  0.047735 -0.693675  2.210758  10   1\n",
       "2013-01-03 -0.261715 -1.645453  2.238788  15   3\n",
       "2013-01-04 -1.167643 -0.838167  3.271638  20   6\n",
       "2013-01-05 -1.362837 -1.060059  1.428624  25  10\n",
       "2013-01-06 -0.589780 -2.546245  2.305032  30  15"
      ]
     },
     "execution_count": 74,
     "metadata": {},
     "output_type": "execute_result"
    }
   ],
   "source": [
    "df.apply(np.cumsum)"
   ]
  },
  {
   "cell_type": "code",
   "execution_count": 75,
   "metadata": {
    "collapsed": false
   },
   "outputs": [
    {
     "data": {
      "text/plain": [
       "A    1.678986\n",
       "B    2.293472\n",
       "C    3.431946\n",
       "D    0.000000\n",
       "F    4.000000\n",
       "dtype: float64"
      ]
     },
     "execution_count": 75,
     "metadata": {},
     "output_type": "execute_result"
    }
   ],
   "source": [
    "df.apply(lambda x: x.max() - x.min())"
   ]
  },
  {
   "cell_type": "markdown",
   "metadata": {},
   "source": [
    "### 直方图"
   ]
  },
  {
   "cell_type": "markdown",
   "metadata": {},
   "source": [
    "具体请参照: [Histogramming and Discretization](http://pandas.pydata.org/pandas-docs/stable/basics.html#basics-discretization)"
   ]
  },
  {
   "cell_type": "code",
   "execution_count": 76,
   "metadata": {
    "collapsed": true
   },
   "outputs": [],
   "source": [
    "s = pd.Series(np.random.randint(0, 7, size=10))"
   ]
  },
  {
   "cell_type": "code",
   "execution_count": 77,
   "metadata": {
    "collapsed": false
   },
   "outputs": [
    {
     "data": {
      "text/plain": [
       "0    4\n",
       "1    6\n",
       "2    5\n",
       "3    1\n",
       "4    6\n",
       "5    2\n",
       "6    0\n",
       "7    6\n",
       "8    1\n",
       "9    4\n",
       "dtype: int64"
      ]
     },
     "execution_count": 77,
     "metadata": {},
     "output_type": "execute_result"
    }
   ],
   "source": [
    "s"
   ]
  },
  {
   "cell_type": "code",
   "execution_count": 78,
   "metadata": {
    "collapsed": false
   },
   "outputs": [
    {
     "data": {
      "text/plain": [
       "6    3\n",
       "4    2\n",
       "1    2\n",
       "5    1\n",
       "2    1\n",
       "0    1\n",
       "dtype: int64"
      ]
     },
     "execution_count": 78,
     "metadata": {},
     "output_type": "execute_result"
    }
   ],
   "source": [
    "s.value_counts()"
   ]
  },
  {
   "cell_type": "markdown",
   "metadata": {},
   "source": [
    "### 字符串方法"
   ]
  },
  {
   "cell_type": "markdown",
   "metadata": {},
   "source": [
    "Series对象在其str属性中配备了一组字符串处理方法，可以很容易的应用到数组中的每个元素，如下段代码所示。\n",
    "更多详情请参考：[Vectorized String Methods](http://pandas.pydata.org/pandas-docs/stable/text.html#text-string-methods)"
   ]
  },
  {
   "cell_type": "code",
   "execution_count": 79,
   "metadata": {
    "collapsed": true
   },
   "outputs": [],
   "source": [
    "s = pd.Series(['A', 'B', 'C', 'Aaba', 'Baca', np.nan, 'CABA', 'dog', 'cat'])"
   ]
  },
  {
   "cell_type": "code",
   "execution_count": 80,
   "metadata": {
    "collapsed": false
   },
   "outputs": [
    {
     "data": {
      "text/plain": [
       "0       a\n",
       "1       b\n",
       "2       c\n",
       "3    aaba\n",
       "4    baca\n",
       "5     NaN\n",
       "6    caba\n",
       "7     dog\n",
       "8     cat\n",
       "dtype: object"
      ]
     },
     "execution_count": 80,
     "metadata": {},
     "output_type": "execute_result"
    }
   ],
   "source": [
    "s.str.lower()"
   ]
  },
  {
   "cell_type": "markdown",
   "metadata": {},
   "source": [
    "# 六、合并"
   ]
  },
  {
   "cell_type": "markdown",
   "metadata": {},
   "source": [
    "pandas提供了大量的方法能够轻松的对Series、DataFrame和Panel对象进行各种符合各种逻辑关系的合并操作。具体请参阅：[Merging Section](http://pandas.pydata.org/pandas-docs/stable/merging.html#merging)"
   ]
  },
  {
   "cell_type": "markdown",
   "metadata": {},
   "source": [
    "### Concat"
   ]
  },
  {
   "cell_type": "code",
   "execution_count": 81,
   "metadata": {
    "collapsed": true
   },
   "outputs": [],
   "source": [
    "df = pd.DataFrame(np.random.randn(10, 4))"
   ]
  },
  {
   "cell_type": "code",
   "execution_count": 82,
   "metadata": {
    "collapsed": false
   },
   "outputs": [
    {
     "data": {
      "text/html": [
       "<div>\n",
       "<table border=\"1\" class=\"dataframe\">\n",
       "  <thead>\n",
       "    <tr style=\"text-align: right;\">\n",
       "      <th></th>\n",
       "      <th>0</th>\n",
       "      <th>1</th>\n",
       "      <th>2</th>\n",
       "      <th>3</th>\n",
       "    </tr>\n",
       "  </thead>\n",
       "  <tbody>\n",
       "    <tr>\n",
       "      <th>0</th>\n",
       "      <td>-0.456840</td>\n",
       "      <td>-0.845581</td>\n",
       "      <td>1.947831</td>\n",
       "      <td>-0.780865</td>\n",
       "    </tr>\n",
       "    <tr>\n",
       "      <th>1</th>\n",
       "      <td>-0.295596</td>\n",
       "      <td>2.105757</td>\n",
       "      <td>-1.287761</td>\n",
       "      <td>-0.620778</td>\n",
       "    </tr>\n",
       "    <tr>\n",
       "      <th>2</th>\n",
       "      <td>0.159909</td>\n",
       "      <td>-0.824931</td>\n",
       "      <td>0.381962</td>\n",
       "      <td>0.548634</td>\n",
       "    </tr>\n",
       "    <tr>\n",
       "      <th>3</th>\n",
       "      <td>1.893419</td>\n",
       "      <td>-1.334954</td>\n",
       "      <td>-0.403939</td>\n",
       "      <td>-1.275562</td>\n",
       "    </tr>\n",
       "    <tr>\n",
       "      <th>4</th>\n",
       "      <td>1.118805</td>\n",
       "      <td>-1.290767</td>\n",
       "      <td>-0.658856</td>\n",
       "      <td>1.410175</td>\n",
       "    </tr>\n",
       "    <tr>\n",
       "      <th>5</th>\n",
       "      <td>-0.669487</td>\n",
       "      <td>-0.421595</td>\n",
       "      <td>0.808649</td>\n",
       "      <td>-0.343089</td>\n",
       "    </tr>\n",
       "    <tr>\n",
       "      <th>6</th>\n",
       "      <td>-1.140627</td>\n",
       "      <td>-1.417282</td>\n",
       "      <td>-0.156059</td>\n",
       "      <td>1.092444</td>\n",
       "    </tr>\n",
       "    <tr>\n",
       "      <th>7</th>\n",
       "      <td>-0.332105</td>\n",
       "      <td>-1.876475</td>\n",
       "      <td>0.244648</td>\n",
       "      <td>-0.839187</td>\n",
       "    </tr>\n",
       "    <tr>\n",
       "      <th>8</th>\n",
       "      <td>-0.228444</td>\n",
       "      <td>-1.640109</td>\n",
       "      <td>-0.716282</td>\n",
       "      <td>-0.168604</td>\n",
       "    </tr>\n",
       "    <tr>\n",
       "      <th>9</th>\n",
       "      <td>-0.314137</td>\n",
       "      <td>-0.059906</td>\n",
       "      <td>0.450924</td>\n",
       "      <td>0.430791</td>\n",
       "    </tr>\n",
       "  </tbody>\n",
       "</table>\n",
       "</div>"
      ],
      "text/plain": [
       "          0         1         2         3\n",
       "0 -0.456840 -0.845581  1.947831 -0.780865\n",
       "1 -0.295596  2.105757 -1.287761 -0.620778\n",
       "2  0.159909 -0.824931  0.381962  0.548634\n",
       "3  1.893419 -1.334954 -0.403939 -1.275562\n",
       "4  1.118805 -1.290767 -0.658856  1.410175\n",
       "5 -0.669487 -0.421595  0.808649 -0.343089\n",
       "6 -1.140627 -1.417282 -0.156059  1.092444\n",
       "7 -0.332105 -1.876475  0.244648 -0.839187\n",
       "8 -0.228444 -1.640109 -0.716282 -0.168604\n",
       "9 -0.314137 -0.059906  0.450924  0.430791"
      ]
     },
     "execution_count": 82,
     "metadata": {},
     "output_type": "execute_result"
    }
   ],
   "source": [
    "df"
   ]
  },
  {
   "cell_type": "code",
   "execution_count": 83,
   "metadata": {
    "collapsed": true
   },
   "outputs": [],
   "source": [
    "pieces = [df[:3], df[3:7], df[7:]]"
   ]
  },
  {
   "cell_type": "code",
   "execution_count": 84,
   "metadata": {
    "collapsed": false
   },
   "outputs": [
    {
     "data": {
      "text/plain": [
       "[          0         1         2         3\n",
       " 0 -0.456840 -0.845581  1.947831 -0.780865\n",
       " 1 -0.295596  2.105757 -1.287761 -0.620778\n",
       " 2  0.159909 -0.824931  0.381962  0.548634,\n",
       "           0         1         2         3\n",
       " 3  1.893419 -1.334954 -0.403939 -1.275562\n",
       " 4  1.118805 -1.290767 -0.658856  1.410175\n",
       " 5 -0.669487 -0.421595  0.808649 -0.343089\n",
       " 6 -1.140627 -1.417282 -0.156059  1.092444,\n",
       "           0         1         2         3\n",
       " 7 -0.332105 -1.876475  0.244648 -0.839187\n",
       " 8 -0.228444 -1.640109 -0.716282 -0.168604\n",
       " 9 -0.314137 -0.059906  0.450924  0.430791]"
      ]
     },
     "execution_count": 84,
     "metadata": {},
     "output_type": "execute_result"
    }
   ],
   "source": [
    "# break it into pieces\n",
    "pieces"
   ]
  },
  {
   "cell_type": "code",
   "execution_count": 85,
   "metadata": {
    "collapsed": false
   },
   "outputs": [
    {
     "data": {
      "text/plain": [
       "list"
      ]
     },
     "execution_count": 85,
     "metadata": {},
     "output_type": "execute_result"
    }
   ],
   "source": [
    "type(pieces)"
   ]
  },
  {
   "cell_type": "code",
   "execution_count": 86,
   "metadata": {
    "collapsed": false
   },
   "outputs": [
    {
     "data": {
      "text/html": [
       "<div>\n",
       "<table border=\"1\" class=\"dataframe\">\n",
       "  <thead>\n",
       "    <tr style=\"text-align: right;\">\n",
       "      <th></th>\n",
       "      <th>0</th>\n",
       "      <th>1</th>\n",
       "      <th>2</th>\n",
       "      <th>3</th>\n",
       "    </tr>\n",
       "  </thead>\n",
       "  <tbody>\n",
       "    <tr>\n",
       "      <th>0</th>\n",
       "      <td>-0.456840</td>\n",
       "      <td>-0.845581</td>\n",
       "      <td>1.947831</td>\n",
       "      <td>-0.780865</td>\n",
       "    </tr>\n",
       "    <tr>\n",
       "      <th>1</th>\n",
       "      <td>-0.295596</td>\n",
       "      <td>2.105757</td>\n",
       "      <td>-1.287761</td>\n",
       "      <td>-0.620778</td>\n",
       "    </tr>\n",
       "    <tr>\n",
       "      <th>2</th>\n",
       "      <td>0.159909</td>\n",
       "      <td>-0.824931</td>\n",
       "      <td>0.381962</td>\n",
       "      <td>0.548634</td>\n",
       "    </tr>\n",
       "    <tr>\n",
       "      <th>3</th>\n",
       "      <td>1.893419</td>\n",
       "      <td>-1.334954</td>\n",
       "      <td>-0.403939</td>\n",
       "      <td>-1.275562</td>\n",
       "    </tr>\n",
       "    <tr>\n",
       "      <th>4</th>\n",
       "      <td>1.118805</td>\n",
       "      <td>-1.290767</td>\n",
       "      <td>-0.658856</td>\n",
       "      <td>1.410175</td>\n",
       "    </tr>\n",
       "    <tr>\n",
       "      <th>5</th>\n",
       "      <td>-0.669487</td>\n",
       "      <td>-0.421595</td>\n",
       "      <td>0.808649</td>\n",
       "      <td>-0.343089</td>\n",
       "    </tr>\n",
       "    <tr>\n",
       "      <th>6</th>\n",
       "      <td>-1.140627</td>\n",
       "      <td>-1.417282</td>\n",
       "      <td>-0.156059</td>\n",
       "      <td>1.092444</td>\n",
       "    </tr>\n",
       "    <tr>\n",
       "      <th>7</th>\n",
       "      <td>-0.332105</td>\n",
       "      <td>-1.876475</td>\n",
       "      <td>0.244648</td>\n",
       "      <td>-0.839187</td>\n",
       "    </tr>\n",
       "    <tr>\n",
       "      <th>8</th>\n",
       "      <td>-0.228444</td>\n",
       "      <td>-1.640109</td>\n",
       "      <td>-0.716282</td>\n",
       "      <td>-0.168604</td>\n",
       "    </tr>\n",
       "    <tr>\n",
       "      <th>9</th>\n",
       "      <td>-0.314137</td>\n",
       "      <td>-0.059906</td>\n",
       "      <td>0.450924</td>\n",
       "      <td>0.430791</td>\n",
       "    </tr>\n",
       "  </tbody>\n",
       "</table>\n",
       "</div>"
      ],
      "text/plain": [
       "          0         1         2         3\n",
       "0 -0.456840 -0.845581  1.947831 -0.780865\n",
       "1 -0.295596  2.105757 -1.287761 -0.620778\n",
       "2  0.159909 -0.824931  0.381962  0.548634\n",
       "3  1.893419 -1.334954 -0.403939 -1.275562\n",
       "4  1.118805 -1.290767 -0.658856  1.410175\n",
       "5 -0.669487 -0.421595  0.808649 -0.343089\n",
       "6 -1.140627 -1.417282 -0.156059  1.092444\n",
       "7 -0.332105 -1.876475  0.244648 -0.839187\n",
       "8 -0.228444 -1.640109 -0.716282 -0.168604\n",
       "9 -0.314137 -0.059906  0.450924  0.430791"
      ]
     },
     "execution_count": 86,
     "metadata": {},
     "output_type": "execute_result"
    }
   ],
   "source": [
    "pd.concat(pieces)"
   ]
  },
  {
   "cell_type": "markdown",
   "metadata": {},
   "source": [
    "### Join类似于SQL类型的合并，具体请参阅：[Database Style Joining](http://pandas.pydata.org/pandas-docs/stable/merging.html#merging-join)"
   ]
  },
  {
   "cell_type": "code",
   "execution_count": 87,
   "metadata": {
    "collapsed": false
   },
   "outputs": [],
   "source": [
    "left = pd.DataFrame({'key': ['foo', 'foo'], 'lval': [1,2]})"
   ]
  },
  {
   "cell_type": "code",
   "execution_count": 88,
   "metadata": {
    "collapsed": true
   },
   "outputs": [],
   "source": [
    "right = pd.DataFrame({'key': ['foo', 'foo'], 'rval': [4, 5]})"
   ]
  },
  {
   "cell_type": "code",
   "execution_count": 89,
   "metadata": {
    "collapsed": false
   },
   "outputs": [
    {
     "data": {
      "text/html": [
       "<div>\n",
       "<table border=\"1\" class=\"dataframe\">\n",
       "  <thead>\n",
       "    <tr style=\"text-align: right;\">\n",
       "      <th></th>\n",
       "      <th>key</th>\n",
       "      <th>lval</th>\n",
       "    </tr>\n",
       "  </thead>\n",
       "  <tbody>\n",
       "    <tr>\n",
       "      <th>0</th>\n",
       "      <td>foo</td>\n",
       "      <td>1</td>\n",
       "    </tr>\n",
       "    <tr>\n",
       "      <th>1</th>\n",
       "      <td>foo</td>\n",
       "      <td>2</td>\n",
       "    </tr>\n",
       "  </tbody>\n",
       "</table>\n",
       "</div>"
      ],
      "text/plain": [
       "   key  lval\n",
       "0  foo     1\n",
       "1  foo     2"
      ]
     },
     "execution_count": 89,
     "metadata": {},
     "output_type": "execute_result"
    }
   ],
   "source": [
    "left"
   ]
  },
  {
   "cell_type": "code",
   "execution_count": 90,
   "metadata": {
    "collapsed": false
   },
   "outputs": [
    {
     "data": {
      "text/html": [
       "<div>\n",
       "<table border=\"1\" class=\"dataframe\">\n",
       "  <thead>\n",
       "    <tr style=\"text-align: right;\">\n",
       "      <th></th>\n",
       "      <th>key</th>\n",
       "      <th>rval</th>\n",
       "    </tr>\n",
       "  </thead>\n",
       "  <tbody>\n",
       "    <tr>\n",
       "      <th>0</th>\n",
       "      <td>foo</td>\n",
       "      <td>4</td>\n",
       "    </tr>\n",
       "    <tr>\n",
       "      <th>1</th>\n",
       "      <td>foo</td>\n",
       "      <td>5</td>\n",
       "    </tr>\n",
       "  </tbody>\n",
       "</table>\n",
       "</div>"
      ],
      "text/plain": [
       "   key  rval\n",
       "0  foo     4\n",
       "1  foo     5"
      ]
     },
     "execution_count": 90,
     "metadata": {},
     "output_type": "execute_result"
    }
   ],
   "source": [
    "right"
   ]
  },
  {
   "cell_type": "code",
   "execution_count": 91,
   "metadata": {
    "collapsed": false
   },
   "outputs": [
    {
     "data": {
      "text/html": [
       "<div>\n",
       "<table border=\"1\" class=\"dataframe\">\n",
       "  <thead>\n",
       "    <tr style=\"text-align: right;\">\n",
       "      <th></th>\n",
       "      <th>key</th>\n",
       "      <th>lval</th>\n",
       "      <th>rval</th>\n",
       "    </tr>\n",
       "  </thead>\n",
       "  <tbody>\n",
       "    <tr>\n",
       "      <th>0</th>\n",
       "      <td>foo</td>\n",
       "      <td>1</td>\n",
       "      <td>4</td>\n",
       "    </tr>\n",
       "    <tr>\n",
       "      <th>1</th>\n",
       "      <td>foo</td>\n",
       "      <td>1</td>\n",
       "      <td>5</td>\n",
       "    </tr>\n",
       "    <tr>\n",
       "      <th>2</th>\n",
       "      <td>foo</td>\n",
       "      <td>2</td>\n",
       "      <td>4</td>\n",
       "    </tr>\n",
       "    <tr>\n",
       "      <th>3</th>\n",
       "      <td>foo</td>\n",
       "      <td>2</td>\n",
       "      <td>5</td>\n",
       "    </tr>\n",
       "  </tbody>\n",
       "</table>\n",
       "</div>"
      ],
      "text/plain": [
       "   key  lval  rval\n",
       "0  foo     1     4\n",
       "1  foo     1     5\n",
       "2  foo     2     4\n",
       "3  foo     2     5"
      ]
     },
     "execution_count": 91,
     "metadata": {},
     "output_type": "execute_result"
    }
   ],
   "source": [
    "pd.merge(left, right, on='key')"
   ]
  },
  {
   "cell_type": "markdown",
   "metadata": {},
   "source": [
    "### Append将一行连接到一个DataFrame上，具体请参阅[Appending](http://pandas.pydata.org/pandas-docs/stable/merging.html#merging-concatenation)"
   ]
  },
  {
   "cell_type": "code",
   "execution_count": 92,
   "metadata": {
    "collapsed": true
   },
   "outputs": [],
   "source": [
    "df = pd.DataFrame(np.random.randn(8, 4), columns=['A', 'B', 'C', 'D'])"
   ]
  },
  {
   "cell_type": "code",
   "execution_count": 93,
   "metadata": {
    "collapsed": false
   },
   "outputs": [
    {
     "data": {
      "text/html": [
       "<div>\n",
       "<table border=\"1\" class=\"dataframe\">\n",
       "  <thead>\n",
       "    <tr style=\"text-align: right;\">\n",
       "      <th></th>\n",
       "      <th>A</th>\n",
       "      <th>B</th>\n",
       "      <th>C</th>\n",
       "      <th>D</th>\n",
       "    </tr>\n",
       "  </thead>\n",
       "  <tbody>\n",
       "    <tr>\n",
       "      <th>0</th>\n",
       "      <td>-1.767123</td>\n",
       "      <td>1.112075</td>\n",
       "      <td>1.693534</td>\n",
       "      <td>0.074392</td>\n",
       "    </tr>\n",
       "    <tr>\n",
       "      <th>1</th>\n",
       "      <td>2.059304</td>\n",
       "      <td>-0.719509</td>\n",
       "      <td>1.412146</td>\n",
       "      <td>-0.003919</td>\n",
       "    </tr>\n",
       "    <tr>\n",
       "      <th>2</th>\n",
       "      <td>-1.890114</td>\n",
       "      <td>0.878020</td>\n",
       "      <td>1.871929</td>\n",
       "      <td>-0.229321</td>\n",
       "    </tr>\n",
       "    <tr>\n",
       "      <th>3</th>\n",
       "      <td>-0.232598</td>\n",
       "      <td>-0.818835</td>\n",
       "      <td>0.680264</td>\n",
       "      <td>-0.289971</td>\n",
       "    </tr>\n",
       "    <tr>\n",
       "      <th>4</th>\n",
       "      <td>-1.620921</td>\n",
       "      <td>-0.987212</td>\n",
       "      <td>-0.143201</td>\n",
       "      <td>0.361510</td>\n",
       "    </tr>\n",
       "    <tr>\n",
       "      <th>5</th>\n",
       "      <td>0.672014</td>\n",
       "      <td>0.213364</td>\n",
       "      <td>-1.078766</td>\n",
       "      <td>-0.407686</td>\n",
       "    </tr>\n",
       "    <tr>\n",
       "      <th>6</th>\n",
       "      <td>-0.001031</td>\n",
       "      <td>0.659680</td>\n",
       "      <td>0.242293</td>\n",
       "      <td>1.223289</td>\n",
       "    </tr>\n",
       "    <tr>\n",
       "      <th>7</th>\n",
       "      <td>-0.461604</td>\n",
       "      <td>-0.058712</td>\n",
       "      <td>-0.147311</td>\n",
       "      <td>-0.113862</td>\n",
       "    </tr>\n",
       "  </tbody>\n",
       "</table>\n",
       "</div>"
      ],
      "text/plain": [
       "          A         B         C         D\n",
       "0 -1.767123  1.112075  1.693534  0.074392\n",
       "1  2.059304 -0.719509  1.412146 -0.003919\n",
       "2 -1.890114  0.878020  1.871929 -0.229321\n",
       "3 -0.232598 -0.818835  0.680264 -0.289971\n",
       "4 -1.620921 -0.987212 -0.143201  0.361510\n",
       "5  0.672014  0.213364 -1.078766 -0.407686\n",
       "6 -0.001031  0.659680  0.242293  1.223289\n",
       "7 -0.461604 -0.058712 -0.147311 -0.113862"
      ]
     },
     "execution_count": 93,
     "metadata": {},
     "output_type": "execute_result"
    }
   ],
   "source": [
    "df"
   ]
  },
  {
   "cell_type": "code",
   "execution_count": 94,
   "metadata": {
    "collapsed": true
   },
   "outputs": [],
   "source": [
    "s = df.iloc[3]"
   ]
  },
  {
   "cell_type": "code",
   "execution_count": 95,
   "metadata": {
    "collapsed": false
   },
   "outputs": [
    {
     "data": {
      "text/html": [
       "<div>\n",
       "<table border=\"1\" class=\"dataframe\">\n",
       "  <thead>\n",
       "    <tr style=\"text-align: right;\">\n",
       "      <th></th>\n",
       "      <th>A</th>\n",
       "      <th>B</th>\n",
       "      <th>C</th>\n",
       "      <th>D</th>\n",
       "    </tr>\n",
       "  </thead>\n",
       "  <tbody>\n",
       "    <tr>\n",
       "      <th>0</th>\n",
       "      <td>-1.767123</td>\n",
       "      <td>1.112075</td>\n",
       "      <td>1.693534</td>\n",
       "      <td>0.074392</td>\n",
       "    </tr>\n",
       "    <tr>\n",
       "      <th>1</th>\n",
       "      <td>2.059304</td>\n",
       "      <td>-0.719509</td>\n",
       "      <td>1.412146</td>\n",
       "      <td>-0.003919</td>\n",
       "    </tr>\n",
       "    <tr>\n",
       "      <th>2</th>\n",
       "      <td>-1.890114</td>\n",
       "      <td>0.878020</td>\n",
       "      <td>1.871929</td>\n",
       "      <td>-0.229321</td>\n",
       "    </tr>\n",
       "    <tr>\n",
       "      <th>3</th>\n",
       "      <td>-0.232598</td>\n",
       "      <td>-0.818835</td>\n",
       "      <td>0.680264</td>\n",
       "      <td>-0.289971</td>\n",
       "    </tr>\n",
       "    <tr>\n",
       "      <th>4</th>\n",
       "      <td>-1.620921</td>\n",
       "      <td>-0.987212</td>\n",
       "      <td>-0.143201</td>\n",
       "      <td>0.361510</td>\n",
       "    </tr>\n",
       "    <tr>\n",
       "      <th>5</th>\n",
       "      <td>0.672014</td>\n",
       "      <td>0.213364</td>\n",
       "      <td>-1.078766</td>\n",
       "      <td>-0.407686</td>\n",
       "    </tr>\n",
       "    <tr>\n",
       "      <th>6</th>\n",
       "      <td>-0.001031</td>\n",
       "      <td>0.659680</td>\n",
       "      <td>0.242293</td>\n",
       "      <td>1.223289</td>\n",
       "    </tr>\n",
       "    <tr>\n",
       "      <th>7</th>\n",
       "      <td>-0.461604</td>\n",
       "      <td>-0.058712</td>\n",
       "      <td>-0.147311</td>\n",
       "      <td>-0.113862</td>\n",
       "    </tr>\n",
       "    <tr>\n",
       "      <th>8</th>\n",
       "      <td>-0.232598</td>\n",
       "      <td>-0.818835</td>\n",
       "      <td>0.680264</td>\n",
       "      <td>-0.289971</td>\n",
       "    </tr>\n",
       "  </tbody>\n",
       "</table>\n",
       "</div>"
      ],
      "text/plain": [
       "          A         B         C         D\n",
       "0 -1.767123  1.112075  1.693534  0.074392\n",
       "1  2.059304 -0.719509  1.412146 -0.003919\n",
       "2 -1.890114  0.878020  1.871929 -0.229321\n",
       "3 -0.232598 -0.818835  0.680264 -0.289971\n",
       "4 -1.620921 -0.987212 -0.143201  0.361510\n",
       "5  0.672014  0.213364 -1.078766 -0.407686\n",
       "6 -0.001031  0.659680  0.242293  1.223289\n",
       "7 -0.461604 -0.058712 -0.147311 -0.113862\n",
       "8 -0.232598 -0.818835  0.680264 -0.289971"
      ]
     },
     "execution_count": 95,
     "metadata": {},
     "output_type": "execute_result"
    }
   ],
   "source": [
    "df.append(s, ignore_index=True)"
   ]
  },
  {
   "cell_type": "markdown",
   "metadata": {},
   "source": [
    "# 七、分组"
   ]
  },
  {
   "cell_type": "markdown",
   "metadata": {},
   "source": [
    "对于“group by”操作，我们通常是指以下一个或多个操作步骤：\n",
    "+ （Splitting）按照一些规则将数据分为不同的组\n",
    "+ （Applying）对于每组数据分别执行一个函数\n",
    "+ （Combining）将结果组合刀一个数据结构中\n",
    "详情请参阅：[Grouping Section](http://pandas.pydata.org/pandas-docs/stable/groupby.html#groupby)"
   ]
  },
  {
   "cell_type": "code",
   "execution_count": 96,
   "metadata": {
    "collapsed": true
   },
   "outputs": [],
   "source": [
    "df = pd.DataFrame({\n",
    "        'A': ['foo', 'bar', 'foo', 'bar', 'foo', 'bar', 'foo', 'foo'],\n",
    "        'B': ['one', 'one', 'two', 'three', 'two', 'two', 'one', 'three'],\n",
    "        'C': np.random.randn(8),\n",
    "        'D': np.random.randn(8)\n",
    "    })"
   ]
  },
  {
   "cell_type": "code",
   "execution_count": 97,
   "metadata": {
    "collapsed": false
   },
   "outputs": [
    {
     "data": {
      "text/html": [
       "<div>\n",
       "<table border=\"1\" class=\"dataframe\">\n",
       "  <thead>\n",
       "    <tr style=\"text-align: right;\">\n",
       "      <th></th>\n",
       "      <th>A</th>\n",
       "      <th>B</th>\n",
       "      <th>C</th>\n",
       "      <th>D</th>\n",
       "    </tr>\n",
       "  </thead>\n",
       "  <tbody>\n",
       "    <tr>\n",
       "      <th>0</th>\n",
       "      <td>foo</td>\n",
       "      <td>one</td>\n",
       "      <td>1.878039</td>\n",
       "      <td>0.890816</td>\n",
       "    </tr>\n",
       "    <tr>\n",
       "      <th>1</th>\n",
       "      <td>bar</td>\n",
       "      <td>one</td>\n",
       "      <td>-0.771884</td>\n",
       "      <td>0.955960</td>\n",
       "    </tr>\n",
       "    <tr>\n",
       "      <th>2</th>\n",
       "      <td>foo</td>\n",
       "      <td>two</td>\n",
       "      <td>-0.592867</td>\n",
       "      <td>0.559106</td>\n",
       "    </tr>\n",
       "    <tr>\n",
       "      <th>3</th>\n",
       "      <td>bar</td>\n",
       "      <td>three</td>\n",
       "      <td>0.225974</td>\n",
       "      <td>0.461766</td>\n",
       "    </tr>\n",
       "    <tr>\n",
       "      <th>4</th>\n",
       "      <td>foo</td>\n",
       "      <td>two</td>\n",
       "      <td>-0.240762</td>\n",
       "      <td>1.198125</td>\n",
       "    </tr>\n",
       "    <tr>\n",
       "      <th>5</th>\n",
       "      <td>bar</td>\n",
       "      <td>two</td>\n",
       "      <td>0.355271</td>\n",
       "      <td>1.524272</td>\n",
       "    </tr>\n",
       "    <tr>\n",
       "      <th>6</th>\n",
       "      <td>foo</td>\n",
       "      <td>one</td>\n",
       "      <td>-1.374467</td>\n",
       "      <td>-0.651964</td>\n",
       "    </tr>\n",
       "    <tr>\n",
       "      <th>7</th>\n",
       "      <td>foo</td>\n",
       "      <td>three</td>\n",
       "      <td>0.833525</td>\n",
       "      <td>-1.934192</td>\n",
       "    </tr>\n",
       "  </tbody>\n",
       "</table>\n",
       "</div>"
      ],
      "text/plain": [
       "     A      B         C         D\n",
       "0  foo    one  1.878039  0.890816\n",
       "1  bar    one -0.771884  0.955960\n",
       "2  foo    two -0.592867  0.559106\n",
       "3  bar  three  0.225974  0.461766\n",
       "4  foo    two -0.240762  1.198125\n",
       "5  bar    two  0.355271  1.524272\n",
       "6  foo    one -1.374467 -0.651964\n",
       "7  foo  three  0.833525 -1.934192"
      ]
     },
     "execution_count": 97,
     "metadata": {},
     "output_type": "execute_result"
    }
   ],
   "source": [
    "df"
   ]
  },
  {
   "cell_type": "markdown",
   "metadata": {},
   "source": [
    "1.分组并对每个分组执行sum函数："
   ]
  },
  {
   "cell_type": "code",
   "execution_count": 98,
   "metadata": {
    "collapsed": false
   },
   "outputs": [
    {
     "data": {
      "text/html": [
       "<div>\n",
       "<table border=\"1\" class=\"dataframe\">\n",
       "  <thead>\n",
       "    <tr style=\"text-align: right;\">\n",
       "      <th></th>\n",
       "      <th>C</th>\n",
       "      <th>D</th>\n",
       "    </tr>\n",
       "    <tr>\n",
       "      <th>A</th>\n",
       "      <th></th>\n",
       "      <th></th>\n",
       "    </tr>\n",
       "  </thead>\n",
       "  <tbody>\n",
       "    <tr>\n",
       "      <th>bar</th>\n",
       "      <td>-0.190640</td>\n",
       "      <td>2.941997</td>\n",
       "    </tr>\n",
       "    <tr>\n",
       "      <th>foo</th>\n",
       "      <td>0.503469</td>\n",
       "      <td>0.061890</td>\n",
       "    </tr>\n",
       "  </tbody>\n",
       "</table>\n",
       "</div>"
      ],
      "text/plain": [
       "            C         D\n",
       "A                      \n",
       "bar -0.190640  2.941997\n",
       "foo  0.503469  0.061890"
      ]
     },
     "execution_count": 98,
     "metadata": {},
     "output_type": "execute_result"
    }
   ],
   "source": [
    "df.groupby('A').sum()"
   ]
  },
  {
   "cell_type": "markdown",
   "metadata": {},
   "source": [
    "2.通过多个列进行分组形成一个层次索引，然后执行函数："
   ]
  },
  {
   "cell_type": "code",
   "execution_count": 99,
   "metadata": {
    "collapsed": false
   },
   "outputs": [
    {
     "data": {
      "text/html": [
       "<div>\n",
       "<table border=\"1\" class=\"dataframe\">\n",
       "  <thead>\n",
       "    <tr style=\"text-align: right;\">\n",
       "      <th></th>\n",
       "      <th></th>\n",
       "      <th>C</th>\n",
       "      <th>D</th>\n",
       "    </tr>\n",
       "    <tr>\n",
       "      <th>A</th>\n",
       "      <th>B</th>\n",
       "      <th></th>\n",
       "      <th></th>\n",
       "    </tr>\n",
       "  </thead>\n",
       "  <tbody>\n",
       "    <tr>\n",
       "      <th rowspan=\"3\" valign=\"top\">bar</th>\n",
       "      <th>one</th>\n",
       "      <td>-0.771884</td>\n",
       "      <td>0.955960</td>\n",
       "    </tr>\n",
       "    <tr>\n",
       "      <th>three</th>\n",
       "      <td>0.225974</td>\n",
       "      <td>0.461766</td>\n",
       "    </tr>\n",
       "    <tr>\n",
       "      <th>two</th>\n",
       "      <td>0.355271</td>\n",
       "      <td>1.524272</td>\n",
       "    </tr>\n",
       "    <tr>\n",
       "      <th rowspan=\"3\" valign=\"top\">foo</th>\n",
       "      <th>one</th>\n",
       "      <td>0.503573</td>\n",
       "      <td>0.238852</td>\n",
       "    </tr>\n",
       "    <tr>\n",
       "      <th>three</th>\n",
       "      <td>0.833525</td>\n",
       "      <td>-1.934192</td>\n",
       "    </tr>\n",
       "    <tr>\n",
       "      <th>two</th>\n",
       "      <td>-0.833629</td>\n",
       "      <td>1.757231</td>\n",
       "    </tr>\n",
       "  </tbody>\n",
       "</table>\n",
       "</div>"
      ],
      "text/plain": [
       "                  C         D\n",
       "A   B                        \n",
       "bar one   -0.771884  0.955960\n",
       "    three  0.225974  0.461766\n",
       "    two    0.355271  1.524272\n",
       "foo one    0.503573  0.238852\n",
       "    three  0.833525 -1.934192\n",
       "    two   -0.833629  1.757231"
      ]
     },
     "execution_count": 99,
     "metadata": {},
     "output_type": "execute_result"
    }
   ],
   "source": [
    "df.groupby(['A', 'B']).sum()"
   ]
  },
  {
   "cell_type": "markdown",
   "metadata": {},
   "source": [
    "# 八、Reshaping"
   ]
  },
  {
   "cell_type": "markdown",
   "metadata": {},
   "source": [
    "详情请参阅[Hierachical Indexing](http://pandas.pydata.org/pandas-docs/stable/advanced.html#advanced-hierarchical)和[Reshaping](http://pandas.pydata.org/pandas-docs/stable/reshaping.html#reshaping-stacking)"
   ]
  },
  {
   "cell_type": "markdown",
   "metadata": {},
   "source": [
    "### Stack"
   ]
  },
  {
   "cell_type": "code",
   "execution_count": 100,
   "metadata": {
    "collapsed": true
   },
   "outputs": [],
   "source": [
    "tuples = list(zip(*[['bar', 'bar', 'baz', 'baz',\n",
    "                     'foo', 'foo', 'qux', 'qux'],\n",
    "                    ['one', 'two', 'one', 'two',\n",
    "                     'one', 'two', 'one', 'two']]))"
   ]
  },
  {
   "cell_type": "code",
   "execution_count": 101,
   "metadata": {
    "collapsed": false
   },
   "outputs": [
    {
     "data": {
      "text/plain": [
       "[('bar', 'one'),\n",
       " ('bar', 'two'),\n",
       " ('baz', 'one'),\n",
       " ('baz', 'two'),\n",
       " ('foo', 'one'),\n",
       " ('foo', 'two'),\n",
       " ('qux', 'one'),\n",
       " ('qux', 'two')]"
      ]
     },
     "execution_count": 101,
     "metadata": {},
     "output_type": "execute_result"
    }
   ],
   "source": [
    "tuples"
   ]
  },
  {
   "cell_type": "code",
   "execution_count": 102,
   "metadata": {
    "collapsed": false
   },
   "outputs": [],
   "source": [
    "index = pd.MultiIndex.from_tuples(tuples, names=['first', 'second'])"
   ]
  },
  {
   "cell_type": "code",
   "execution_count": 103,
   "metadata": {
    "collapsed": true
   },
   "outputs": [],
   "source": [
    "df = pd.DataFrame(np.random.randn(8, 2), index=index, columns=['A', 'B'])"
   ]
  },
  {
   "cell_type": "code",
   "execution_count": 104,
   "metadata": {
    "collapsed": true
   },
   "outputs": [],
   "source": [
    "df2 = df[:4]"
   ]
  },
  {
   "cell_type": "code",
   "execution_count": 105,
   "metadata": {
    "collapsed": false
   },
   "outputs": [
    {
     "data": {
      "text/html": [
       "<div>\n",
       "<table border=\"1\" class=\"dataframe\">\n",
       "  <thead>\n",
       "    <tr style=\"text-align: right;\">\n",
       "      <th></th>\n",
       "      <th></th>\n",
       "      <th>A</th>\n",
       "      <th>B</th>\n",
       "    </tr>\n",
       "    <tr>\n",
       "      <th>first</th>\n",
       "      <th>second</th>\n",
       "      <th></th>\n",
       "      <th></th>\n",
       "    </tr>\n",
       "  </thead>\n",
       "  <tbody>\n",
       "    <tr>\n",
       "      <th rowspan=\"2\" valign=\"top\">bar</th>\n",
       "      <th>one</th>\n",
       "      <td>0.113842</td>\n",
       "      <td>1.054748</td>\n",
       "    </tr>\n",
       "    <tr>\n",
       "      <th>two</th>\n",
       "      <td>0.236811</td>\n",
       "      <td>0.308308</td>\n",
       "    </tr>\n",
       "    <tr>\n",
       "      <th rowspan=\"2\" valign=\"top\">baz</th>\n",
       "      <th>one</th>\n",
       "      <td>1.715274</td>\n",
       "      <td>1.973451</td>\n",
       "    </tr>\n",
       "    <tr>\n",
       "      <th>two</th>\n",
       "      <td>0.030032</td>\n",
       "      <td>1.189841</td>\n",
       "    </tr>\n",
       "  </tbody>\n",
       "</table>\n",
       "</div>"
      ],
      "text/plain": [
       "                     A         B\n",
       "first second                    \n",
       "bar   one     0.113842  1.054748\n",
       "      two     0.236811  0.308308\n",
       "baz   one     1.715274  1.973451\n",
       "      two     0.030032  1.189841"
      ]
     },
     "execution_count": 105,
     "metadata": {},
     "output_type": "execute_result"
    }
   ],
   "source": [
    "df2"
   ]
  },
  {
   "cell_type": "code",
   "execution_count": 106,
   "metadata": {
    "collapsed": true
   },
   "outputs": [],
   "source": [
    "stacked = df2.stack()"
   ]
  },
  {
   "cell_type": "code",
   "execution_count": 107,
   "metadata": {
    "collapsed": false
   },
   "outputs": [
    {
     "data": {
      "text/plain": [
       "first  second   \n",
       "bar    one     A    0.113842\n",
       "               B    1.054748\n",
       "       two     A    0.236811\n",
       "               B    0.308308\n",
       "baz    one     A    1.715274\n",
       "               B    1.973451\n",
       "       two     A    0.030032\n",
       "               B    1.189841\n",
       "dtype: float64"
      ]
     },
     "execution_count": 107,
     "metadata": {},
     "output_type": "execute_result"
    }
   ],
   "source": [
    "stacked"
   ]
  },
  {
   "cell_type": "code",
   "execution_count": 108,
   "metadata": {
    "collapsed": false
   },
   "outputs": [
    {
     "data": {
      "text/plain": [
       "pandas.core.series.Series"
      ]
     },
     "execution_count": 108,
     "metadata": {},
     "output_type": "execute_result"
    }
   ],
   "source": [
    "type(stacked)"
   ]
  },
  {
   "cell_type": "code",
   "execution_count": 109,
   "metadata": {
    "collapsed": false
   },
   "outputs": [
    {
     "data": {
      "text/html": [
       "<div>\n",
       "<table border=\"1\" class=\"dataframe\">\n",
       "  <thead>\n",
       "    <tr style=\"text-align: right;\">\n",
       "      <th></th>\n",
       "      <th></th>\n",
       "      <th>A</th>\n",
       "      <th>B</th>\n",
       "    </tr>\n",
       "    <tr>\n",
       "      <th>first</th>\n",
       "      <th>second</th>\n",
       "      <th></th>\n",
       "      <th></th>\n",
       "    </tr>\n",
       "  </thead>\n",
       "  <tbody>\n",
       "    <tr>\n",
       "      <th rowspan=\"2\" valign=\"top\">bar</th>\n",
       "      <th>one</th>\n",
       "      <td>0.113842</td>\n",
       "      <td>1.054748</td>\n",
       "    </tr>\n",
       "    <tr>\n",
       "      <th>two</th>\n",
       "      <td>0.236811</td>\n",
       "      <td>0.308308</td>\n",
       "    </tr>\n",
       "    <tr>\n",
       "      <th rowspan=\"2\" valign=\"top\">baz</th>\n",
       "      <th>one</th>\n",
       "      <td>1.715274</td>\n",
       "      <td>1.973451</td>\n",
       "    </tr>\n",
       "    <tr>\n",
       "      <th>two</th>\n",
       "      <td>0.030032</td>\n",
       "      <td>1.189841</td>\n",
       "    </tr>\n",
       "  </tbody>\n",
       "</table>\n",
       "</div>"
      ],
      "text/plain": [
       "                     A         B\n",
       "first second                    \n",
       "bar   one     0.113842  1.054748\n",
       "      two     0.236811  0.308308\n",
       "baz   one     1.715274  1.973451\n",
       "      two     0.030032  1.189841"
      ]
     },
     "execution_count": 109,
     "metadata": {},
     "output_type": "execute_result"
    }
   ],
   "source": [
    "stacked.unstack()"
   ]
  },
  {
   "cell_type": "code",
   "execution_count": 110,
   "metadata": {
    "collapsed": false
   },
   "outputs": [
    {
     "data": {
      "text/html": [
       "<div>\n",
       "<table border=\"1\" class=\"dataframe\">\n",
       "  <thead>\n",
       "    <tr style=\"text-align: right;\">\n",
       "      <th></th>\n",
       "      <th>second</th>\n",
       "      <th>one</th>\n",
       "      <th>two</th>\n",
       "    </tr>\n",
       "    <tr>\n",
       "      <th>first</th>\n",
       "      <th></th>\n",
       "      <th></th>\n",
       "      <th></th>\n",
       "    </tr>\n",
       "  </thead>\n",
       "  <tbody>\n",
       "    <tr>\n",
       "      <th rowspan=\"2\" valign=\"top\">bar</th>\n",
       "      <th>A</th>\n",
       "      <td>0.113842</td>\n",
       "      <td>0.236811</td>\n",
       "    </tr>\n",
       "    <tr>\n",
       "      <th>B</th>\n",
       "      <td>1.054748</td>\n",
       "      <td>0.308308</td>\n",
       "    </tr>\n",
       "    <tr>\n",
       "      <th rowspan=\"2\" valign=\"top\">baz</th>\n",
       "      <th>A</th>\n",
       "      <td>1.715274</td>\n",
       "      <td>0.030032</td>\n",
       "    </tr>\n",
       "    <tr>\n",
       "      <th>B</th>\n",
       "      <td>1.973451</td>\n",
       "      <td>1.189841</td>\n",
       "    </tr>\n",
       "  </tbody>\n",
       "</table>\n",
       "</div>"
      ],
      "text/plain": [
       "second        one       two\n",
       "first                      \n",
       "bar   A  0.113842  0.236811\n",
       "      B  1.054748  0.308308\n",
       "baz   A  1.715274  0.030032\n",
       "      B  1.973451  1.189841"
      ]
     },
     "execution_count": 110,
     "metadata": {},
     "output_type": "execute_result"
    }
   ],
   "source": [
    "stacked.unstack(1)"
   ]
  },
  {
   "cell_type": "code",
   "execution_count": 111,
   "metadata": {
    "collapsed": false
   },
   "outputs": [
    {
     "data": {
      "text/html": [
       "<div>\n",
       "<table border=\"1\" class=\"dataframe\">\n",
       "  <thead>\n",
       "    <tr style=\"text-align: right;\">\n",
       "      <th></th>\n",
       "      <th>first</th>\n",
       "      <th>bar</th>\n",
       "      <th>baz</th>\n",
       "    </tr>\n",
       "    <tr>\n",
       "      <th>second</th>\n",
       "      <th></th>\n",
       "      <th></th>\n",
       "      <th></th>\n",
       "    </tr>\n",
       "  </thead>\n",
       "  <tbody>\n",
       "    <tr>\n",
       "      <th rowspan=\"2\" valign=\"top\">one</th>\n",
       "      <th>A</th>\n",
       "      <td>0.113842</td>\n",
       "      <td>1.715274</td>\n",
       "    </tr>\n",
       "    <tr>\n",
       "      <th>B</th>\n",
       "      <td>1.054748</td>\n",
       "      <td>1.973451</td>\n",
       "    </tr>\n",
       "    <tr>\n",
       "      <th rowspan=\"2\" valign=\"top\">two</th>\n",
       "      <th>A</th>\n",
       "      <td>0.236811</td>\n",
       "      <td>0.030032</td>\n",
       "    </tr>\n",
       "    <tr>\n",
       "      <th>B</th>\n",
       "      <td>0.308308</td>\n",
       "      <td>1.189841</td>\n",
       "    </tr>\n",
       "  </tbody>\n",
       "</table>\n",
       "</div>"
      ],
      "text/plain": [
       "first          bar       baz\n",
       "second                      \n",
       "one    A  0.113842  1.715274\n",
       "       B  1.054748  1.973451\n",
       "two    A  0.236811  0.030032\n",
       "       B  0.308308  1.189841"
      ]
     },
     "execution_count": 111,
     "metadata": {},
     "output_type": "execute_result"
    }
   ],
   "source": [
    "stacked.unstack(0)"
   ]
  },
  {
   "cell_type": "markdown",
   "metadata": {},
   "source": [
    "### 数据透视表，详情请参阅：[Pivot Tables](http://pandas.pydata.org/pandas-docs/stable/reshaping.html#reshaping-pivot)"
   ]
  },
  {
   "cell_type": "code",
   "execution_count": 112,
   "metadata": {
    "collapsed": true
   },
   "outputs": [],
   "source": [
    "df = pd.DataFrame({\n",
    "        'A': ['one', 'one', 'two', 'three'] * 3,\n",
    "        'B': ['A', 'B', 'C'] * 4,\n",
    "        'C': ['foo', 'foo', 'foo', 'bar', 'bar', 'bar'] * 2,\n",
    "        'D': np.random.randn(12),\n",
    "        'E': np.random.randn(12)\n",
    "    })"
   ]
  },
  {
   "cell_type": "code",
   "execution_count": 113,
   "metadata": {
    "collapsed": false
   },
   "outputs": [
    {
     "data": {
      "text/html": [
       "<div>\n",
       "<table border=\"1\" class=\"dataframe\">\n",
       "  <thead>\n",
       "    <tr style=\"text-align: right;\">\n",
       "      <th></th>\n",
       "      <th>A</th>\n",
       "      <th>B</th>\n",
       "      <th>C</th>\n",
       "      <th>D</th>\n",
       "      <th>E</th>\n",
       "    </tr>\n",
       "  </thead>\n",
       "  <tbody>\n",
       "    <tr>\n",
       "      <th>0</th>\n",
       "      <td>one</td>\n",
       "      <td>A</td>\n",
       "      <td>foo</td>\n",
       "      <td>0.945378</td>\n",
       "      <td>-0.184634</td>\n",
       "    </tr>\n",
       "    <tr>\n",
       "      <th>1</th>\n",
       "      <td>one</td>\n",
       "      <td>B</td>\n",
       "      <td>foo</td>\n",
       "      <td>1.220572</td>\n",
       "      <td>0.490263</td>\n",
       "    </tr>\n",
       "    <tr>\n",
       "      <th>2</th>\n",
       "      <td>two</td>\n",
       "      <td>C</td>\n",
       "      <td>foo</td>\n",
       "      <td>-1.166252</td>\n",
       "      <td>1.475099</td>\n",
       "    </tr>\n",
       "    <tr>\n",
       "      <th>3</th>\n",
       "      <td>three</td>\n",
       "      <td>A</td>\n",
       "      <td>bar</td>\n",
       "      <td>0.809651</td>\n",
       "      <td>0.395744</td>\n",
       "    </tr>\n",
       "    <tr>\n",
       "      <th>4</th>\n",
       "      <td>one</td>\n",
       "      <td>B</td>\n",
       "      <td>bar</td>\n",
       "      <td>0.467431</td>\n",
       "      <td>2.016002</td>\n",
       "    </tr>\n",
       "    <tr>\n",
       "      <th>5</th>\n",
       "      <td>one</td>\n",
       "      <td>C</td>\n",
       "      <td>bar</td>\n",
       "      <td>1.517155</td>\n",
       "      <td>0.250041</td>\n",
       "    </tr>\n",
       "    <tr>\n",
       "      <th>6</th>\n",
       "      <td>two</td>\n",
       "      <td>A</td>\n",
       "      <td>foo</td>\n",
       "      <td>0.655591</td>\n",
       "      <td>-0.148122</td>\n",
       "    </tr>\n",
       "    <tr>\n",
       "      <th>7</th>\n",
       "      <td>three</td>\n",
       "      <td>B</td>\n",
       "      <td>foo</td>\n",
       "      <td>0.739249</td>\n",
       "      <td>1.888269</td>\n",
       "    </tr>\n",
       "    <tr>\n",
       "      <th>8</th>\n",
       "      <td>one</td>\n",
       "      <td>C</td>\n",
       "      <td>foo</td>\n",
       "      <td>1.950644</td>\n",
       "      <td>0.464983</td>\n",
       "    </tr>\n",
       "    <tr>\n",
       "      <th>9</th>\n",
       "      <td>one</td>\n",
       "      <td>A</td>\n",
       "      <td>bar</td>\n",
       "      <td>-0.264816</td>\n",
       "      <td>-0.127330</td>\n",
       "    </tr>\n",
       "    <tr>\n",
       "      <th>10</th>\n",
       "      <td>two</td>\n",
       "      <td>B</td>\n",
       "      <td>bar</td>\n",
       "      <td>-1.337147</td>\n",
       "      <td>0.625813</td>\n",
       "    </tr>\n",
       "    <tr>\n",
       "      <th>11</th>\n",
       "      <td>three</td>\n",
       "      <td>C</td>\n",
       "      <td>bar</td>\n",
       "      <td>0.543951</td>\n",
       "      <td>-0.155971</td>\n",
       "    </tr>\n",
       "  </tbody>\n",
       "</table>\n",
       "</div>"
      ],
      "text/plain": [
       "        A  B    C         D         E\n",
       "0     one  A  foo  0.945378 -0.184634\n",
       "1     one  B  foo  1.220572  0.490263\n",
       "2     two  C  foo -1.166252  1.475099\n",
       "3   three  A  bar  0.809651  0.395744\n",
       "4     one  B  bar  0.467431  2.016002\n",
       "5     one  C  bar  1.517155  0.250041\n",
       "6     two  A  foo  0.655591 -0.148122\n",
       "7   three  B  foo  0.739249  1.888269\n",
       "8     one  C  foo  1.950644  0.464983\n",
       "9     one  A  bar -0.264816 -0.127330\n",
       "10    two  B  bar -1.337147  0.625813\n",
       "11  three  C  bar  0.543951 -0.155971"
      ]
     },
     "execution_count": 113,
     "metadata": {},
     "output_type": "execute_result"
    }
   ],
   "source": [
    "df"
   ]
  },
  {
   "cell_type": "markdown",
   "metadata": {},
   "source": [
    "可以从这个数据中轻松的生成数据透视表："
   ]
  },
  {
   "cell_type": "code",
   "execution_count": 114,
   "metadata": {
    "collapsed": false
   },
   "outputs": [
    {
     "data": {
      "text/html": [
       "<div>\n",
       "<table border=\"1\" class=\"dataframe\">\n",
       "  <thead>\n",
       "    <tr style=\"text-align: right;\">\n",
       "      <th></th>\n",
       "      <th>C</th>\n",
       "      <th>bar</th>\n",
       "      <th>foo</th>\n",
       "    </tr>\n",
       "    <tr>\n",
       "      <th>A</th>\n",
       "      <th>B</th>\n",
       "      <th></th>\n",
       "      <th></th>\n",
       "    </tr>\n",
       "  </thead>\n",
       "  <tbody>\n",
       "    <tr>\n",
       "      <th rowspan=\"3\" valign=\"top\">one</th>\n",
       "      <th>A</th>\n",
       "      <td>-0.264816</td>\n",
       "      <td>0.945378</td>\n",
       "    </tr>\n",
       "    <tr>\n",
       "      <th>B</th>\n",
       "      <td>0.467431</td>\n",
       "      <td>1.220572</td>\n",
       "    </tr>\n",
       "    <tr>\n",
       "      <th>C</th>\n",
       "      <td>1.517155</td>\n",
       "      <td>1.950644</td>\n",
       "    </tr>\n",
       "    <tr>\n",
       "      <th rowspan=\"3\" valign=\"top\">three</th>\n",
       "      <th>A</th>\n",
       "      <td>0.809651</td>\n",
       "      <td>NaN</td>\n",
       "    </tr>\n",
       "    <tr>\n",
       "      <th>B</th>\n",
       "      <td>NaN</td>\n",
       "      <td>0.739249</td>\n",
       "    </tr>\n",
       "    <tr>\n",
       "      <th>C</th>\n",
       "      <td>0.543951</td>\n",
       "      <td>NaN</td>\n",
       "    </tr>\n",
       "    <tr>\n",
       "      <th rowspan=\"3\" valign=\"top\">two</th>\n",
       "      <th>A</th>\n",
       "      <td>NaN</td>\n",
       "      <td>0.655591</td>\n",
       "    </tr>\n",
       "    <tr>\n",
       "      <th>B</th>\n",
       "      <td>-1.337147</td>\n",
       "      <td>NaN</td>\n",
       "    </tr>\n",
       "    <tr>\n",
       "      <th>C</th>\n",
       "      <td>NaN</td>\n",
       "      <td>-1.166252</td>\n",
       "    </tr>\n",
       "  </tbody>\n",
       "</table>\n",
       "</div>"
      ],
      "text/plain": [
       "C             bar       foo\n",
       "A     B                    \n",
       "one   A -0.264816  0.945378\n",
       "      B  0.467431  1.220572\n",
       "      C  1.517155  1.950644\n",
       "three A  0.809651       NaN\n",
       "      B       NaN  0.739249\n",
       "      C  0.543951       NaN\n",
       "two   A       NaN  0.655591\n",
       "      B -1.337147       NaN\n",
       "      C       NaN -1.166252"
      ]
     },
     "execution_count": 114,
     "metadata": {},
     "output_type": "execute_result"
    }
   ],
   "source": [
    "pd.pivot_table(df, values='D', index=['A', 'B'], columns=['C'])"
   ]
  },
  {
   "cell_type": "markdown",
   "metadata": {},
   "source": [
    "# 九、时间序列"
   ]
  },
  {
   "cell_type": "markdown",
   "metadata": {},
   "source": [
    "pandas在对频率转换进行重新采样时拥有简单、强大且高效的功能（如将按秒采样的数据转换为按5分钟为单位进行采样的数据）。这种操作在金融领域非常常见。具体参考：[Time Series Section](http://pandas.pydata.org/pandas-docs/stable/timeseries.html#timeseries)"
   ]
  },
  {
   "cell_type": "code",
   "execution_count": 115,
   "metadata": {
    "collapsed": false
   },
   "outputs": [],
   "source": [
    "rng = pd.date_range('1/1/2012', periods=100, freq='S')"
   ]
  },
  {
   "cell_type": "code",
   "execution_count": 116,
   "metadata": {
    "collapsed": false
   },
   "outputs": [],
   "source": [
    "ts = pd.Series(np.random.randint(0, 500, len(rng)), index=rng)"
   ]
  },
  {
   "cell_type": "code",
   "execution_count": 117,
   "metadata": {
    "collapsed": false
   },
   "outputs": [],
   "source": [
    "new_ts = ts.resample('5Min', how='sum')"
   ]
  },
  {
   "cell_type": "code",
   "execution_count": 118,
   "metadata": {
    "collapsed": false
   },
   "outputs": [
    {
     "data": {
      "text/plain": [
       "2012-01-01    26387\n",
       "Freq: 5T, dtype: int64"
      ]
     },
     "execution_count": 118,
     "metadata": {},
     "output_type": "execute_result"
    }
   ],
   "source": [
    "new_ts"
   ]
  },
  {
   "cell_type": "markdown",
   "metadata": {},
   "source": [
    "1.时区表示："
   ]
  },
  {
   "cell_type": "code",
   "execution_count": 119,
   "metadata": {
    "collapsed": true
   },
   "outputs": [],
   "source": [
    "rng = pd.date_range('3/6/2012 00:00', periods=5, freq='D')"
   ]
  },
  {
   "cell_type": "code",
   "execution_count": 120,
   "metadata": {
    "collapsed": true
   },
   "outputs": [],
   "source": [
    "ts = pd.Series(np.random.randn(len(rng)), rng)"
   ]
  },
  {
   "cell_type": "code",
   "execution_count": 121,
   "metadata": {
    "collapsed": false
   },
   "outputs": [
    {
     "data": {
      "text/plain": [
       "2012-03-06    0.573059\n",
       "2012-03-07   -0.437821\n",
       "2012-03-08   -0.512102\n",
       "2012-03-09   -1.113983\n",
       "2012-03-10   -0.749985\n",
       "Freq: D, dtype: float64"
      ]
     },
     "execution_count": 121,
     "metadata": {},
     "output_type": "execute_result"
    }
   ],
   "source": [
    "ts"
   ]
  },
  {
   "cell_type": "code",
   "execution_count": 122,
   "metadata": {
    "collapsed": true
   },
   "outputs": [],
   "source": [
    "ts_utc = ts.tz_localize('UTC')"
   ]
  },
  {
   "cell_type": "code",
   "execution_count": 123,
   "metadata": {
    "collapsed": false
   },
   "outputs": [
    {
     "data": {
      "text/plain": [
       "2012-03-06 00:00:00+00:00    0.573059\n",
       "2012-03-07 00:00:00+00:00   -0.437821\n",
       "2012-03-08 00:00:00+00:00   -0.512102\n",
       "2012-03-09 00:00:00+00:00   -1.113983\n",
       "2012-03-10 00:00:00+00:00   -0.749985\n",
       "Freq: D, dtype: float64"
      ]
     },
     "execution_count": 123,
     "metadata": {},
     "output_type": "execute_result"
    }
   ],
   "source": [
    "ts_utc"
   ]
  },
  {
   "cell_type": "markdown",
   "metadata": {},
   "source": [
    "2.时区转换："
   ]
  },
  {
   "cell_type": "code",
   "execution_count": 124,
   "metadata": {
    "collapsed": false
   },
   "outputs": [
    {
     "data": {
      "text/plain": [
       "2012-03-05 19:00:00-05:00    0.573059\n",
       "2012-03-06 19:00:00-05:00   -0.437821\n",
       "2012-03-07 19:00:00-05:00   -0.512102\n",
       "2012-03-08 19:00:00-05:00   -1.113983\n",
       "2012-03-09 19:00:00-05:00   -0.749985\n",
       "Freq: D, dtype: float64"
      ]
     },
     "execution_count": 124,
     "metadata": {},
     "output_type": "execute_result"
    }
   ],
   "source": [
    "ts_utc.tz_convert('US/Eastern')"
   ]
  },
  {
   "cell_type": "markdown",
   "metadata": {},
   "source": [
    "3.时区跨度转换"
   ]
  },
  {
   "cell_type": "code",
   "execution_count": 125,
   "metadata": {
    "collapsed": true
   },
   "outputs": [],
   "source": [
    "rng = pd.date_range('1/1/2012', periods=5, freq='M')"
   ]
  },
  {
   "cell_type": "code",
   "execution_count": 126,
   "metadata": {
    "collapsed": true
   },
   "outputs": [],
   "source": [
    "ts = pd.Series(np.random.randn(len(rng)), index=rng)"
   ]
  },
  {
   "cell_type": "code",
   "execution_count": 127,
   "metadata": {
    "collapsed": false
   },
   "outputs": [
    {
     "data": {
      "text/plain": [
       "2012-01-31    0.515185\n",
       "2012-02-29    0.685939\n",
       "2012-03-31   -0.343645\n",
       "2012-04-30   -0.004510\n",
       "2012-05-31    0.923239\n",
       "Freq: M, dtype: float64"
      ]
     },
     "execution_count": 127,
     "metadata": {},
     "output_type": "execute_result"
    }
   ],
   "source": [
    "ts"
   ]
  },
  {
   "cell_type": "code",
   "execution_count": 128,
   "metadata": {
    "collapsed": true
   },
   "outputs": [],
   "source": [
    "ps = ts.to_period()"
   ]
  },
  {
   "cell_type": "code",
   "execution_count": 129,
   "metadata": {
    "collapsed": false
   },
   "outputs": [
    {
     "data": {
      "text/plain": [
       "2012-01    0.515185\n",
       "2012-02    0.685939\n",
       "2012-03   -0.343645\n",
       "2012-04   -0.004510\n",
       "2012-05    0.923239\n",
       "Freq: M, dtype: float64"
      ]
     },
     "execution_count": 129,
     "metadata": {},
     "output_type": "execute_result"
    }
   ],
   "source": [
    "ps"
   ]
  },
  {
   "cell_type": "code",
   "execution_count": 130,
   "metadata": {
    "collapsed": false
   },
   "outputs": [
    {
     "data": {
      "text/plain": [
       "2012-01-01    0.515185\n",
       "2012-02-01    0.685939\n",
       "2012-03-01   -0.343645\n",
       "2012-04-01   -0.004510\n",
       "2012-05-01    0.923239\n",
       "Freq: MS, dtype: float64"
      ]
     },
     "execution_count": 130,
     "metadata": {},
     "output_type": "execute_result"
    }
   ],
   "source": [
    "ps.to_timestamp()"
   ]
  },
  {
   "cell_type": "markdown",
   "metadata": {},
   "source": [
    "4.时期和时间戳之间的转换使得可以使用一些方便的算术函数。"
   ]
  },
  {
   "cell_type": "code",
   "execution_count": 131,
   "metadata": {
    "collapsed": true
   },
   "outputs": [],
   "source": [
    "prng = pd.period_range('1990Q1', '2000Q4', freq='Q-NOV')"
   ]
  },
  {
   "cell_type": "code",
   "execution_count": 132,
   "metadata": {
    "collapsed": true
   },
   "outputs": [],
   "source": [
    "ts = pd.Series(np.random.randn(len(prng)), prng)"
   ]
  },
  {
   "cell_type": "code",
   "execution_count": 133,
   "metadata": {
    "collapsed": true
   },
   "outputs": [],
   "source": [
    "ts.index = (prng.asfreq('M', 'e') + 1).asfreq('H', 's') + 9"
   ]
  },
  {
   "cell_type": "code",
   "execution_count": 195,
   "metadata": {
    "collapsed": false
   },
   "outputs": [
    {
     "data": {
      "text/plain": [
       "1990-03-01 09:00   -0.702114\n",
       "1990-06-01 09:00   -1.398603\n",
       "1990-09-01 09:00   -0.183389\n",
       "1990-12-01 09:00    0.685465\n",
       "1991-03-01 09:00    1.714713\n",
       "Freq: H, dtype: float64"
      ]
     },
     "execution_count": 195,
     "metadata": {},
     "output_type": "execute_result"
    }
   ],
   "source": [
    "ts.head()"
   ]
  },
  {
   "cell_type": "markdown",
   "metadata": {},
   "source": [
    "# 十、Categorical"
   ]
  },
  {
   "cell_type": "markdown",
   "metadata": {},
   "source": [
    "从0.15版本开始，pandas可以在DataFrame中支持Categorical类型的数据，详细介绍参考：[categorical introduction](http://pandas.pydata.org/pandas-docs/stable/categorical.html#categorical) and [API Documentation](http://pandas.pydata.org/pandas-docs/stable/api.html#api-categorical)"
   ]
  },
  {
   "cell_type": "code",
   "execution_count": 196,
   "metadata": {
    "collapsed": true
   },
   "outputs": [],
   "source": [
    "df = pd.DataFrame({\n",
    "        'id':[1,2,3,4,5,6],\n",
    "        'raw_grade':['a','b','b','a','a','e']\n",
    "    })"
   ]
  },
  {
   "cell_type": "markdown",
   "metadata": {},
   "source": [
    "1.将原始的grade转换为Categorical数据类型："
   ]
  },
  {
   "cell_type": "code",
   "execution_count": 206,
   "metadata": {
    "collapsed": true
   },
   "outputs": [],
   "source": [
    "df['grade'] = df['raw_grade'].astype('category', ordered=True)"
   ]
  },
  {
   "cell_type": "code",
   "execution_count": 207,
   "metadata": {
    "collapsed": false
   },
   "outputs": [
    {
     "data": {
      "text/plain": [
       "0    a\n",
       "1    b\n",
       "2    b\n",
       "3    a\n",
       "4    a\n",
       "5    e\n",
       "Name: grade, dtype: category\n",
       "Categories (3, object): [a < b < e]"
      ]
     },
     "execution_count": 207,
     "metadata": {},
     "output_type": "execute_result"
    }
   ],
   "source": [
    "df['grade']"
   ]
  },
  {
   "cell_type": "markdown",
   "metadata": {},
   "source": [
    "2.将Categorical类型数据重命名为更有意义的名称："
   ]
  },
  {
   "cell_type": "code",
   "execution_count": 208,
   "metadata": {
    "collapsed": false
   },
   "outputs": [],
   "source": [
    "df['grade'].cat.categories = ['very good', 'good', 'very bad']"
   ]
  },
  {
   "cell_type": "markdown",
   "metadata": {},
   "source": [
    "3.对类别进行重新排序，增加缺失的类别："
   ]
  },
  {
   "cell_type": "code",
   "execution_count": 209,
   "metadata": {
    "collapsed": true
   },
   "outputs": [],
   "source": [
    "df['grade'] = df['grade'].cat.set_categories(['very bad', 'bad', 'medium', 'good', 'very good'])"
   ]
  },
  {
   "cell_type": "code",
   "execution_count": 210,
   "metadata": {
    "collapsed": false
   },
   "outputs": [
    {
     "data": {
      "text/plain": [
       "0    very good\n",
       "1         good\n",
       "2         good\n",
       "3    very good\n",
       "4    very good\n",
       "5     very bad\n",
       "Name: grade, dtype: category\n",
       "Categories (5, object): [very bad < bad < medium < good < very good]"
      ]
     },
     "execution_count": 210,
     "metadata": {},
     "output_type": "execute_result"
    }
   ],
   "source": [
    "df['grade']"
   ]
  },
  {
   "cell_type": "markdown",
   "metadata": {},
   "source": [
    "4.排序是按照Categorical的顺序进行的而不是按照字典顺序进行："
   ]
  },
  {
   "cell_type": "code",
   "execution_count": 211,
   "metadata": {
    "collapsed": false
   },
   "outputs": [
    {
     "data": {
      "text/html": [
       "<div>\n",
       "<table border=\"1\" class=\"dataframe\">\n",
       "  <thead>\n",
       "    <tr style=\"text-align: right;\">\n",
       "      <th></th>\n",
       "      <th>id</th>\n",
       "      <th>raw_grade</th>\n",
       "      <th>grade</th>\n",
       "    </tr>\n",
       "  </thead>\n",
       "  <tbody>\n",
       "    <tr>\n",
       "      <th>5</th>\n",
       "      <td>6</td>\n",
       "      <td>e</td>\n",
       "      <td>very bad</td>\n",
       "    </tr>\n",
       "    <tr>\n",
       "      <th>1</th>\n",
       "      <td>2</td>\n",
       "      <td>b</td>\n",
       "      <td>good</td>\n",
       "    </tr>\n",
       "    <tr>\n",
       "      <th>2</th>\n",
       "      <td>3</td>\n",
       "      <td>b</td>\n",
       "      <td>good</td>\n",
       "    </tr>\n",
       "    <tr>\n",
       "      <th>0</th>\n",
       "      <td>1</td>\n",
       "      <td>a</td>\n",
       "      <td>very good</td>\n",
       "    </tr>\n",
       "    <tr>\n",
       "      <th>3</th>\n",
       "      <td>4</td>\n",
       "      <td>a</td>\n",
       "      <td>very good</td>\n",
       "    </tr>\n",
       "    <tr>\n",
       "      <th>4</th>\n",
       "      <td>5</td>\n",
       "      <td>a</td>\n",
       "      <td>very good</td>\n",
       "    </tr>\n",
       "  </tbody>\n",
       "</table>\n",
       "</div>"
      ],
      "text/plain": [
       "   id raw_grade      grade\n",
       "5   6         e   very bad\n",
       "1   2         b       good\n",
       "2   3         b       good\n",
       "0   1         a  very good\n",
       "3   4         a  very good\n",
       "4   5         a  very good"
      ]
     },
     "execution_count": 211,
     "metadata": {},
     "output_type": "execute_result"
    }
   ],
   "source": [
    "df.sort('grade')"
   ]
  },
  {
   "cell_type": "markdown",
   "metadata": {},
   "source": [
    "5.对Categorical列进行排序时存在空的类别："
   ]
  },
  {
   "cell_type": "code",
   "execution_count": 213,
   "metadata": {
    "collapsed": false
   },
   "outputs": [
    {
     "data": {
      "text/plain": [
       "grade\n",
       "very bad     1\n",
       "bad          0\n",
       "medium       0\n",
       "good         2\n",
       "very good    3\n",
       "dtype: int64"
      ]
     },
     "execution_count": 213,
     "metadata": {},
     "output_type": "execute_result"
    }
   ],
   "source": [
    "df.groupby(\"grade\").size()"
   ]
  },
  {
   "cell_type": "markdown",
   "metadata": {},
   "source": [
    "# 十一、画图"
   ]
  },
  {
   "cell_type": "markdown",
   "metadata": {},
   "source": [
    "具体文档参考：[Plotting Docs](http://pandas.pydata.org/pandas-docs/stable/visualization.html#visualization)"
   ]
  },
  {
   "cell_type": "code",
   "execution_count": 215,
   "metadata": {
    "collapsed": true
   },
   "outputs": [],
   "source": [
    "ts = pd.Series(np.random.randn(1000), index=pd.date_range('1/1/2000', periods=1000))"
   ]
  },
  {
   "cell_type": "code",
   "execution_count": 216,
   "metadata": {
    "collapsed": true
   },
   "outputs": [],
   "source": [
    "ts = ts.cumsum()"
   ]
  },
  {
   "cell_type": "code",
   "execution_count": 217,
   "metadata": {
    "collapsed": false
   },
   "outputs": [
    {
     "data": {
      "text/plain": [
       "<matplotlib.axes._subplots.AxesSubplot at 0x7fbda3e6e828>"
      ]
     },
     "execution_count": 217,
     "metadata": {},
     "output_type": "execute_result"
    },
    {
     "data": {
      "image/png": "[encoded data removed]",
      "text/plain": [
       "<matplotlib.figure.Figure at 0x7fbda3e6e208>"
      ]
     },
     "metadata": {},
     "output_type": "display_data"
    }
   ],
   "source": [
    "ts.plot()"
   ]
  },
  {
   "cell_type": "markdown",
   "metadata": {},
   "source": [
    "对于DataFrame来说，plot是一种将所有列及其标签进行绘制的简便方法："
   ]
  },
  {
   "cell_type": "code",
   "execution_count": 224,
   "metadata": {
    "collapsed": true
   },
   "outputs": [],
   "source": [
    "df = pd.DataFrame(np.random.randn(1000, 4), index=ts.index, columns=['A', 'B', 'C', 'D'])"
   ]
  },
  {
   "cell_type": "code",
   "execution_count": 225,
   "metadata": {
    "collapsed": true
   },
   "outputs": [],
   "source": [
    "df = df.cumsum()"
   ]
  },
  {
   "cell_type": "code",
   "execution_count": 228,
   "metadata": {
    "collapsed": false
   },
   "outputs": [
    {
     "data": {
      "text/html": [
       "<div>\n",
       "<table border=\"1\" class=\"dataframe\">\n",
       "  <thead>\n",
       "    <tr style=\"text-align: right;\">\n",
       "      <th></th>\n",
       "      <th>A</th>\n",
       "      <th>B</th>\n",
       "      <th>C</th>\n",
       "      <th>D</th>\n",
       "    </tr>\n",
       "  </thead>\n",
       "  <tbody>\n",
       "    <tr>\n",
       "      <th>2000-01-01</th>\n",
       "      <td>0.320065</td>\n",
       "      <td>-1.220908</td>\n",
       "      <td>1.703536</td>\n",
       "      <td>-0.847417</td>\n",
       "    </tr>\n",
       "    <tr>\n",
       "      <th>2000-01-02</th>\n",
       "      <td>-2.135848</td>\n",
       "      <td>-0.472654</td>\n",
       "      <td>-1.414617</td>\n",
       "      <td>-0.923105</td>\n",
       "    </tr>\n",
       "    <tr>\n",
       "      <th>2000-01-03</th>\n",
       "      <td>0.494490</td>\n",
       "      <td>1.397360</td>\n",
       "      <td>1.267843</td>\n",
       "      <td>-0.803603</td>\n",
       "    </tr>\n",
       "    <tr>\n",
       "      <th>2000-01-04</th>\n",
       "      <td>0.867636</td>\n",
       "      <td>1.135050</td>\n",
       "      <td>0.328071</td>\n",
       "      <td>1.426203</td>\n",
       "    </tr>\n",
       "    <tr>\n",
       "      <th>2000-01-05</th>\n",
       "      <td>-0.402456</td>\n",
       "      <td>1.169363</td>\n",
       "      <td>0.295348</td>\n",
       "      <td>-0.249618</td>\n",
       "    </tr>\n",
       "    <tr>\n",
       "      <th>2000-01-06</th>\n",
       "      <td>1.232167</td>\n",
       "      <td>-0.578838</td>\n",
       "      <td>-0.172046</td>\n",
       "      <td>-0.151564</td>\n",
       "    </tr>\n",
       "    <tr>\n",
       "      <th>2000-01-07</th>\n",
       "      <td>-0.240426</td>\n",
       "      <td>-0.439760</td>\n",
       "      <td>1.454460</td>\n",
       "      <td>-1.267622</td>\n",
       "    </tr>\n",
       "    <tr>\n",
       "      <th>2000-01-08</th>\n",
       "      <td>-0.035627</td>\n",
       "      <td>0.539455</td>\n",
       "      <td>1.463846</td>\n",
       "      <td>1.987646</td>\n",
       "    </tr>\n",
       "    <tr>\n",
       "      <th>2000-01-09</th>\n",
       "      <td>0.039600</td>\n",
       "      <td>0.844158</td>\n",
       "      <td>-1.380451</td>\n",
       "      <td>-0.743119</td>\n",
       "    </tr>\n",
       "    <tr>\n",
       "      <th>2000-01-10</th>\n",
       "      <td>0.229060</td>\n",
       "      <td>-0.832803</td>\n",
       "      <td>0.345466</td>\n",
       "      <td>-1.456734</td>\n",
       "    </tr>\n",
       "    <tr>\n",
       "      <th>2000-01-11</th>\n",
       "      <td>-1.424452</td>\n",
       "      <td>0.790513</td>\n",
       "      <td>-1.262665</td>\n",
       "      <td>-0.926725</td>\n",
       "    </tr>\n",
       "    <tr>\n",
       "      <th>2000-01-12</th>\n",
       "      <td>0.185777</td>\n",
       "      <td>0.077611</td>\n",
       "      <td>-1.250794</td>\n",
       "      <td>-0.001383</td>\n",
       "    </tr>\n",
       "    <tr>\n",
       "      <th>2000-01-13</th>\n",
       "      <td>-0.887559</td>\n",
       "      <td>-1.130023</td>\n",
       "      <td>1.901536</td>\n",
       "      <td>-0.274861</td>\n",
       "    </tr>\n",
       "    <tr>\n",
       "      <th>2000-01-14</th>\n",
       "      <td>-0.209251</td>\n",
       "      <td>-0.005701</td>\n",
       "      <td>0.018760</td>\n",
       "      <td>0.459787</td>\n",
       "    </tr>\n",
       "    <tr>\n",
       "      <th>2000-01-15</th>\n",
       "      <td>0.328568</td>\n",
       "      <td>-0.069149</td>\n",
       "      <td>2.287601</td>\n",
       "      <td>0.103374</td>\n",
       "    </tr>\n",
       "    <tr>\n",
       "      <th>2000-01-16</th>\n",
       "      <td>0.052770</td>\n",
       "      <td>0.563464</td>\n",
       "      <td>-1.534265</td>\n",
       "      <td>-0.239452</td>\n",
       "    </tr>\n",
       "    <tr>\n",
       "      <th>2000-01-17</th>\n",
       "      <td>-0.885948</td>\n",
       "      <td>-1.145329</td>\n",
       "      <td>-0.506844</td>\n",
       "      <td>-0.516656</td>\n",
       "    </tr>\n",
       "    <tr>\n",
       "      <th>2000-01-18</th>\n",
       "      <td>2.048281</td>\n",
       "      <td>-1.393084</td>\n",
       "      <td>-0.320820</td>\n",
       "      <td>0.726807</td>\n",
       "    </tr>\n",
       "    <tr>\n",
       "      <th>2000-01-19</th>\n",
       "      <td>1.079423</td>\n",
       "      <td>-1.161758</td>\n",
       "      <td>0.129373</td>\n",
       "      <td>-0.778982</td>\n",
       "    </tr>\n",
       "    <tr>\n",
       "      <th>2000-01-20</th>\n",
       "      <td>1.296617</td>\n",
       "      <td>-2.105648</td>\n",
       "      <td>0.740580</td>\n",
       "      <td>1.733066</td>\n",
       "    </tr>\n",
       "    <tr>\n",
       "      <th>2000-01-21</th>\n",
       "      <td>1.331803</td>\n",
       "      <td>-0.958739</td>\n",
       "      <td>0.476409</td>\n",
       "      <td>1.163242</td>\n",
       "    </tr>\n",
       "    <tr>\n",
       "      <th>2000-01-22</th>\n",
       "      <td>-1.467875</td>\n",
       "      <td>-0.998994</td>\n",
       "      <td>0.644546</td>\n",
       "      <td>0.659999</td>\n",
       "    </tr>\n",
       "    <tr>\n",
       "      <th>2000-01-23</th>\n",
       "      <td>1.161268</td>\n",
       "      <td>-0.194748</td>\n",
       "      <td>0.808012</td>\n",
       "      <td>-1.125376</td>\n",
       "    </tr>\n",
       "    <tr>\n",
       "      <th>2000-01-24</th>\n",
       "      <td>0.612169</td>\n",
       "      <td>1.898494</td>\n",
       "      <td>-0.315655</td>\n",
       "      <td>-0.236562</td>\n",
       "    </tr>\n",
       "    <tr>\n",
       "      <th>2000-01-25</th>\n",
       "      <td>1.865928</td>\n",
       "      <td>-0.009315</td>\n",
       "      <td>-0.002055</td>\n",
       "      <td>2.269812</td>\n",
       "    </tr>\n",
       "    <tr>\n",
       "      <th>2000-01-26</th>\n",
       "      <td>0.684581</td>\n",
       "      <td>-0.329787</td>\n",
       "      <td>0.278984</td>\n",
       "      <td>0.332142</td>\n",
       "    </tr>\n",
       "    <tr>\n",
       "      <th>2000-01-27</th>\n",
       "      <td>0.706552</td>\n",
       "      <td>-1.442151</td>\n",
       "      <td>0.958163</td>\n",
       "      <td>-0.495442</td>\n",
       "    </tr>\n",
       "    <tr>\n",
       "      <th>2000-01-28</th>\n",
       "      <td>0.032168</td>\n",
       "      <td>-0.580737</td>\n",
       "      <td>-0.449304</td>\n",
       "      <td>-1.899655</td>\n",
       "    </tr>\n",
       "    <tr>\n",
       "      <th>2000-01-29</th>\n",
       "      <td>-1.037686</td>\n",
       "      <td>1.486072</td>\n",
       "      <td>0.796566</td>\n",
       "      <td>-1.283129</td>\n",
       "    </tr>\n",
       "    <tr>\n",
       "      <th>2000-01-30</th>\n",
       "      <td>0.176205</td>\n",
       "      <td>-1.650629</td>\n",
       "      <td>0.204181</td>\n",
       "      <td>-1.309308</td>\n",
       "    </tr>\n",
       "    <tr>\n",
       "      <th>...</th>\n",
       "      <td>...</td>\n",
       "      <td>...</td>\n",
       "      <td>...</td>\n",
       "      <td>...</td>\n",
       "    </tr>\n",
       "    <tr>\n",
       "      <th>2002-08-28</th>\n",
       "      <td>0.990980</td>\n",
       "      <td>-0.627398</td>\n",
       "      <td>0.519516</td>\n",
       "      <td>-0.989758</td>\n",
       "    </tr>\n",
       "    <tr>\n",
       "      <th>2002-08-29</th>\n",
       "      <td>-0.512901</td>\n",
       "      <td>0.030504</td>\n",
       "      <td>0.057591</td>\n",
       "      <td>-0.208436</td>\n",
       "    </tr>\n",
       "    <tr>\n",
       "      <th>2002-08-30</th>\n",
       "      <td>-0.666137</td>\n",
       "      <td>-0.061513</td>\n",
       "      <td>0.234055</td>\n",
       "      <td>-1.161089</td>\n",
       "    </tr>\n",
       "    <tr>\n",
       "      <th>2002-08-31</th>\n",
       "      <td>0.040480</td>\n",
       "      <td>-0.660462</td>\n",
       "      <td>-0.450114</td>\n",
       "      <td>-0.478479</td>\n",
       "    </tr>\n",
       "    <tr>\n",
       "      <th>2002-09-01</th>\n",
       "      <td>0.889650</td>\n",
       "      <td>-0.329619</td>\n",
       "      <td>-0.264647</td>\n",
       "      <td>1.217408</td>\n",
       "    </tr>\n",
       "    <tr>\n",
       "      <th>2002-09-02</th>\n",
       "      <td>0.687582</td>\n",
       "      <td>1.161586</td>\n",
       "      <td>-0.086241</td>\n",
       "      <td>-1.276564</td>\n",
       "    </tr>\n",
       "    <tr>\n",
       "      <th>2002-09-03</th>\n",
       "      <td>0.151383</td>\n",
       "      <td>0.231179</td>\n",
       "      <td>0.319848</td>\n",
       "      <td>-0.793206</td>\n",
       "    </tr>\n",
       "    <tr>\n",
       "      <th>2002-09-04</th>\n",
       "      <td>0.342932</td>\n",
       "      <td>-1.282498</td>\n",
       "      <td>0.344230</td>\n",
       "      <td>-0.898207</td>\n",
       "    </tr>\n",
       "    <tr>\n",
       "      <th>2002-09-05</th>\n",
       "      <td>-1.820104</td>\n",
       "      <td>-1.945922</td>\n",
       "      <td>0.106061</td>\n",
       "      <td>0.307367</td>\n",
       "    </tr>\n",
       "    <tr>\n",
       "      <th>2002-09-06</th>\n",
       "      <td>-0.245405</td>\n",
       "      <td>1.246225</td>\n",
       "      <td>0.592452</td>\n",
       "      <td>2.508755</td>\n",
       "    </tr>\n",
       "    <tr>\n",
       "      <th>2002-09-07</th>\n",
       "      <td>1.668722</td>\n",
       "      <td>0.554810</td>\n",
       "      <td>0.296855</td>\n",
       "      <td>-0.567704</td>\n",
       "    </tr>\n",
       "    <tr>\n",
       "      <th>2002-09-08</th>\n",
       "      <td>0.167215</td>\n",
       "      <td>0.319414</td>\n",
       "      <td>-0.719504</td>\n",
       "      <td>1.481116</td>\n",
       "    </tr>\n",
       "    <tr>\n",
       "      <th>2002-09-09</th>\n",
       "      <td>0.259104</td>\n",
       "      <td>-0.030432</td>\n",
       "      <td>-2.005312</td>\n",
       "      <td>-1.675154</td>\n",
       "    </tr>\n",
       "    <tr>\n",
       "      <th>2002-09-10</th>\n",
       "      <td>-1.342469</td>\n",
       "      <td>0.127002</td>\n",
       "      <td>-1.731759</td>\n",
       "      <td>-1.925519</td>\n",
       "    </tr>\n",
       "    <tr>\n",
       "      <th>2002-09-11</th>\n",
       "      <td>1.539293</td>\n",
       "      <td>-1.303898</td>\n",
       "      <td>-0.954183</td>\n",
       "      <td>-0.512812</td>\n",
       "    </tr>\n",
       "    <tr>\n",
       "      <th>2002-09-12</th>\n",
       "      <td>-1.255274</td>\n",
       "      <td>0.852878</td>\n",
       "      <td>0.553553</td>\n",
       "      <td>0.993095</td>\n",
       "    </tr>\n",
       "    <tr>\n",
       "      <th>2002-09-13</th>\n",
       "      <td>-0.947983</td>\n",
       "      <td>-1.056450</td>\n",
       "      <td>1.127406</td>\n",
       "      <td>1.539882</td>\n",
       "    </tr>\n",
       "    <tr>\n",
       "      <th>2002-09-14</th>\n",
       "      <td>0.769025</td>\n",
       "      <td>1.143302</td>\n",
       "      <td>0.753237</td>\n",
       "      <td>0.041643</td>\n",
       "    </tr>\n",
       "    <tr>\n",
       "      <th>2002-09-15</th>\n",
       "      <td>-0.972125</td>\n",
       "      <td>0.314259</td>\n",
       "      <td>1.034251</td>\n",
       "      <td>1.606449</td>\n",
       "    </tr>\n",
       "    <tr>\n",
       "      <th>2002-09-16</th>\n",
       "      <td>0.037514</td>\n",
       "      <td>-2.020248</td>\n",
       "      <td>-2.205305</td>\n",
       "      <td>-2.171539</td>\n",
       "    </tr>\n",
       "    <tr>\n",
       "      <th>2002-09-17</th>\n",
       "      <td>-0.062530</td>\n",
       "      <td>-0.501610</td>\n",
       "      <td>1.244466</td>\n",
       "      <td>0.838280</td>\n",
       "    </tr>\n",
       "    <tr>\n",
       "      <th>2002-09-18</th>\n",
       "      <td>-1.133237</td>\n",
       "      <td>-0.051380</td>\n",
       "      <td>-0.210025</td>\n",
       "      <td>-0.768891</td>\n",
       "    </tr>\n",
       "    <tr>\n",
       "      <th>2002-09-19</th>\n",
       "      <td>1.023736</td>\n",
       "      <td>-0.197054</td>\n",
       "      <td>1.321817</td>\n",
       "      <td>-0.438559</td>\n",
       "    </tr>\n",
       "    <tr>\n",
       "      <th>2002-09-20</th>\n",
       "      <td>1.059556</td>\n",
       "      <td>-0.492461</td>\n",
       "      <td>-0.275736</td>\n",
       "      <td>1.547796</td>\n",
       "    </tr>\n",
       "    <tr>\n",
       "      <th>2002-09-21</th>\n",
       "      <td>0.257292</td>\n",
       "      <td>1.787179</td>\n",
       "      <td>-0.515774</td>\n",
       "      <td>0.982772</td>\n",
       "    </tr>\n",
       "    <tr>\n",
       "      <th>2002-09-22</th>\n",
       "      <td>0.042970</td>\n",
       "      <td>-0.226709</td>\n",
       "      <td>0.407173</td>\n",
       "      <td>-0.046926</td>\n",
       "    </tr>\n",
       "    <tr>\n",
       "      <th>2002-09-23</th>\n",
       "      <td>-0.776051</td>\n",
       "      <td>-1.459189</td>\n",
       "      <td>0.749696</td>\n",
       "      <td>-0.520684</td>\n",
       "    </tr>\n",
       "    <tr>\n",
       "      <th>2002-09-24</th>\n",
       "      <td>0.074153</td>\n",
       "      <td>0.058783</td>\n",
       "      <td>-2.381357</td>\n",
       "      <td>2.890678</td>\n",
       "    </tr>\n",
       "    <tr>\n",
       "      <th>2002-09-25</th>\n",
       "      <td>-0.355789</td>\n",
       "      <td>-0.473668</td>\n",
       "      <td>1.421142</td>\n",
       "      <td>-2.381233</td>\n",
       "    </tr>\n",
       "    <tr>\n",
       "      <th>2002-09-26</th>\n",
       "      <td>0.418054</td>\n",
       "      <td>0.405858</td>\n",
       "      <td>0.391136</td>\n",
       "      <td>0.112583</td>\n",
       "    </tr>\n",
       "  </tbody>\n",
       "</table>\n",
       "<p>1000 rows × 4 columns</p>\n",
       "</div>"
      ],
      "text/plain": [
       "                   A         B         C         D\n",
       "2000-01-01  0.320065 -1.220908  1.703536 -0.847417\n",
       "2000-01-02 -2.135848 -0.472654 -1.414617 -0.923105\n",
       "2000-01-03  0.494490  1.397360  1.267843 -0.803603\n",
       "2000-01-04  0.867636  1.135050  0.328071  1.426203\n",
       "2000-01-05 -0.402456  1.169363  0.295348 -0.249618\n",
       "2000-01-06  1.232167 -0.578838 -0.172046 -0.151564\n",
       "2000-01-07 -0.240426 -0.439760  1.454460 -1.267622\n",
       "2000-01-08 -0.035627  0.539455  1.463846  1.987646\n",
       "2000-01-09  0.039600  0.844158 -1.380451 -0.743119\n",
       "2000-01-10  0.229060 -0.832803  0.345466 -1.456734\n",
       "2000-01-11 -1.424452  0.790513 -1.262665 -0.926725\n",
       "2000-01-12  0.185777  0.077611 -1.250794 -0.001383\n",
       "2000-01-13 -0.887559 -1.130023  1.901536 -0.274861\n",
       "2000-01-14 -0.209251 -0.005701  0.018760  0.459787\n",
       "2000-01-15  0.328568 -0.069149  2.287601  0.103374\n",
       "2000-01-16  0.052770  0.563464 -1.534265 -0.239452\n",
       "2000-01-17 -0.885948 -1.145329 -0.506844 -0.516656\n",
       "2000-01-18  2.048281 -1.393084 -0.320820  0.726807\n",
       "2000-01-19  1.079423 -1.161758  0.129373 -0.778982\n",
       "2000-01-20  1.296617 -2.105648  0.740580  1.733066\n",
       "2000-01-21  1.331803 -0.958739  0.476409  1.163242\n",
       "2000-01-22 -1.467875 -0.998994  0.644546  0.659999\n",
       "2000-01-23  1.161268 -0.194748  0.808012 -1.125376\n",
       "2000-01-24  0.612169  1.898494 -0.315655 -0.236562\n",
       "2000-01-25  1.865928 -0.009315 -0.002055  2.269812\n",
       "2000-01-26  0.684581 -0.329787  0.278984  0.332142\n",
       "2000-01-27  0.706552 -1.442151  0.958163 -0.495442\n",
       "2000-01-28  0.032168 -0.580737 -0.449304 -1.899655\n",
       "2000-01-29 -1.037686  1.486072  0.796566 -1.283129\n",
       "2000-01-30  0.176205 -1.650629  0.204181 -1.309308\n",
       "...              ...       ...       ...       ...\n",
       "2002-08-28  0.990980 -0.627398  0.519516 -0.989758\n",
       "2002-08-29 -0.512901  0.030504  0.057591 -0.208436\n",
       "2002-08-30 -0.666137 -0.061513  0.234055 -1.161089\n",
       "2002-08-31  0.040480 -0.660462 -0.450114 -0.478479\n",
       "2002-09-01  0.889650 -0.329619 -0.264647  1.217408\n",
       "2002-09-02  0.687582  1.161586 -0.086241 -1.276564\n",
       "2002-09-03  0.151383  0.231179  0.319848 -0.793206\n",
       "2002-09-04  0.342932 -1.282498  0.344230 -0.898207\n",
       "2002-09-05 -1.820104 -1.945922  0.106061  0.307367\n",
       "2002-09-06 -0.245405  1.246225  0.592452  2.508755\n",
       "2002-09-07  1.668722  0.554810  0.296855 -0.567704\n",
       "2002-09-08  0.167215  0.319414 -0.719504  1.481116\n",
       "2002-09-09  0.259104 -0.030432 -2.005312 -1.675154\n",
       "2002-09-10 -1.342469  0.127002 -1.731759 -1.925519\n",
       "2002-09-11  1.539293 -1.303898 -0.954183 -0.512812\n",
       "2002-09-12 -1.255274  0.852878  0.553553  0.993095\n",
       "2002-09-13 -0.947983 -1.056450  1.127406  1.539882\n",
       "2002-09-14  0.769025  1.143302  0.753237  0.041643\n",
       "2002-09-15 -0.972125  0.314259  1.034251  1.606449\n",
       "2002-09-16  0.037514 -2.020248 -2.205305 -2.171539\n",
       "2002-09-17 -0.062530 -0.501610  1.244466  0.838280\n",
       "2002-09-18 -1.133237 -0.051380 -0.210025 -0.768891\n",
       "2002-09-19  1.023736 -0.197054  1.321817 -0.438559\n",
       "2002-09-20  1.059556 -0.492461 -0.275736  1.547796\n",
       "2002-09-21  0.257292  1.787179 -0.515774  0.982772\n",
       "2002-09-22  0.042970 -0.226709  0.407173 -0.046926\n",
       "2002-09-23 -0.776051 -1.459189  0.749696 -0.520684\n",
       "2002-09-24  0.074153  0.058783 -2.381357  2.890678\n",
       "2002-09-25 -0.355789 -0.473668  1.421142 -2.381233\n",
       "2002-09-26  0.418054  0.405858  0.391136  0.112583\n",
       "\n",
       "[1000 rows x 4 columns]"
      ]
     },
     "execution_count": 228,
     "metadata": {},
     "output_type": "execute_result"
    }
   ],
   "source": [
    "df"
   ]
  },
  {
   "cell_type": "code",
   "execution_count": 226,
   "metadata": {
    "collapsed": false
   },
   "outputs": [
    {
     "data": {
      "text/plain": [
       "<matplotlib.legend.Legend at 0x7fbda3cb4a20>"
      ]
     },
     "execution_count": 226,
     "metadata": {},
     "output_type": "execute_result"
    },
    {
     "data": {
      "image/png": "[encoded data removed]",
      "text/plain": [
       "<matplotlib.figure.Figure at 0x7fbda3cb4ba8>"
      ]
     },
     "metadata": {},
     "output_type": "display_data"
    }
   ],
   "source": [
    "plt.figure;df.plot();plt.legend(loc='best')"
   ]
  },
  {
   "cell_type": "markdown",
   "metadata": {},
   "source": [
    "# 导入和保存数据"
   ]
  },
  {
   "cell_type": "markdown",
   "metadata": {},
   "source": [
    "### CSV，参考：[Writing to a csv file](http://pandas.pydata.org/pandas-docs/stable/io.html#io-store-in-csv)"
   ]
  },
  {
   "cell_type": "markdown",
   "metadata": {},
   "source": [
    "1.写入csv文件"
   ]
  },
  {
   "cell_type": "code",
   "execution_count": 231,
   "metadata": {
    "collapsed": true
   },
   "outputs": [],
   "source": [
    "df.to_csv('foo.csv')"
   ]
  },
  {
   "cell_type": "markdown",
   "metadata": {},
   "source": [
    "2.从csv文件中读取："
   ]
  },
  {
   "cell_type": "code",
   "execution_count": 232,
   "metadata": {
    "collapsed": false
   },
   "outputs": [
    {
     "data": {
      "text/html": [
       "<div>\n",
       "<table border=\"1\" class=\"dataframe\">\n",
       "  <thead>\n",
       "    <tr style=\"text-align: right;\">\n",
       "      <th></th>\n",
       "      <th>Unnamed: 0</th>\n",
       "      <th>A</th>\n",
       "      <th>B</th>\n",
       "      <th>C</th>\n",
       "      <th>D</th>\n",
       "    </tr>\n",
       "  </thead>\n",
       "  <tbody>\n",
       "    <tr>\n",
       "      <th>0</th>\n",
       "      <td>2000-01-01</td>\n",
       "      <td>0.320065</td>\n",
       "      <td>-1.220908</td>\n",
       "      <td>1.703536</td>\n",
       "      <td>-0.847417</td>\n",
       "    </tr>\n",
       "    <tr>\n",
       "      <th>1</th>\n",
       "      <td>2000-01-02</td>\n",
       "      <td>-1.815782</td>\n",
       "      <td>-1.693562</td>\n",
       "      <td>0.288919</td>\n",
       "      <td>-1.770523</td>\n",
       "    </tr>\n",
       "    <tr>\n",
       "      <th>2</th>\n",
       "      <td>2000-01-03</td>\n",
       "      <td>-1.321292</td>\n",
       "      <td>-0.296201</td>\n",
       "      <td>1.556762</td>\n",
       "      <td>-2.574125</td>\n",
       "    </tr>\n",
       "    <tr>\n",
       "      <th>3</th>\n",
       "      <td>2000-01-04</td>\n",
       "      <td>-0.453656</td>\n",
       "      <td>0.838849</td>\n",
       "      <td>1.884833</td>\n",
       "      <td>-1.147923</td>\n",
       "    </tr>\n",
       "    <tr>\n",
       "      <th>4</th>\n",
       "      <td>2000-01-05</td>\n",
       "      <td>-0.856112</td>\n",
       "      <td>2.008211</td>\n",
       "      <td>2.180181</td>\n",
       "      <td>-1.397540</td>\n",
       "    </tr>\n",
       "    <tr>\n",
       "      <th>5</th>\n",
       "      <td>2000-01-06</td>\n",
       "      <td>0.376055</td>\n",
       "      <td>1.429373</td>\n",
       "      <td>2.008135</td>\n",
       "      <td>-1.549104</td>\n",
       "    </tr>\n",
       "    <tr>\n",
       "      <th>6</th>\n",
       "      <td>2000-01-07</td>\n",
       "      <td>0.135630</td>\n",
       "      <td>0.989613</td>\n",
       "      <td>3.462595</td>\n",
       "      <td>-2.816725</td>\n",
       "    </tr>\n",
       "    <tr>\n",
       "      <th>7</th>\n",
       "      <td>2000-01-08</td>\n",
       "      <td>0.100002</td>\n",
       "      <td>1.529067</td>\n",
       "      <td>4.926440</td>\n",
       "      <td>-0.829079</td>\n",
       "    </tr>\n",
       "    <tr>\n",
       "      <th>8</th>\n",
       "      <td>2000-01-09</td>\n",
       "      <td>0.139603</td>\n",
       "      <td>2.373226</td>\n",
       "      <td>3.545990</td>\n",
       "      <td>-1.572198</td>\n",
       "    </tr>\n",
       "    <tr>\n",
       "      <th>9</th>\n",
       "      <td>2000-01-10</td>\n",
       "      <td>0.368663</td>\n",
       "      <td>1.540423</td>\n",
       "      <td>3.891455</td>\n",
       "      <td>-3.028932</td>\n",
       "    </tr>\n",
       "    <tr>\n",
       "      <th>10</th>\n",
       "      <td>2000-01-11</td>\n",
       "      <td>-1.055789</td>\n",
       "      <td>2.330936</td>\n",
       "      <td>2.628791</td>\n",
       "      <td>-3.955657</td>\n",
       "    </tr>\n",
       "    <tr>\n",
       "      <th>11</th>\n",
       "      <td>2000-01-12</td>\n",
       "      <td>-0.870012</td>\n",
       "      <td>2.408547</td>\n",
       "      <td>1.377997</td>\n",
       "      <td>-3.957040</td>\n",
       "    </tr>\n",
       "    <tr>\n",
       "      <th>12</th>\n",
       "      <td>2000-01-13</td>\n",
       "      <td>-1.757571</td>\n",
       "      <td>1.278523</td>\n",
       "      <td>3.279533</td>\n",
       "      <td>-4.231901</td>\n",
       "    </tr>\n",
       "    <tr>\n",
       "      <th>13</th>\n",
       "      <td>2000-01-14</td>\n",
       "      <td>-1.966822</td>\n",
       "      <td>1.272823</td>\n",
       "      <td>3.298293</td>\n",
       "      <td>-3.772114</td>\n",
       "    </tr>\n",
       "    <tr>\n",
       "      <th>14</th>\n",
       "      <td>2000-01-15</td>\n",
       "      <td>-1.638254</td>\n",
       "      <td>1.203673</td>\n",
       "      <td>5.585894</td>\n",
       "      <td>-3.668741</td>\n",
       "    </tr>\n",
       "    <tr>\n",
       "      <th>15</th>\n",
       "      <td>2000-01-16</td>\n",
       "      <td>-1.585484</td>\n",
       "      <td>1.767137</td>\n",
       "      <td>4.051630</td>\n",
       "      <td>-3.908193</td>\n",
       "    </tr>\n",
       "    <tr>\n",
       "      <th>16</th>\n",
       "      <td>2000-01-17</td>\n",
       "      <td>-2.471432</td>\n",
       "      <td>0.621808</td>\n",
       "      <td>3.544786</td>\n",
       "      <td>-4.424849</td>\n",
       "    </tr>\n",
       "    <tr>\n",
       "      <th>17</th>\n",
       "      <td>2000-01-18</td>\n",
       "      <td>-0.423151</td>\n",
       "      <td>-0.771276</td>\n",
       "      <td>3.223965</td>\n",
       "      <td>-3.698043</td>\n",
       "    </tr>\n",
       "    <tr>\n",
       "      <th>18</th>\n",
       "      <td>2000-01-19</td>\n",
       "      <td>0.656272</td>\n",
       "      <td>-1.933033</td>\n",
       "      <td>3.353338</td>\n",
       "      <td>-4.477024</td>\n",
       "    </tr>\n",
       "    <tr>\n",
       "      <th>19</th>\n",
       "      <td>2000-01-20</td>\n",
       "      <td>1.952890</td>\n",
       "      <td>-4.038682</td>\n",
       "      <td>4.093918</td>\n",
       "      <td>-2.743959</td>\n",
       "    </tr>\n",
       "    <tr>\n",
       "      <th>20</th>\n",
       "      <td>2000-01-21</td>\n",
       "      <td>3.284692</td>\n",
       "      <td>-4.997421</td>\n",
       "      <td>4.570327</td>\n",
       "      <td>-1.580717</td>\n",
       "    </tr>\n",
       "    <tr>\n",
       "      <th>21</th>\n",
       "      <td>2000-01-22</td>\n",
       "      <td>1.816817</td>\n",
       "      <td>-5.996415</td>\n",
       "      <td>5.214873</td>\n",
       "      <td>-0.920718</td>\n",
       "    </tr>\n",
       "    <tr>\n",
       "      <th>22</th>\n",
       "      <td>2000-01-23</td>\n",
       "      <td>2.978085</td>\n",
       "      <td>-6.191162</td>\n",
       "      <td>6.022885</td>\n",
       "      <td>-2.046093</td>\n",
       "    </tr>\n",
       "    <tr>\n",
       "      <th>23</th>\n",
       "      <td>2000-01-24</td>\n",
       "      <td>3.590255</td>\n",
       "      <td>-4.292668</td>\n",
       "      <td>5.707229</td>\n",
       "      <td>-2.282655</td>\n",
       "    </tr>\n",
       "    <tr>\n",
       "      <th>24</th>\n",
       "      <td>2000-01-25</td>\n",
       "      <td>5.456183</td>\n",
       "      <td>-4.301982</td>\n",
       "      <td>5.705175</td>\n",
       "      <td>-0.012843</td>\n",
       "    </tr>\n",
       "    <tr>\n",
       "      <th>25</th>\n",
       "      <td>2000-01-26</td>\n",
       "      <td>6.140764</td>\n",
       "      <td>-4.631770</td>\n",
       "      <td>5.984159</td>\n",
       "      <td>0.319299</td>\n",
       "    </tr>\n",
       "    <tr>\n",
       "      <th>26</th>\n",
       "      <td>2000-01-27</td>\n",
       "      <td>6.847315</td>\n",
       "      <td>-6.073921</td>\n",
       "      <td>6.942322</td>\n",
       "      <td>-0.176143</td>\n",
       "    </tr>\n",
       "    <tr>\n",
       "      <th>27</th>\n",
       "      <td>2000-01-28</td>\n",
       "      <td>6.879484</td>\n",
       "      <td>-6.654658</td>\n",
       "      <td>6.493018</td>\n",
       "      <td>-2.075798</td>\n",
       "    </tr>\n",
       "    <tr>\n",
       "      <th>28</th>\n",
       "      <td>2000-01-29</td>\n",
       "      <td>5.841798</td>\n",
       "      <td>-5.168586</td>\n",
       "      <td>7.289584</td>\n",
       "      <td>-3.358927</td>\n",
       "    </tr>\n",
       "    <tr>\n",
       "      <th>29</th>\n",
       "      <td>2000-01-30</td>\n",
       "      <td>6.018003</td>\n",
       "      <td>-6.819215</td>\n",
       "      <td>7.493766</td>\n",
       "      <td>-4.668235</td>\n",
       "    </tr>\n",
       "    <tr>\n",
       "      <th>...</th>\n",
       "      <td>...</td>\n",
       "      <td>...</td>\n",
       "      <td>...</td>\n",
       "      <td>...</td>\n",
       "      <td>...</td>\n",
       "    </tr>\n",
       "    <tr>\n",
       "      <th>970</th>\n",
       "      <td>2002-08-28</td>\n",
       "      <td>23.269451</td>\n",
       "      <td>20.360652</td>\n",
       "      <td>17.390068</td>\n",
       "      <td>-10.763370</td>\n",
       "    </tr>\n",
       "    <tr>\n",
       "      <th>971</th>\n",
       "      <td>2002-08-29</td>\n",
       "      <td>22.756550</td>\n",
       "      <td>20.391156</td>\n",
       "      <td>17.447659</td>\n",
       "      <td>-10.971806</td>\n",
       "    </tr>\n",
       "    <tr>\n",
       "      <th>972</th>\n",
       "      <td>2002-08-30</td>\n",
       "      <td>22.090413</td>\n",
       "      <td>20.329644</td>\n",
       "      <td>17.681714</td>\n",
       "      <td>-12.132895</td>\n",
       "    </tr>\n",
       "    <tr>\n",
       "      <th>973</th>\n",
       "      <td>2002-08-31</td>\n",
       "      <td>22.130892</td>\n",
       "      <td>19.669182</td>\n",
       "      <td>17.231601</td>\n",
       "      <td>-12.611374</td>\n",
       "    </tr>\n",
       "    <tr>\n",
       "      <th>974</th>\n",
       "      <td>2002-09-01</td>\n",
       "      <td>23.020543</td>\n",
       "      <td>19.339563</td>\n",
       "      <td>16.966953</td>\n",
       "      <td>-11.393966</td>\n",
       "    </tr>\n",
       "    <tr>\n",
       "      <th>975</th>\n",
       "      <td>2002-09-02</td>\n",
       "      <td>23.708125</td>\n",
       "      <td>20.501148</td>\n",
       "      <td>16.880712</td>\n",
       "      <td>-12.670529</td>\n",
       "    </tr>\n",
       "    <tr>\n",
       "      <th>976</th>\n",
       "      <td>2002-09-03</td>\n",
       "      <td>23.859508</td>\n",
       "      <td>20.732327</td>\n",
       "      <td>17.200560</td>\n",
       "      <td>-13.463736</td>\n",
       "    </tr>\n",
       "    <tr>\n",
       "      <th>977</th>\n",
       "      <td>2002-09-04</td>\n",
       "      <td>24.202440</td>\n",
       "      <td>19.449829</td>\n",
       "      <td>17.544789</td>\n",
       "      <td>-14.361943</td>\n",
       "    </tr>\n",
       "    <tr>\n",
       "      <th>978</th>\n",
       "      <td>2002-09-05</td>\n",
       "      <td>22.382335</td>\n",
       "      <td>17.503907</td>\n",
       "      <td>17.650851</td>\n",
       "      <td>-14.054575</td>\n",
       "    </tr>\n",
       "    <tr>\n",
       "      <th>979</th>\n",
       "      <td>2002-09-06</td>\n",
       "      <td>22.136930</td>\n",
       "      <td>18.750132</td>\n",
       "      <td>18.243303</td>\n",
       "      <td>-11.545821</td>\n",
       "    </tr>\n",
       "    <tr>\n",
       "      <th>980</th>\n",
       "      <td>2002-09-07</td>\n",
       "      <td>23.805652</td>\n",
       "      <td>19.304941</td>\n",
       "      <td>18.540158</td>\n",
       "      <td>-12.113525</td>\n",
       "    </tr>\n",
       "    <tr>\n",
       "      <th>981</th>\n",
       "      <td>2002-09-08</td>\n",
       "      <td>23.972866</td>\n",
       "      <td>19.624356</td>\n",
       "      <td>17.820654</td>\n",
       "      <td>-10.632409</td>\n",
       "    </tr>\n",
       "    <tr>\n",
       "      <th>982</th>\n",
       "      <td>2002-09-09</td>\n",
       "      <td>24.231971</td>\n",
       "      <td>19.593923</td>\n",
       "      <td>15.815342</td>\n",
       "      <td>-12.307563</td>\n",
       "    </tr>\n",
       "    <tr>\n",
       "      <th>983</th>\n",
       "      <td>2002-09-10</td>\n",
       "      <td>22.889502</td>\n",
       "      <td>19.720925</td>\n",
       "      <td>14.083583</td>\n",
       "      <td>-14.233082</td>\n",
       "    </tr>\n",
       "    <tr>\n",
       "      <th>984</th>\n",
       "      <td>2002-09-11</td>\n",
       "      <td>24.428795</td>\n",
       "      <td>18.417028</td>\n",
       "      <td>13.129400</td>\n",
       "      <td>-14.745894</td>\n",
       "    </tr>\n",
       "    <tr>\n",
       "      <th>985</th>\n",
       "      <td>2002-09-12</td>\n",
       "      <td>23.173521</td>\n",
       "      <td>19.269906</td>\n",
       "      <td>13.682953</td>\n",
       "      <td>-13.752799</td>\n",
       "    </tr>\n",
       "    <tr>\n",
       "      <th>986</th>\n",
       "      <td>2002-09-13</td>\n",
       "      <td>22.225538</td>\n",
       "      <td>18.213457</td>\n",
       "      <td>14.810360</td>\n",
       "      <td>-12.212917</td>\n",
       "    </tr>\n",
       "    <tr>\n",
       "      <th>987</th>\n",
       "      <td>2002-09-14</td>\n",
       "      <td>22.994563</td>\n",
       "      <td>19.356759</td>\n",
       "      <td>15.563597</td>\n",
       "      <td>-12.171274</td>\n",
       "    </tr>\n",
       "    <tr>\n",
       "      <th>988</th>\n",
       "      <td>2002-09-15</td>\n",
       "      <td>22.022438</td>\n",
       "      <td>19.671018</td>\n",
       "      <td>16.597847</td>\n",
       "      <td>-10.564825</td>\n",
       "    </tr>\n",
       "    <tr>\n",
       "      <th>989</th>\n",
       "      <td>2002-09-16</td>\n",
       "      <td>22.059952</td>\n",
       "      <td>17.650770</td>\n",
       "      <td>14.392542</td>\n",
       "      <td>-12.736364</td>\n",
       "    </tr>\n",
       "    <tr>\n",
       "      <th>990</th>\n",
       "      <td>2002-09-17</td>\n",
       "      <td>21.997423</td>\n",
       "      <td>17.149160</td>\n",
       "      <td>15.637008</td>\n",
       "      <td>-11.898084</td>\n",
       "    </tr>\n",
       "    <tr>\n",
       "      <th>991</th>\n",
       "      <td>2002-09-18</td>\n",
       "      <td>20.864186</td>\n",
       "      <td>17.097780</td>\n",
       "      <td>15.426983</td>\n",
       "      <td>-12.666974</td>\n",
       "    </tr>\n",
       "    <tr>\n",
       "      <th>992</th>\n",
       "      <td>2002-09-19</td>\n",
       "      <td>21.887922</td>\n",
       "      <td>16.900726</td>\n",
       "      <td>16.748800</td>\n",
       "      <td>-13.105534</td>\n",
       "    </tr>\n",
       "    <tr>\n",
       "      <th>993</th>\n",
       "      <td>2002-09-20</td>\n",
       "      <td>22.947478</td>\n",
       "      <td>16.408265</td>\n",
       "      <td>16.473064</td>\n",
       "      <td>-11.557737</td>\n",
       "    </tr>\n",
       "    <tr>\n",
       "      <th>994</th>\n",
       "      <td>2002-09-21</td>\n",
       "      <td>23.204770</td>\n",
       "      <td>18.195445</td>\n",
       "      <td>15.957290</td>\n",
       "      <td>-10.574965</td>\n",
       "    </tr>\n",
       "    <tr>\n",
       "      <th>995</th>\n",
       "      <td>2002-09-22</td>\n",
       "      <td>23.247740</td>\n",
       "      <td>17.968735</td>\n",
       "      <td>16.364464</td>\n",
       "      <td>-10.621891</td>\n",
       "    </tr>\n",
       "    <tr>\n",
       "      <th>996</th>\n",
       "      <td>2002-09-23</td>\n",
       "      <td>22.471688</td>\n",
       "      <td>16.509547</td>\n",
       "      <td>17.114160</td>\n",
       "      <td>-11.142575</td>\n",
       "    </tr>\n",
       "    <tr>\n",
       "      <th>997</th>\n",
       "      <td>2002-09-24</td>\n",
       "      <td>22.545841</td>\n",
       "      <td>16.568330</td>\n",
       "      <td>14.732803</td>\n",
       "      <td>-8.251897</td>\n",
       "    </tr>\n",
       "    <tr>\n",
       "      <th>998</th>\n",
       "      <td>2002-09-25</td>\n",
       "      <td>22.190053</td>\n",
       "      <td>16.094661</td>\n",
       "      <td>16.153945</td>\n",
       "      <td>-10.633130</td>\n",
       "    </tr>\n",
       "    <tr>\n",
       "      <th>999</th>\n",
       "      <td>2002-09-26</td>\n",
       "      <td>22.608107</td>\n",
       "      <td>16.500519</td>\n",
       "      <td>16.545081</td>\n",
       "      <td>-10.520547</td>\n",
       "    </tr>\n",
       "  </tbody>\n",
       "</table>\n",
       "<p>1000 rows × 5 columns</p>\n",
       "</div>"
      ],
      "text/plain": [
       "     Unnamed: 0          A          B          C          D\n",
       "0    2000-01-01   0.320065  -1.220908   1.703536  -0.847417\n",
       "1    2000-01-02  -1.815782  -1.693562   0.288919  -1.770523\n",
       "2    2000-01-03  -1.321292  -0.296201   1.556762  -2.574125\n",
       "3    2000-01-04  -0.453656   0.838849   1.884833  -1.147923\n",
       "4    2000-01-05  -0.856112   2.008211   2.180181  -1.397540\n",
       "5    2000-01-06   0.376055   1.429373   2.008135  -1.549104\n",
       "6    2000-01-07   0.135630   0.989613   3.462595  -2.816725\n",
       "7    2000-01-08   0.100002   1.529067   4.926440  -0.829079\n",
       "8    2000-01-09   0.139603   2.373226   3.545990  -1.572198\n",
       "9    2000-01-10   0.368663   1.540423   3.891455  -3.028932\n",
       "10   2000-01-11  -1.055789   2.330936   2.628791  -3.955657\n",
       "11   2000-01-12  -0.870012   2.408547   1.377997  -3.957040\n",
       "12   2000-01-13  -1.757571   1.278523   3.279533  -4.231901\n",
       "13   2000-01-14  -1.966822   1.272823   3.298293  -3.772114\n",
       "14   2000-01-15  -1.638254   1.203673   5.585894  -3.668741\n",
       "15   2000-01-16  -1.585484   1.767137   4.051630  -3.908193\n",
       "16   2000-01-17  -2.471432   0.621808   3.544786  -4.424849\n",
       "17   2000-01-18  -0.423151  -0.771276   3.223965  -3.698043\n",
       "18   2000-01-19   0.656272  -1.933033   3.353338  -4.477024\n",
       "19   2000-01-20   1.952890  -4.038682   4.093918  -2.743959\n",
       "20   2000-01-21   3.284692  -4.997421   4.570327  -1.580717\n",
       "21   2000-01-22   1.816817  -5.996415   5.214873  -0.920718\n",
       "22   2000-01-23   2.978085  -6.191162   6.022885  -2.046093\n",
       "23   2000-01-24   3.590255  -4.292668   5.707229  -2.282655\n",
       "24   2000-01-25   5.456183  -4.301982   5.705175  -0.012843\n",
       "25   2000-01-26   6.140764  -4.631770   5.984159   0.319299\n",
       "26   2000-01-27   6.847315  -6.073921   6.942322  -0.176143\n",
       "27   2000-01-28   6.879484  -6.654658   6.493018  -2.075798\n",
       "28   2000-01-29   5.841798  -5.168586   7.289584  -3.358927\n",
       "29   2000-01-30   6.018003  -6.819215   7.493766  -4.668235\n",
       "..          ...        ...        ...        ...        ...\n",
       "970  2002-08-28  23.269451  20.360652  17.390068 -10.763370\n",
       "971  2002-08-29  22.756550  20.391156  17.447659 -10.971806\n",
       "972  2002-08-30  22.090413  20.329644  17.681714 -12.132895\n",
       "973  2002-08-31  22.130892  19.669182  17.231601 -12.611374\n",
       "974  2002-09-01  23.020543  19.339563  16.966953 -11.393966\n",
       "975  2002-09-02  23.708125  20.501148  16.880712 -12.670529\n",
       "976  2002-09-03  23.859508  20.732327  17.200560 -13.463736\n",
       "977  2002-09-04  24.202440  19.449829  17.544789 -14.361943\n",
       "978  2002-09-05  22.382335  17.503907  17.650851 -14.054575\n",
       "979  2002-09-06  22.136930  18.750132  18.243303 -11.545821\n",
       "980  2002-09-07  23.805652  19.304941  18.540158 -12.113525\n",
       "981  2002-09-08  23.972866  19.624356  17.820654 -10.632409\n",
       "982  2002-09-09  24.231971  19.593923  15.815342 -12.307563\n",
       "983  2002-09-10  22.889502  19.720925  14.083583 -14.233082\n",
       "984  2002-09-11  24.428795  18.417028  13.129400 -14.745894\n",
       "985  2002-09-12  23.173521  19.269906  13.682953 -13.752799\n",
       "986  2002-09-13  22.225538  18.213457  14.810360 -12.212917\n",
       "987  2002-09-14  22.994563  19.356759  15.563597 -12.171274\n",
       "988  2002-09-15  22.022438  19.671018  16.597847 -10.564825\n",
       "989  2002-09-16  22.059952  17.650770  14.392542 -12.736364\n",
       "990  2002-09-17  21.997423  17.149160  15.637008 -11.898084\n",
       "991  2002-09-18  20.864186  17.097780  15.426983 -12.666974\n",
       "992  2002-09-19  21.887922  16.900726  16.748800 -13.105534\n",
       "993  2002-09-20  22.947478  16.408265  16.473064 -11.557737\n",
       "994  2002-09-21  23.204770  18.195445  15.957290 -10.574965\n",
       "995  2002-09-22  23.247740  17.968735  16.364464 -10.621891\n",
       "996  2002-09-23  22.471688  16.509547  17.114160 -11.142575\n",
       "997  2002-09-24  22.545841  16.568330  14.732803  -8.251897\n",
       "998  2002-09-25  22.190053  16.094661  16.153945 -10.633130\n",
       "999  2002-09-26  22.608107  16.500519  16.545081 -10.520547\n",
       "\n",
       "[1000 rows x 5 columns]"
      ]
     },
     "execution_count": 232,
     "metadata": {},
     "output_type": "execute_result"
    }
   ],
   "source": [
    "pd.read_csv('foo.csv')"
   ]
  },
  {
   "cell_type": "markdown",
   "metadata": {},
   "source": [
    "### HDF5，参考：[HDFStores](http://pandas.pydata.org/pandas-docs/stable/io.html#io-hdf5)"
   ]
  },
  {
   "cell_type": "markdown",
   "metadata": {},
   "source": [
    "1.写入HDF5存储"
   ]
  },
  {
   "cell_type": "code",
   "execution_count": 233,
   "metadata": {
    "collapsed": true
   },
   "outputs": [],
   "source": [
    "df.to_hdf('foo.h5', 'df')"
   ]
  },
  {
   "cell_type": "markdown",
   "metadata": {},
   "source": [
    "2.从HDF5存储中读取："
   ]
  },
  {
   "cell_type": "code",
   "execution_count": 235,
   "metadata": {
    "collapsed": false
   },
   "outputs": [
    {
     "data": {
      "text/html": [
       "<div>\n",
       "<table border=\"1\" class=\"dataframe\">\n",
       "  <thead>\n",
       "    <tr style=\"text-align: right;\">\n",
       "      <th></th>\n",
       "      <th>A</th>\n",
       "      <th>B</th>\n",
       "      <th>C</th>\n",
       "      <th>D</th>\n",
       "    </tr>\n",
       "  </thead>\n",
       "  <tbody>\n",
       "    <tr>\n",
       "      <th>2000-01-01</th>\n",
       "      <td>0.320065</td>\n",
       "      <td>-1.220908</td>\n",
       "      <td>1.703536</td>\n",
       "      <td>-0.847417</td>\n",
       "    </tr>\n",
       "    <tr>\n",
       "      <th>2000-01-02</th>\n",
       "      <td>-1.815782</td>\n",
       "      <td>-1.693562</td>\n",
       "      <td>0.288919</td>\n",
       "      <td>-1.770523</td>\n",
       "    </tr>\n",
       "    <tr>\n",
       "      <th>2000-01-03</th>\n",
       "      <td>-1.321292</td>\n",
       "      <td>-0.296201</td>\n",
       "      <td>1.556762</td>\n",
       "      <td>-2.574125</td>\n",
       "    </tr>\n",
       "    <tr>\n",
       "      <th>2000-01-04</th>\n",
       "      <td>-0.453656</td>\n",
       "      <td>0.838849</td>\n",
       "      <td>1.884833</td>\n",
       "      <td>-1.147923</td>\n",
       "    </tr>\n",
       "    <tr>\n",
       "      <th>2000-01-05</th>\n",
       "      <td>-0.856112</td>\n",
       "      <td>2.008211</td>\n",
       "      <td>2.180181</td>\n",
       "      <td>-1.397540</td>\n",
       "    </tr>\n",
       "    <tr>\n",
       "      <th>2000-01-06</th>\n",
       "      <td>0.376055</td>\n",
       "      <td>1.429373</td>\n",
       "      <td>2.008135</td>\n",
       "      <td>-1.549104</td>\n",
       "    </tr>\n",
       "    <tr>\n",
       "      <th>2000-01-07</th>\n",
       "      <td>0.135630</td>\n",
       "      <td>0.989613</td>\n",
       "      <td>3.462595</td>\n",
       "      <td>-2.816725</td>\n",
       "    </tr>\n",
       "    <tr>\n",
       "      <th>2000-01-08</th>\n",
       "      <td>0.100002</td>\n",
       "      <td>1.529067</td>\n",
       "      <td>4.926440</td>\n",
       "      <td>-0.829079</td>\n",
       "    </tr>\n",
       "    <tr>\n",
       "      <th>2000-01-09</th>\n",
       "      <td>0.139603</td>\n",
       "      <td>2.373226</td>\n",
       "      <td>3.545990</td>\n",
       "      <td>-1.572198</td>\n",
       "    </tr>\n",
       "    <tr>\n",
       "      <th>2000-01-10</th>\n",
       "      <td>0.368663</td>\n",
       "      <td>1.540423</td>\n",
       "      <td>3.891455</td>\n",
       "      <td>-3.028932</td>\n",
       "    </tr>\n",
       "    <tr>\n",
       "      <th>2000-01-11</th>\n",
       "      <td>-1.055789</td>\n",
       "      <td>2.330936</td>\n",
       "      <td>2.628791</td>\n",
       "      <td>-3.955657</td>\n",
       "    </tr>\n",
       "    <tr>\n",
       "      <th>2000-01-12</th>\n",
       "      <td>-0.870012</td>\n",
       "      <td>2.408547</td>\n",
       "      <td>1.377997</td>\n",
       "      <td>-3.957040</td>\n",
       "    </tr>\n",
       "    <tr>\n",
       "      <th>2000-01-13</th>\n",
       "      <td>-1.757571</td>\n",
       "      <td>1.278523</td>\n",
       "      <td>3.279533</td>\n",
       "      <td>-4.231901</td>\n",
       "    </tr>\n",
       "    <tr>\n",
       "      <th>2000-01-14</th>\n",
       "      <td>-1.966822</td>\n",
       "      <td>1.272823</td>\n",
       "      <td>3.298293</td>\n",
       "      <td>-3.772114</td>\n",
       "    </tr>\n",
       "    <tr>\n",
       "      <th>2000-01-15</th>\n",
       "      <td>-1.638254</td>\n",
       "      <td>1.203673</td>\n",
       "      <td>5.585894</td>\n",
       "      <td>-3.668741</td>\n",
       "    </tr>\n",
       "    <tr>\n",
       "      <th>2000-01-16</th>\n",
       "      <td>-1.585484</td>\n",
       "      <td>1.767137</td>\n",
       "      <td>4.051630</td>\n",
       "      <td>-3.908193</td>\n",
       "    </tr>\n",
       "    <tr>\n",
       "      <th>2000-01-17</th>\n",
       "      <td>-2.471432</td>\n",
       "      <td>0.621808</td>\n",
       "      <td>3.544786</td>\n",
       "      <td>-4.424849</td>\n",
       "    </tr>\n",
       "    <tr>\n",
       "      <th>2000-01-18</th>\n",
       "      <td>-0.423151</td>\n",
       "      <td>-0.771276</td>\n",
       "      <td>3.223965</td>\n",
       "      <td>-3.698043</td>\n",
       "    </tr>\n",
       "    <tr>\n",
       "      <th>2000-01-19</th>\n",
       "      <td>0.656272</td>\n",
       "      <td>-1.933033</td>\n",
       "      <td>3.353338</td>\n",
       "      <td>-4.477024</td>\n",
       "    </tr>\n",
       "    <tr>\n",
       "      <th>2000-01-20</th>\n",
       "      <td>1.952890</td>\n",
       "      <td>-4.038682</td>\n",
       "      <td>4.093918</td>\n",
       "      <td>-2.743959</td>\n",
       "    </tr>\n",
       "    <tr>\n",
       "      <th>2000-01-21</th>\n",
       "      <td>3.284692</td>\n",
       "      <td>-4.997421</td>\n",
       "      <td>4.570327</td>\n",
       "      <td>-1.580717</td>\n",
       "    </tr>\n",
       "    <tr>\n",
       "      <th>2000-01-22</th>\n",
       "      <td>1.816817</td>\n",
       "      <td>-5.996415</td>\n",
       "      <td>5.214873</td>\n",
       "      <td>-0.920718</td>\n",
       "    </tr>\n",
       "    <tr>\n",
       "      <th>2000-01-23</th>\n",
       "      <td>2.978085</td>\n",
       "      <td>-6.191162</td>\n",
       "      <td>6.022885</td>\n",
       "      <td>-2.046093</td>\n",
       "    </tr>\n",
       "    <tr>\n",
       "      <th>2000-01-24</th>\n",
       "      <td>3.590255</td>\n",
       "      <td>-4.292668</td>\n",
       "      <td>5.707229</td>\n",
       "      <td>-2.282655</td>\n",
       "    </tr>\n",
       "    <tr>\n",
       "      <th>2000-01-25</th>\n",
       "      <td>5.456183</td>\n",
       "      <td>-4.301982</td>\n",
       "      <td>5.705175</td>\n",
       "      <td>-0.012843</td>\n",
       "    </tr>\n",
       "    <tr>\n",
       "      <th>2000-01-26</th>\n",
       "      <td>6.140764</td>\n",
       "      <td>-4.631770</td>\n",
       "      <td>5.984159</td>\n",
       "      <td>0.319299</td>\n",
       "    </tr>\n",
       "    <tr>\n",
       "      <th>2000-01-27</th>\n",
       "      <td>6.847315</td>\n",
       "      <td>-6.073921</td>\n",
       "      <td>6.942322</td>\n",
       "      <td>-0.176143</td>\n",
       "    </tr>\n",
       "    <tr>\n",
       "      <th>2000-01-28</th>\n",
       "      <td>6.879484</td>\n",
       "      <td>-6.654658</td>\n",
       "      <td>6.493018</td>\n",
       "      <td>-2.075798</td>\n",
       "    </tr>\n",
       "    <tr>\n",
       "      <th>2000-01-29</th>\n",
       "      <td>5.841798</td>\n",
       "      <td>-5.168586</td>\n",
       "      <td>7.289584</td>\n",
       "      <td>-3.358927</td>\n",
       "    </tr>\n",
       "    <tr>\n",
       "      <th>2000-01-30</th>\n",
       "      <td>6.018003</td>\n",
       "      <td>-6.819215</td>\n",
       "      <td>7.493766</td>\n",
       "      <td>-4.668235</td>\n",
       "    </tr>\n",
       "    <tr>\n",
       "      <th>...</th>\n",
       "      <td>...</td>\n",
       "      <td>...</td>\n",
       "      <td>...</td>\n",
       "      <td>...</td>\n",
       "    </tr>\n",
       "    <tr>\n",
       "      <th>2002-08-28</th>\n",
       "      <td>23.269451</td>\n",
       "      <td>20.360652</td>\n",
       "      <td>17.390068</td>\n",
       "      <td>-10.763370</td>\n",
       "    </tr>\n",
       "    <tr>\n",
       "      <th>2002-08-29</th>\n",
       "      <td>22.756550</td>\n",
       "      <td>20.391156</td>\n",
       "      <td>17.447659</td>\n",
       "      <td>-10.971806</td>\n",
       "    </tr>\n",
       "    <tr>\n",
       "      <th>2002-08-30</th>\n",
       "      <td>22.090413</td>\n",
       "      <td>20.329644</td>\n",
       "      <td>17.681714</td>\n",
       "      <td>-12.132895</td>\n",
       "    </tr>\n",
       "    <tr>\n",
       "      <th>2002-08-31</th>\n",
       "      <td>22.130892</td>\n",
       "      <td>19.669182</td>\n",
       "      <td>17.231601</td>\n",
       "      <td>-12.611374</td>\n",
       "    </tr>\n",
       "    <tr>\n",
       "      <th>2002-09-01</th>\n",
       "      <td>23.020543</td>\n",
       "      <td>19.339563</td>\n",
       "      <td>16.966953</td>\n",
       "      <td>-11.393966</td>\n",
       "    </tr>\n",
       "    <tr>\n",
       "      <th>2002-09-02</th>\n",
       "      <td>23.708125</td>\n",
       "      <td>20.501148</td>\n",
       "      <td>16.880712</td>\n",
       "      <td>-12.670529</td>\n",
       "    </tr>\n",
       "    <tr>\n",
       "      <th>2002-09-03</th>\n",
       "      <td>23.859508</td>\n",
       "      <td>20.732327</td>\n",
       "      <td>17.200560</td>\n",
       "      <td>-13.463736</td>\n",
       "    </tr>\n",
       "    <tr>\n",
       "      <th>2002-09-04</th>\n",
       "      <td>24.202440</td>\n",
       "      <td>19.449829</td>\n",
       "      <td>17.544789</td>\n",
       "      <td>-14.361943</td>\n",
       "    </tr>\n",
       "    <tr>\n",
       "      <th>2002-09-05</th>\n",
       "      <td>22.382335</td>\n",
       "      <td>17.503907</td>\n",
       "      <td>17.650851</td>\n",
       "      <td>-14.054575</td>\n",
       "    </tr>\n",
       "    <tr>\n",
       "      <th>2002-09-06</th>\n",
       "      <td>22.136930</td>\n",
       "      <td>18.750132</td>\n",
       "      <td>18.243303</td>\n",
       "      <td>-11.545821</td>\n",
       "    </tr>\n",
       "    <tr>\n",
       "      <th>2002-09-07</th>\n",
       "      <td>23.805652</td>\n",
       "      <td>19.304941</td>\n",
       "      <td>18.540158</td>\n",
       "      <td>-12.113525</td>\n",
       "    </tr>\n",
       "    <tr>\n",
       "      <th>2002-09-08</th>\n",
       "      <td>23.972866</td>\n",
       "      <td>19.624356</td>\n",
       "      <td>17.820654</td>\n",
       "      <td>-10.632409</td>\n",
       "    </tr>\n",
       "    <tr>\n",
       "      <th>2002-09-09</th>\n",
       "      <td>24.231971</td>\n",
       "      <td>19.593923</td>\n",
       "      <td>15.815342</td>\n",
       "      <td>-12.307563</td>\n",
       "    </tr>\n",
       "    <tr>\n",
       "      <th>2002-09-10</th>\n",
       "      <td>22.889502</td>\n",
       "      <td>19.720925</td>\n",
       "      <td>14.083583</td>\n",
       "      <td>-14.233082</td>\n",
       "    </tr>\n",
       "    <tr>\n",
       "      <th>2002-09-11</th>\n",
       "      <td>24.428795</td>\n",
       "      <td>18.417028</td>\n",
       "      <td>13.129400</td>\n",
       "      <td>-14.745894</td>\n",
       "    </tr>\n",
       "    <tr>\n",
       "      <th>2002-09-12</th>\n",
       "      <td>23.173521</td>\n",
       "      <td>19.269906</td>\n",
       "      <td>13.682953</td>\n",
       "      <td>-13.752799</td>\n",
       "    </tr>\n",
       "    <tr>\n",
       "      <th>2002-09-13</th>\n",
       "      <td>22.225538</td>\n",
       "      <td>18.213457</td>\n",
       "      <td>14.810360</td>\n",
       "      <td>-12.212917</td>\n",
       "    </tr>\n",
       "    <tr>\n",
       "      <th>2002-09-14</th>\n",
       "      <td>22.994563</td>\n",
       "      <td>19.356759</td>\n",
       "      <td>15.563597</td>\n",
       "      <td>-12.171274</td>\n",
       "    </tr>\n",
       "    <tr>\n",
       "      <th>2002-09-15</th>\n",
       "      <td>22.022438</td>\n",
       "      <td>19.671018</td>\n",
       "      <td>16.597847</td>\n",
       "      <td>-10.564825</td>\n",
       "    </tr>\n",
       "    <tr>\n",
       "      <th>2002-09-16</th>\n",
       "      <td>22.059952</td>\n",
       "      <td>17.650770</td>\n",
       "      <td>14.392542</td>\n",
       "      <td>-12.736364</td>\n",
       "    </tr>\n",
       "    <tr>\n",
       "      <th>2002-09-17</th>\n",
       "      <td>21.997423</td>\n",
       "      <td>17.149160</td>\n",
       "      <td>15.637008</td>\n",
       "      <td>-11.898084</td>\n",
       "    </tr>\n",
       "    <tr>\n",
       "      <th>2002-09-18</th>\n",
       "      <td>20.864186</td>\n",
       "      <td>17.097780</td>\n",
       "      <td>15.426983</td>\n",
       "      <td>-12.666974</td>\n",
       "    </tr>\n",
       "    <tr>\n",
       "      <th>2002-09-19</th>\n",
       "      <td>21.887922</td>\n",
       "      <td>16.900726</td>\n",
       "      <td>16.748800</td>\n",
       "      <td>-13.105534</td>\n",
       "    </tr>\n",
       "    <tr>\n",
       "      <th>2002-09-20</th>\n",
       "      <td>22.947478</td>\n",
       "      <td>16.408265</td>\n",
       "      <td>16.473064</td>\n",
       "      <td>-11.557737</td>\n",
       "    </tr>\n",
       "    <tr>\n",
       "      <th>2002-09-21</th>\n",
       "      <td>23.204770</td>\n",
       "      <td>18.195445</td>\n",
       "      <td>15.957290</td>\n",
       "      <td>-10.574965</td>\n",
       "    </tr>\n",
       "    <tr>\n",
       "      <th>2002-09-22</th>\n",
       "      <td>23.247740</td>\n",
       "      <td>17.968735</td>\n",
       "      <td>16.364464</td>\n",
       "      <td>-10.621891</td>\n",
       "    </tr>\n",
       "    <tr>\n",
       "      <th>2002-09-23</th>\n",
       "      <td>22.471688</td>\n",
       "      <td>16.509547</td>\n",
       "      <td>17.114160</td>\n",
       "      <td>-11.142575</td>\n",
       "    </tr>\n",
       "    <tr>\n",
       "      <th>2002-09-24</th>\n",
       "      <td>22.545841</td>\n",
       "      <td>16.568330</td>\n",
       "      <td>14.732803</td>\n",
       "      <td>-8.251897</td>\n",
       "    </tr>\n",
       "    <tr>\n",
       "      <th>2002-09-25</th>\n",
       "      <td>22.190053</td>\n",
       "      <td>16.094661</td>\n",
       "      <td>16.153945</td>\n",
       "      <td>-10.633130</td>\n",
       "    </tr>\n",
       "    <tr>\n",
       "      <th>2002-09-26</th>\n",
       "      <td>22.608107</td>\n",
       "      <td>16.500519</td>\n",
       "      <td>16.545081</td>\n",
       "      <td>-10.520547</td>\n",
       "    </tr>\n",
       "  </tbody>\n",
       "</table>\n",
       "<p>1000 rows × 4 columns</p>\n",
       "</div>"
      ],
      "text/plain": [
       "                    A          B          C          D\n",
       "2000-01-01   0.320065  -1.220908   1.703536  -0.847417\n",
       "2000-01-02  -1.815782  -1.693562   0.288919  -1.770523\n",
       "2000-01-03  -1.321292  -0.296201   1.556762  -2.574125\n",
       "2000-01-04  -0.453656   0.838849   1.884833  -1.147923\n",
       "2000-01-05  -0.856112   2.008211   2.180181  -1.397540\n",
       "2000-01-06   0.376055   1.429373   2.008135  -1.549104\n",
       "2000-01-07   0.135630   0.989613   3.462595  -2.816725\n",
       "2000-01-08   0.100002   1.529067   4.926440  -0.829079\n",
       "2000-01-09   0.139603   2.373226   3.545990  -1.572198\n",
       "2000-01-10   0.368663   1.540423   3.891455  -3.028932\n",
       "2000-01-11  -1.055789   2.330936   2.628791  -3.955657\n",
       "2000-01-12  -0.870012   2.408547   1.377997  -3.957040\n",
       "2000-01-13  -1.757571   1.278523   3.279533  -4.231901\n",
       "2000-01-14  -1.966822   1.272823   3.298293  -3.772114\n",
       "2000-01-15  -1.638254   1.203673   5.585894  -3.668741\n",
       "2000-01-16  -1.585484   1.767137   4.051630  -3.908193\n",
       "2000-01-17  -2.471432   0.621808   3.544786  -4.424849\n",
       "2000-01-18  -0.423151  -0.771276   3.223965  -3.698043\n",
       "2000-01-19   0.656272  -1.933033   3.353338  -4.477024\n",
       "2000-01-20   1.952890  -4.038682   4.093918  -2.743959\n",
       "2000-01-21   3.284692  -4.997421   4.570327  -1.580717\n",
       "2000-01-22   1.816817  -5.996415   5.214873  -0.920718\n",
       "2000-01-23   2.978085  -6.191162   6.022885  -2.046093\n",
       "2000-01-24   3.590255  -4.292668   5.707229  -2.282655\n",
       "2000-01-25   5.456183  -4.301982   5.705175  -0.012843\n",
       "2000-01-26   6.140764  -4.631770   5.984159   0.319299\n",
       "2000-01-27   6.847315  -6.073921   6.942322  -0.176143\n",
       "2000-01-28   6.879484  -6.654658   6.493018  -2.075798\n",
       "2000-01-29   5.841798  -5.168586   7.289584  -3.358927\n",
       "2000-01-30   6.018003  -6.819215   7.493766  -4.668235\n",
       "...               ...        ...        ...        ...\n",
       "2002-08-28  23.269451  20.360652  17.390068 -10.763370\n",
       "2002-08-29  22.756550  20.391156  17.447659 -10.971806\n",
       "2002-08-30  22.090413  20.329644  17.681714 -12.132895\n",
       "2002-08-31  22.130892  19.669182  17.231601 -12.611374\n",
       "2002-09-01  23.020543  19.339563  16.966953 -11.393966\n",
       "2002-09-02  23.708125  20.501148  16.880712 -12.670529\n",
       "2002-09-03  23.859508  20.732327  17.200560 -13.463736\n",
       "2002-09-04  24.202440  19.449829  17.544789 -14.361943\n",
       "2002-09-05  22.382335  17.503907  17.650851 -14.054575\n",
       "2002-09-06  22.136930  18.750132  18.243303 -11.545821\n",
       "2002-09-07  23.805652  19.304941  18.540158 -12.113525\n",
       "2002-09-08  23.972866  19.624356  17.820654 -10.632409\n",
       "2002-09-09  24.231971  19.593923  15.815342 -12.307563\n",
       "2002-09-10  22.889502  19.720925  14.083583 -14.233082\n",
       "2002-09-11  24.428795  18.417028  13.129400 -14.745894\n",
       "2002-09-12  23.173521  19.269906  13.682953 -13.752799\n",
       "2002-09-13  22.225538  18.213457  14.810360 -12.212917\n",
       "2002-09-14  22.994563  19.356759  15.563597 -12.171274\n",
       "2002-09-15  22.022438  19.671018  16.597847 -10.564825\n",
       "2002-09-16  22.059952  17.650770  14.392542 -12.736364\n",
       "2002-09-17  21.997423  17.149160  15.637008 -11.898084\n",
       "2002-09-18  20.864186  17.097780  15.426983 -12.666974\n",
       "2002-09-19  21.887922  16.900726  16.748800 -13.105534\n",
       "2002-09-20  22.947478  16.408265  16.473064 -11.557737\n",
       "2002-09-21  23.204770  18.195445  15.957290 -10.574965\n",
       "2002-09-22  23.247740  17.968735  16.364464 -10.621891\n",
       "2002-09-23  22.471688  16.509547  17.114160 -11.142575\n",
       "2002-09-24  22.545841  16.568330  14.732803  -8.251897\n",
       "2002-09-25  22.190053  16.094661  16.153945 -10.633130\n",
       "2002-09-26  22.608107  16.500519  16.545081 -10.520547\n",
       "\n",
       "[1000 rows x 4 columns]"
      ]
     },
     "execution_count": 235,
     "metadata": {},
     "output_type": "execute_result"
    }
   ],
   "source": [
    "pd.read_hdf('foo.h5', 'df')"
   ]
  }
 ],
 "metadata": {
  "kernelspec": {
   "display_name": "Python 3",
   "language": "python",
   "name": "python3"
  },
  "language_info": {
   "codemirror_mode": {
    "name": "ipython",
    "version": 3
   },
   "file_extension": ".py",
   "mimetype": "text/x-python",
   "name": "python",
   "nbconvert_exporter": "python",
   "pygments_lexer": "ipython3",
   "version": "3.5.4"
  }
 },
 "nbformat": 4,
 "nbformat_minor": 0
}
